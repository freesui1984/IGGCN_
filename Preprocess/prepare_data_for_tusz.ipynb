{
 "cells": [
  {
   "cell_type": "code",
   "execution_count": 2,
   "id": "af6aec8d",
   "metadata": {},
   "outputs": [
    {
     "name": "stdout",
     "output_type": "stream",
     "text": [
      "4599\n",
      "357\n"
     ]
    }
   ],
   "source": [
    "from glob2 import glob\n",
    "train_file_path = 'E:\\\\hy\\\\Datasets\\\\TUSZ\\\\edf\\\\train\\\\*\\\\*\\\\*\\\\*\\\\*.edf'\n",
    "test_file_path = 'E:\\\\hy\\\\Datasets\\\\TUSZ\\\\edf\\\\dev\\\\*\\\\*\\\\*\\\\*\\\\*.edf'\n",
    "train_edf_file_list = glob(train_file_path)\n",
    "test_edf_file_list = glob(test_file_path)\n",
    "print(len(train_edf_file_list))\n",
    "print(len(test_edf_file_list))"
   ]
  },
  {
   "cell_type": "code",
   "execution_count": 3,
   "id": "d6e95154",
   "metadata": {},
   "outputs": [
    {
     "name": "stdout",
     "output_type": "stream",
     "text": [
      "592\n",
      "31\n"
     ]
    }
   ],
   "source": [
    "import numpy as np\n",
    "# extract subject IDs from the file path, create python set to extract unique elements from list, convert to list again \n",
    "unique_train_epilepsy_patient_ids = list(set([x.split(\"\\\\\")[-1].split(\"_\")[0] for x in train_edf_file_list]))\n",
    "unique_test_epilepsy_patient_ids = list(set([x.split(\"\\\\\")[-1].split(\"_\")[0] for x in test_edf_file_list]))\n",
    "print(len(unique_train_epilepsy_patient_ids))\n",
    "print(len(unique_test_epilepsy_patient_ids))"
   ]
  },
  {
   "cell_type": "code",
   "execution_count": 4,
   "id": "525e01f5",
   "metadata": {},
   "outputs": [],
   "source": [
    "train_subjects_name_file_path = r'E:\\hy\\Datasets\\TUSZ\\train_4_class_corpus_subjects.txt'\n",
    "test_subjects_name_file_path = r'E:\\hy\\Datasets\\TUSZ\\test_4_class_corpus_subjects.txt'\n",
    "with open(train_subjects_name_file_path, 'w') as file_handler:\n",
    "    for item in unique_train_epilepsy_patient_ids:\n",
    "        file_handler.write(\"{}\\n\".format(item))\n",
    "\n",
    "with open(test_subjects_name_file_path, 'w') as file_handler:\n",
    "    for item in unique_test_epilepsy_patient_ids:\n",
    "        file_handler.write(\"{}\\n\".format(item))"
   ]
  },
  {
   "cell_type": "code",
   "execution_count": 5,
   "id": "58442c05",
   "metadata": {},
   "outputs": [
    {
     "name": "stdout",
     "output_type": "stream",
     "text": [
      "E:\\hy\\Datasets\\TUSZ\\edf\\train\\01_tcp_ar\\000\\00000077\\s003_2010_01_21\\00000077_s003_t000.edf\n",
      "E:\\hy\\Datasets\\TUSZ\\edf\\dev\\01_tcp_ar\\095\\00009578\\s032_2013_08_25\\00009578_s032_t002.edf\n"
     ]
    },
    {
     "data": {
      "text/plain": [
       "['02_tcp_le', '03_tcp_ar_a', '01_tcp_ar']"
      ]
     },
     "execution_count": 5,
     "metadata": {},
     "output_type": "execute_result"
    }
   ],
   "source": [
    "train_edf_file_list = glob(train_file_path)\n",
    "test_edf_file_list = glob(test_file_path)\n",
    "print(train_edf_file_list[0])\n",
    "print(test_edf_file_list[0])\n",
    "channel_configs = [x.split(\"\\\\\")[6] for x in test_edf_file_list]\n",
    "list(set(channel_configs))"
   ]
  },
  {
   "cell_type": "code",
   "execution_count": 6,
   "id": "ba12e24e",
   "metadata": {},
   "outputs": [
    {
     "name": "stdout",
     "output_type": "stream",
     "text": [
      "[Data Statistics]\n",
      "Original Train: 592\n",
      "Updated Train: 533\n",
      "Test Subjects: 31\n",
      "Dev Subjects: 59\n",
      "Total (Train+Dev): 592 (Consistency Check)\n"
     ]
    }
   ],
   "source": [
    "# 1. Remove test data that exists in train file and update counts\n",
    "# Read training subjects into set and list\n",
    "train_subjects = set()\n",
    "train_subjects_list = []\n",
    "with open(train_subjects_name_file_path, 'r') as f:\n",
    "    for line in f:\n",
    "        line = line.strip()\n",
    "        if line:\n",
    "            train_subjects.add(line)\n",
    "            train_subjects_list.append(line)\n",
    "original_train_count = len(train_subjects_list)\n",
    "\n",
    "# Process test data\n",
    "test_subjects = []\n",
    "with open(test_subjects_name_file_path, 'r') as f:\n",
    "    for line in f:\n",
    "        line = line.strip()\n",
    "        if line and line not in train_subjects:\n",
    "            test_subjects.append(line)\n",
    "test_count = len(test_subjects)\n",
    "\n",
    "# Write filtered test data back\n",
    "with open(test_subjects_name_file_path, 'w') as f:\n",
    "    for subject in test_subjects:\n",
    "        f.write(f\"{subject}\\n\")\n",
    "\n",
    "# 2. Create dev set and update train file\n",
    "import random\n",
    "\n",
    "# Validate data\n",
    "if original_train_count == 0:\n",
    "    raise ValueError(\"Empty training file\")\n",
    "\n",
    "# Calculate dev size (ensure minimum 1 sample)\n",
    "dev_size = max(1, round(original_train_count * 0.1))\n",
    "\n",
    "# Random sampling with reproducibility\n",
    "random.seed(42)\n",
    "dev_subjects = random.sample(train_subjects_list, dev_size)\n",
    "dev_count = len(dev_subjects)\n",
    "\n",
    "# Create remaining train data (original order preserved)\n",
    "dev_set = set(dev_subjects)\n",
    "remaining_train = [s for s in train_subjects_list if s not in dev_set]\n",
    "updated_train_count = len(remaining_train)\n",
    "\n",
    "# Update train file with remaining data\n",
    "with open(train_subjects_name_file_path, 'w') as f:\n",
    "    for subject in remaining_train:\n",
    "        f.write(f\"{subject}\\n\")\n",
    "\n",
    "# Create dev file\n",
    "dev_file_path = r'E:\\hy\\Datasets\\TUSZ\\dev_4_class_corpus_subjects.txt'\n",
    "with open(dev_file_path, 'w') as f:\n",
    "    for subject in dev_subjects:\n",
    "        f.write(f\"{subject}\\n\")\n",
    "\n",
    "# Print final statistics\n",
    "print(f\"[Data Statistics]\")\n",
    "print(f\"Original Train: {original_train_count}\")\n",
    "print(f\"Updated Train: {updated_train_count}\")\n",
    "print(f\"Test Subjects: {test_count}\")\n",
    "print(f\"Dev Subjects: {dev_count}\")\n",
    "print(f\"Total (Train+Dev): {updated_train_count + dev_count} (Consistency Check)\") "
   ]
  },
  {
   "cell_type": "code",
   "execution_count": 7,
   "id": "cd3f4a79",
   "metadata": {},
   "outputs": [
    {
     "name": "stdout",
     "output_type": "stream",
     "text": [
      "00001984 : 1/31\n",
      "1\n",
      "00010062 : 2/31\n",
      "25\n",
      "00004087 : 3/31\n",
      "7\n",
      "00002297 : 4/31\n",
      "8\n",
      "00005943 : 5/31\n",
      "10\n",
      "00010547 : 6/31\n",
      "1\n",
      "00009697 : 7/31\n",
      "37\n",
      "00005213 : 8/31\n",
      "1\n",
      "00004151 : 9/31\n",
      "4\n",
      "00004594 : 10/31\n",
      "2\n",
      "00005625 : 11/31\n",
      "2\n",
      "00003635 : 12/31\n",
      "1\n",
      "00000258 : 13/31\n",
      "2\n",
      "00002289 : 14/31\n",
      "1\n",
      "00009578 : 15/31\n",
      "48\n",
      "00009866 : 16/31\n",
      "23\n",
      "00010022 : 17/31\n",
      "46\n",
      "00001770 : 18/31\n",
      "4\n",
      "00000629 : 19/31\n",
      "2\n",
      "00000795 : 20/31\n",
      "2\n",
      "00001278 : 21/31\n",
      "1\n",
      "00003281 : 22/31\n",
      "1\n",
      "00001640 : 23/31\n",
      "1\n",
      "00010639 : 24/31\n",
      "10\n",
      "00005479 : 25/31\n",
      "27\n",
      "00010106 : 26/31\n",
      "17\n",
      "00009839 : 27/31\n",
      "68\n",
      "00010861 : 28/31\n",
      "1\n",
      "00000675 : 29/31\n",
      "2\n",
      "00003306 : 30/31\n",
      "1\n",
      "00005031 : 31/31\n",
      "1\n",
      "\n",
      "success！\n",
      "seizure： 1415\n",
      "814\n",
      "79\n",
      "195\n"
     ]
    }
   ],
   "source": [
    "import os\n",
    "from glob2 import glob\n",
    "import mne\n",
    "import pandas as pd\n",
    "\n",
    "# Complete the slice of train, test and dev respectively\n",
    "# subjects_name_file_path = r'E:\\hy\\Datasets\\TUSZ\\tarin_4_class_corpus_subjects.txt'\n",
    "# subjects_name_file_path = r'E:\\hy\\Datasets\\TUSZ\\dev_4_class_corpus_subjects.txt'\n",
    "subjects_name_file_path = r'E:\\hy\\Datasets\\TUSZ\\test_4_class_corpus_subjects.txt'\n",
    "f = open(subjects_name_file_path, 'r')\n",
    "unique_epilepsy_patient_ids = f.readlines()\n",
    "unique_epilepsy_patient_ids = [x.strip() for x in unique_epilepsy_patient_ids]\n",
    "\n",
    "SAMPLING_FREQ = 200.0\n",
    "WINDOW_LENGTH_SECONDS = 12.0\n",
    "WINDOW_LENGTH_SAMPLES = int(WINDOW_LENGTH_SECONDS * SAMPLING_FREQ)\n",
    "raw_label = {\"fnsz\": 0, \"spsz\": 1, \"cpsz\": 2, \"gnsz\": 3, \"absz\": 4, \"tnsz\": 5, \"tcsz\": 6, \"mysz\": 7}\n",
    "label_mapping = {\"cfsz\": 0, \"gnsz\": 1, \"absz\": 2, \"ctsz\": 3, \"no_seiz\": 4}\n",
    "label_count = {label: 0 for label in label_mapping.keys()}\n",
    "\n",
    "def get_seizure_times(file_name):\n",
    "    seizure_times = []\n",
    "    with open(file_name) as f:\n",
    "        i = 0\n",
    "        for line in f.readlines():\n",
    "            for seiz_label in raw_label.keys():\n",
    "                if seiz_label in line:\n",
    "                    parts = line.strip().split(\" \")\n",
    "                    # merge label\n",
    "                    if seiz_label in [\"fnsz\", \"spsz\", \"cpsz\"]:\n",
    "                        seiz_label = \"cfsz\"\n",
    "                    elif seiz_label in [\"tnsz\", \"tcsz\", \"mysz\"]:\n",
    "                        seiz_label = \"ctsz\"\n",
    "                    seizure_times.append([\n",
    "                        float(parts[0]),\n",
    "                        float(parts[1]),\n",
    "                        seiz_label,\n",
    "                        i\n",
    "                    ])\n",
    "                    i+=1\n",
    "    return seizure_times\n",
    "\n",
    "dataset_index_rows = []\n",
    "\n",
    "for idx, patient_id in enumerate(unique_epilepsy_patient_ids):\n",
    "    print(f\"{patient_id} : {idx + 1}/{len(unique_epilepsy_patient_ids)}\")\n",
    "\n",
    "    patient_edf_file_list = glob(f\"E:\\\\hy\\\\Datasets\\\\TUSZ\\\\edf\\\\*\\\\*\\\\*\\\\*\\\\*\\\\{patient_id}_*.edf\")\n",
    "    assert len(patient_edf_file_list) >= 1\n",
    "\n",
    "    print(len(patient_edf_file_list))\n",
    "\n",
    "    for raw_file_path in patient_edf_file_list:\n",
    "        raw_data = mne.io.read_raw_edf(raw_file_path, verbose=False, preload=False)\n",
    "        file_name = raw_file_path.split('.edf')[0] + \".tse\"\n",
    "        seizure_times = get_seizure_times(file_name)\n",
    "\n",
    "        for start_sample_index in range(0, int(int(raw_data.times[-1]) * SAMPLING_FREQ), WINDOW_LENGTH_SAMPLES):\n",
    "            end_sample_index = start_sample_index + WINDOW_LENGTH_SAMPLES\n",
    "\n",
    "            if end_sample_index > int(int(raw_data.times[-1]) * SAMPLING_FREQ):\n",
    "                break\n",
    "            label = \"no_seiz\"\n",
    "            for t in seizure_times:\n",
    "                start_t, end_t, seiz_label, seiz_idx = t\n",
    "                if not ((end_sample_index <= start_t * SAMPLING_FREQ) or (start_sample_index >= end_t * SAMPLING_FREQ)):\n",
    "                    label = seiz_label\n",
    "                    break\n",
    "                    \n",
    "            if label_mapping[label] in [0, 1, 2, 3]:\n",
    "                label_count[label] += 1\n",
    "                # dataset_index_rows.append(f\"{file_name.split('/')[-1]},{label_mapping[label]},{seiz_idx}\")\n",
    "\n",
    "            row = {\n",
    "                \"patient_ID\": str(patient_id),\n",
    "                \"raw_file_path\": raw_file_path,\n",
    "                \"record_length_seconds\": raw_data.times[-1],\n",
    "                \"sampling_freq\": SAMPLING_FREQ,\n",
    "                \"channel_config\": raw_file_path.split(\"\\\\\")[6],\n",
    "                \"start_sample_index\": start_sample_index,\n",
    "                \"end_sample_index\": end_sample_index,\n",
    "                \"label\": label,\n",
    "                \"numeric_label\": label_mapping[label]\n",
    "            }\n",
    "            dataset_index_rows.append(row)\n",
    "\n",
    "\n",
    "df = pd.DataFrame(dataset_index_rows, columns=[\"patient_ID\", \"raw_file_path\", \"record_length_seconds\",\n",
    "                                               \"sampling_freq\", \"channel_config\", \"start_sample_index\",\n",
    "                                               \"end_sample_index\", \"label\", \"numeric_label\"])\n",
    "# Save slice\n",
    "# df.to_csv(\"E:\\\\IGGCN\\\\data\\\\tusz_eeg\\\\4_class\\\\train_corpus_window_index.csv\", index=False, encoding='utf_8_sig')\n",
    "# df.to_csv(\"E:\\\\IGGCN\\\\data\\\\tusz_eeg\\\\4_class\\\\dev_corpus_window_index.csv\", index=False, encoding='utf_8_sig')\n",
    "df.to_csv(\"E:\\\\IGGCN\\\\data\\\\tusz_eeg\\\\4_class\\\\test_corpus_window_index.csv\", index=False, encoding='utf_8_sig')\n",
    "print(\"\\nsuccess！\")\n",
    "print(\"seizure：\", label_count[\"cfsz\"])\n",
    "print(label_count[\"gnsz\"])\n",
    "print(label_count[\"absz\"])\n",
    "print(label_count[\"ctsz\"])\n",
    "\n",
    "# Write the results to a file\n",
    "# with open(\"all_output_file.txt\", \"w\") as output_file:\n",
    "#     output_file.write(\"\\n\".join(dataset_index_rows))\n"
   ]
  },
  {
   "cell_type": "code",
   "execution_count": 8,
   "id": "10e9c1d9",
   "metadata": {},
   "outputs": [
    {
     "name": "stderr",
     "output_type": "stream",
     "text": [
      "Processing Files:   0%|                                                                        | 0/357 [00:00<?, ?it/s]"
     ]
    },
    {
     "name": "stdout",
     "output_type": "stream",
     "text": [
      "FILE NAME: E:\\hy\\Datasets\\TUSZ\\edf\\dev\\01_tcp_ar\\095\\00009578\\s032_2013_08_25\\00009578_s032_t002.edf\n",
      "Extracting EDF parameters from E:\\hy\\Datasets\\TUSZ\\edf\\dev\\01_tcp_ar\\095\\00009578\\s032_2013_08_25\\00009578_s032_t002.edf...\n",
      "EDF file detected\n",
      "Setting channel info structure...\n",
      "Creating raw.info structure...\n",
      "Reading 0 ... 76799  =      0.000 ...   299.996 secs...\n",
      "NOTE: pick_channels() is a legacy function. New code should use inst.pick(...).\n"
     ]
    },
    {
     "name": "stderr",
     "output_type": "stream",
     "text": [
      "Processing Files:   0%|▏                                                             | 1/357 [00:11<1:08:48, 11.60s/it]"
     ]
    },
    {
     "name": "stdout",
     "output_type": "stream",
     "text": [
      "\n",
      "file: 'E:\\hy\\Datasets\\TUSZ\\edf\\dev\\01_tcp_ar\\095\\00009578\\s032_2013_08_25\\00009578_s032_t002.edf' [RECORDING] ALL WINDOWS DONE! FILE DONE!...\n",
      "\n",
      "FILE NAME: E:\\hy\\Datasets\\TUSZ\\edf\\dev\\01_tcp_ar\\095\\00009578\\s032_2013_08_25\\00009578_s032_t003.edf\n",
      "Extracting EDF parameters from E:\\hy\\Datasets\\TUSZ\\edf\\dev\\01_tcp_ar\\095\\00009578\\s032_2013_08_25\\00009578_s032_t003.edf...\n",
      "EDF file detected\n",
      "Setting channel info structure...\n",
      "Creating raw.info structure...\n",
      "Reading 0 ... 153855  =      0.000 ...   600.996 secs...\n",
      "NOTE: pick_channels() is a legacy function. New code should use inst.pick(...).\n"
     ]
    },
    {
     "name": "stderr",
     "output_type": "stream",
     "text": [
      "Processing Files:   1%|▌                                                               | 3/357 [00:29<55:54,  9.48s/it]"
     ]
    },
    {
     "name": "stdout",
     "output_type": "stream",
     "text": [
      "\n",
      "file: 'E:\\hy\\Datasets\\TUSZ\\edf\\dev\\01_tcp_ar\\095\\00009578\\s032_2013_08_25\\00009578_s032_t003.edf' [RECORDING] ALL WINDOWS DONE! FILE DONE!...\n",
      "\n",
      "FILE NAME: E:\\hy\\Datasets\\TUSZ\\edf\\dev\\01_tcp_ar\\095\\00009578\\s032_2013_08_25\\00009578_s032_t004.edf\n",
      "Extracting EDF parameters from E:\\hy\\Datasets\\TUSZ\\edf\\dev\\01_tcp_ar\\095\\00009578\\s032_2013_08_25\\00009578_s032_t004.edf...\n",
      "EDF file detected\n",
      "Setting channel info structure...\n",
      "Creating raw.info structure...\n",
      "Reading 0 ... 76799  =      0.000 ...   299.996 secs...\n",
      "NOTE: pick_channels() is a legacy function. New code should use inst.pick(...).\n"
     ]
    },
    {
     "name": "stderr",
     "output_type": "stream",
     "text": [
      "Processing Files:   1%|▉                                                               | 5/357 [00:37<39:12,  6.68s/it]"
     ]
    },
    {
     "name": "stdout",
     "output_type": "stream",
     "text": [
      "\n",
      "file: 'E:\\hy\\Datasets\\TUSZ\\edf\\dev\\01_tcp_ar\\095\\00009578\\s032_2013_08_25\\00009578_s032_t004.edf' [RECORDING] ALL WINDOWS DONE! FILE DONE!...\n",
      "\n",
      "FILE NAME: E:\\hy\\Datasets\\TUSZ\\edf\\dev\\01_tcp_ar\\095\\00009578\\s032_2013_08_25\\00009578_s032_t005.edf\n",
      "Extracting EDF parameters from E:\\hy\\Datasets\\TUSZ\\edf\\dev\\01_tcp_ar\\095\\00009578\\s032_2013_08_25\\00009578_s032_t005.edf...\n",
      "EDF file detected\n",
      "Setting channel info structure...\n",
      "Creating raw.info structure...\n",
      "Reading 0 ... 153855  =      0.000 ...   600.996 secs...\n",
      "NOTE: pick_channels() is a legacy function. New code should use inst.pick(...).\n"
     ]
    },
    {
     "name": "stderr",
     "output_type": "stream",
     "text": [
      "Processing Files:   2%|█                                                               | 6/357 [00:54<56:01,  9.58s/it]"
     ]
    },
    {
     "name": "stdout",
     "output_type": "stream",
     "text": [
      "\n",
      "file: 'E:\\hy\\Datasets\\TUSZ\\edf\\dev\\01_tcp_ar\\095\\00009578\\s032_2013_08_25\\00009578_s032_t005.edf' [RECORDING] ALL WINDOWS DONE! FILE DONE!...\n",
      "\n",
      "FILE NAME: E:\\hy\\Datasets\\TUSZ\\edf\\dev\\01_tcp_ar\\095\\00009578\\s032_2013_08_25\\00009578_s032_t006.edf\n",
      "Extracting EDF parameters from E:\\hy\\Datasets\\TUSZ\\edf\\dev\\01_tcp_ar\\095\\00009578\\s032_2013_08_25\\00009578_s032_t006.edf...\n",
      "EDF file detected\n",
      "Setting channel info structure...\n",
      "Creating raw.info structure...\n",
      "Reading 0 ... 76799  =      0.000 ...   299.996 secs...\n",
      "NOTE: pick_channels() is a legacy function. New code should use inst.pick(...).\n"
     ]
    },
    {
     "name": "stderr",
     "output_type": "stream",
     "text": [
      "Processing Files:   2%|█▍                                                              | 8/357 [01:02<41:48,  7.19s/it]"
     ]
    },
    {
     "name": "stdout",
     "output_type": "stream",
     "text": [
      "\n",
      "file: 'E:\\hy\\Datasets\\TUSZ\\edf\\dev\\01_tcp_ar\\095\\00009578\\s032_2013_08_25\\00009578_s032_t006.edf' [RECORDING] ALL WINDOWS DONE! FILE DONE!...\n",
      "\n",
      "FILE NAME: E:\\hy\\Datasets\\TUSZ\\edf\\dev\\01_tcp_ar\\095\\00009578\\s032_2013_08_25\\00009578_s032_t007.edf\n",
      "Extracting EDF parameters from E:\\hy\\Datasets\\TUSZ\\edf\\dev\\01_tcp_ar\\095\\00009578\\s032_2013_08_25\\00009578_s032_t007.edf...\n",
      "EDF file detected\n",
      "Setting channel info structure...\n",
      "Creating raw.info structure...\n",
      "Reading 0 ... 153855  =      0.000 ...   600.996 secs...\n",
      "NOTE: pick_channels() is a legacy function. New code should use inst.pick(...).\n"
     ]
    },
    {
     "name": "stderr",
     "output_type": "stream",
     "text": [
      "Processing Files:   3%|█▌                                                              | 9/357 [01:20<55:31,  9.57s/it]"
     ]
    },
    {
     "name": "stdout",
     "output_type": "stream",
     "text": [
      "\n",
      "file: 'E:\\hy\\Datasets\\TUSZ\\edf\\dev\\01_tcp_ar\\095\\00009578\\s032_2013_08_25\\00009578_s032_t007.edf' [RECORDING] ALL WINDOWS DONE! FILE DONE!...\n",
      "\n",
      "FILE NAME: E:\\hy\\Datasets\\TUSZ\\edf\\dev\\01_tcp_ar\\095\\00009578\\s032_2013_08_25\\00009578_s032_t008.edf\n",
      "Extracting EDF parameters from E:\\hy\\Datasets\\TUSZ\\edf\\dev\\01_tcp_ar\\095\\00009578\\s032_2013_08_25\\00009578_s032_t008.edf...\n",
      "EDF file detected\n",
      "Setting channel info structure...\n",
      "Creating raw.info structure...\n",
      "Reading 0 ... 76799  =      0.000 ...   299.996 secs...\n",
      "NOTE: pick_channels() is a legacy function. New code should use inst.pick(...).\n"
     ]
    },
    {
     "name": "stderr",
     "output_type": "stream",
     "text": [
      "Processing Files:   3%|█▊                                                             | 10/357 [01:28<53:13,  9.20s/it]"
     ]
    },
    {
     "name": "stdout",
     "output_type": "stream",
     "text": [
      "\n",
      "file: 'E:\\hy\\Datasets\\TUSZ\\edf\\dev\\01_tcp_ar\\095\\00009578\\s032_2013_08_25\\00009578_s032_t008.edf' [RECORDING] ALL WINDOWS DONE! FILE DONE!...\n",
      "\n",
      "FILE NAME: E:\\hy\\Datasets\\TUSZ\\edf\\dev\\01_tcp_ar\\095\\00009578\\s032_2013_08_25\\00009578_s032_t009.edf\n",
      "Extracting EDF parameters from E:\\hy\\Datasets\\TUSZ\\edf\\dev\\01_tcp_ar\\095\\00009578\\s032_2013_08_25\\00009578_s032_t009.edf...\n",
      "EDF file detected\n",
      "Setting channel info structure...\n",
      "Creating raw.info structure...\n",
      "Reading 0 ... 153855  =      0.000 ...   600.996 secs...\n",
      "NOTE: pick_channels() is a legacy function. New code should use inst.pick(...).\n"
     ]
    },
    {
     "name": "stderr",
     "output_type": "stream",
     "text": [
      "Processing Files:   3%|██                                                             | 12/357 [01:45<51:31,  8.96s/it]"
     ]
    },
    {
     "name": "stdout",
     "output_type": "stream",
     "text": [
      "\n",
      "file: 'E:\\hy\\Datasets\\TUSZ\\edf\\dev\\01_tcp_ar\\095\\00009578\\s032_2013_08_25\\00009578_s032_t009.edf' [RECORDING] ALL WINDOWS DONE! FILE DONE!...\n",
      "\n",
      "FILE NAME: E:\\hy\\Datasets\\TUSZ\\edf\\dev\\01_tcp_ar\\095\\00009578\\s032_2013_08_25\\00009578_s032_t010.edf\n",
      "Extracting EDF parameters from E:\\hy\\Datasets\\TUSZ\\edf\\dev\\01_tcp_ar\\095\\00009578\\s032_2013_08_25\\00009578_s032_t010.edf...\n",
      "EDF file detected\n",
      "Setting channel info structure...\n",
      "Creating raw.info structure...\n",
      "Reading 0 ... 153855  =      0.000 ...   600.996 secs...\n",
      "NOTE: pick_channels() is a legacy function. New code should use inst.pick(...).\n"
     ]
    },
    {
     "name": "stderr",
     "output_type": "stream",
     "text": [
      "Processing Files:   4%|██▏                                                          | 13/357 [02:02<1:02:42, 10.94s/it]"
     ]
    },
    {
     "name": "stdout",
     "output_type": "stream",
     "text": [
      "\n",
      "file: 'E:\\hy\\Datasets\\TUSZ\\edf\\dev\\01_tcp_ar\\095\\00009578\\s032_2013_08_25\\00009578_s032_t010.edf' [RECORDING] ALL WINDOWS DONE! FILE DONE!...\n",
      "\n",
      "FILE NAME: E:\\hy\\Datasets\\TUSZ\\edf\\dev\\01_tcp_ar\\095\\00009578\\s033_2013_08_26\\00009578_s033_t000.edf\n",
      "Extracting EDF parameters from E:\\hy\\Datasets\\TUSZ\\edf\\dev\\01_tcp_ar\\095\\00009578\\s033_2013_08_26\\00009578_s033_t000.edf...\n",
      "EDF file detected\n",
      "Setting channel info structure...\n",
      "Creating raw.info structure...\n",
      "Reading 0 ... 76799  =      0.000 ...   299.996 secs...\n",
      "NOTE: pick_channels() is a legacy function. New code should use inst.pick(...).\n"
     ]
    },
    {
     "name": "stderr",
     "output_type": "stream",
     "text": [
      "Processing Files:   4%|██▍                                                            | 14/357 [02:11<59:09, 10.35s/it]"
     ]
    },
    {
     "name": "stdout",
     "output_type": "stream",
     "text": [
      "\n",
      "file: 'E:\\hy\\Datasets\\TUSZ\\edf\\dev\\01_tcp_ar\\095\\00009578\\s033_2013_08_26\\00009578_s033_t000.edf' [RECORDING] ALL WINDOWS DONE! FILE DONE!...\n",
      "\n",
      "FILE NAME: E:\\hy\\Datasets\\TUSZ\\edf\\dev\\01_tcp_ar\\095\\00009578\\s033_2013_08_26\\00009578_s033_t001.edf\n",
      "Extracting EDF parameters from E:\\hy\\Datasets\\TUSZ\\edf\\dev\\01_tcp_ar\\095\\00009578\\s033_2013_08_26\\00009578_s033_t001.edf...\n",
      "EDF file detected\n",
      "Setting channel info structure...\n",
      "Creating raw.info structure...\n",
      "Reading 0 ... 153855  =      0.000 ...   600.996 secs...\n",
      "NOTE: pick_channels() is a legacy function. New code should use inst.pick(...).\n"
     ]
    },
    {
     "name": "stderr",
     "output_type": "stream",
     "text": [
      "Processing Files:   4%|██▌                                                          | 15/357 [02:28<1:08:57, 12.10s/it]"
     ]
    },
    {
     "name": "stdout",
     "output_type": "stream",
     "text": [
      "\n",
      "file: 'E:\\hy\\Datasets\\TUSZ\\edf\\dev\\01_tcp_ar\\095\\00009578\\s033_2013_08_26\\00009578_s033_t001.edf' [RECORDING] ALL WINDOWS DONE! FILE DONE!...\n",
      "\n",
      "FILE NAME: E:\\hy\\Datasets\\TUSZ\\edf\\dev\\01_tcp_ar\\095\\00009578\\s033_2013_08_26\\00009578_s033_t004.edf\n",
      "Extracting EDF parameters from E:\\hy\\Datasets\\TUSZ\\edf\\dev\\01_tcp_ar\\095\\00009578\\s033_2013_08_26\\00009578_s033_t004.edf...\n",
      "EDF file detected\n",
      "Setting channel info structure...\n",
      "Creating raw.info structure...\n",
      "Reading 0 ... 76799  =      0.000 ...   299.996 secs...\n",
      "NOTE: pick_channels() is a legacy function. New code should use inst.pick(...).\n"
     ]
    },
    {
     "name": "stderr",
     "output_type": "stream",
     "text": [
      "Processing Files:   5%|███                                                            | 17/357 [02:36<49:17,  8.70s/it]"
     ]
    },
    {
     "name": "stdout",
     "output_type": "stream",
     "text": [
      "\n",
      "file: 'E:\\hy\\Datasets\\TUSZ\\edf\\dev\\01_tcp_ar\\095\\00009578\\s033_2013_08_26\\00009578_s033_t004.edf' [RECORDING] ALL WINDOWS DONE! FILE DONE!...\n",
      "\n",
      "FILE NAME: E:\\hy\\Datasets\\TUSZ\\edf\\dev\\01_tcp_ar\\095\\00009578\\s033_2013_08_26\\00009578_s033_t005.edf\n",
      "Extracting EDF parameters from E:\\hy\\Datasets\\TUSZ\\edf\\dev\\01_tcp_ar\\095\\00009578\\s033_2013_08_26\\00009578_s033_t005.edf...\n",
      "EDF file detected\n",
      "Setting channel info structure...\n",
      "Creating raw.info structure...\n",
      "Reading 0 ... 153855  =      0.000 ...   600.996 secs...\n",
      "NOTE: pick_channels() is a legacy function. New code should use inst.pick(...).\n"
     ]
    },
    {
     "name": "stderr",
     "output_type": "stream",
     "text": [
      "Processing Files:   5%|███                                                          | 18/357 [02:54<1:00:33, 10.72s/it]"
     ]
    },
    {
     "name": "stdout",
     "output_type": "stream",
     "text": [
      "\n",
      "file: 'E:\\hy\\Datasets\\TUSZ\\edf\\dev\\01_tcp_ar\\095\\00009578\\s033_2013_08_26\\00009578_s033_t005.edf' [RECORDING] ALL WINDOWS DONE! FILE DONE!...\n",
      "\n",
      "FILE NAME: E:\\hy\\Datasets\\TUSZ\\edf\\dev\\01_tcp_ar\\095\\00009578\\s033_2013_08_26\\00009578_s033_t006.edf\n",
      "Extracting EDF parameters from E:\\hy\\Datasets\\TUSZ\\edf\\dev\\01_tcp_ar\\095\\00009578\\s033_2013_08_26\\00009578_s033_t006.edf...\n",
      "EDF file detected\n",
      "Setting channel info structure...\n",
      "Creating raw.info structure...\n",
      "Reading 0 ... 12799  =      0.000 ...    49.996 secs...\n",
      "NOTE: pick_channels() is a legacy function. New code should use inst.pick(...).\n"
     ]
    },
    {
     "name": "stderr",
     "output_type": "stream",
     "text": [
      "Processing Files:   5%|███▎                                                           | 19/357 [02:55<47:10,  8.37s/it]"
     ]
    },
    {
     "name": "stdout",
     "output_type": "stream",
     "text": [
      "\n",
      "file: 'E:\\hy\\Datasets\\TUSZ\\edf\\dev\\01_tcp_ar\\095\\00009578\\s033_2013_08_26\\00009578_s033_t006.edf' [RECORDING] ALL WINDOWS DONE! FILE DONE!...\n",
      "\n",
      "FILE NAME: E:\\hy\\Datasets\\TUSZ\\edf\\dev\\01_tcp_ar\\095\\00009578\\s033_2013_08_26\\00009578_s033_t007.edf\n",
      "Extracting EDF parameters from E:\\hy\\Datasets\\TUSZ\\edf\\dev\\01_tcp_ar\\095\\00009578\\s033_2013_08_26\\00009578_s033_t007.edf...\n",
      "EDF file detected\n",
      "Setting channel info structure...\n",
      "Creating raw.info structure...\n",
      "Reading 0 ... 76799  =      0.000 ...   299.996 secs...\n",
      "NOTE: pick_channels() is a legacy function. New code should use inst.pick(...).\n"
     ]
    },
    {
     "name": "stderr",
     "output_type": "stream",
     "text": [
      "Processing Files:   6%|███▌                                                           | 20/357 [03:03<46:45,  8.33s/it]"
     ]
    },
    {
     "name": "stdout",
     "output_type": "stream",
     "text": [
      "\n",
      "file: 'E:\\hy\\Datasets\\TUSZ\\edf\\dev\\01_tcp_ar\\095\\00009578\\s033_2013_08_26\\00009578_s033_t007.edf' [RECORDING] ALL WINDOWS DONE! FILE DONE!...\n",
      "\n",
      "FILE NAME: E:\\hy\\Datasets\\TUSZ\\edf\\dev\\01_tcp_ar\\095\\00009578\\s033_2013_08_26\\00009578_s033_t008.edf\n",
      "Extracting EDF parameters from E:\\hy\\Datasets\\TUSZ\\edf\\dev\\01_tcp_ar\\095\\00009578\\s033_2013_08_26\\00009578_s033_t008.edf...\n",
      "EDF file detected\n",
      "Setting channel info structure...\n",
      "Creating raw.info structure...\n",
      "Reading 0 ... 153855  =      0.000 ...   600.996 secs...\n",
      "NOTE: pick_channels() is a legacy function. New code should use inst.pick(...).\n"
     ]
    },
    {
     "name": "stderr",
     "output_type": "stream",
     "text": [
      "Processing Files:   6%|███▌                                                         | 21/357 [03:21<1:00:48, 10.86s/it]"
     ]
    },
    {
     "name": "stdout",
     "output_type": "stream",
     "text": [
      "\n",
      "file: 'E:\\hy\\Datasets\\TUSZ\\edf\\dev\\01_tcp_ar\\095\\00009578\\s033_2013_08_26\\00009578_s033_t008.edf' [RECORDING] ALL WINDOWS DONE! FILE DONE!...\n",
      "\n",
      "FILE NAME: E:\\hy\\Datasets\\TUSZ\\edf\\dev\\01_tcp_ar\\095\\00009578\\s033_2013_08_26\\00009578_s033_t009.edf\n",
      "Extracting EDF parameters from E:\\hy\\Datasets\\TUSZ\\edf\\dev\\01_tcp_ar\\095\\00009578\\s033_2013_08_26\\00009578_s033_t009.edf...\n",
      "EDF file detected\n",
      "Setting channel info structure...\n",
      "Creating raw.info structure...\n",
      "Reading 0 ... 76799  =      0.000 ...   299.996 secs...\n",
      "NOTE: pick_channels() is a legacy function. New code should use inst.pick(...).\n"
     ]
    },
    {
     "name": "stderr",
     "output_type": "stream",
     "text": [
      "Processing Files:   6%|████                                                           | 23/357 [03:29<44:10,  7.94s/it]"
     ]
    },
    {
     "name": "stdout",
     "output_type": "stream",
     "text": [
      "\n",
      "file: 'E:\\hy\\Datasets\\TUSZ\\edf\\dev\\01_tcp_ar\\095\\00009578\\s033_2013_08_26\\00009578_s033_t009.edf' [RECORDING] ALL WINDOWS DONE! FILE DONE!...\n",
      "\n",
      "FILE NAME: E:\\hy\\Datasets\\TUSZ\\edf\\dev\\01_tcp_ar\\095\\00009578\\s033_2013_08_26\\00009578_s033_t010.edf\n",
      "Extracting EDF parameters from E:\\hy\\Datasets\\TUSZ\\edf\\dev\\01_tcp_ar\\095\\00009578\\s033_2013_08_26\\00009578_s033_t010.edf...\n",
      "EDF file detected\n",
      "Setting channel info structure...\n",
      "Creating raw.info structure...\n",
      "Reading 0 ... 153855  =      0.000 ...   600.996 secs...\n",
      "NOTE: pick_channels() is a legacy function. New code should use inst.pick(...).\n"
     ]
    },
    {
     "name": "stderr",
     "output_type": "stream",
     "text": [
      "Processing Files:   7%|████▏                                                          | 24/357 [03:47<57:07, 10.29s/it]"
     ]
    },
    {
     "name": "stdout",
     "output_type": "stream",
     "text": [
      "\n",
      "file: 'E:\\hy\\Datasets\\TUSZ\\edf\\dev\\01_tcp_ar\\095\\00009578\\s033_2013_08_26\\00009578_s033_t010.edf' [RECORDING] ALL WINDOWS DONE! FILE DONE!...\n",
      "\n",
      "FILE NAME: E:\\hy\\Datasets\\TUSZ\\edf\\dev\\01_tcp_ar\\095\\00009578\\s033_2013_08_26\\00009578_s033_t011.edf\n",
      "Extracting EDF parameters from E:\\hy\\Datasets\\TUSZ\\edf\\dev\\01_tcp_ar\\095\\00009578\\s033_2013_08_26\\00009578_s033_t011.edf...\n",
      "EDF file detected\n",
      "Setting channel info structure...\n",
      "Creating raw.info structure...\n",
      "Reading 0 ... 76799  =      0.000 ...   299.996 secs...\n",
      "NOTE: pick_channels() is a legacy function. New code should use inst.pick(...).\n"
     ]
    },
    {
     "name": "stderr",
     "output_type": "stream",
     "text": [
      "Processing Files:   7%|████▍                                                          | 25/357 [03:55<53:48,  9.72s/it]"
     ]
    },
    {
     "name": "stdout",
     "output_type": "stream",
     "text": [
      "\n",
      "file: 'E:\\hy\\Datasets\\TUSZ\\edf\\dev\\01_tcp_ar\\095\\00009578\\s033_2013_08_26\\00009578_s033_t011.edf' [RECORDING] ALL WINDOWS DONE! FILE DONE!...\n",
      "\n",
      "FILE NAME: E:\\hy\\Datasets\\TUSZ\\edf\\dev\\01_tcp_ar\\095\\00009578\\s033_2013_08_26\\00009578_s033_t012.edf\n",
      "Extracting EDF parameters from E:\\hy\\Datasets\\TUSZ\\edf\\dev\\01_tcp_ar\\095\\00009578\\s033_2013_08_26\\00009578_s033_t012.edf...\n",
      "EDF file detected\n",
      "Setting channel info structure...\n",
      "Creating raw.info structure...\n",
      "Reading 0 ... 153855  =      0.000 ...   600.996 secs...\n",
      "NOTE: pick_channels() is a legacy function. New code should use inst.pick(...).\n"
     ]
    },
    {
     "name": "stderr",
     "output_type": "stream",
     "text": [
      "Processing Files:   7%|████▍                                                        | 26/357 [04:12<1:04:00, 11.60s/it]"
     ]
    },
    {
     "name": "stdout",
     "output_type": "stream",
     "text": [
      "\n",
      "file: 'E:\\hy\\Datasets\\TUSZ\\edf\\dev\\01_tcp_ar\\095\\00009578\\s033_2013_08_26\\00009578_s033_t012.edf' [RECORDING] ALL WINDOWS DONE! FILE DONE!...\n",
      "\n",
      "FILE NAME: E:\\hy\\Datasets\\TUSZ\\edf\\dev\\01_tcp_ar\\095\\00009578\\s034_2013_08_27\\00009578_s034_t000.edf\n",
      "Extracting EDF parameters from E:\\hy\\Datasets\\TUSZ\\edf\\dev\\01_tcp_ar\\095\\00009578\\s034_2013_08_27\\00009578_s034_t000.edf...\n",
      "EDF file detected\n",
      "Setting channel info structure...\n",
      "Creating raw.info structure...\n",
      "Reading 0 ... 76799  =      0.000 ...   299.996 secs...\n",
      "NOTE: pick_channels() is a legacy function. New code should use inst.pick(...).\n"
     ]
    },
    {
     "name": "stderr",
     "output_type": "stream",
     "text": [
      "Processing Files:   8%|████▊                                                          | 27/357 [04:20<58:34, 10.65s/it]"
     ]
    },
    {
     "name": "stdout",
     "output_type": "stream",
     "text": [
      "\n",
      "file: 'E:\\hy\\Datasets\\TUSZ\\edf\\dev\\01_tcp_ar\\095\\00009578\\s034_2013_08_27\\00009578_s034_t000.edf' [RECORDING] ALL WINDOWS DONE! FILE DONE!...\n",
      "\n",
      "FILE NAME: E:\\hy\\Datasets\\TUSZ\\edf\\dev\\01_tcp_ar\\095\\00009578\\s034_2013_08_27\\00009578_s034_t001.edf\n",
      "Extracting EDF parameters from E:\\hy\\Datasets\\TUSZ\\edf\\dev\\01_tcp_ar\\095\\00009578\\s034_2013_08_27\\00009578_s034_t001.edf...\n",
      "EDF file detected\n",
      "Setting channel info structure...\n",
      "Creating raw.info structure...\n",
      "Reading 0 ... 153855  =      0.000 ...   600.996 secs...\n",
      "NOTE: pick_channels() is a legacy function. New code should use inst.pick(...).\n"
     ]
    },
    {
     "name": "stderr",
     "output_type": "stream",
     "text": [
      "Processing Files:   8%|████▊                                                        | 28/357 [04:37<1:08:50, 12.55s/it]"
     ]
    },
    {
     "name": "stdout",
     "output_type": "stream",
     "text": [
      "\n",
      "file: 'E:\\hy\\Datasets\\TUSZ\\edf\\dev\\01_tcp_ar\\095\\00009578\\s034_2013_08_27\\00009578_s034_t001.edf' [RECORDING] ALL WINDOWS DONE! FILE DONE!...\n",
      "\n",
      "FILE NAME: E:\\hy\\Datasets\\TUSZ\\edf\\dev\\01_tcp_ar\\095\\00009578\\s034_2013_08_27\\00009578_s034_t002.edf\n",
      "Extracting EDF parameters from E:\\hy\\Datasets\\TUSZ\\edf\\dev\\01_tcp_ar\\095\\00009578\\s034_2013_08_27\\00009578_s034_t002.edf...\n",
      "EDF file detected\n",
      "Setting channel info structure...\n",
      "Creating raw.info structure...\n",
      "Reading 0 ... 76799  =      0.000 ...   299.996 secs...\n",
      "NOTE: pick_channels() is a legacy function. New code should use inst.pick(...).\n"
     ]
    },
    {
     "name": "stderr",
     "output_type": "stream",
     "text": [
      "Processing Files:   8%|█████▎                                                         | 30/357 [04:45<47:41,  8.75s/it]"
     ]
    },
    {
     "name": "stdout",
     "output_type": "stream",
     "text": [
      "\n",
      "file: 'E:\\hy\\Datasets\\TUSZ\\edf\\dev\\01_tcp_ar\\095\\00009578\\s034_2013_08_27\\00009578_s034_t002.edf' [RECORDING] ALL WINDOWS DONE! FILE DONE!...\n",
      "\n",
      "FILE NAME: E:\\hy\\Datasets\\TUSZ\\edf\\dev\\01_tcp_ar\\095\\00009578\\s034_2013_08_27\\00009578_s034_t003.edf\n",
      "Extracting EDF parameters from E:\\hy\\Datasets\\TUSZ\\edf\\dev\\01_tcp_ar\\095\\00009578\\s034_2013_08_27\\00009578_s034_t003.edf...\n",
      "EDF file detected\n",
      "Setting channel info structure...\n",
      "Creating raw.info structure...\n",
      "Reading 0 ... 153855  =      0.000 ...   600.996 secs...\n",
      "NOTE: pick_channels() is a legacy function. New code should use inst.pick(...).\n"
     ]
    },
    {
     "name": "stderr",
     "output_type": "stream",
     "text": [
      "Processing Files:   9%|█████▍                                                         | 31/357 [05:02<58:17, 10.73s/it]"
     ]
    },
    {
     "name": "stdout",
     "output_type": "stream",
     "text": [
      "\n",
      "file: 'E:\\hy\\Datasets\\TUSZ\\edf\\dev\\01_tcp_ar\\095\\00009578\\s034_2013_08_27\\00009578_s034_t003.edf' [RECORDING] ALL WINDOWS DONE! FILE DONE!...\n",
      "\n",
      "FILE NAME: E:\\hy\\Datasets\\TUSZ\\edf\\dev\\01_tcp_ar\\095\\00009578\\s034_2013_08_27\\00009578_s034_t004.edf\n",
      "Extracting EDF parameters from E:\\hy\\Datasets\\TUSZ\\edf\\dev\\01_tcp_ar\\095\\00009578\\s034_2013_08_27\\00009578_s034_t004.edf...\n",
      "EDF file detected\n",
      "Setting channel info structure...\n",
      "Creating raw.info structure...\n",
      "Reading 0 ... 76799  =      0.000 ...   299.996 secs...\n",
      "NOTE: pick_channels() is a legacy function. New code should use inst.pick(...).\n"
     ]
    },
    {
     "name": "stderr",
     "output_type": "stream",
     "text": [
      "Processing Files:   9%|█████▋                                                         | 32/357 [05:11<54:33, 10.07s/it]"
     ]
    },
    {
     "name": "stdout",
     "output_type": "stream",
     "text": [
      "\n",
      "file: 'E:\\hy\\Datasets\\TUSZ\\edf\\dev\\01_tcp_ar\\095\\00009578\\s034_2013_08_27\\00009578_s034_t004.edf' [RECORDING] ALL WINDOWS DONE! FILE DONE!...\n",
      "\n",
      "FILE NAME: E:\\hy\\Datasets\\TUSZ\\edf\\dev\\01_tcp_ar\\095\\00009578\\s034_2013_08_27\\00009578_s034_t005.edf\n",
      "Extracting EDF parameters from E:\\hy\\Datasets\\TUSZ\\edf\\dev\\01_tcp_ar\\095\\00009578\\s034_2013_08_27\\00009578_s034_t005.edf...\n",
      "EDF file detected\n",
      "Setting channel info structure...\n",
      "Creating raw.info structure...\n",
      "Reading 0 ... 153855  =      0.000 ...   600.996 secs...\n",
      "NOTE: pick_channels() is a legacy function. New code should use inst.pick(...).\n"
     ]
    },
    {
     "name": "stderr",
     "output_type": "stream",
     "text": [
      "Processing Files:   9%|█████▋                                                       | 33/357 [05:27<1:04:12, 11.89s/it]"
     ]
    },
    {
     "name": "stdout",
     "output_type": "stream",
     "text": [
      "\n",
      "file: 'E:\\hy\\Datasets\\TUSZ\\edf\\dev\\01_tcp_ar\\095\\00009578\\s034_2013_08_27\\00009578_s034_t005.edf' [RECORDING] ALL WINDOWS DONE! FILE DONE!...\n",
      "\n",
      "FILE NAME: E:\\hy\\Datasets\\TUSZ\\edf\\dev\\01_tcp_ar\\095\\00009578\\s034_2013_08_27\\00009578_s034_t006.edf\n",
      "Extracting EDF parameters from E:\\hy\\Datasets\\TUSZ\\edf\\dev\\01_tcp_ar\\095\\00009578\\s034_2013_08_27\\00009578_s034_t006.edf...\n",
      "EDF file detected\n",
      "Setting channel info structure...\n",
      "Creating raw.info structure...\n",
      "Reading 0 ... 76799  =      0.000 ...   299.996 secs...\n",
      "NOTE: pick_channels() is a legacy function. New code should use inst.pick(...).\n"
     ]
    },
    {
     "name": "stderr",
     "output_type": "stream",
     "text": [
      "Processing Files:  10%|██████                                                         | 34/357 [05:35<58:06, 10.79s/it]"
     ]
    },
    {
     "name": "stdout",
     "output_type": "stream",
     "text": [
      "\n",
      "file: 'E:\\hy\\Datasets\\TUSZ\\edf\\dev\\01_tcp_ar\\095\\00009578\\s034_2013_08_27\\00009578_s034_t006.edf' [RECORDING] ALL WINDOWS DONE! FILE DONE!...\n",
      "\n",
      "FILE NAME: E:\\hy\\Datasets\\TUSZ\\edf\\dev\\01_tcp_ar\\095\\00009578\\s034_2013_08_27\\00009578_s034_t007.edf\n",
      "Extracting EDF parameters from E:\\hy\\Datasets\\TUSZ\\edf\\dev\\01_tcp_ar\\095\\00009578\\s034_2013_08_27\\00009578_s034_t007.edf...\n",
      "EDF file detected\n",
      "Setting channel info structure...\n",
      "Creating raw.info structure...\n",
      "Reading 0 ... 153855  =      0.000 ...   600.996 secs...\n",
      "NOTE: pick_channels() is a legacy function. New code should use inst.pick(...).\n"
     ]
    },
    {
     "name": "stderr",
     "output_type": "stream",
     "text": [
      "Processing Files:  10%|█████▉                                                       | 35/357 [05:52<1:07:28, 12.57s/it]"
     ]
    },
    {
     "name": "stdout",
     "output_type": "stream",
     "text": [
      "\n",
      "file: 'E:\\hy\\Datasets\\TUSZ\\edf\\dev\\01_tcp_ar\\095\\00009578\\s034_2013_08_27\\00009578_s034_t007.edf' [RECORDING] ALL WINDOWS DONE! FILE DONE!...\n",
      "\n",
      "FILE NAME: E:\\hy\\Datasets\\TUSZ\\edf\\dev\\01_tcp_ar\\095\\00009578\\s034_2013_08_27\\00009578_s034_t008.edf\n",
      "Extracting EDF parameters from E:\\hy\\Datasets\\TUSZ\\edf\\dev\\01_tcp_ar\\095\\00009578\\s034_2013_08_27\\00009578_s034_t008.edf...\n",
      "EDF file detected\n",
      "Setting channel info structure...\n",
      "Creating raw.info structure...\n",
      "Reading 0 ... 76799  =      0.000 ...   299.996 secs...\n",
      "NOTE: pick_channels() is a legacy function. New code should use inst.pick(...).\n"
     ]
    },
    {
     "name": "stderr",
     "output_type": "stream",
     "text": [
      "Processing Files:  10%|██████▏                                                      | 36/357 [06:01<1:00:41, 11.34s/it]"
     ]
    },
    {
     "name": "stdout",
     "output_type": "stream",
     "text": [
      "\n",
      "file: 'E:\\hy\\Datasets\\TUSZ\\edf\\dev\\01_tcp_ar\\095\\00009578\\s034_2013_08_27\\00009578_s034_t008.edf' [RECORDING] ALL WINDOWS DONE! FILE DONE!...\n",
      "\n",
      "FILE NAME: E:\\hy\\Datasets\\TUSZ\\edf\\dev\\01_tcp_ar\\095\\00009578\\s034_2013_08_27\\00009578_s034_t009.edf\n",
      "Extracting EDF parameters from E:\\hy\\Datasets\\TUSZ\\edf\\dev\\01_tcp_ar\\095\\00009578\\s034_2013_08_27\\00009578_s034_t009.edf...\n",
      "EDF file detected\n",
      "Setting channel info structure...\n",
      "Creating raw.info structure...\n",
      "Reading 0 ... 153855  =      0.000 ...   600.996 secs...\n",
      "NOTE: pick_channels() is a legacy function. New code should use inst.pick(...).\n"
     ]
    },
    {
     "name": "stderr",
     "output_type": "stream",
     "text": [
      "Processing Files:  11%|██████▋                                                        | 38/357 [06:17<53:15, 10.02s/it]"
     ]
    },
    {
     "name": "stdout",
     "output_type": "stream",
     "text": [
      "\n",
      "file: 'E:\\hy\\Datasets\\TUSZ\\edf\\dev\\01_tcp_ar\\095\\00009578\\s034_2013_08_27\\00009578_s034_t009.edf' [RECORDING] ALL WINDOWS DONE! FILE DONE!...\n",
      "\n",
      "FILE NAME: E:\\hy\\Datasets\\TUSZ\\edf\\dev\\01_tcp_ar\\095\\00009578\\s034_2013_08_27\\00009578_s034_t010.edf\n",
      "Extracting EDF parameters from E:\\hy\\Datasets\\TUSZ\\edf\\dev\\01_tcp_ar\\095\\00009578\\s034_2013_08_27\\00009578_s034_t010.edf...\n",
      "EDF file detected\n",
      "Setting channel info structure...\n",
      "Creating raw.info structure...\n",
      "Reading 0 ... 4607  =      0.000 ...    17.996 secs...\n",
      "NOTE: pick_channels() is a legacy function. New code should use inst.pick(...).\n"
     ]
    },
    {
     "name": "stderr",
     "output_type": "stream",
     "text": [
      "Processing Files:  11%|██████▉                                                        | 39/357 [06:18<40:36,  7.66s/it]"
     ]
    },
    {
     "name": "stdout",
     "output_type": "stream",
     "text": [
      "\n",
      "file: 'E:\\hy\\Datasets\\TUSZ\\edf\\dev\\01_tcp_ar\\095\\00009578\\s034_2013_08_27\\00009578_s034_t010.edf' [RECORDING] ALL WINDOWS DONE! FILE DONE!...\n",
      "\n",
      "FILE NAME: E:\\hy\\Datasets\\TUSZ\\edf\\dev\\01_tcp_ar\\095\\00009578\\s035_2013_08_28\\00009578_s035_t000.edf\n",
      "Extracting EDF parameters from E:\\hy\\Datasets\\TUSZ\\edf\\dev\\01_tcp_ar\\095\\00009578\\s035_2013_08_28\\00009578_s035_t000.edf...\n",
      "EDF file detected\n",
      "Setting channel info structure...\n",
      "Creating raw.info structure...\n",
      "Reading 0 ... 76799  =      0.000 ...   299.996 secs...\n",
      "NOTE: pick_channels() is a legacy function. New code should use inst.pick(...).\n"
     ]
    },
    {
     "name": "stderr",
     "output_type": "stream",
     "text": [
      "Processing Files:  11%|███████                                                        | 40/357 [06:26<41:25,  7.84s/it]"
     ]
    },
    {
     "name": "stdout",
     "output_type": "stream",
     "text": [
      "\n",
      "file: 'E:\\hy\\Datasets\\TUSZ\\edf\\dev\\01_tcp_ar\\095\\00009578\\s035_2013_08_28\\00009578_s035_t000.edf' [RECORDING] ALL WINDOWS DONE! FILE DONE!...\n",
      "\n",
      "FILE NAME: E:\\hy\\Datasets\\TUSZ\\edf\\dev\\01_tcp_ar\\095\\00009578\\s035_2013_08_28\\00009578_s035_t001.edf\n",
      "Extracting EDF parameters from E:\\hy\\Datasets\\TUSZ\\edf\\dev\\01_tcp_ar\\095\\00009578\\s035_2013_08_28\\00009578_s035_t001.edf...\n",
      "EDF file detected\n",
      "Setting channel info structure...\n",
      "Creating raw.info structure...\n",
      "Reading 0 ... 153855  =      0.000 ...   600.996 secs...\n",
      "NOTE: pick_channels() is a legacy function. New code should use inst.pick(...).\n"
     ]
    },
    {
     "name": "stderr",
     "output_type": "stream",
     "text": [
      "Processing Files:  11%|███████▏                                                       | 41/357 [06:43<54:20, 10.32s/it]"
     ]
    },
    {
     "name": "stdout",
     "output_type": "stream",
     "text": [
      "\n",
      "file: 'E:\\hy\\Datasets\\TUSZ\\edf\\dev\\01_tcp_ar\\095\\00009578\\s035_2013_08_28\\00009578_s035_t001.edf' [RECORDING] ALL WINDOWS DONE! FILE DONE!...\n",
      "\n",
      "FILE NAME: E:\\hy\\Datasets\\TUSZ\\edf\\dev\\01_tcp_ar\\095\\00009578\\s035_2013_08_28\\00009578_s035_t002.edf\n",
      "Extracting EDF parameters from E:\\hy\\Datasets\\TUSZ\\edf\\dev\\01_tcp_ar\\095\\00009578\\s035_2013_08_28\\00009578_s035_t002.edf...\n",
      "EDF file detected\n",
      "Setting channel info structure...\n",
      "Creating raw.info structure...\n",
      "Reading 0 ... 76799  =      0.000 ...   299.996 secs...\n",
      "NOTE: pick_channels() is a legacy function. New code should use inst.pick(...).\n"
     ]
    },
    {
     "name": "stderr",
     "output_type": "stream",
     "text": [
      "Processing Files:  12%|███████▍                                                       | 42/357 [06:51<51:06,  9.73s/it]"
     ]
    },
    {
     "name": "stdout",
     "output_type": "stream",
     "text": [
      "\n",
      "file: 'E:\\hy\\Datasets\\TUSZ\\edf\\dev\\01_tcp_ar\\095\\00009578\\s035_2013_08_28\\00009578_s035_t002.edf' [RECORDING] ALL WINDOWS DONE! FILE DONE!...\n",
      "\n",
      "FILE NAME: E:\\hy\\Datasets\\TUSZ\\edf\\dev\\01_tcp_ar\\095\\00009578\\s035_2013_08_28\\00009578_s035_t003.edf\n",
      "Extracting EDF parameters from E:\\hy\\Datasets\\TUSZ\\edf\\dev\\01_tcp_ar\\095\\00009578\\s035_2013_08_28\\00009578_s035_t003.edf...\n",
      "EDF file detected\n",
      "Setting channel info structure...\n",
      "Creating raw.info structure...\n",
      "Reading 0 ... 153855  =      0.000 ...   600.996 secs...\n",
      "NOTE: pick_channels() is a legacy function. New code should use inst.pick(...).\n"
     ]
    },
    {
     "name": "stderr",
     "output_type": "stream",
     "text": [
      "Processing Files:  12%|███████▎                                                     | 43/357 [07:09<1:02:13, 11.89s/it]"
     ]
    },
    {
     "name": "stdout",
     "output_type": "stream",
     "text": [
      "\n",
      "file: 'E:\\hy\\Datasets\\TUSZ\\edf\\dev\\01_tcp_ar\\095\\00009578\\s035_2013_08_28\\00009578_s035_t003.edf' [RECORDING] ALL WINDOWS DONE! FILE DONE!...\n",
      "\n",
      "FILE NAME: E:\\hy\\Datasets\\TUSZ\\edf\\dev\\01_tcp_ar\\095\\00009578\\s035_2013_08_28\\00009578_s035_t004.edf\n",
      "Extracting EDF parameters from E:\\hy\\Datasets\\TUSZ\\edf\\dev\\01_tcp_ar\\095\\00009578\\s035_2013_08_28\\00009578_s035_t004.edf...\n",
      "EDF file detected\n",
      "Setting channel info structure...\n",
      "Creating raw.info structure...\n",
      "Reading 0 ... 15359  =      0.000 ...    59.996 secs...\n",
      "NOTE: pick_channels() is a legacy function. New code should use inst.pick(...).\n"
     ]
    },
    {
     "name": "stderr",
     "output_type": "stream",
     "text": [
      "Processing Files:  12%|███████▊                                                       | 44/357 [07:10<46:08,  8.85s/it]"
     ]
    },
    {
     "name": "stdout",
     "output_type": "stream",
     "text": [
      "\n",
      "file: 'E:\\hy\\Datasets\\TUSZ\\edf\\dev\\01_tcp_ar\\095\\00009578\\s035_2013_08_28\\00009578_s035_t004.edf' [RECORDING] ALL WINDOWS DONE! FILE DONE!...\n",
      "\n",
      "FILE NAME: E:\\hy\\Datasets\\TUSZ\\edf\\dev\\01_tcp_ar\\095\\00009578\\s035_2013_08_28\\00009578_s035_t005.edf\n",
      "Extracting EDF parameters from E:\\hy\\Datasets\\TUSZ\\edf\\dev\\01_tcp_ar\\095\\00009578\\s035_2013_08_28\\00009578_s035_t005.edf...\n",
      "EDF file detected\n",
      "Setting channel info structure...\n",
      "Creating raw.info structure...\n",
      "Reading 0 ... 135935  =      0.000 ...   530.996 secs...\n",
      "NOTE: pick_channels() is a legacy function. New code should use inst.pick(...).\n"
     ]
    },
    {
     "name": "stderr",
     "output_type": "stream",
     "text": [
      "Processing Files:  13%|███████▉                                                       | 45/357 [07:25<55:35, 10.69s/it]"
     ]
    },
    {
     "name": "stdout",
     "output_type": "stream",
     "text": [
      "\n",
      "file: 'E:\\hy\\Datasets\\TUSZ\\edf\\dev\\01_tcp_ar\\095\\00009578\\s035_2013_08_28\\00009578_s035_t005.edf' [RECORDING] ALL WINDOWS DONE! FILE DONE!...\n",
      "\n",
      "FILE NAME: E:\\hy\\Datasets\\TUSZ\\edf\\dev\\01_tcp_ar\\095\\00009578\\s035_2013_08_28\\00009578_s035_t006.edf\n",
      "Extracting EDF parameters from E:\\hy\\Datasets\\TUSZ\\edf\\dev\\01_tcp_ar\\095\\00009578\\s035_2013_08_28\\00009578_s035_t006.edf...\n",
      "EDF file detected\n",
      "Setting channel info structure...\n",
      "Creating raw.info structure...\n",
      "Reading 0 ... 76799  =      0.000 ...   299.996 secs...\n",
      "NOTE: pick_channels() is a legacy function. New code should use inst.pick(...).\n"
     ]
    },
    {
     "name": "stderr",
     "output_type": "stream",
     "text": [
      "Processing Files:  13%|████████▎                                                      | 47/357 [07:34<39:58,  7.74s/it]"
     ]
    },
    {
     "name": "stdout",
     "output_type": "stream",
     "text": [
      "\n",
      "file: 'E:\\hy\\Datasets\\TUSZ\\edf\\dev\\01_tcp_ar\\095\\00009578\\s035_2013_08_28\\00009578_s035_t006.edf' [RECORDING] ALL WINDOWS DONE! FILE DONE!...\n",
      "\n",
      "FILE NAME: E:\\hy\\Datasets\\TUSZ\\edf\\dev\\01_tcp_ar\\095\\00009578\\s035_2013_08_28\\00009578_s035_t007.edf\n",
      "Extracting EDF parameters from E:\\hy\\Datasets\\TUSZ\\edf\\dev\\01_tcp_ar\\095\\00009578\\s035_2013_08_28\\00009578_s035_t007.edf...\n",
      "EDF file detected\n",
      "Setting channel info structure...\n",
      "Creating raw.info structure...\n",
      "Reading 0 ... 153855  =      0.000 ...   600.996 secs...\n",
      "NOTE: pick_channels() is a legacy function. New code should use inst.pick(...).\n"
     ]
    },
    {
     "name": "stderr",
     "output_type": "stream",
     "text": [
      "Processing Files:  13%|████████▍                                                      | 48/357 [07:51<51:53, 10.08s/it]"
     ]
    },
    {
     "name": "stdout",
     "output_type": "stream",
     "text": [
      "\n",
      "file: 'E:\\hy\\Datasets\\TUSZ\\edf\\dev\\01_tcp_ar\\095\\00009578\\s035_2013_08_28\\00009578_s035_t007.edf' [RECORDING] ALL WINDOWS DONE! FILE DONE!...\n",
      "\n",
      "FILE NAME: E:\\hy\\Datasets\\TUSZ\\edf\\dev\\01_tcp_ar\\095\\00009578\\s035_2013_08_28\\00009578_s035_t008.edf\n",
      "Extracting EDF parameters from E:\\hy\\Datasets\\TUSZ\\edf\\dev\\01_tcp_ar\\095\\00009578\\s035_2013_08_28\\00009578_s035_t008.edf...\n",
      "EDF file detected\n",
      "Setting channel info structure...\n",
      "Creating raw.info structure...\n",
      "Reading 0 ... 76799  =      0.000 ...   299.996 secs...\n",
      "NOTE: pick_channels() is a legacy function. New code should use inst.pick(...).\n"
     ]
    },
    {
     "name": "stderr",
     "output_type": "stream",
     "text": [
      "Processing Files:  14%|████████▋                                                      | 49/357 [07:59<49:14,  9.59s/it]"
     ]
    },
    {
     "name": "stdout",
     "output_type": "stream",
     "text": [
      "\n",
      "file: 'E:\\hy\\Datasets\\TUSZ\\edf\\dev\\01_tcp_ar\\095\\00009578\\s035_2013_08_28\\00009578_s035_t008.edf' [RECORDING] ALL WINDOWS DONE! FILE DONE!...\n",
      "\n",
      "FILE NAME: E:\\hy\\Datasets\\TUSZ\\edf\\dev\\01_tcp_ar\\095\\00009578\\s035_2013_08_28\\00009578_s035_t009.edf\n",
      "Extracting EDF parameters from E:\\hy\\Datasets\\TUSZ\\edf\\dev\\01_tcp_ar\\095\\00009578\\s035_2013_08_28\\00009578_s035_t009.edf...\n",
      "EDF file detected\n",
      "Setting channel info structure...\n",
      "Creating raw.info structure...\n",
      "Reading 0 ... 153855  =      0.000 ...   600.996 secs...\n",
      "NOTE: pick_channels() is a legacy function. New code should use inst.pick(...).\n"
     ]
    },
    {
     "name": "stderr",
     "output_type": "stream",
     "text": [
      "Processing Files:  14%|████████▊                                                      | 50/357 [08:16<59:22, 11.60s/it]"
     ]
    },
    {
     "name": "stdout",
     "output_type": "stream",
     "text": [
      "\n",
      "file: 'E:\\hy\\Datasets\\TUSZ\\edf\\dev\\01_tcp_ar\\095\\00009578\\s035_2013_08_28\\00009578_s035_t009.edf' [RECORDING] ALL WINDOWS DONE! FILE DONE!...\n",
      "\n",
      "FILE NAME: E:\\hy\\Datasets\\TUSZ\\edf\\dev\\01_tcp_ar\\095\\00009578\\s037_2013_08_30\\00009578_s037_t000.edf\n",
      "Extracting EDF parameters from E:\\hy\\Datasets\\TUSZ\\edf\\dev\\01_tcp_ar\\095\\00009578\\s037_2013_08_30\\00009578_s037_t000.edf...\n",
      "EDF file detected\n",
      "Setting channel info structure...\n",
      "Creating raw.info structure...\n",
      "Reading 0 ... 76799  =      0.000 ...   299.996 secs...\n",
      "NOTE: pick_channels() is a legacy function. New code should use inst.pick(...).\n"
     ]
    },
    {
     "name": "stderr",
     "output_type": "stream",
     "text": [
      "Processing Files:  14%|█████████                                                      | 51/357 [08:24<54:10, 10.62s/it]"
     ]
    },
    {
     "name": "stdout",
     "output_type": "stream",
     "text": [
      "\n",
      "file: 'E:\\hy\\Datasets\\TUSZ\\edf\\dev\\01_tcp_ar\\095\\00009578\\s037_2013_08_30\\00009578_s037_t000.edf' [RECORDING] ALL WINDOWS DONE! FILE DONE!...\n",
      "\n",
      "FILE NAME: E:\\hy\\Datasets\\TUSZ\\edf\\dev\\01_tcp_ar\\095\\00009578\\s037_2013_08_30\\00009578_s037_t001.edf\n",
      "Extracting EDF parameters from E:\\hy\\Datasets\\TUSZ\\edf\\dev\\01_tcp_ar\\095\\00009578\\s037_2013_08_30\\00009578_s037_t001.edf...\n",
      "EDF file detected\n",
      "Setting channel info structure...\n",
      "Creating raw.info structure...\n",
      "Reading 0 ... 153855  =      0.000 ...   600.996 secs...\n",
      "NOTE: pick_channels() is a legacy function. New code should use inst.pick(...).\n"
     ]
    },
    {
     "name": "stderr",
     "output_type": "stream",
     "text": [
      "Processing Files:  15%|████████▉                                                    | 52/357 [08:41<1:02:52, 12.37s/it]"
     ]
    },
    {
     "name": "stdout",
     "output_type": "stream",
     "text": [
      "\n",
      "file: 'E:\\hy\\Datasets\\TUSZ\\edf\\dev\\01_tcp_ar\\095\\00009578\\s037_2013_08_30\\00009578_s037_t001.edf' [RECORDING] ALL WINDOWS DONE! FILE DONE!...\n",
      "\n",
      "FILE NAME: E:\\hy\\Datasets\\TUSZ\\edf\\dev\\01_tcp_ar\\095\\00009578\\s037_2013_08_30\\00009578_s037_t002.edf\n",
      "Extracting EDF parameters from E:\\hy\\Datasets\\TUSZ\\edf\\dev\\01_tcp_ar\\095\\00009578\\s037_2013_08_30\\00009578_s037_t002.edf...\n",
      "EDF file detected\n",
      "Setting channel info structure...\n",
      "Creating raw.info structure...\n",
      "Reading 0 ... 153855  =      0.000 ...   600.996 secs...\n",
      "NOTE: pick_channels() is a legacy function. New code should use inst.pick(...).\n"
     ]
    },
    {
     "name": "stderr",
     "output_type": "stream",
     "text": [
      "Processing Files:  15%|█████████                                                    | 53/357 [08:58<1:09:35, 13.74s/it]"
     ]
    },
    {
     "name": "stdout",
     "output_type": "stream",
     "text": [
      "\n",
      "file: 'E:\\hy\\Datasets\\TUSZ\\edf\\dev\\01_tcp_ar\\095\\00009578\\s037_2013_08_30\\00009578_s037_t002.edf' [RECORDING] ALL WINDOWS DONE! FILE DONE!...\n",
      "\n",
      "FILE NAME: E:\\hy\\Datasets\\TUSZ\\edf\\dev\\01_tcp_ar\\095\\00009578\\s037_2013_08_30\\00009578_s037_t003.edf\n",
      "Extracting EDF parameters from E:\\hy\\Datasets\\TUSZ\\edf\\dev\\01_tcp_ar\\095\\00009578\\s037_2013_08_30\\00009578_s037_t003.edf...\n",
      "EDF file detected\n",
      "Setting channel info structure...\n",
      "Creating raw.info structure...\n",
      "Reading 0 ... 153855  =      0.000 ...   600.996 secs...\n",
      "NOTE: pick_channels() is a legacy function. New code should use inst.pick(...).\n"
     ]
    },
    {
     "name": "stderr",
     "output_type": "stream",
     "text": [
      "Processing Files:  15%|█████████▏                                                   | 54/357 [09:15<1:14:38, 14.78s/it]"
     ]
    },
    {
     "name": "stdout",
     "output_type": "stream",
     "text": [
      "\n",
      "file: 'E:\\hy\\Datasets\\TUSZ\\edf\\dev\\01_tcp_ar\\095\\00009578\\s037_2013_08_30\\00009578_s037_t003.edf' [RECORDING] ALL WINDOWS DONE! FILE DONE!...\n",
      "\n",
      "FILE NAME: E:\\hy\\Datasets\\TUSZ\\edf\\dev\\01_tcp_ar\\095\\00009578\\s037_2013_08_30\\00009578_s037_t004.edf\n",
      "Extracting EDF parameters from E:\\hy\\Datasets\\TUSZ\\edf\\dev\\01_tcp_ar\\095\\00009578\\s037_2013_08_30\\00009578_s037_t004.edf...\n",
      "EDF file detected\n",
      "Setting channel info structure...\n",
      "Creating raw.info structure...\n",
      "Reading 0 ... 153855  =      0.000 ...   600.996 secs...\n",
      "NOTE: pick_channels() is a legacy function. New code should use inst.pick(...).\n"
     ]
    },
    {
     "name": "stderr",
     "output_type": "stream",
     "text": [
      "Processing Files:  15%|█████████▍                                                   | 55/357 [09:33<1:18:37, 15.62s/it]"
     ]
    },
    {
     "name": "stdout",
     "output_type": "stream",
     "text": [
      "\n",
      "file: 'E:\\hy\\Datasets\\TUSZ\\edf\\dev\\01_tcp_ar\\095\\00009578\\s037_2013_08_30\\00009578_s037_t004.edf' [RECORDING] ALL WINDOWS DONE! FILE DONE!...\n",
      "\n",
      "FILE NAME: E:\\hy\\Datasets\\TUSZ\\edf\\dev\\01_tcp_ar\\095\\00009578\\s037_2013_08_30\\00009578_s037_t005.edf\n",
      "Extracting EDF parameters from E:\\hy\\Datasets\\TUSZ\\edf\\dev\\01_tcp_ar\\095\\00009578\\s037_2013_08_30\\00009578_s037_t005.edf...\n",
      "EDF file detected\n",
      "Setting channel info structure...\n",
      "Creating raw.info structure...\n",
      "Reading 0 ... 76799  =      0.000 ...   299.996 secs...\n",
      "NOTE: pick_channels() is a legacy function. New code should use inst.pick(...).\n"
     ]
    },
    {
     "name": "stderr",
     "output_type": "stream",
     "text": [
      "Processing Files:  16%|██████████                                                     | 57/357 [09:41<51:43, 10.34s/it]"
     ]
    },
    {
     "name": "stdout",
     "output_type": "stream",
     "text": [
      "\n",
      "file: 'E:\\hy\\Datasets\\TUSZ\\edf\\dev\\01_tcp_ar\\095\\00009578\\s037_2013_08_30\\00009578_s037_t005.edf' [RECORDING] ALL WINDOWS DONE! FILE DONE!...\n",
      "\n",
      "FILE NAME: E:\\hy\\Datasets\\TUSZ\\edf\\dev\\01_tcp_ar\\095\\00009578\\s037_2013_08_30\\00009578_s037_t006.edf\n",
      "Extracting EDF parameters from E:\\hy\\Datasets\\TUSZ\\edf\\dev\\01_tcp_ar\\095\\00009578\\s037_2013_08_30\\00009578_s037_t006.edf...\n",
      "EDF file detected\n",
      "Setting channel info structure...\n",
      "Creating raw.info structure...\n",
      "Reading 0 ... 57855  =      0.000 ...   225.996 secs...\n",
      "NOTE: pick_channels() is a legacy function. New code should use inst.pick(...).\n"
     ]
    },
    {
     "name": "stderr",
     "output_type": "stream",
     "text": [
      "Processing Files:  16%|██████████▏                                                    | 58/357 [09:47<46:33,  9.34s/it]"
     ]
    },
    {
     "name": "stdout",
     "output_type": "stream",
     "text": [
      "\n",
      "file: 'E:\\hy\\Datasets\\TUSZ\\edf\\dev\\01_tcp_ar\\095\\00009578\\s037_2013_08_30\\00009578_s037_t006.edf' [RECORDING] ALL WINDOWS DONE! FILE DONE!...\n",
      "\n",
      "FILE NAME: E:\\hy\\Datasets\\TUSZ\\edf\\dev\\01_tcp_ar\\096\\00009697\\s001_2012_10_11\\00009697_s001_t000.edf\n",
      "Extracting EDF parameters from E:\\hy\\Datasets\\TUSZ\\edf\\dev\\01_tcp_ar\\096\\00009697\\s001_2012_10_11\\00009697_s001_t000.edf...\n",
      "EDF file detected\n",
      "Setting channel info structure...\n",
      "Creating raw.info structure...\n",
      "Reading 0 ... 368499  =      0.000 ...  1473.996 secs...\n",
      "NOTE: pick_channels() is a legacy function. New code should use inst.pick(...).\n"
     ]
    },
    {
     "name": "stderr",
     "output_type": "stream",
     "text": [
      "Processing Files:  17%|██████████                                                   | 59/357 [10:30<1:28:40, 17.85s/it]"
     ]
    },
    {
     "name": "stdout",
     "output_type": "stream",
     "text": [
      "\n",
      "file: 'E:\\hy\\Datasets\\TUSZ\\edf\\dev\\01_tcp_ar\\096\\00009697\\s001_2012_10_11\\00009697_s001_t000.edf' [RECORDING] ALL WINDOWS DONE! FILE DONE!...\n",
      "\n",
      "FILE NAME: E:\\hy\\Datasets\\TUSZ\\edf\\dev\\01_tcp_ar\\096\\00009697\\s002_2013_05_15\\00009697_s002_t000.edf\n",
      "Extracting EDF parameters from E:\\hy\\Datasets\\TUSZ\\edf\\dev\\01_tcp_ar\\096\\00009697\\s002_2013_05_15\\00009697_s002_t000.edf...\n",
      "EDF file detected\n",
      "Setting channel info structure...\n",
      "Creating raw.info structure...\n",
      "Reading 0 ... 187391  =      0.000 ...   731.996 secs...\n",
      "NOTE: pick_channels() is a legacy function. New code should use inst.pick(...).\n"
     ]
    },
    {
     "name": "stderr",
     "output_type": "stream",
     "text": [
      "Processing Files:  17%|██████████▎                                                  | 60/357 [10:50<1:32:29, 18.68s/it]"
     ]
    },
    {
     "name": "stdout",
     "output_type": "stream",
     "text": [
      "\n",
      "file: 'E:\\hy\\Datasets\\TUSZ\\edf\\dev\\01_tcp_ar\\096\\00009697\\s002_2013_05_15\\00009697_s002_t000.edf' [RECORDING] ALL WINDOWS DONE! FILE DONE!...\n",
      "\n",
      "FILE NAME: E:\\hy\\Datasets\\TUSZ\\edf\\dev\\01_tcp_ar\\096\\00009697\\s002_2013_05_15\\00009697_s002_t001.edf\n",
      "Extracting EDF parameters from E:\\hy\\Datasets\\TUSZ\\edf\\dev\\01_tcp_ar\\096\\00009697\\s002_2013_05_15\\00009697_s002_t001.edf...\n",
      "EDF file detected\n",
      "Setting channel info structure...\n",
      "Creating raw.info structure...\n",
      "Reading 0 ... 153087  =      0.000 ...   597.996 secs...\n",
      "NOTE: pick_channels() is a legacy function. New code should use inst.pick(...).\n"
     ]
    },
    {
     "name": "stderr",
     "output_type": "stream",
     "text": [
      "Processing Files:  17%|██████████▍                                                  | 61/357 [11:07<1:28:41, 17.98s/it]"
     ]
    },
    {
     "name": "stdout",
     "output_type": "stream",
     "text": [
      "\n",
      "file: 'E:\\hy\\Datasets\\TUSZ\\edf\\dev\\01_tcp_ar\\096\\00009697\\s002_2013_05_15\\00009697_s002_t001.edf' [RECORDING] ALL WINDOWS DONE! FILE DONE!...\n",
      "\n",
      "FILE NAME: E:\\hy\\Datasets\\TUSZ\\edf\\dev\\01_tcp_ar\\096\\00009697\\s003_2013_05_15\\00009697_s003_t000.edf\n",
      "Extracting EDF parameters from E:\\hy\\Datasets\\TUSZ\\edf\\dev\\01_tcp_ar\\096\\00009697\\s003_2013_05_15\\00009697_s003_t000.edf...\n",
      "EDF file detected\n",
      "Setting channel info structure...\n",
      "Creating raw.info structure...\n",
      "Reading 0 ... 76799  =      0.000 ...   299.996 secs...\n",
      "NOTE: pick_channels() is a legacy function. New code should use inst.pick(...).\n"
     ]
    },
    {
     "name": "stderr",
     "output_type": "stream",
     "text": [
      "Processing Files:  17%|██████████▌                                                  | 62/357 [11:15<1:14:56, 15.24s/it]"
     ]
    },
    {
     "name": "stdout",
     "output_type": "stream",
     "text": [
      "\n",
      "file: 'E:\\hy\\Datasets\\TUSZ\\edf\\dev\\01_tcp_ar\\096\\00009697\\s003_2013_05_15\\00009697_s003_t000.edf' [RECORDING] ALL WINDOWS DONE! FILE DONE!...\n",
      "\n",
      "FILE NAME: E:\\hy\\Datasets\\TUSZ\\edf\\dev\\01_tcp_ar\\096\\00009697\\s003_2013_05_15\\00009697_s003_t001.edf\n",
      "Extracting EDF parameters from E:\\hy\\Datasets\\TUSZ\\edf\\dev\\01_tcp_ar\\096\\00009697\\s003_2013_05_15\\00009697_s003_t001.edf...\n",
      "EDF file detected\n",
      "Setting channel info structure...\n",
      "Creating raw.info structure...\n",
      "Reading 0 ... 153855  =      0.000 ...   600.996 secs...\n",
      "NOTE: pick_channels() is a legacy function. New code should use inst.pick(...).\n"
     ]
    },
    {
     "name": "stderr",
     "output_type": "stream",
     "text": [
      "Processing Files:  18%|██████████▊                                                  | 63/357 [11:32<1:16:34, 15.63s/it]"
     ]
    },
    {
     "name": "stdout",
     "output_type": "stream",
     "text": [
      "\n",
      "file: 'E:\\hy\\Datasets\\TUSZ\\edf\\dev\\01_tcp_ar\\096\\00009697\\s003_2013_05_15\\00009697_s003_t001.edf' [RECORDING] ALL WINDOWS DONE! FILE DONE!...\n",
      "\n",
      "FILE NAME: E:\\hy\\Datasets\\TUSZ\\edf\\dev\\01_tcp_ar\\096\\00009697\\s003_2013_05_15\\00009697_s003_t002.edf\n",
      "Extracting EDF parameters from E:\\hy\\Datasets\\TUSZ\\edf\\dev\\01_tcp_ar\\096\\00009697\\s003_2013_05_15\\00009697_s003_t002.edf...\n",
      "EDF file detected\n",
      "Setting channel info structure...\n",
      "Creating raw.info structure...\n",
      "Reading 0 ... 76799  =      0.000 ...   299.996 secs...\n",
      "NOTE: pick_channels() is a legacy function. New code should use inst.pick(...).\n"
     ]
    },
    {
     "name": "stderr",
     "output_type": "stream",
     "text": [
      "Processing Files:  18%|██████████▉                                                  | 64/357 [11:40<1:05:47, 13.47s/it]"
     ]
    },
    {
     "name": "stdout",
     "output_type": "stream",
     "text": [
      "\n",
      "file: 'E:\\hy\\Datasets\\TUSZ\\edf\\dev\\01_tcp_ar\\096\\00009697\\s003_2013_05_15\\00009697_s003_t002.edf' [RECORDING] ALL WINDOWS DONE! FILE DONE!...\n",
      "\n",
      "FILE NAME: E:\\hy\\Datasets\\TUSZ\\edf\\dev\\01_tcp_ar\\096\\00009697\\s003_2013_05_15\\00009697_s003_t003.edf\n",
      "Extracting EDF parameters from E:\\hy\\Datasets\\TUSZ\\edf\\dev\\01_tcp_ar\\096\\00009697\\s003_2013_05_15\\00009697_s003_t003.edf...\n",
      "EDF file detected\n",
      "Setting channel info structure...\n",
      "Creating raw.info structure...\n",
      "Reading 0 ... 153855  =      0.000 ...   600.996 secs...\n",
      "NOTE: pick_channels() is a legacy function. New code should use inst.pick(...).\n"
     ]
    },
    {
     "name": "stderr",
     "output_type": "stream",
     "text": [
      "Processing Files:  18%|███████████                                                  | 65/357 [11:57<1:10:32, 14.50s/it]"
     ]
    },
    {
     "name": "stdout",
     "output_type": "stream",
     "text": [
      "\n",
      "file: 'E:\\hy\\Datasets\\TUSZ\\edf\\dev\\01_tcp_ar\\096\\00009697\\s003_2013_05_15\\00009697_s003_t003.edf' [RECORDING] ALL WINDOWS DONE! FILE DONE!...\n",
      "\n",
      "FILE NAME: E:\\hy\\Datasets\\TUSZ\\edf\\dev\\01_tcp_ar\\096\\00009697\\s003_2013_05_15\\00009697_s003_t004.edf\n",
      "Extracting EDF parameters from E:\\hy\\Datasets\\TUSZ\\edf\\dev\\01_tcp_ar\\096\\00009697\\s003_2013_05_15\\00009697_s003_t004.edf...\n",
      "EDF file detected\n",
      "Setting channel info structure...\n",
      "Creating raw.info structure...\n",
      "Reading 0 ... 252671  =      0.000 ...   986.996 secs...\n",
      "NOTE: pick_channels() is a legacy function. New code should use inst.pick(...).\n"
     ]
    },
    {
     "name": "stderr",
     "output_type": "stream",
     "text": [
      "Processing Files:  18%|███████████▎                                                 | 66/357 [12:25<1:29:33, 18.47s/it]"
     ]
    },
    {
     "name": "stdout",
     "output_type": "stream",
     "text": [
      "\n",
      "file: 'E:\\hy\\Datasets\\TUSZ\\edf\\dev\\01_tcp_ar\\096\\00009697\\s003_2013_05_15\\00009697_s003_t004.edf' [RECORDING] ALL WINDOWS DONE! FILE DONE!...\n",
      "\n",
      "FILE NAME: E:\\hy\\Datasets\\TUSZ\\edf\\dev\\01_tcp_ar\\096\\00009697\\s003_2013_05_15\\00009697_s003_t005.edf\n",
      "Extracting EDF parameters from E:\\hy\\Datasets\\TUSZ\\edf\\dev\\01_tcp_ar\\096\\00009697\\s003_2013_05_15\\00009697_s003_t005.edf...\n",
      "EDF file detected\n",
      "Setting channel info structure...\n",
      "Creating raw.info structure...\n",
      "Reading 0 ... 76799  =      0.000 ...   299.996 secs...\n",
      "NOTE: pick_channels() is a legacy function. New code should use inst.pick(...).\n"
     ]
    },
    {
     "name": "stderr",
     "output_type": "stream",
     "text": [
      "Processing Files:  19%|████████████                                                   | 68/357 [12:33<57:48, 12.00s/it]"
     ]
    },
    {
     "name": "stdout",
     "output_type": "stream",
     "text": [
      "\n",
      "file: 'E:\\hy\\Datasets\\TUSZ\\edf\\dev\\01_tcp_ar\\096\\00009697\\s003_2013_05_15\\00009697_s003_t005.edf' [RECORDING] ALL WINDOWS DONE! FILE DONE!...\n",
      "\n",
      "FILE NAME: E:\\hy\\Datasets\\TUSZ\\edf\\dev\\01_tcp_ar\\096\\00009697\\s003_2013_05_15\\00009697_s003_t006.edf\n",
      "Extracting EDF parameters from E:\\hy\\Datasets\\TUSZ\\edf\\dev\\01_tcp_ar\\096\\00009697\\s003_2013_05_15\\00009697_s003_t006.edf...\n",
      "EDF file detected\n",
      "Setting channel info structure...\n",
      "Creating raw.info structure...\n",
      "Reading 0 ... 153855  =      0.000 ...   600.996 secs...\n",
      "NOTE: pick_channels() is a legacy function. New code should use inst.pick(...).\n"
     ]
    },
    {
     "name": "stderr",
     "output_type": "stream",
     "text": [
      "Processing Files:  19%|███████████▊                                                 | 69/357 [12:51<1:04:01, 13.34s/it]"
     ]
    },
    {
     "name": "stdout",
     "output_type": "stream",
     "text": [
      "\n",
      "file: 'E:\\hy\\Datasets\\TUSZ\\edf\\dev\\01_tcp_ar\\096\\00009697\\s003_2013_05_15\\00009697_s003_t006.edf' [RECORDING] ALL WINDOWS DONE! FILE DONE!...\n",
      "\n",
      "FILE NAME: E:\\hy\\Datasets\\TUSZ\\edf\\dev\\01_tcp_ar\\096\\00009697\\s003_2013_05_15\\00009697_s003_t007.edf\n",
      "Extracting EDF parameters from E:\\hy\\Datasets\\TUSZ\\edf\\dev\\01_tcp_ar\\096\\00009697\\s003_2013_05_15\\00009697_s003_t007.edf...\n",
      "EDF file detected\n",
      "Setting channel info structure...\n",
      "Creating raw.info structure...\n",
      "Reading 0 ... 76799  =      0.000 ...   299.996 secs...\n",
      "NOTE: pick_channels() is a legacy function. New code should use inst.pick(...).\n"
     ]
    },
    {
     "name": "stderr",
     "output_type": "stream",
     "text": [
      "Processing Files:  20%|████████████▎                                                  | 70/357 [12:59<57:33, 12.03s/it]"
     ]
    },
    {
     "name": "stdout",
     "output_type": "stream",
     "text": [
      "\n",
      "file: 'E:\\hy\\Datasets\\TUSZ\\edf\\dev\\01_tcp_ar\\096\\00009697\\s003_2013_05_15\\00009697_s003_t007.edf' [RECORDING] ALL WINDOWS DONE! FILE DONE!...\n",
      "\n",
      "FILE NAME: E:\\hy\\Datasets\\TUSZ\\edf\\dev\\01_tcp_ar\\096\\00009697\\s003_2013_05_15\\00009697_s003_t008.edf\n",
      "Extracting EDF parameters from E:\\hy\\Datasets\\TUSZ\\edf\\dev\\01_tcp_ar\\096\\00009697\\s003_2013_05_15\\00009697_s003_t008.edf...\n",
      "EDF file detected\n",
      "Setting channel info structure...\n",
      "Creating raw.info structure...\n",
      "Reading 0 ... 76799  =      0.000 ...   299.996 secs...\n",
      "NOTE: pick_channels() is a legacy function. New code should use inst.pick(...).\n"
     ]
    },
    {
     "name": "stderr",
     "output_type": "stream",
     "text": [
      "Processing Files:  20%|████████████▌                                                  | 71/357 [13:07<51:32, 10.81s/it]"
     ]
    },
    {
     "name": "stdout",
     "output_type": "stream",
     "text": [
      "\n",
      "file: 'E:\\hy\\Datasets\\TUSZ\\edf\\dev\\01_tcp_ar\\096\\00009697\\s003_2013_05_15\\00009697_s003_t008.edf' [RECORDING] ALL WINDOWS DONE! FILE DONE!...\n",
      "\n",
      "FILE NAME: E:\\hy\\Datasets\\TUSZ\\edf\\dev\\01_tcp_ar\\096\\00009697\\s003_2013_05_15\\00009697_s003_t009.edf\n",
      "Extracting EDF parameters from E:\\hy\\Datasets\\TUSZ\\edf\\dev\\01_tcp_ar\\096\\00009697\\s003_2013_05_15\\00009697_s003_t009.edf...\n",
      "EDF file detected\n",
      "Setting channel info structure...\n",
      "Creating raw.info structure...\n",
      "Reading 0 ... 279807  =      0.000 ...  1092.996 secs...\n",
      "NOTE: pick_channels() is a legacy function. New code should use inst.pick(...).\n"
     ]
    },
    {
     "name": "stderr",
     "output_type": "stream",
     "text": [
      "Processing Files:  20%|████████████▎                                                | 72/357 [13:39<1:19:16, 16.69s/it]"
     ]
    },
    {
     "name": "stdout",
     "output_type": "stream",
     "text": [
      "\n",
      "file: 'E:\\hy\\Datasets\\TUSZ\\edf\\dev\\01_tcp_ar\\096\\00009697\\s003_2013_05_15\\00009697_s003_t009.edf' [RECORDING] ALL WINDOWS DONE! FILE DONE!...\n",
      "\n",
      "FILE NAME: E:\\hy\\Datasets\\TUSZ\\edf\\dev\\01_tcp_ar\\096\\00009697\\s004_2013_05_16\\00009697_s004_t000.edf\n",
      "Extracting EDF parameters from E:\\hy\\Datasets\\TUSZ\\edf\\dev\\01_tcp_ar\\096\\00009697\\s004_2013_05_16\\00009697_s004_t000.edf...\n",
      "EDF file detected\n",
      "Setting channel info structure...\n",
      "Creating raw.info structure...\n",
      "Reading 0 ... 451583  =      0.000 ...  1763.996 secs...\n",
      "NOTE: pick_channels() is a legacy function. New code should use inst.pick(...).\n"
     ]
    },
    {
     "name": "stderr",
     "output_type": "stream",
     "text": [
      "Processing Files:  20%|████████████▍                                                | 73/357 [14:29<2:04:51, 26.38s/it]"
     ]
    },
    {
     "name": "stdout",
     "output_type": "stream",
     "text": [
      "\n",
      "file: 'E:\\hy\\Datasets\\TUSZ\\edf\\dev\\01_tcp_ar\\096\\00009697\\s004_2013_05_16\\00009697_s004_t000.edf' [RECORDING] ALL WINDOWS DONE! FILE DONE!...\n",
      "\n",
      "FILE NAME: E:\\hy\\Datasets\\TUSZ\\edf\\dev\\01_tcp_ar\\096\\00009697\\s005_2013_05_16\\00009697_s005_t000.edf\n",
      "Extracting EDF parameters from E:\\hy\\Datasets\\TUSZ\\edf\\dev\\01_tcp_ar\\096\\00009697\\s005_2013_05_16\\00009697_s005_t000.edf...\n",
      "EDF file detected\n",
      "Setting channel info structure...\n",
      "Creating raw.info structure...\n",
      "Reading 0 ... 8191  =      0.000 ...    31.996 secs...\n",
      "NOTE: pick_channels() is a legacy function. New code should use inst.pick(...).\n"
     ]
    },
    {
     "name": "stderr",
     "output_type": "stream",
     "text": [
      "Processing Files:  21%|████████████▋                                                | 74/357 [14:30<1:29:24, 18.96s/it]"
     ]
    },
    {
     "name": "stdout",
     "output_type": "stream",
     "text": [
      "\n",
      "file: 'E:\\hy\\Datasets\\TUSZ\\edf\\dev\\01_tcp_ar\\096\\00009697\\s005_2013_05_16\\00009697_s005_t000.edf' [RECORDING] ALL WINDOWS DONE! FILE DONE!...\n",
      "\n",
      "FILE NAME: E:\\hy\\Datasets\\TUSZ\\edf\\dev\\01_tcp_ar\\096\\00009697\\s005_2013_05_16\\00009697_s005_t001.edf\n",
      "Extracting EDF parameters from E:\\hy\\Datasets\\TUSZ\\edf\\dev\\01_tcp_ar\\096\\00009697\\s005_2013_05_16\\00009697_s005_t001.edf...\n",
      "EDF file detected\n",
      "Setting channel info structure...\n",
      "Creating raw.info structure...\n",
      "Reading 0 ... 154879  =      0.000 ...   604.996 secs...\n",
      "NOTE: pick_channels() is a legacy function. New code should use inst.pick(...).\n"
     ]
    },
    {
     "name": "stderr",
     "output_type": "stream",
     "text": [
      "Processing Files:  21%|████████████▊                                                | 75/357 [14:45<1:24:18, 17.94s/it]"
     ]
    },
    {
     "name": "stdout",
     "output_type": "stream",
     "text": [
      "\n",
      "file: 'E:\\hy\\Datasets\\TUSZ\\edf\\dev\\01_tcp_ar\\096\\00009697\\s005_2013_05_16\\00009697_s005_t001.edf' [RECORDING] ALL WINDOWS DONE! FILE DONE!...\n",
      "\n",
      "FILE NAME: E:\\hy\\Datasets\\TUSZ\\edf\\dev\\01_tcp_ar\\096\\00009697\\s005_2013_05_16\\00009697_s005_t002.edf\n",
      "Extracting EDF parameters from E:\\hy\\Datasets\\TUSZ\\edf\\dev\\01_tcp_ar\\096\\00009697\\s005_2013_05_16\\00009697_s005_t002.edf...\n",
      "EDF file detected\n",
      "Setting channel info structure...\n",
      "Creating raw.info structure...\n",
      "Reading 0 ... 232447  =      0.000 ...   907.996 secs...\n",
      "NOTE: pick_channels() is a legacy function. New code should use inst.pick(...).\n"
     ]
    },
    {
     "name": "stderr",
     "output_type": "stream",
     "text": [
      "Processing Files:  21%|████████████▉                                                | 76/357 [15:08<1:31:02, 19.44s/it]"
     ]
    },
    {
     "name": "stdout",
     "output_type": "stream",
     "text": [
      "\n",
      "file: 'E:\\hy\\Datasets\\TUSZ\\edf\\dev\\01_tcp_ar\\096\\00009697\\s005_2013_05_16\\00009697_s005_t002.edf' [RECORDING] ALL WINDOWS DONE! FILE DONE!...\n",
      "\n",
      "FILE NAME: E:\\hy\\Datasets\\TUSZ\\edf\\dev\\01_tcp_ar\\096\\00009697\\s005_2013_05_16\\00009697_s005_t003.edf\n",
      "Extracting EDF parameters from E:\\hy\\Datasets\\TUSZ\\edf\\dev\\01_tcp_ar\\096\\00009697\\s005_2013_05_16\\00009697_s005_t003.edf...\n",
      "EDF file detected\n",
      "Setting channel info structure...\n",
      "Creating raw.info structure...\n",
      "Reading 0 ... 243199  =      0.000 ...   949.996 secs...\n",
      "NOTE: pick_channels() is a legacy function. New code should use inst.pick(...).\n"
     ]
    },
    {
     "name": "stderr",
     "output_type": "stream",
     "text": [
      "Processing Files:  22%|█████████████▏                                               | 77/357 [15:33<1:38:22, 21.08s/it]"
     ]
    },
    {
     "name": "stdout",
     "output_type": "stream",
     "text": [
      "\n",
      "file: 'E:\\hy\\Datasets\\TUSZ\\edf\\dev\\01_tcp_ar\\096\\00009697\\s005_2013_05_16\\00009697_s005_t003.edf' [RECORDING] ALL WINDOWS DONE! FILE DONE!...\n",
      "\n",
      "FILE NAME: E:\\hy\\Datasets\\TUSZ\\edf\\dev\\01_tcp_ar\\096\\00009697\\s005_2013_05_16\\00009697_s005_t004.edf\n",
      "Extracting EDF parameters from E:\\hy\\Datasets\\TUSZ\\edf\\dev\\01_tcp_ar\\096\\00009697\\s005_2013_05_16\\00009697_s005_t004.edf...\n",
      "EDF file detected\n",
      "Setting channel info structure...\n",
      "Creating raw.info structure...\n",
      "Reading 0 ... 153855  =      0.000 ...   600.996 secs...\n",
      "NOTE: pick_channels() is a legacy function. New code should use inst.pick(...).\n"
     ]
    },
    {
     "name": "stderr",
     "output_type": "stream",
     "text": [
      "Processing Files:  22%|█████████████▎                                               | 78/357 [15:50<1:31:57, 19.78s/it]"
     ]
    },
    {
     "name": "stdout",
     "output_type": "stream",
     "text": [
      "\n",
      "file: 'E:\\hy\\Datasets\\TUSZ\\edf\\dev\\01_tcp_ar\\096\\00009697\\s005_2013_05_16\\00009697_s005_t004.edf' [RECORDING] ALL WINDOWS DONE! FILE DONE!...\n",
      "\n",
      "FILE NAME: E:\\hy\\Datasets\\TUSZ\\edf\\dev\\01_tcp_ar\\096\\00009697\\s005_2013_05_16\\00009697_s005_t005.edf\n",
      "Extracting EDF parameters from E:\\hy\\Datasets\\TUSZ\\edf\\dev\\01_tcp_ar\\096\\00009697\\s005_2013_05_16\\00009697_s005_t005.edf...\n",
      "EDF file detected\n",
      "Setting channel info structure...\n",
      "Creating raw.info structure...\n",
      "Reading 0 ... 76799  =      0.000 ...   299.996 secs...\n",
      "NOTE: pick_channels() is a legacy function. New code should use inst.pick(...).\n"
     ]
    },
    {
     "name": "stderr",
     "output_type": "stream",
     "text": [
      "Processing Files:  22%|██████████████                                                 | 80/357 [15:58<58:13, 12.61s/it]"
     ]
    },
    {
     "name": "stdout",
     "output_type": "stream",
     "text": [
      "\n",
      "file: 'E:\\hy\\Datasets\\TUSZ\\edf\\dev\\01_tcp_ar\\096\\00009697\\s005_2013_05_16\\00009697_s005_t005.edf' [RECORDING] ALL WINDOWS DONE! FILE DONE!...\n",
      "\n",
      "FILE NAME: E:\\hy\\Datasets\\TUSZ\\edf\\dev\\01_tcp_ar\\096\\00009697\\s005_2013_05_16\\00009697_s005_t006.edf\n",
      "Extracting EDF parameters from E:\\hy\\Datasets\\TUSZ\\edf\\dev\\01_tcp_ar\\096\\00009697\\s005_2013_05_16\\00009697_s005_t006.edf...\n",
      "EDF file detected\n",
      "Setting channel info structure...\n",
      "Creating raw.info structure...\n",
      "Reading 0 ... 153855  =      0.000 ...   600.996 secs...\n",
      "NOTE: pick_channels() is a legacy function. New code should use inst.pick(...).\n"
     ]
    },
    {
     "name": "stderr",
     "output_type": "stream",
     "text": [
      "Processing Files:  23%|█████████████▊                                               | 81/357 [16:16<1:03:47, 13.87s/it]"
     ]
    },
    {
     "name": "stdout",
     "output_type": "stream",
     "text": [
      "\n",
      "file: 'E:\\hy\\Datasets\\TUSZ\\edf\\dev\\01_tcp_ar\\096\\00009697\\s005_2013_05_16\\00009697_s005_t006.edf' [RECORDING] ALL WINDOWS DONE! FILE DONE!...\n",
      "\n",
      "FILE NAME: E:\\hy\\Datasets\\TUSZ\\edf\\dev\\01_tcp_ar\\096\\00009697\\s005_2013_05_16\\00009697_s005_t007.edf\n",
      "Extracting EDF parameters from E:\\hy\\Datasets\\TUSZ\\edf\\dev\\01_tcp_ar\\096\\00009697\\s005_2013_05_16\\00009697_s005_t007.edf...\n",
      "EDF file detected\n",
      "Setting channel info structure...\n",
      "Creating raw.info structure...\n",
      "Reading 0 ... 76799  =      0.000 ...   299.996 secs...\n",
      "NOTE: pick_channels() is a legacy function. New code should use inst.pick(...).\n"
     ]
    },
    {
     "name": "stderr",
     "output_type": "stream",
     "text": [
      "Processing Files:  23%|██████████████▍                                                | 82/357 [16:25<57:17, 12.50s/it]"
     ]
    },
    {
     "name": "stdout",
     "output_type": "stream",
     "text": [
      "\n",
      "file: 'E:\\hy\\Datasets\\TUSZ\\edf\\dev\\01_tcp_ar\\096\\00009697\\s005_2013_05_16\\00009697_s005_t007.edf' [RECORDING] ALL WINDOWS DONE! FILE DONE!...\n",
      "\n",
      "FILE NAME: E:\\hy\\Datasets\\TUSZ\\edf\\dev\\01_tcp_ar\\096\\00009697\\s005_2013_05_16\\00009697_s005_t008.edf\n",
      "Extracting EDF parameters from E:\\hy\\Datasets\\TUSZ\\edf\\dev\\01_tcp_ar\\096\\00009697\\s005_2013_05_16\\00009697_s005_t008.edf...\n",
      "EDF file detected\n",
      "Setting channel info structure...\n",
      "Creating raw.info structure...\n",
      "Reading 0 ... 153855  =      0.000 ...   600.996 secs...\n",
      "NOTE: pick_channels() is a legacy function. New code should use inst.pick(...).\n"
     ]
    },
    {
     "name": "stderr",
     "output_type": "stream",
     "text": [
      "Processing Files:  23%|██████████████▏                                              | 83/357 [16:42<1:03:26, 13.89s/it]"
     ]
    },
    {
     "name": "stdout",
     "output_type": "stream",
     "text": [
      "\n",
      "file: 'E:\\hy\\Datasets\\TUSZ\\edf\\dev\\01_tcp_ar\\096\\00009697\\s005_2013_05_16\\00009697_s005_t008.edf' [RECORDING] ALL WINDOWS DONE! FILE DONE!...\n",
      "\n",
      "FILE NAME: E:\\hy\\Datasets\\TUSZ\\edf\\dev\\01_tcp_ar\\096\\00009697\\s005_2013_05_16\\00009697_s005_t009.edf\n",
      "Extracting EDF parameters from E:\\hy\\Datasets\\TUSZ\\edf\\dev\\01_tcp_ar\\096\\00009697\\s005_2013_05_16\\00009697_s005_t009.edf...\n",
      "EDF file detected\n",
      "Setting channel info structure...\n",
      "Creating raw.info structure...\n",
      "Reading 0 ... 76799  =      0.000 ...   299.996 secs...\n",
      "NOTE: pick_channels() is a legacy function. New code should use inst.pick(...).\n"
     ]
    },
    {
     "name": "stderr",
     "output_type": "stream",
     "text": [
      "Processing Files:  24%|██████████████▊                                                | 84/357 [16:51<56:12, 12.35s/it]"
     ]
    },
    {
     "name": "stdout",
     "output_type": "stream",
     "text": [
      "\n",
      "file: 'E:\\hy\\Datasets\\TUSZ\\edf\\dev\\01_tcp_ar\\096\\00009697\\s005_2013_05_16\\00009697_s005_t009.edf' [RECORDING] ALL WINDOWS DONE! FILE DONE!...\n",
      "\n",
      "FILE NAME: E:\\hy\\Datasets\\TUSZ\\edf\\dev\\01_tcp_ar\\096\\00009697\\s005_2013_05_16\\00009697_s005_t010.edf\n",
      "Extracting EDF parameters from E:\\hy\\Datasets\\TUSZ\\edf\\dev\\01_tcp_ar\\096\\00009697\\s005_2013_05_16\\00009697_s005_t010.edf...\n",
      "EDF file detected\n",
      "Setting channel info structure...\n",
      "Creating raw.info structure...\n",
      "Reading 0 ... 76799  =      0.000 ...   299.996 secs...\n",
      "NOTE: pick_channels() is a legacy function. New code should use inst.pick(...).\n"
     ]
    },
    {
     "name": "stderr",
     "output_type": "stream",
     "text": [
      "Processing Files:  24%|███████████████                                                | 85/357 [16:59<50:20, 11.10s/it]"
     ]
    },
    {
     "name": "stdout",
     "output_type": "stream",
     "text": [
      "\n",
      "file: 'E:\\hy\\Datasets\\TUSZ\\edf\\dev\\01_tcp_ar\\096\\00009697\\s005_2013_05_16\\00009697_s005_t010.edf' [RECORDING] ALL WINDOWS DONE! FILE DONE!...\n",
      "\n",
      "FILE NAME: E:\\hy\\Datasets\\TUSZ\\edf\\dev\\01_tcp_ar\\096\\00009697\\s005_2013_05_16\\00009697_s005_t011.edf\n",
      "Extracting EDF parameters from E:\\hy\\Datasets\\TUSZ\\edf\\dev\\01_tcp_ar\\096\\00009697\\s005_2013_05_16\\00009697_s005_t011.edf...\n",
      "EDF file detected\n",
      "Setting channel info structure...\n",
      "Creating raw.info structure...\n",
      "Reading 0 ... 153855  =      0.000 ...   600.996 secs...\n",
      "NOTE: pick_channels() is a legacy function. New code should use inst.pick(...).\n"
     ]
    },
    {
     "name": "stderr",
     "output_type": "stream",
     "text": [
      "Processing Files:  24%|███████████████▏                                               | 86/357 [17:16<58:03, 12.85s/it]"
     ]
    },
    {
     "name": "stdout",
     "output_type": "stream",
     "text": [
      "\n",
      "file: 'E:\\hy\\Datasets\\TUSZ\\edf\\dev\\01_tcp_ar\\096\\00009697\\s005_2013_05_16\\00009697_s005_t011.edf' [RECORDING] ALL WINDOWS DONE! FILE DONE!...\n",
      "\n",
      "FILE NAME: E:\\hy\\Datasets\\TUSZ\\edf\\dev\\01_tcp_ar\\096\\00009697\\s006_2013_05_17\\00009697_s006_t000.edf\n",
      "Extracting EDF parameters from E:\\hy\\Datasets\\TUSZ\\edf\\dev\\01_tcp_ar\\096\\00009697\\s006_2013_05_17\\00009697_s006_t000.edf...\n",
      "EDF file detected\n",
      "Setting channel info structure...\n",
      "Creating raw.info structure...\n",
      "Reading 0 ... 76799  =      0.000 ...   299.996 secs...\n",
      "NOTE: pick_channels() is a legacy function. New code should use inst.pick(...).\n"
     ]
    },
    {
     "name": "stderr",
     "output_type": "stream",
     "text": [
      "Processing Files:  24%|███████████████▎                                               | 87/357 [17:23<50:21, 11.19s/it]"
     ]
    },
    {
     "name": "stdout",
     "output_type": "stream",
     "text": [
      "\n",
      "file: 'E:\\hy\\Datasets\\TUSZ\\edf\\dev\\01_tcp_ar\\096\\00009697\\s006_2013_05_17\\00009697_s006_t000.edf' [RECORDING] ALL WINDOWS DONE! FILE DONE!...\n",
      "\n",
      "FILE NAME: E:\\hy\\Datasets\\TUSZ\\edf\\dev\\01_tcp_ar\\096\\00009697\\s006_2013_05_17\\00009697_s006_t001.edf\n",
      "Extracting EDF parameters from E:\\hy\\Datasets\\TUSZ\\edf\\dev\\01_tcp_ar\\096\\00009697\\s006_2013_05_17\\00009697_s006_t001.edf...\n",
      "EDF file detected\n",
      "Setting channel info structure...\n",
      "Creating raw.info structure...\n",
      "Reading 0 ... 153855  =      0.000 ...   600.996 secs...\n",
      "NOTE: pick_channels() is a legacy function. New code should use inst.pick(...).\n"
     ]
    },
    {
     "name": "stderr",
     "output_type": "stream",
     "text": [
      "Processing Files:  25%|███████████████▌                                               | 88/357 [17:39<55:59, 12.49s/it]"
     ]
    },
    {
     "name": "stdout",
     "output_type": "stream",
     "text": [
      "\n",
      "file: 'E:\\hy\\Datasets\\TUSZ\\edf\\dev\\01_tcp_ar\\096\\00009697\\s006_2013_05_17\\00009697_s006_t001.edf' [RECORDING] ALL WINDOWS DONE! FILE DONE!...\n",
      "\n",
      "FILE NAME: E:\\hy\\Datasets\\TUSZ\\edf\\dev\\01_tcp_ar\\096\\00009697\\s006_2013_05_17\\00009697_s006_t002.edf\n",
      "Extracting EDF parameters from E:\\hy\\Datasets\\TUSZ\\edf\\dev\\01_tcp_ar\\096\\00009697\\s006_2013_05_17\\00009697_s006_t002.edf...\n",
      "EDF file detected\n",
      "Setting channel info structure...\n",
      "Creating raw.info structure...\n",
      "Reading 0 ... 153855  =      0.000 ...   600.996 secs...\n",
      "NOTE: pick_channels() is a legacy function. New code should use inst.pick(...).\n"
     ]
    },
    {
     "name": "stderr",
     "output_type": "stream",
     "text": [
      "Processing Files:  25%|███████████████▋                                               | 89/357 [17:54<59:24, 13.30s/it]"
     ]
    },
    {
     "name": "stdout",
     "output_type": "stream",
     "text": [
      "\n",
      "file: 'E:\\hy\\Datasets\\TUSZ\\edf\\dev\\01_tcp_ar\\096\\00009697\\s006_2013_05_17\\00009697_s006_t002.edf' [RECORDING] ALL WINDOWS DONE! FILE DONE!...\n",
      "\n",
      "FILE NAME: E:\\hy\\Datasets\\TUSZ\\edf\\dev\\01_tcp_ar\\096\\00009697\\s006_2013_05_17\\00009697_s006_t003.edf\n",
      "Extracting EDF parameters from E:\\hy\\Datasets\\TUSZ\\edf\\dev\\01_tcp_ar\\096\\00009697\\s006_2013_05_17\\00009697_s006_t003.edf...\n",
      "EDF file detected\n",
      "Setting channel info structure...\n",
      "Creating raw.info structure...\n",
      "Reading 0 ... 76799  =      0.000 ...   299.996 secs...\n",
      "NOTE: pick_channels() is a legacy function. New code should use inst.pick(...).\n"
     ]
    },
    {
     "name": "stderr",
     "output_type": "stream",
     "text": [
      "Processing Files:  25%|███████████████▉                                               | 90/357 [18:01<51:17, 11.53s/it]"
     ]
    },
    {
     "name": "stdout",
     "output_type": "stream",
     "text": [
      "\n",
      "file: 'E:\\hy\\Datasets\\TUSZ\\edf\\dev\\01_tcp_ar\\096\\00009697\\s006_2013_05_17\\00009697_s006_t003.edf' [RECORDING] ALL WINDOWS DONE! FILE DONE!...\n",
      "\n",
      "FILE NAME: E:\\hy\\Datasets\\TUSZ\\edf\\dev\\01_tcp_ar\\096\\00009697\\s006_2013_05_17\\00009697_s006_t004.edf\n",
      "Extracting EDF parameters from E:\\hy\\Datasets\\TUSZ\\edf\\dev\\01_tcp_ar\\096\\00009697\\s006_2013_05_17\\00009697_s006_t004.edf...\n",
      "EDF file detected\n",
      "Setting channel info structure...\n",
      "Creating raw.info structure...\n",
      "Reading 0 ... 153855  =      0.000 ...   600.996 secs...\n",
      "NOTE: pick_channels() is a legacy function. New code should use inst.pick(...).\n"
     ]
    },
    {
     "name": "stderr",
     "output_type": "stream",
     "text": [
      "Processing Files:  25%|████████████████                                               | 91/357 [18:17<56:26, 12.73s/it]"
     ]
    },
    {
     "name": "stdout",
     "output_type": "stream",
     "text": [
      "\n",
      "file: 'E:\\hy\\Datasets\\TUSZ\\edf\\dev\\01_tcp_ar\\096\\00009697\\s006_2013_05_17\\00009697_s006_t004.edf' [RECORDING] ALL WINDOWS DONE! FILE DONE!...\n",
      "\n",
      "FILE NAME: E:\\hy\\Datasets\\TUSZ\\edf\\dev\\01_tcp_ar\\096\\00009697\\s006_2013_05_17\\00009697_s006_t005.edf\n",
      "Extracting EDF parameters from E:\\hy\\Datasets\\TUSZ\\edf\\dev\\01_tcp_ar\\096\\00009697\\s006_2013_05_17\\00009697_s006_t005.edf...\n",
      "EDF file detected\n",
      "Setting channel info structure...\n",
      "Creating raw.info structure...\n",
      "Reading 0 ... 76799  =      0.000 ...   299.996 secs...\n",
      "NOTE: pick_channels() is a legacy function. New code should use inst.pick(...).\n"
     ]
    },
    {
     "name": "stderr",
     "output_type": "stream",
     "text": [
      "Processing Files:  26%|████████████████▍                                              | 93/357 [18:25<38:05,  8.66s/it]"
     ]
    },
    {
     "name": "stdout",
     "output_type": "stream",
     "text": [
      "\n",
      "file: 'E:\\hy\\Datasets\\TUSZ\\edf\\dev\\01_tcp_ar\\096\\00009697\\s006_2013_05_17\\00009697_s006_t005.edf' [RECORDING] ALL WINDOWS DONE! FILE DONE!...\n",
      "\n",
      "FILE NAME: E:\\hy\\Datasets\\TUSZ\\edf\\dev\\01_tcp_ar\\096\\00009697\\s006_2013_05_17\\00009697_s006_t006.edf\n",
      "Extracting EDF parameters from E:\\hy\\Datasets\\TUSZ\\edf\\dev\\01_tcp_ar\\096\\00009697\\s006_2013_05_17\\00009697_s006_t006.edf...\n",
      "EDF file detected\n",
      "Setting channel info structure...\n",
      "Creating raw.info structure...\n",
      "Reading 0 ... 153855  =      0.000 ...   600.996 secs...\n",
      "NOTE: pick_channels() is a legacy function. New code should use inst.pick(...).\n"
     ]
    },
    {
     "name": "stderr",
     "output_type": "stream",
     "text": [
      "Processing Files:  26%|████████████████▌                                              | 94/357 [18:40<45:43, 10.43s/it]"
     ]
    },
    {
     "name": "stdout",
     "output_type": "stream",
     "text": [
      "\n",
      "file: 'E:\\hy\\Datasets\\TUSZ\\edf\\dev\\01_tcp_ar\\096\\00009697\\s006_2013_05_17\\00009697_s006_t006.edf' [RECORDING] ALL WINDOWS DONE! FILE DONE!...\n",
      "\n",
      "FILE NAME: E:\\hy\\Datasets\\TUSZ\\edf\\dev\\01_tcp_ar\\096\\00009697\\s006_2013_05_17\\00009697_s006_t007.edf\n",
      "Extracting EDF parameters from E:\\hy\\Datasets\\TUSZ\\edf\\dev\\01_tcp_ar\\096\\00009697\\s006_2013_05_17\\00009697_s006_t007.edf...\n",
      "EDF file detected\n",
      "Setting channel info structure...\n",
      "Creating raw.info structure...\n",
      "Reading 0 ... 76799  =      0.000 ...   299.996 secs...\n",
      "NOTE: pick_channels() is a legacy function. New code should use inst.pick(...).\n"
     ]
    },
    {
     "name": "stderr",
     "output_type": "stream",
     "text": [
      "Processing Files:  27%|████████████████▊                                              | 95/357 [18:48<42:22,  9.70s/it]"
     ]
    },
    {
     "name": "stdout",
     "output_type": "stream",
     "text": [
      "\n",
      "file: 'E:\\hy\\Datasets\\TUSZ\\edf\\dev\\01_tcp_ar\\096\\00009697\\s006_2013_05_17\\00009697_s006_t007.edf' [RECORDING] ALL WINDOWS DONE! FILE DONE!...\n",
      "\n",
      "FILE NAME: E:\\hy\\Datasets\\TUSZ\\edf\\dev\\01_tcp_ar\\096\\00009697\\s006_2013_05_17\\00009697_s006_t008.edf\n",
      "Extracting EDF parameters from E:\\hy\\Datasets\\TUSZ\\edf\\dev\\01_tcp_ar\\096\\00009697\\s006_2013_05_17\\00009697_s006_t008.edf...\n",
      "EDF file detected\n",
      "Setting channel info structure...\n",
      "Creating raw.info structure...\n",
      "Reading 0 ... 153855  =      0.000 ...   600.996 secs...\n",
      "NOTE: pick_channels() is a legacy function. New code should use inst.pick(...).\n"
     ]
    },
    {
     "name": "stderr",
     "output_type": "stream",
     "text": [
      "Processing Files:  27%|████████████████▉                                              | 96/357 [19:04<49:40, 11.42s/it]"
     ]
    },
    {
     "name": "stdout",
     "output_type": "stream",
     "text": [
      "\n",
      "file: 'E:\\hy\\Datasets\\TUSZ\\edf\\dev\\01_tcp_ar\\096\\00009697\\s006_2013_05_17\\00009697_s006_t008.edf' [RECORDING] ALL WINDOWS DONE! FILE DONE!...\n",
      "\n",
      "FILE NAME: E:\\hy\\Datasets\\TUSZ\\edf\\dev\\01_tcp_ar\\096\\00009697\\s006_2013_05_17\\00009697_s006_t009.edf\n",
      "Extracting EDF parameters from E:\\hy\\Datasets\\TUSZ\\edf\\dev\\01_tcp_ar\\096\\00009697\\s006_2013_05_17\\00009697_s006_t009.edf...\n",
      "EDF file detected\n",
      "Setting channel info structure...\n",
      "Creating raw.info structure...\n",
      "Reading 0 ... 76799  =      0.000 ...   299.996 secs...\n",
      "NOTE: pick_channels() is a legacy function. New code should use inst.pick(...).\n"
     ]
    },
    {
     "name": "stderr",
     "output_type": "stream",
     "text": [
      "Processing Files:  27%|█████████████████                                              | 97/357 [19:12<45:09, 10.42s/it]"
     ]
    },
    {
     "name": "stdout",
     "output_type": "stream",
     "text": [
      "\n",
      "file: 'E:\\hy\\Datasets\\TUSZ\\edf\\dev\\01_tcp_ar\\096\\00009697\\s006_2013_05_17\\00009697_s006_t009.edf' [RECORDING] ALL WINDOWS DONE! FILE DONE!...\n",
      "\n",
      "FILE NAME: E:\\hy\\Datasets\\TUSZ\\edf\\dev\\01_tcp_ar\\096\\00009697\\s006_2013_05_17\\00009697_s006_t010.edf\n",
      "Extracting EDF parameters from E:\\hy\\Datasets\\TUSZ\\edf\\dev\\01_tcp_ar\\096\\00009697\\s006_2013_05_17\\00009697_s006_t010.edf...\n",
      "EDF file detected\n",
      "Setting channel info structure...\n",
      "Creating raw.info structure...\n",
      "Reading 0 ... 231935  =      0.000 ...   905.996 secs...\n",
      "NOTE: pick_channels() is a legacy function. New code should use inst.pick(...).\n"
     ]
    },
    {
     "name": "stderr",
     "output_type": "stream",
     "text": [
      "Processing Files:  27%|████████████████▋                                            | 98/357 [19:36<1:02:07, 14.39s/it]"
     ]
    },
    {
     "name": "stdout",
     "output_type": "stream",
     "text": [
      "\n",
      "file: 'E:\\hy\\Datasets\\TUSZ\\edf\\dev\\01_tcp_ar\\096\\00009697\\s006_2013_05_17\\00009697_s006_t010.edf' [RECORDING] ALL WINDOWS DONE! FILE DONE!...\n",
      "\n",
      "FILE NAME: E:\\hy\\Datasets\\TUSZ\\edf\\dev\\01_tcp_ar\\098\\00009839\\s001_2013_03_26\\00009839_s001_t000.edf\n",
      "Extracting EDF parameters from E:\\hy\\Datasets\\TUSZ\\edf\\dev\\01_tcp_ar\\098\\00009839\\s001_2013_03_26\\00009839_s001_t000.edf...\n",
      "EDF file detected\n",
      "Setting channel info structure...\n",
      "Creating raw.info structure...\n",
      "Reading 0 ... 116499  =      0.000 ...   465.996 secs...\n",
      "NOTE: pick_channels() is a legacy function. New code should use inst.pick(...).\n"
     ]
    },
    {
     "name": "stderr",
     "output_type": "stream",
     "text": [
      "Processing Files:  28%|█████████████████▍                                             | 99/357 [19:48<59:08, 13.75s/it]"
     ]
    },
    {
     "name": "stdout",
     "output_type": "stream",
     "text": [
      "\n",
      "file: 'E:\\hy\\Datasets\\TUSZ\\edf\\dev\\01_tcp_ar\\098\\00009839\\s001_2013_03_26\\00009839_s001_t000.edf' [RECORDING] ALL WINDOWS DONE! FILE DONE!...\n",
      "\n",
      "FILE NAME: E:\\hy\\Datasets\\TUSZ\\edf\\dev\\01_tcp_ar\\098\\00009839\\s001_2013_03_26\\00009839_s001_t001.edf\n",
      "Extracting EDF parameters from E:\\hy\\Datasets\\TUSZ\\edf\\dev\\01_tcp_ar\\098\\00009839\\s001_2013_03_26\\00009839_s001_t001.edf...\n",
      "EDF file detected\n",
      "Setting channel info structure...\n",
      "Creating raw.info structure...\n",
      "Reading 0 ... 218749  =      0.000 ...   874.996 secs...\n",
      "NOTE: pick_channels() is a legacy function. New code should use inst.pick(...).\n"
     ]
    },
    {
     "name": "stderr",
     "output_type": "stream",
     "text": [
      "Processing Files:  28%|████████████████▊                                           | 100/357 [20:11<1:10:10, 16.38s/it]"
     ]
    },
    {
     "name": "stdout",
     "output_type": "stream",
     "text": [
      "\n",
      "file: 'E:\\hy\\Datasets\\TUSZ\\edf\\dev\\01_tcp_ar\\098\\00009839\\s001_2013_03_26\\00009839_s001_t001.edf' [RECORDING] ALL WINDOWS DONE! FILE DONE!...\n",
      "\n",
      "FILE NAME: E:\\hy\\Datasets\\TUSZ\\edf\\dev\\01_tcp_ar\\098\\00009839\\s002_2013_04_15\\00009839_s002_t000.edf\n",
      "Extracting EDF parameters from E:\\hy\\Datasets\\TUSZ\\edf\\dev\\01_tcp_ar\\098\\00009839\\s002_2013_04_15\\00009839_s002_t000.edf...\n",
      "EDF file detected\n",
      "Setting channel info structure...\n",
      "Creating raw.info structure...\n",
      "Reading 0 ... 446463  =      0.000 ...  1743.996 secs...\n",
      "NOTE: pick_channels() is a legacy function. New code should use inst.pick(...).\n"
     ]
    },
    {
     "name": "stderr",
     "output_type": "stream",
     "text": [
      "Processing Files:  28%|████████████████▉                                           | 101/357 [20:57<1:46:28, 24.95s/it]"
     ]
    },
    {
     "name": "stdout",
     "output_type": "stream",
     "text": [
      "\n",
      "file: 'E:\\hy\\Datasets\\TUSZ\\edf\\dev\\01_tcp_ar\\098\\00009839\\s002_2013_04_15\\00009839_s002_t000.edf' [RECORDING] ALL WINDOWS DONE! FILE DONE!...\n",
      "\n",
      "FILE NAME: E:\\hy\\Datasets\\TUSZ\\edf\\dev\\01_tcp_ar\\098\\00009839\\s003_2013_04_30\\00009839_s003_t000.edf\n",
      "Extracting EDF parameters from E:\\hy\\Datasets\\TUSZ\\edf\\dev\\01_tcp_ar\\098\\00009839\\s003_2013_04_30\\00009839_s003_t000.edf...\n",
      "EDF file detected\n",
      "Setting channel info structure...\n",
      "Creating raw.info structure...\n",
      "Reading 0 ... 390749  =      0.000 ...  1562.996 secs...\n",
      "NOTE: pick_channels() is a legacy function. New code should use inst.pick(...).\n"
     ]
    },
    {
     "name": "stderr",
     "output_type": "stream",
     "text": [
      "Processing Files:  29%|█████████████████▏                                          | 102/357 [21:38<2:06:33, 29.78s/it]"
     ]
    },
    {
     "name": "stdout",
     "output_type": "stream",
     "text": [
      "\n",
      "file: 'E:\\hy\\Datasets\\TUSZ\\edf\\dev\\01_tcp_ar\\098\\00009839\\s003_2013_04_30\\00009839_s003_t000.edf' [RECORDING] ALL WINDOWS DONE! FILE DONE!...\n",
      "\n",
      "FILE NAME: E:\\hy\\Datasets\\TUSZ\\edf\\dev\\01_tcp_ar\\098\\00009839\\s004_2013_07_21\\00009839_s004_t001.edf\n",
      "Extracting EDF parameters from E:\\hy\\Datasets\\TUSZ\\edf\\dev\\01_tcp_ar\\098\\00009839\\s004_2013_07_21\\00009839_s004_t001.edf...\n",
      "EDF file detected\n",
      "Setting channel info structure...\n",
      "Creating raw.info structure...\n",
      "Reading 0 ... 457749  =      0.000 ...  1830.996 secs...\n",
      "NOTE: pick_channels() is a legacy function. New code should use inst.pick(...).\n"
     ]
    },
    {
     "name": "stderr",
     "output_type": "stream",
     "text": [
      "Processing Files:  29%|█████████████████▎                                          | 103/357 [22:26<2:28:37, 35.11s/it]"
     ]
    },
    {
     "name": "stdout",
     "output_type": "stream",
     "text": [
      "\n",
      "file: 'E:\\hy\\Datasets\\TUSZ\\edf\\dev\\01_tcp_ar\\098\\00009839\\s004_2013_07_21\\00009839_s004_t001.edf' [RECORDING] ALL WINDOWS DONE! FILE DONE!...\n",
      "\n",
      "FILE NAME: E:\\hy\\Datasets\\TUSZ\\edf\\dev\\01_tcp_ar\\098\\00009839\\s004_2013_07_21\\00009839_s004_t002.edf\n",
      "Extracting EDF parameters from E:\\hy\\Datasets\\TUSZ\\edf\\dev\\01_tcp_ar\\098\\00009839\\s004_2013_07_21\\00009839_s004_t002.edf...\n",
      "EDF file detected\n",
      "Setting channel info structure...\n",
      "Creating raw.info structure...\n",
      "Reading 0 ... 179999  =      0.000 ...   719.996 secs...\n",
      "NOTE: pick_channels() is a legacy function. New code should use inst.pick(...).\n"
     ]
    },
    {
     "name": "stderr",
     "output_type": "stream",
     "text": [
      "Processing Files:  29%|█████████████████▍                                          | 104/357 [22:45<2:07:48, 30.31s/it]"
     ]
    },
    {
     "name": "stdout",
     "output_type": "stream",
     "text": [
      "\n",
      "file: 'E:\\hy\\Datasets\\TUSZ\\edf\\dev\\01_tcp_ar\\098\\00009839\\s004_2013_07_21\\00009839_s004_t002.edf' [RECORDING] ALL WINDOWS DONE! FILE DONE!...\n",
      "\n",
      "FILE NAME: E:\\hy\\Datasets\\TUSZ\\edf\\dev\\01_tcp_ar\\098\\00009839\\s005_2013_07_21\\00009839_s005_t000.edf\n",
      "Extracting EDF parameters from E:\\hy\\Datasets\\TUSZ\\edf\\dev\\01_tcp_ar\\098\\00009839\\s005_2013_07_21\\00009839_s005_t000.edf...\n",
      "EDF file detected\n",
      "Setting channel info structure...\n",
      "Creating raw.info structure...\n",
      "Reading 0 ... 76799  =      0.000 ...   299.996 secs...\n",
      "NOTE: pick_channels() is a legacy function. New code should use inst.pick(...).\n"
     ]
    },
    {
     "name": "stderr",
     "output_type": "stream",
     "text": [
      "Processing Files:  29%|█████████████████▋                                          | 105/357 [22:52<1:38:37, 23.48s/it]"
     ]
    },
    {
     "name": "stdout",
     "output_type": "stream",
     "text": [
      "\n",
      "file: 'E:\\hy\\Datasets\\TUSZ\\edf\\dev\\01_tcp_ar\\098\\00009839\\s005_2013_07_21\\00009839_s005_t000.edf' [RECORDING] ALL WINDOWS DONE! FILE DONE!...\n",
      "\n",
      "FILE NAME: E:\\hy\\Datasets\\TUSZ\\edf\\dev\\01_tcp_ar\\098\\00009839\\s005_2013_07_21\\00009839_s005_t001.edf\n",
      "Extracting EDF parameters from E:\\hy\\Datasets\\TUSZ\\edf\\dev\\01_tcp_ar\\098\\00009839\\s005_2013_07_21\\00009839_s005_t001.edf...\n",
      "EDF file detected\n",
      "Setting channel info structure...\n",
      "Creating raw.info structure...\n",
      "Reading 0 ... 287999  =      0.000 ...  1124.996 secs...\n",
      "NOTE: pick_channels() is a legacy function. New code should use inst.pick(...).\n"
     ]
    },
    {
     "name": "stderr",
     "output_type": "stream",
     "text": [
      "Processing Files:  30%|█████████████████▉                                          | 107/357 [23:21<1:20:37, 19.35s/it]"
     ]
    },
    {
     "name": "stdout",
     "output_type": "stream",
     "text": [
      "\n",
      "file: 'E:\\hy\\Datasets\\TUSZ\\edf\\dev\\01_tcp_ar\\098\\00009839\\s005_2013_07_21\\00009839_s005_t001.edf' [RECORDING] ALL WINDOWS DONE! FILE DONE!...\n",
      "\n",
      "FILE NAME: E:\\hy\\Datasets\\TUSZ\\edf\\dev\\01_tcp_ar\\098\\00009839\\s005_2013_07_21\\00009839_s005_t002.edf\n",
      "Extracting EDF parameters from E:\\hy\\Datasets\\TUSZ\\edf\\dev\\01_tcp_ar\\098\\00009839\\s005_2013_07_21\\00009839_s005_t002.edf...\n",
      "EDF file detected\n",
      "Setting channel info structure...\n",
      "Creating raw.info structure...\n",
      "Reading 0 ... 225279  =      0.000 ...   879.996 secs...\n",
      "NOTE: pick_channels() is a legacy function. New code should use inst.pick(...).\n"
     ]
    },
    {
     "name": "stderr",
     "output_type": "stream",
     "text": [
      "Processing Files:  30%|██████████████████▏                                         | 108/357 [23:43<1:23:25, 20.10s/it]"
     ]
    },
    {
     "name": "stdout",
     "output_type": "stream",
     "text": [
      "\n",
      "file: 'E:\\hy\\Datasets\\TUSZ\\edf\\dev\\01_tcp_ar\\098\\00009839\\s005_2013_07_21\\00009839_s005_t002.edf' [RECORDING] ALL WINDOWS DONE! FILE DONE!...\n",
      "\n",
      "FILE NAME: E:\\hy\\Datasets\\TUSZ\\edf\\dev\\01_tcp_ar\\098\\00009839\\s005_2013_07_21\\00009839_s005_t003.edf\n",
      "Extracting EDF parameters from E:\\hy\\Datasets\\TUSZ\\edf\\dev\\01_tcp_ar\\098\\00009839\\s005_2013_07_21\\00009839_s005_t003.edf...\n",
      "EDF file detected\n",
      "Setting channel info structure...\n",
      "Creating raw.info structure...\n",
      "Reading 0 ... 323839  =      0.000 ...  1264.996 secs...\n",
      "NOTE: pick_channels() is a legacy function. New code should use inst.pick(...).\n"
     ]
    },
    {
     "name": "stderr",
     "output_type": "stream",
     "text": [
      "Processing Files:  31%|██████████████████▎                                         | 109/357 [24:15<1:35:37, 23.13s/it]"
     ]
    },
    {
     "name": "stdout",
     "output_type": "stream",
     "text": [
      "\n",
      "file: 'E:\\hy\\Datasets\\TUSZ\\edf\\dev\\01_tcp_ar\\098\\00009839\\s005_2013_07_21\\00009839_s005_t003.edf' [RECORDING] ALL WINDOWS DONE! FILE DONE!...\n",
      "\n",
      "FILE NAME: E:\\hy\\Datasets\\TUSZ\\edf\\dev\\01_tcp_ar\\098\\00009839\\s005_2013_07_21\\00009839_s005_t004.edf\n",
      "Extracting EDF parameters from E:\\hy\\Datasets\\TUSZ\\edf\\dev\\01_tcp_ar\\098\\00009839\\s005_2013_07_21\\00009839_s005_t004.edf...\n",
      "EDF file detected\n",
      "Setting channel info structure...\n",
      "Creating raw.info structure...\n",
      "Reading 0 ... 216831  =      0.000 ...   846.996 secs...\n",
      "NOTE: pick_channels() is a legacy function. New code should use inst.pick(...).\n"
     ]
    },
    {
     "name": "stderr",
     "output_type": "stream",
     "text": [
      "Processing Files:  31%|██████████████████▍                                         | 110/357 [24:38<1:34:27, 22.95s/it]"
     ]
    },
    {
     "name": "stdout",
     "output_type": "stream",
     "text": [
      "\n",
      "file: 'E:\\hy\\Datasets\\TUSZ\\edf\\dev\\01_tcp_ar\\098\\00009839\\s005_2013_07_21\\00009839_s005_t004.edf' [RECORDING] ALL WINDOWS DONE! FILE DONE!...\n",
      "\n",
      "FILE NAME: E:\\hy\\Datasets\\TUSZ\\edf\\dev\\01_tcp_ar\\098\\00009839\\s005_2013_07_21\\00009839_s005_t005.edf\n",
      "Extracting EDF parameters from E:\\hy\\Datasets\\TUSZ\\edf\\dev\\01_tcp_ar\\098\\00009839\\s005_2013_07_21\\00009839_s005_t005.edf...\n",
      "EDF file detected\n",
      "Setting channel info structure...\n",
      "Creating raw.info structure...\n",
      "Reading 0 ... 174847  =      0.000 ...   682.996 secs...\n",
      "NOTE: pick_channels() is a legacy function. New code should use inst.pick(...).\n"
     ]
    },
    {
     "name": "stderr",
     "output_type": "stream",
     "text": [
      "Processing Files:  31%|██████████████████▋                                         | 111/357 [24:56<1:28:17, 21.53s/it]"
     ]
    },
    {
     "name": "stdout",
     "output_type": "stream",
     "text": [
      "\n",
      "file: 'E:\\hy\\Datasets\\TUSZ\\edf\\dev\\01_tcp_ar\\098\\00009839\\s005_2013_07_21\\00009839_s005_t005.edf' [RECORDING] ALL WINDOWS DONE! FILE DONE!...\n",
      "\n",
      "FILE NAME: E:\\hy\\Datasets\\TUSZ\\edf\\dev\\01_tcp_ar\\098\\00009839\\s005_2013_07_21\\00009839_s005_t006.edf\n",
      "Extracting EDF parameters from E:\\hy\\Datasets\\TUSZ\\edf\\dev\\01_tcp_ar\\098\\00009839\\s005_2013_07_21\\00009839_s005_t006.edf...\n",
      "EDF file detected\n",
      "Setting channel info structure...\n",
      "Creating raw.info structure...\n",
      "Reading 0 ... 169215  =      0.000 ...   660.996 secs...\n",
      "NOTE: pick_channels() is a legacy function. New code should use inst.pick(...).\n"
     ]
    },
    {
     "name": "stderr",
     "output_type": "stream",
     "text": [
      "Processing Files:  31%|██████████████████▊                                         | 112/357 [25:13<1:23:21, 20.41s/it]"
     ]
    },
    {
     "name": "stdout",
     "output_type": "stream",
     "text": [
      "\n",
      "file: 'E:\\hy\\Datasets\\TUSZ\\edf\\dev\\01_tcp_ar\\098\\00009839\\s005_2013_07_21\\00009839_s005_t006.edf' [RECORDING] ALL WINDOWS DONE! FILE DONE!...\n",
      "\n",
      "FILE NAME: E:\\hy\\Datasets\\TUSZ\\edf\\dev\\01_tcp_ar\\098\\00009839\\s005_2013_07_21\\00009839_s005_t007.edf\n",
      "Extracting EDF parameters from E:\\hy\\Datasets\\TUSZ\\edf\\dev\\01_tcp_ar\\098\\00009839\\s005_2013_07_21\\00009839_s005_t007.edf...\n",
      "EDF file detected\n",
      "Setting channel info structure...\n",
      "Creating raw.info structure...\n",
      "Reading 0 ... 172543  =      0.000 ...   673.996 secs...\n",
      "NOTE: pick_channels() is a legacy function. New code should use inst.pick(...).\n"
     ]
    },
    {
     "name": "stderr",
     "output_type": "stream",
     "text": [
      "Processing Files:  32%|██████████████████▉                                         | 113/357 [25:31<1:20:15, 19.74s/it]"
     ]
    },
    {
     "name": "stdout",
     "output_type": "stream",
     "text": [
      "\n",
      "file: 'E:\\hy\\Datasets\\TUSZ\\edf\\dev\\01_tcp_ar\\098\\00009839\\s005_2013_07_21\\00009839_s005_t007.edf' [RECORDING] ALL WINDOWS DONE! FILE DONE!...\n",
      "\n",
      "FILE NAME: E:\\hy\\Datasets\\TUSZ\\edf\\dev\\01_tcp_ar\\098\\00009839\\s005_2013_07_21\\00009839_s005_t008.edf\n",
      "Extracting EDF parameters from E:\\hy\\Datasets\\TUSZ\\edf\\dev\\01_tcp_ar\\098\\00009839\\s005_2013_07_21\\00009839_s005_t008.edf...\n",
      "EDF file detected\n",
      "Setting channel info structure...\n",
      "Creating raw.info structure...\n",
      "Reading 0 ... 171263  =      0.000 ...   668.996 secs...\n",
      "NOTE: pick_channels() is a legacy function. New code should use inst.pick(...).\n"
     ]
    },
    {
     "name": "stderr",
     "output_type": "stream",
     "text": [
      "Processing Files:  32%|███████████████████▏                                        | 114/357 [25:49<1:17:27, 19.12s/it]"
     ]
    },
    {
     "name": "stdout",
     "output_type": "stream",
     "text": [
      "\n",
      "file: 'E:\\hy\\Datasets\\TUSZ\\edf\\dev\\01_tcp_ar\\098\\00009839\\s005_2013_07_21\\00009839_s005_t008.edf' [RECORDING] ALL WINDOWS DONE! FILE DONE!...\n",
      "\n",
      "FILE NAME: E:\\hy\\Datasets\\TUSZ\\edf\\dev\\01_tcp_ar\\098\\00009839\\s005_2013_07_21\\00009839_s005_t009.edf\n",
      "Extracting EDF parameters from E:\\hy\\Datasets\\TUSZ\\edf\\dev\\01_tcp_ar\\098\\00009839\\s005_2013_07_21\\00009839_s005_t009.edf...\n",
      "EDF file detected\n",
      "Setting channel info structure...\n",
      "Creating raw.info structure...\n",
      "Reading 0 ... 76799  =      0.000 ...   299.996 secs...\n",
      "NOTE: pick_channels() is a legacy function. New code should use inst.pick(...).\n"
     ]
    },
    {
     "name": "stderr",
     "output_type": "stream",
     "text": [
      "Processing Files:  32%|███████████████████▎                                        | 115/357 [25:56<1:03:27, 15.73s/it]"
     ]
    },
    {
     "name": "stdout",
     "output_type": "stream",
     "text": [
      "\n",
      "file: 'E:\\hy\\Datasets\\TUSZ\\edf\\dev\\01_tcp_ar\\098\\00009839\\s005_2013_07_21\\00009839_s005_t009.edf' [RECORDING] ALL WINDOWS DONE! FILE DONE!...\n",
      "\n",
      "FILE NAME: E:\\hy\\Datasets\\TUSZ\\edf\\dev\\01_tcp_ar\\098\\00009839\\s005_2013_07_21\\00009839_s005_t010.edf\n",
      "Extracting EDF parameters from E:\\hy\\Datasets\\TUSZ\\edf\\dev\\01_tcp_ar\\098\\00009839\\s005_2013_07_21\\00009839_s005_t010.edf...\n",
      "EDF file detected\n",
      "Setting channel info structure...\n",
      "Creating raw.info structure...\n",
      "Reading 0 ... 223999  =      0.000 ...   874.996 secs...\n",
      "NOTE: pick_channels() is a legacy function. New code should use inst.pick(...).\n"
     ]
    },
    {
     "name": "stderr",
     "output_type": "stream",
     "text": [
      "Processing Files:  32%|███████████████████▍                                        | 116/357 [26:19<1:11:38, 17.84s/it]"
     ]
    },
    {
     "name": "stdout",
     "output_type": "stream",
     "text": [
      "\n",
      "file: 'E:\\hy\\Datasets\\TUSZ\\edf\\dev\\01_tcp_ar\\098\\00009839\\s005_2013_07_21\\00009839_s005_t010.edf' [RECORDING] ALL WINDOWS DONE! FILE DONE!...\n",
      "\n",
      "FILE NAME: E:\\hy\\Datasets\\TUSZ\\edf\\dev\\01_tcp_ar\\098\\00009839\\s005_2013_07_21\\00009839_s005_t011.edf\n",
      "Extracting EDF parameters from E:\\hy\\Datasets\\TUSZ\\edf\\dev\\01_tcp_ar\\098\\00009839\\s005_2013_07_21\\00009839_s005_t011.edf...\n",
      "EDF file detected\n",
      "Setting channel info structure...\n",
      "Creating raw.info structure...\n",
      "Reading 0 ... 172287  =      0.000 ...   672.996 secs...\n",
      "NOTE: pick_channels() is a legacy function. New code should use inst.pick(...).\n"
     ]
    },
    {
     "name": "stderr",
     "output_type": "stream",
     "text": [
      "Processing Files:  33%|███████████████████▋                                        | 117/357 [26:37<1:11:28, 17.87s/it]"
     ]
    },
    {
     "name": "stdout",
     "output_type": "stream",
     "text": [
      "\n",
      "file: 'E:\\hy\\Datasets\\TUSZ\\edf\\dev\\01_tcp_ar\\098\\00009839\\s005_2013_07_21\\00009839_s005_t011.edf' [RECORDING] ALL WINDOWS DONE! FILE DONE!...\n",
      "\n",
      "FILE NAME: E:\\hy\\Datasets\\TUSZ\\edf\\dev\\01_tcp_ar\\098\\00009839\\s005_2013_07_21\\00009839_s005_t012.edf\n",
      "Extracting EDF parameters from E:\\hy\\Datasets\\TUSZ\\edf\\dev\\01_tcp_ar\\098\\00009839\\s005_2013_07_21\\00009839_s005_t012.edf...\n",
      "EDF file detected\n",
      "Setting channel info structure...\n",
      "Creating raw.info structure...\n",
      "Reading 0 ... 172799  =      0.000 ...   674.996 secs...\n",
      "NOTE: pick_channels() is a legacy function. New code should use inst.pick(...).\n"
     ]
    },
    {
     "name": "stderr",
     "output_type": "stream",
     "text": [
      "Processing Files:  33%|███████████████████▊                                        | 118/357 [26:55<1:11:26, 17.93s/it]"
     ]
    },
    {
     "name": "stdout",
     "output_type": "stream",
     "text": [
      "\n",
      "file: 'E:\\hy\\Datasets\\TUSZ\\edf\\dev\\01_tcp_ar\\098\\00009839\\s005_2013_07_21\\00009839_s005_t012.edf' [RECORDING] ALL WINDOWS DONE! FILE DONE!...\n",
      "\n",
      "FILE NAME: E:\\hy\\Datasets\\TUSZ\\edf\\dev\\01_tcp_ar\\098\\00009839\\s005_2013_07_21\\00009839_s005_t013.edf\n",
      "Extracting EDF parameters from E:\\hy\\Datasets\\TUSZ\\edf\\dev\\01_tcp_ar\\098\\00009839\\s005_2013_07_21\\00009839_s005_t013.edf...\n",
      "EDF file detected\n",
      "Setting channel info structure...\n",
      "Creating raw.info structure...\n",
      "Reading 0 ... 240895  =      0.000 ...   940.996 secs...\n",
      "NOTE: pick_channels() is a legacy function. New code should use inst.pick(...).\n"
     ]
    },
    {
     "name": "stderr",
     "output_type": "stream",
     "text": [
      "Processing Files:  33%|████████████████████                                        | 119/357 [27:20<1:18:43, 19.85s/it]"
     ]
    },
    {
     "name": "stdout",
     "output_type": "stream",
     "text": [
      "\n",
      "file: 'E:\\hy\\Datasets\\TUSZ\\edf\\dev\\01_tcp_ar\\098\\00009839\\s005_2013_07_21\\00009839_s005_t013.edf' [RECORDING] ALL WINDOWS DONE! FILE DONE!...\n",
      "\n",
      "FILE NAME: E:\\hy\\Datasets\\TUSZ\\edf\\dev\\01_tcp_ar\\098\\00009839\\s005_2013_07_21\\00009839_s005_t014.edf\n",
      "Extracting EDF parameters from E:\\hy\\Datasets\\TUSZ\\edf\\dev\\01_tcp_ar\\098\\00009839\\s005_2013_07_21\\00009839_s005_t014.edf...\n",
      "EDF file detected\n",
      "Setting channel info structure...\n",
      "Creating raw.info structure...\n",
      "Reading 0 ... 209407  =      0.000 ...   817.996 secs...\n",
      "NOTE: pick_channels() is a legacy function. New code should use inst.pick(...).\n"
     ]
    },
    {
     "name": "stderr",
     "output_type": "stream",
     "text": [
      "Processing Files:  34%|████████████████████▏                                       | 120/357 [27:41<1:19:56, 20.24s/it]"
     ]
    },
    {
     "name": "stdout",
     "output_type": "stream",
     "text": [
      "\n",
      "file: 'E:\\hy\\Datasets\\TUSZ\\edf\\dev\\01_tcp_ar\\098\\00009839\\s005_2013_07_21\\00009839_s005_t014.edf' [RECORDING] ALL WINDOWS DONE! FILE DONE!...\n",
      "\n",
      "FILE NAME: E:\\hy\\Datasets\\TUSZ\\edf\\dev\\01_tcp_ar\\098\\00009839\\s005_2013_07_21\\00009839_s005_t015.edf\n",
      "Extracting EDF parameters from E:\\hy\\Datasets\\TUSZ\\edf\\dev\\01_tcp_ar\\098\\00009839\\s005_2013_07_21\\00009839_s005_t015.edf...\n",
      "EDF file detected\n",
      "Setting channel info structure...\n",
      "Creating raw.info structure...\n",
      "Reading 0 ... 170751  =      0.000 ...   666.996 secs...\n",
      "NOTE: pick_channels() is a legacy function. New code should use inst.pick(...).\n"
     ]
    },
    {
     "name": "stderr",
     "output_type": "stream",
     "text": [
      "Processing Files:  34%|█████████████████████▏                                        | 122/357 [27:58<58:11, 14.86s/it]"
     ]
    },
    {
     "name": "stdout",
     "output_type": "stream",
     "text": [
      "\n",
      "file: 'E:\\hy\\Datasets\\TUSZ\\edf\\dev\\01_tcp_ar\\098\\00009839\\s005_2013_07_21\\00009839_s005_t015.edf' [RECORDING] ALL WINDOWS DONE! FILE DONE!...\n",
      "\n",
      "FILE NAME: E:\\hy\\Datasets\\TUSZ\\edf\\dev\\01_tcp_ar\\098\\00009839\\s005_2013_07_21\\00009839_s005_t016.edf\n",
      "Extracting EDF parameters from E:\\hy\\Datasets\\TUSZ\\edf\\dev\\01_tcp_ar\\098\\00009839\\s005_2013_07_21\\00009839_s005_t016.edf...\n",
      "EDF file detected\n",
      "Setting channel info structure...\n",
      "Creating raw.info structure...\n",
      "Reading 0 ... 170751  =      0.000 ...   666.996 secs...\n",
      "NOTE: pick_channels() is a legacy function. New code should use inst.pick(...).\n"
     ]
    },
    {
     "name": "stderr",
     "output_type": "stream",
     "text": [
      "Processing Files:  34%|████████████████████▋                                       | 123/357 [28:15<1:00:25, 15.49s/it]"
     ]
    },
    {
     "name": "stdout",
     "output_type": "stream",
     "text": [
      "\n",
      "file: 'E:\\hy\\Datasets\\TUSZ\\edf\\dev\\01_tcp_ar\\098\\00009839\\s005_2013_07_21\\00009839_s005_t016.edf' [RECORDING] ALL WINDOWS DONE! FILE DONE!...\n",
      "\n",
      "FILE NAME: E:\\hy\\Datasets\\TUSZ\\edf\\dev\\01_tcp_ar\\098\\00009839\\s005_2013_07_21\\00009839_s005_t017.edf\n",
      "Extracting EDF parameters from E:\\hy\\Datasets\\TUSZ\\edf\\dev\\01_tcp_ar\\098\\00009839\\s005_2013_07_21\\00009839_s005_t017.edf...\n",
      "EDF file detected\n",
      "Setting channel info structure...\n",
      "Creating raw.info structure...\n",
      "Reading 0 ... 154623  =      0.000 ...   603.996 secs...\n",
      "NOTE: pick_channels() is a legacy function. New code should use inst.pick(...).\n"
     ]
    },
    {
     "name": "stderr",
     "output_type": "stream",
     "text": [
      "Processing Files:  35%|████████████████████▊                                       | 124/357 [28:32<1:00:54, 15.69s/it]"
     ]
    },
    {
     "name": "stdout",
     "output_type": "stream",
     "text": [
      "\n",
      "file: 'E:\\hy\\Datasets\\TUSZ\\edf\\dev\\01_tcp_ar\\098\\00009839\\s005_2013_07_21\\00009839_s005_t017.edf' [RECORDING] ALL WINDOWS DONE! FILE DONE!...\n",
      "\n",
      "FILE NAME: E:\\hy\\Datasets\\TUSZ\\edf\\dev\\01_tcp_ar\\098\\00009839\\s005_2013_07_21\\00009839_s005_t018.edf\n",
      "Extracting EDF parameters from E:\\hy\\Datasets\\TUSZ\\edf\\dev\\01_tcp_ar\\098\\00009839\\s005_2013_07_21\\00009839_s005_t018.edf...\n",
      "EDF file detected\n",
      "Setting channel info structure...\n",
      "Creating raw.info structure...\n",
      "Reading 0 ... 154367  =      0.000 ...   602.996 secs...\n",
      "NOTE: pick_channels() is a legacy function. New code should use inst.pick(...).\n"
     ]
    },
    {
     "name": "stderr",
     "output_type": "stream",
     "text": [
      "Processing Files:  35%|█████████████████████                                       | 125/357 [28:48<1:01:26, 15.89s/it]"
     ]
    },
    {
     "name": "stdout",
     "output_type": "stream",
     "text": [
      "\n",
      "file: 'E:\\hy\\Datasets\\TUSZ\\edf\\dev\\01_tcp_ar\\098\\00009839\\s005_2013_07_21\\00009839_s005_t018.edf' [RECORDING] ALL WINDOWS DONE! FILE DONE!...\n",
      "\n",
      "FILE NAME: E:\\hy\\Datasets\\TUSZ\\edf\\dev\\01_tcp_ar\\098\\00009839\\s005_2013_07_21\\00009839_s005_t019.edf\n",
      "Extracting EDF parameters from E:\\hy\\Datasets\\TUSZ\\edf\\dev\\01_tcp_ar\\098\\00009839\\s005_2013_07_21\\00009839_s005_t019.edf...\n",
      "EDF file detected\n",
      "Setting channel info structure...\n",
      "Creating raw.info structure...\n",
      "Reading 0 ... 154623  =      0.000 ...   603.996 secs...\n",
      "NOTE: pick_channels() is a legacy function. New code should use inst.pick(...).\n"
     ]
    },
    {
     "name": "stderr",
     "output_type": "stream",
     "text": [
      "Processing Files:  35%|█████████████████████▏                                      | 126/357 [29:04<1:01:16, 15.91s/it]"
     ]
    },
    {
     "name": "stdout",
     "output_type": "stream",
     "text": [
      "\n",
      "file: 'E:\\hy\\Datasets\\TUSZ\\edf\\dev\\01_tcp_ar\\098\\00009839\\s005_2013_07_21\\00009839_s005_t019.edf' [RECORDING] ALL WINDOWS DONE! FILE DONE!...\n",
      "\n",
      "FILE NAME: E:\\hy\\Datasets\\TUSZ\\edf\\dev\\01_tcp_ar\\098\\00009839\\s005_2013_07_21\\00009839_s005_t020.edf\n",
      "Extracting EDF parameters from E:\\hy\\Datasets\\TUSZ\\edf\\dev\\01_tcp_ar\\098\\00009839\\s005_2013_07_21\\00009839_s005_t020.edf...\n",
      "EDF file detected\n",
      "Setting channel info structure...\n",
      "Creating raw.info structure...\n",
      "Reading 0 ... 154111  =      0.000 ...   601.996 secs...\n",
      "NOTE: pick_channels() is a legacy function. New code should use inst.pick(...).\n"
     ]
    },
    {
     "name": "stderr",
     "output_type": "stream",
     "text": [
      "Processing Files:  36%|█████████████████████▎                                      | 127/357 [29:20<1:01:32, 16.06s/it]"
     ]
    },
    {
     "name": "stdout",
     "output_type": "stream",
     "text": [
      "\n",
      "file: 'E:\\hy\\Datasets\\TUSZ\\edf\\dev\\01_tcp_ar\\098\\00009839\\s005_2013_07_21\\00009839_s005_t020.edf' [RECORDING] ALL WINDOWS DONE! FILE DONE!...\n",
      "\n",
      "FILE NAME: E:\\hy\\Datasets\\TUSZ\\edf\\dev\\01_tcp_ar\\098\\00009839\\s005_2013_07_21\\00009839_s005_t021.edf\n",
      "Extracting EDF parameters from E:\\hy\\Datasets\\TUSZ\\edf\\dev\\01_tcp_ar\\098\\00009839\\s005_2013_07_21\\00009839_s005_t021.edf...\n",
      "EDF file detected\n",
      "Setting channel info structure...\n",
      "Creating raw.info structure...\n",
      "Reading 0 ... 200703  =      0.000 ...   783.996 secs...\n",
      "NOTE: pick_channels() is a legacy function. New code should use inst.pick(...).\n"
     ]
    },
    {
     "name": "stderr",
     "output_type": "stream",
     "text": [
      "Processing Files:  36%|█████████████████████▌                                      | 128/357 [29:41<1:06:46, 17.50s/it]"
     ]
    },
    {
     "name": "stdout",
     "output_type": "stream",
     "text": [
      "\n",
      "file: 'E:\\hy\\Datasets\\TUSZ\\edf\\dev\\01_tcp_ar\\098\\00009839\\s005_2013_07_21\\00009839_s005_t021.edf' [RECORDING] ALL WINDOWS DONE! FILE DONE!...\n",
      "\n",
      "FILE NAME: E:\\hy\\Datasets\\TUSZ\\edf\\dev\\01_tcp_ar\\098\\00009839\\s005_2013_07_21\\00009839_s005_t022.edf\n",
      "Extracting EDF parameters from E:\\hy\\Datasets\\TUSZ\\edf\\dev\\01_tcp_ar\\098\\00009839\\s005_2013_07_21\\00009839_s005_t022.edf...\n",
      "EDF file detected\n",
      "Setting channel info structure...\n",
      "Creating raw.info structure...\n",
      "Reading 0 ... 154623  =      0.000 ...   603.996 secs...\n",
      "NOTE: pick_channels() is a legacy function. New code should use inst.pick(...).\n"
     ]
    },
    {
     "name": "stderr",
     "output_type": "stream",
     "text": [
      "Processing Files:  36%|█████████████████████▋                                      | 129/357 [29:58<1:05:36, 17.27s/it]"
     ]
    },
    {
     "name": "stdout",
     "output_type": "stream",
     "text": [
      "\n",
      "file: 'E:\\hy\\Datasets\\TUSZ\\edf\\dev\\01_tcp_ar\\098\\00009839\\s005_2013_07_21\\00009839_s005_t022.edf' [RECORDING] ALL WINDOWS DONE! FILE DONE!...\n",
      "\n",
      "FILE NAME: E:\\hy\\Datasets\\TUSZ\\edf\\dev\\01_tcp_ar\\098\\00009839\\s005_2013_07_21\\00009839_s005_t023.edf\n",
      "Extracting EDF parameters from E:\\hy\\Datasets\\TUSZ\\edf\\dev\\01_tcp_ar\\098\\00009839\\s005_2013_07_21\\00009839_s005_t023.edf...\n",
      "EDF file detected\n",
      "Setting channel info structure...\n",
      "Creating raw.info structure...\n",
      "Reading 0 ... 154879  =      0.000 ...   604.996 secs...\n",
      "NOTE: pick_channels() is a legacy function. New code should use inst.pick(...).\n"
     ]
    },
    {
     "name": "stderr",
     "output_type": "stream",
     "text": [
      "Processing Files:  36%|█████████████████████▊                                      | 130/357 [30:14<1:03:30, 16.79s/it]"
     ]
    },
    {
     "name": "stdout",
     "output_type": "stream",
     "text": [
      "\n",
      "file: 'E:\\hy\\Datasets\\TUSZ\\edf\\dev\\01_tcp_ar\\098\\00009839\\s005_2013_07_21\\00009839_s005_t023.edf' [RECORDING] ALL WINDOWS DONE! FILE DONE!...\n",
      "\n",
      "FILE NAME: E:\\hy\\Datasets\\TUSZ\\edf\\dev\\01_tcp_ar\\098\\00009839\\s005_2013_07_21\\00009839_s005_t024.edf\n",
      "Extracting EDF parameters from E:\\hy\\Datasets\\TUSZ\\edf\\dev\\01_tcp_ar\\098\\00009839\\s005_2013_07_21\\00009839_s005_t024.edf...\n",
      "EDF file detected\n",
      "Setting channel info structure...\n",
      "Creating raw.info structure...\n",
      "Reading 0 ... 76799  =      0.000 ...   299.996 secs...\n",
      "NOTE: pick_channels() is a legacy function. New code should use inst.pick(...).\n"
     ]
    },
    {
     "name": "stderr",
     "output_type": "stream",
     "text": [
      "Processing Files:  37%|██████████████████████▊                                       | 131/357 [30:21<52:49, 14.03s/it]"
     ]
    },
    {
     "name": "stdout",
     "output_type": "stream",
     "text": [
      "\n",
      "file: 'E:\\hy\\Datasets\\TUSZ\\edf\\dev\\01_tcp_ar\\098\\00009839\\s005_2013_07_21\\00009839_s005_t024.edf' [RECORDING] ALL WINDOWS DONE! FILE DONE!...\n",
      "\n",
      "FILE NAME: E:\\hy\\Datasets\\TUSZ\\edf\\dev\\01_tcp_ar\\098\\00009839\\s005_2013_07_21\\00009839_s005_t025.edf\n",
      "Extracting EDF parameters from E:\\hy\\Datasets\\TUSZ\\edf\\dev\\01_tcp_ar\\098\\00009839\\s005_2013_07_21\\00009839_s005_t025.edf...\n",
      "EDF file detected\n",
      "Setting channel info structure...\n",
      "Creating raw.info structure...\n",
      "Reading 0 ... 154367  =      0.000 ...   602.996 secs...\n",
      "NOTE: pick_channels() is a legacy function. New code should use inst.pick(...).\n"
     ]
    },
    {
     "name": "stderr",
     "output_type": "stream",
     "text": [
      "Processing Files:  37%|██████████████████████▉                                       | 132/357 [30:38<55:08, 14.71s/it]"
     ]
    },
    {
     "name": "stdout",
     "output_type": "stream",
     "text": [
      "\n",
      "file: 'E:\\hy\\Datasets\\TUSZ\\edf\\dev\\01_tcp_ar\\098\\00009839\\s005_2013_07_21\\00009839_s005_t025.edf' [RECORDING] ALL WINDOWS DONE! FILE DONE!...\n",
      "\n",
      "FILE NAME: E:\\hy\\Datasets\\TUSZ\\edf\\dev\\01_tcp_ar\\098\\00009839\\s005_2013_07_21\\00009839_s005_t026.edf\n",
      "Extracting EDF parameters from E:\\hy\\Datasets\\TUSZ\\edf\\dev\\01_tcp_ar\\098\\00009839\\s005_2013_07_21\\00009839_s005_t026.edf...\n",
      "EDF file detected\n",
      "Setting channel info structure...\n",
      "Creating raw.info structure...\n",
      "Reading 0 ... 154879  =      0.000 ...   604.996 secs...\n",
      "NOTE: pick_channels() is a legacy function. New code should use inst.pick(...).\n"
     ]
    },
    {
     "name": "stderr",
     "output_type": "stream",
     "text": [
      "Processing Files:  37%|███████████████████████                                       | 133/357 [30:55<57:56, 15.52s/it]"
     ]
    },
    {
     "name": "stdout",
     "output_type": "stream",
     "text": [
      "\n",
      "file: 'E:\\hy\\Datasets\\TUSZ\\edf\\dev\\01_tcp_ar\\098\\00009839\\s005_2013_07_21\\00009839_s005_t026.edf' [RECORDING] ALL WINDOWS DONE! FILE DONE!...\n",
      "\n",
      "FILE NAME: E:\\hy\\Datasets\\TUSZ\\edf\\dev\\01_tcp_ar\\098\\00009839\\s005_2013_07_21\\00009839_s005_t027.edf\n",
      "Extracting EDF parameters from E:\\hy\\Datasets\\TUSZ\\edf\\dev\\01_tcp_ar\\098\\00009839\\s005_2013_07_21\\00009839_s005_t027.edf...\n",
      "EDF file detected\n",
      "Setting channel info structure...\n",
      "Creating raw.info structure...\n",
      "Reading 0 ... 154367  =      0.000 ...   602.996 secs...\n",
      "NOTE: pick_channels() is a legacy function. New code should use inst.pick(...).\n"
     ]
    },
    {
     "name": "stderr",
     "output_type": "stream",
     "text": [
      "Processing Files:  38%|███████████████████████▎                                      | 134/357 [31:12<59:04, 15.89s/it]"
     ]
    },
    {
     "name": "stdout",
     "output_type": "stream",
     "text": [
      "\n",
      "file: 'E:\\hy\\Datasets\\TUSZ\\edf\\dev\\01_tcp_ar\\098\\00009839\\s005_2013_07_21\\00009839_s005_t027.edf' [RECORDING] ALL WINDOWS DONE! FILE DONE!...\n",
      "\n",
      "FILE NAME: E:\\hy\\Datasets\\TUSZ\\edf\\dev\\01_tcp_ar\\098\\00009839\\s007_2013_07_22\\00009839_s007_t000.edf\n",
      "Extracting EDF parameters from E:\\hy\\Datasets\\TUSZ\\edf\\dev\\01_tcp_ar\\098\\00009839\\s007_2013_07_22\\00009839_s007_t000.edf...\n",
      "EDF file detected\n",
      "Setting channel info structure...\n",
      "Creating raw.info structure...\n",
      "Reading 0 ... 76799  =      0.000 ...   299.996 secs...\n",
      "NOTE: pick_channels() is a legacy function. New code should use inst.pick(...).\n"
     ]
    },
    {
     "name": "stderr",
     "output_type": "stream",
     "text": [
      "Processing Files:  38%|███████████████████████▍                                      | 135/357 [31:20<50:06, 13.54s/it]"
     ]
    },
    {
     "name": "stdout",
     "output_type": "stream",
     "text": [
      "\n",
      "file: 'E:\\hy\\Datasets\\TUSZ\\edf\\dev\\01_tcp_ar\\098\\00009839\\s007_2013_07_22\\00009839_s007_t000.edf' [RECORDING] ALL WINDOWS DONE! FILE DONE!...\n",
      "\n",
      "FILE NAME: E:\\hy\\Datasets\\TUSZ\\edf\\dev\\01_tcp_ar\\098\\00009839\\s007_2013_07_22\\00009839_s007_t001.edf\n",
      "Extracting EDF parameters from E:\\hy\\Datasets\\TUSZ\\edf\\dev\\01_tcp_ar\\098\\00009839\\s007_2013_07_22\\00009839_s007_t001.edf...\n",
      "EDF file detected\n",
      "Setting channel info structure...\n",
      "Creating raw.info structure...\n",
      "Reading 0 ... 181759  =      0.000 ...   709.996 secs...\n",
      "NOTE: pick_channels() is a legacy function. New code should use inst.pick(...).\n"
     ]
    },
    {
     "name": "stderr",
     "output_type": "stream",
     "text": [
      "Processing Files:  38%|███████████████████████▌                                      | 136/357 [31:40<56:49, 15.43s/it]"
     ]
    },
    {
     "name": "stdout",
     "output_type": "stream",
     "text": [
      "\n",
      "file: 'E:\\hy\\Datasets\\TUSZ\\edf\\dev\\01_tcp_ar\\098\\00009839\\s007_2013_07_22\\00009839_s007_t001.edf' [RECORDING] ALL WINDOWS DONE! FILE DONE!...\n",
      "\n",
      "FILE NAME: E:\\hy\\Datasets\\TUSZ\\edf\\dev\\01_tcp_ar\\098\\00009839\\s007_2013_07_22\\00009839_s007_t002.edf\n",
      "Extracting EDF parameters from E:\\hy\\Datasets\\TUSZ\\edf\\dev\\01_tcp_ar\\098\\00009839\\s007_2013_07_22\\00009839_s007_t002.edf...\n",
      "EDF file detected\n",
      "Setting channel info structure...\n",
      "Creating raw.info structure...\n",
      "Reading 0 ... 175871  =      0.000 ...   686.996 secs...\n",
      "NOTE: pick_channels() is a legacy function. New code should use inst.pick(...).\n"
     ]
    },
    {
     "name": "stderr",
     "output_type": "stream",
     "text": [
      "Processing Files:  39%|███████████████████████▉                                      | 138/357 [31:59<46:39, 12.78s/it]"
     ]
    },
    {
     "name": "stdout",
     "output_type": "stream",
     "text": [
      "\n",
      "file: 'E:\\hy\\Datasets\\TUSZ\\edf\\dev\\01_tcp_ar\\098\\00009839\\s007_2013_07_22\\00009839_s007_t002.edf' [RECORDING] ALL WINDOWS DONE! FILE DONE!...\n",
      "\n",
      "FILE NAME: E:\\hy\\Datasets\\TUSZ\\edf\\dev\\01_tcp_ar\\098\\00009839\\s007_2013_07_22\\00009839_s007_t003.edf\n",
      "Extracting EDF parameters from E:\\hy\\Datasets\\TUSZ\\edf\\dev\\01_tcp_ar\\098\\00009839\\s007_2013_07_22\\00009839_s007_t003.edf...\n",
      "EDF file detected\n",
      "Setting channel info structure...\n",
      "Creating raw.info structure...\n",
      "Reading 0 ... 187391  =      0.000 ...   731.996 secs...\n",
      "NOTE: pick_channels() is a legacy function. New code should use inst.pick(...).\n"
     ]
    },
    {
     "name": "stderr",
     "output_type": "stream",
     "text": [
      "Processing Files:  39%|████████████████████████▏                                     | 139/357 [32:19<53:16, 14.66s/it]"
     ]
    },
    {
     "name": "stdout",
     "output_type": "stream",
     "text": [
      "\n",
      "file: 'E:\\hy\\Datasets\\TUSZ\\edf\\dev\\01_tcp_ar\\098\\00009839\\s007_2013_07_22\\00009839_s007_t003.edf' [RECORDING] ALL WINDOWS DONE! FILE DONE!...\n",
      "\n",
      "FILE NAME: E:\\hy\\Datasets\\TUSZ\\edf\\dev\\01_tcp_ar\\098\\00009839\\s007_2013_07_22\\00009839_s007_t004.edf\n",
      "Extracting EDF parameters from E:\\hy\\Datasets\\TUSZ\\edf\\dev\\01_tcp_ar\\098\\00009839\\s007_2013_07_22\\00009839_s007_t004.edf...\n",
      "EDF file detected\n",
      "Setting channel info structure...\n",
      "Creating raw.info structure...\n",
      "Reading 0 ... 182015  =      0.000 ...   710.996 secs...\n",
      "NOTE: pick_channels() is a legacy function. New code should use inst.pick(...).\n"
     ]
    },
    {
     "name": "stderr",
     "output_type": "stream",
     "text": [
      "Processing Files:  39%|████████████████████████▎                                     | 140/357 [32:39<57:55, 16.02s/it]"
     ]
    },
    {
     "name": "stdout",
     "output_type": "stream",
     "text": [
      "\n",
      "file: 'E:\\hy\\Datasets\\TUSZ\\edf\\dev\\01_tcp_ar\\098\\00009839\\s007_2013_07_22\\00009839_s007_t004.edf' [RECORDING] ALL WINDOWS DONE! FILE DONE!...\n",
      "\n",
      "FILE NAME: E:\\hy\\Datasets\\TUSZ\\edf\\dev\\01_tcp_ar\\098\\00009839\\s007_2013_07_22\\00009839_s007_t005.edf\n",
      "Extracting EDF parameters from E:\\hy\\Datasets\\TUSZ\\edf\\dev\\01_tcp_ar\\098\\00009839\\s007_2013_07_22\\00009839_s007_t005.edf...\n",
      "EDF file detected\n",
      "Setting channel info structure...\n",
      "Creating raw.info structure...\n",
      "Reading 0 ... 76799  =      0.000 ...   299.996 secs...\n",
      "NOTE: pick_channels() is a legacy function. New code should use inst.pick(...).\n"
     ]
    },
    {
     "name": "stderr",
     "output_type": "stream",
     "text": [
      "Processing Files:  39%|████████████████████████▍                                     | 141/357 [32:47<49:59, 13.88s/it]"
     ]
    },
    {
     "name": "stdout",
     "output_type": "stream",
     "text": [
      "\n",
      "file: 'E:\\hy\\Datasets\\TUSZ\\edf\\dev\\01_tcp_ar\\098\\00009839\\s007_2013_07_22\\00009839_s007_t005.edf' [RECORDING] ALL WINDOWS DONE! FILE DONE!...\n",
      "\n",
      "FILE NAME: E:\\hy\\Datasets\\TUSZ\\edf\\dev\\01_tcp_ar\\098\\00009839\\s007_2013_07_22\\00009839_s007_t006.edf\n",
      "Extracting EDF parameters from E:\\hy\\Datasets\\TUSZ\\edf\\dev\\01_tcp_ar\\098\\00009839\\s007_2013_07_22\\00009839_s007_t006.edf...\n",
      "EDF file detected\n",
      "Setting channel info structure...\n",
      "Creating raw.info structure...\n",
      "Reading 0 ... 153855  =      0.000 ...   600.996 secs...\n",
      "NOTE: pick_channels() is a legacy function. New code should use inst.pick(...).\n"
     ]
    },
    {
     "name": "stderr",
     "output_type": "stream",
     "text": [
      "Processing Files:  40%|████████████████████████▋                                     | 142/357 [33:05<53:21, 14.89s/it]"
     ]
    },
    {
     "name": "stdout",
     "output_type": "stream",
     "text": [
      "\n",
      "file: 'E:\\hy\\Datasets\\TUSZ\\edf\\dev\\01_tcp_ar\\098\\00009839\\s007_2013_07_22\\00009839_s007_t006.edf' [RECORDING] ALL WINDOWS DONE! FILE DONE!...\n",
      "\n",
      "FILE NAME: E:\\hy\\Datasets\\TUSZ\\edf\\dev\\01_tcp_ar\\098\\00009839\\s007_2013_07_22\\00009839_s007_t007.edf\n",
      "Extracting EDF parameters from E:\\hy\\Datasets\\TUSZ\\edf\\dev\\01_tcp_ar\\098\\00009839\\s007_2013_07_22\\00009839_s007_t007.edf...\n",
      "EDF file detected\n",
      "Setting channel info structure...\n",
      "Creating raw.info structure...\n",
      "Reading 0 ... 188927  =      0.000 ...   737.996 secs...\n",
      "NOTE: pick_channels() is a legacy function. New code should use inst.pick(...).\n"
     ]
    },
    {
     "name": "stderr",
     "output_type": "stream",
     "text": [
      "Processing Files:  40%|████████████████████████▊                                     | 143/357 [33:25<58:43, 16.46s/it]"
     ]
    },
    {
     "name": "stdout",
     "output_type": "stream",
     "text": [
      "\n",
      "file: 'E:\\hy\\Datasets\\TUSZ\\edf\\dev\\01_tcp_ar\\098\\00009839\\s007_2013_07_22\\00009839_s007_t007.edf' [RECORDING] ALL WINDOWS DONE! FILE DONE!...\n",
      "\n",
      "FILE NAME: E:\\hy\\Datasets\\TUSZ\\edf\\dev\\01_tcp_ar\\098\\00009839\\s007_2013_07_22\\00009839_s007_t009.edf\n",
      "Extracting EDF parameters from E:\\hy\\Datasets\\TUSZ\\edf\\dev\\01_tcp_ar\\098\\00009839\\s007_2013_07_22\\00009839_s007_t009.edf...\n",
      "EDF file detected\n",
      "Setting channel info structure...\n",
      "Creating raw.info structure...\n",
      "Reading 0 ... 76799  =      0.000 ...   299.996 secs...\n",
      "NOTE: pick_channels() is a legacy function. New code should use inst.pick(...).\n"
     ]
    },
    {
     "name": "stderr",
     "output_type": "stream",
     "text": [
      "Processing Files:  40%|█████████████████████████                                     | 144/357 [33:34<50:00, 14.09s/it]"
     ]
    },
    {
     "name": "stdout",
     "output_type": "stream",
     "text": [
      "\n",
      "file: 'E:\\hy\\Datasets\\TUSZ\\edf\\dev\\01_tcp_ar\\098\\00009839\\s007_2013_07_22\\00009839_s007_t009.edf' [RECORDING] ALL WINDOWS DONE! FILE DONE!...\n",
      "\n",
      "FILE NAME: E:\\hy\\Datasets\\TUSZ\\edf\\dev\\01_tcp_ar\\098\\00009839\\s007_2013_07_22\\00009839_s007_t010.edf\n",
      "Extracting EDF parameters from E:\\hy\\Datasets\\TUSZ\\edf\\dev\\01_tcp_ar\\098\\00009839\\s007_2013_07_22\\00009839_s007_t010.edf...\n",
      "EDF file detected\n",
      "Setting channel info structure...\n",
      "Creating raw.info structure...\n",
      "Reading 0 ... 187391  =      0.000 ...   731.996 secs...\n",
      "NOTE: pick_channels() is a legacy function. New code should use inst.pick(...).\n"
     ]
    },
    {
     "name": "stderr",
     "output_type": "stream",
     "text": [
      "Processing Files:  41%|█████████████████████████▏                                    | 145/357 [33:54<56:22, 15.96s/it]"
     ]
    },
    {
     "name": "stdout",
     "output_type": "stream",
     "text": [
      "\n",
      "file: 'E:\\hy\\Datasets\\TUSZ\\edf\\dev\\01_tcp_ar\\098\\00009839\\s007_2013_07_22\\00009839_s007_t010.edf' [RECORDING] ALL WINDOWS DONE! FILE DONE!...\n",
      "\n",
      "FILE NAME: E:\\hy\\Datasets\\TUSZ\\edf\\dev\\01_tcp_ar\\098\\00009839\\s007_2013_07_22\\00009839_s007_t011.edf\n",
      "Extracting EDF parameters from E:\\hy\\Datasets\\TUSZ\\edf\\dev\\01_tcp_ar\\098\\00009839\\s007_2013_07_22\\00009839_s007_t011.edf...\n",
      "EDF file detected\n",
      "Setting channel info structure...\n",
      "Creating raw.info structure...\n",
      "Reading 0 ... 76799  =      0.000 ...   299.996 secs...\n",
      "NOTE: pick_channels() is a legacy function. New code should use inst.pick(...).\n"
     ]
    },
    {
     "name": "stderr",
     "output_type": "stream",
     "text": [
      "Processing Files:  41%|█████████████████████████▎                                    | 146/357 [34:02<48:06, 13.68s/it]"
     ]
    },
    {
     "name": "stdout",
     "output_type": "stream",
     "text": [
      "\n",
      "file: 'E:\\hy\\Datasets\\TUSZ\\edf\\dev\\01_tcp_ar\\098\\00009839\\s007_2013_07_22\\00009839_s007_t011.edf' [RECORDING] ALL WINDOWS DONE! FILE DONE!...\n",
      "\n",
      "FILE NAME: E:\\hy\\Datasets\\TUSZ\\edf\\dev\\01_tcp_ar\\098\\00009839\\s007_2013_07_22\\00009839_s007_t012.edf\n",
      "Extracting EDF parameters from E:\\hy\\Datasets\\TUSZ\\edf\\dev\\01_tcp_ar\\098\\00009839\\s007_2013_07_22\\00009839_s007_t012.edf...\n",
      "EDF file detected\n",
      "Setting channel info structure...\n",
      "Creating raw.info structure...\n",
      "Reading 0 ... 153855  =      0.000 ...   600.996 secs...\n",
      "NOTE: pick_channels() is a legacy function. New code should use inst.pick(...).\n"
     ]
    },
    {
     "name": "stderr",
     "output_type": "stream",
     "text": [
      "Processing Files:  41%|█████████████████████████▌                                    | 147/357 [34:19<50:52, 14.54s/it]"
     ]
    },
    {
     "name": "stdout",
     "output_type": "stream",
     "text": [
      "\n",
      "file: 'E:\\hy\\Datasets\\TUSZ\\edf\\dev\\01_tcp_ar\\098\\00009839\\s007_2013_07_22\\00009839_s007_t012.edf' [RECORDING] ALL WINDOWS DONE! FILE DONE!...\n",
      "\n",
      "FILE NAME: E:\\hy\\Datasets\\TUSZ\\edf\\dev\\01_tcp_ar\\098\\00009839\\s007_2013_07_22\\00009839_s007_t013.edf\n",
      "Extracting EDF parameters from E:\\hy\\Datasets\\TUSZ\\edf\\dev\\01_tcp_ar\\098\\00009839\\s007_2013_07_22\\00009839_s007_t013.edf...\n",
      "EDF file detected\n",
      "Setting channel info structure...\n",
      "Creating raw.info structure...\n",
      "Reading 0 ... 76799  =      0.000 ...   299.996 secs...\n",
      "NOTE: pick_channels() is a legacy function. New code should use inst.pick(...).\n"
     ]
    },
    {
     "name": "stderr",
     "output_type": "stream",
     "text": [
      "Processing Files:  41%|█████████████████████████▋                                    | 148/357 [34:27<43:57, 12.62s/it]"
     ]
    },
    {
     "name": "stdout",
     "output_type": "stream",
     "text": [
      "\n",
      "file: 'E:\\hy\\Datasets\\TUSZ\\edf\\dev\\01_tcp_ar\\098\\00009839\\s007_2013_07_22\\00009839_s007_t013.edf' [RECORDING] ALL WINDOWS DONE! FILE DONE!...\n",
      "\n",
      "FILE NAME: E:\\hy\\Datasets\\TUSZ\\edf\\dev\\01_tcp_ar\\098\\00009839\\s007_2013_07_22\\00009839_s007_t014.edf\n",
      "Extracting EDF parameters from E:\\hy\\Datasets\\TUSZ\\edf\\dev\\01_tcp_ar\\098\\00009839\\s007_2013_07_22\\00009839_s007_t014.edf...\n",
      "EDF file detected\n",
      "Setting channel info structure...\n",
      "Creating raw.info structure...\n",
      "Reading 0 ... 153855  =      0.000 ...   600.996 secs...\n",
      "NOTE: pick_channels() is a legacy function. New code should use inst.pick(...).\n"
     ]
    },
    {
     "name": "stderr",
     "output_type": "stream",
     "text": [
      "Processing Files:  42%|█████████████████████████▉                                    | 149/357 [34:43<47:14, 13.63s/it]"
     ]
    },
    {
     "name": "stdout",
     "output_type": "stream",
     "text": [
      "\n",
      "file: 'E:\\hy\\Datasets\\TUSZ\\edf\\dev\\01_tcp_ar\\098\\00009839\\s007_2013_07_22\\00009839_s007_t014.edf' [RECORDING] ALL WINDOWS DONE! FILE DONE!...\n",
      "\n",
      "FILE NAME: E:\\hy\\Datasets\\TUSZ\\edf\\dev\\01_tcp_ar\\098\\00009839\\s008_2013_07_23\\00009839_s008_t000.edf\n",
      "Extracting EDF parameters from E:\\hy\\Datasets\\TUSZ\\edf\\dev\\01_tcp_ar\\098\\00009839\\s008_2013_07_23\\00009839_s008_t000.edf...\n",
      "EDF file detected\n",
      "Setting channel info structure...\n",
      "Creating raw.info structure...\n",
      "Reading 0 ... 154111  =      0.000 ...   601.996 secs...\n",
      "NOTE: pick_channels() is a legacy function. New code should use inst.pick(...).\n"
     ]
    },
    {
     "name": "stderr",
     "output_type": "stream",
     "text": [
      "Processing Files:  42%|██████████████████████████                                    | 150/357 [34:59<49:22, 14.31s/it]"
     ]
    },
    {
     "name": "stdout",
     "output_type": "stream",
     "text": [
      "\n",
      "file: 'E:\\hy\\Datasets\\TUSZ\\edf\\dev\\01_tcp_ar\\098\\00009839\\s008_2013_07_23\\00009839_s008_t000.edf' [RECORDING] ALL WINDOWS DONE! FILE DONE!...\n",
      "\n",
      "FILE NAME: E:\\hy\\Datasets\\TUSZ\\edf\\dev\\01_tcp_ar\\098\\00009839\\s008_2013_07_23\\00009839_s008_t001.edf\n",
      "Extracting EDF parameters from E:\\hy\\Datasets\\TUSZ\\edf\\dev\\01_tcp_ar\\098\\00009839\\s008_2013_07_23\\00009839_s008_t001.edf...\n",
      "EDF file detected\n",
      "Setting channel info structure...\n",
      "Creating raw.info structure...\n",
      "Reading 0 ... 153855  =      0.000 ...   600.996 secs...\n",
      "NOTE: pick_channels() is a legacy function. New code should use inst.pick(...).\n"
     ]
    },
    {
     "name": "stderr",
     "output_type": "stream",
     "text": [
      "Processing Files:  42%|██████████████████████████▏                                   | 151/357 [35:14<50:29, 14.71s/it]"
     ]
    },
    {
     "name": "stdout",
     "output_type": "stream",
     "text": [
      "\n",
      "file: 'E:\\hy\\Datasets\\TUSZ\\edf\\dev\\01_tcp_ar\\098\\00009839\\s008_2013_07_23\\00009839_s008_t001.edf' [RECORDING] ALL WINDOWS DONE! FILE DONE!...\n",
      "\n",
      "FILE NAME: E:\\hy\\Datasets\\TUSZ\\edf\\dev\\01_tcp_ar\\098\\00009839\\s008_2013_07_23\\00009839_s008_t002.edf\n",
      "Extracting EDF parameters from E:\\hy\\Datasets\\TUSZ\\edf\\dev\\01_tcp_ar\\098\\00009839\\s008_2013_07_23\\00009839_s008_t002.edf...\n",
      "EDF file detected\n",
      "Setting channel info structure...\n",
      "Creating raw.info structure...\n",
      "Reading 0 ... 76799  =      0.000 ...   299.996 secs...\n",
      "NOTE: pick_channels() is a legacy function. New code should use inst.pick(...).\n"
     ]
    },
    {
     "name": "stderr",
     "output_type": "stream",
     "text": [
      "Processing Files:  43%|██████████████████████████▍                                   | 152/357 [35:22<42:45, 12.51s/it]"
     ]
    },
    {
     "name": "stdout",
     "output_type": "stream",
     "text": [
      "\n",
      "file: 'E:\\hy\\Datasets\\TUSZ\\edf\\dev\\01_tcp_ar\\098\\00009839\\s008_2013_07_23\\00009839_s008_t002.edf' [RECORDING] ALL WINDOWS DONE! FILE DONE!...\n",
      "\n",
      "FILE NAME: E:\\hy\\Datasets\\TUSZ\\edf\\dev\\01_tcp_ar\\098\\00009839\\s008_2013_07_23\\00009839_s008_t003.edf\n",
      "Extracting EDF parameters from E:\\hy\\Datasets\\TUSZ\\edf\\dev\\01_tcp_ar\\098\\00009839\\s008_2013_07_23\\00009839_s008_t003.edf...\n",
      "EDF file detected\n",
      "Setting channel info structure...\n",
      "Creating raw.info structure...\n",
      "Reading 0 ... 76799  =      0.000 ...   299.996 secs...\n",
      "NOTE: pick_channels() is a legacy function. New code should use inst.pick(...).\n"
     ]
    },
    {
     "name": "stderr",
     "output_type": "stream",
     "text": [
      "Processing Files:  43%|██████████████████████████▌                                   | 153/357 [35:30<37:37, 11.07s/it]"
     ]
    },
    {
     "name": "stdout",
     "output_type": "stream",
     "text": [
      "\n",
      "file: 'E:\\hy\\Datasets\\TUSZ\\edf\\dev\\01_tcp_ar\\098\\00009839\\s008_2013_07_23\\00009839_s008_t003.edf' [RECORDING] ALL WINDOWS DONE! FILE DONE!...\n",
      "\n",
      "FILE NAME: E:\\hy\\Datasets\\TUSZ\\edf\\dev\\01_tcp_ar\\098\\00009839\\s008_2013_07_23\\00009839_s008_t004.edf\n",
      "Extracting EDF parameters from E:\\hy\\Datasets\\TUSZ\\edf\\dev\\01_tcp_ar\\098\\00009839\\s008_2013_07_23\\00009839_s008_t004.edf...\n",
      "EDF file detected\n",
      "Setting channel info structure...\n",
      "Creating raw.info structure...\n",
      "Reading 0 ... 153855  =      0.000 ...   600.996 secs...\n",
      "NOTE: pick_channels() is a legacy function. New code should use inst.pick(...).\n"
     ]
    },
    {
     "name": "stderr",
     "output_type": "stream",
     "text": [
      "Processing Files:  43%|██████████████████████████▉                                   | 155/357 [35:45<32:12,  9.57s/it]"
     ]
    },
    {
     "name": "stdout",
     "output_type": "stream",
     "text": [
      "\n",
      "file: 'E:\\hy\\Datasets\\TUSZ\\edf\\dev\\01_tcp_ar\\098\\00009839\\s008_2013_07_23\\00009839_s008_t004.edf' [RECORDING] ALL WINDOWS DONE! FILE DONE!...\n",
      "\n",
      "FILE NAME: E:\\hy\\Datasets\\TUSZ\\edf\\dev\\01_tcp_ar\\098\\00009839\\s008_2013_07_23\\00009839_s008_t005.edf\n",
      "Extracting EDF parameters from E:\\hy\\Datasets\\TUSZ\\edf\\dev\\01_tcp_ar\\098\\00009839\\s008_2013_07_23\\00009839_s008_t005.edf...\n",
      "EDF file detected\n",
      "Setting channel info structure...\n",
      "Creating raw.info structure...\n",
      "Reading 0 ... 76799  =      0.000 ...   299.996 secs...\n",
      "NOTE: pick_channels() is a legacy function. New code should use inst.pick(...).\n"
     ]
    },
    {
     "name": "stderr",
     "output_type": "stream",
     "text": [
      "Processing Files:  44%|███████████████████████████                                   | 156/357 [35:53<30:33,  9.12s/it]"
     ]
    },
    {
     "name": "stdout",
     "output_type": "stream",
     "text": [
      "\n",
      "file: 'E:\\hy\\Datasets\\TUSZ\\edf\\dev\\01_tcp_ar\\098\\00009839\\s008_2013_07_23\\00009839_s008_t005.edf' [RECORDING] ALL WINDOWS DONE! FILE DONE!...\n",
      "\n",
      "FILE NAME: E:\\hy\\Datasets\\TUSZ\\edf\\dev\\01_tcp_ar\\098\\00009839\\s008_2013_07_23\\00009839_s008_t006.edf\n",
      "Extracting EDF parameters from E:\\hy\\Datasets\\TUSZ\\edf\\dev\\01_tcp_ar\\098\\00009839\\s008_2013_07_23\\00009839_s008_t006.edf...\n",
      "EDF file detected\n",
      "Setting channel info structure...\n",
      "Creating raw.info structure...\n",
      "Reading 0 ... 153855  =      0.000 ...   600.996 secs...\n",
      "NOTE: pick_channels() is a legacy function. New code should use inst.pick(...).\n"
     ]
    },
    {
     "name": "stderr",
     "output_type": "stream",
     "text": [
      "Processing Files:  44%|███████████████████████████▎                                  | 157/357 [36:09<36:03, 10.82s/it]"
     ]
    },
    {
     "name": "stdout",
     "output_type": "stream",
     "text": [
      "\n",
      "file: 'E:\\hy\\Datasets\\TUSZ\\edf\\dev\\01_tcp_ar\\098\\00009839\\s008_2013_07_23\\00009839_s008_t006.edf' [RECORDING] ALL WINDOWS DONE! FILE DONE!...\n",
      "\n",
      "FILE NAME: E:\\hy\\Datasets\\TUSZ\\edf\\dev\\01_tcp_ar\\098\\00009839\\s008_2013_07_23\\00009839_s008_t007.edf\n",
      "Extracting EDF parameters from E:\\hy\\Datasets\\TUSZ\\edf\\dev\\01_tcp_ar\\098\\00009839\\s008_2013_07_23\\00009839_s008_t007.edf...\n",
      "EDF file detected\n",
      "Setting channel info structure...\n",
      "Creating raw.info structure...\n",
      "Reading 0 ... 76799  =      0.000 ...   299.996 secs...\n",
      "NOTE: pick_channels() is a legacy function. New code should use inst.pick(...).\n"
     ]
    },
    {
     "name": "stderr",
     "output_type": "stream",
     "text": [
      "Processing Files:  44%|███████████████████████████▍                                  | 158/357 [36:16<32:58,  9.94s/it]"
     ]
    },
    {
     "name": "stdout",
     "output_type": "stream",
     "text": [
      "\n",
      "file: 'E:\\hy\\Datasets\\TUSZ\\edf\\dev\\01_tcp_ar\\098\\00009839\\s008_2013_07_23\\00009839_s008_t007.edf' [RECORDING] ALL WINDOWS DONE! FILE DONE!...\n",
      "\n",
      "FILE NAME: E:\\hy\\Datasets\\TUSZ\\edf\\dev\\01_tcp_ar\\098\\00009839\\s008_2013_07_23\\00009839_s008_t008.edf\n",
      "Extracting EDF parameters from E:\\hy\\Datasets\\TUSZ\\edf\\dev\\01_tcp_ar\\098\\00009839\\s008_2013_07_23\\00009839_s008_t008.edf...\n",
      "EDF file detected\n",
      "Setting channel info structure...\n",
      "Creating raw.info structure...\n",
      "Reading 0 ... 153855  =      0.000 ...   600.996 secs...\n",
      "NOTE: pick_channels() is a legacy function. New code should use inst.pick(...).\n"
     ]
    },
    {
     "name": "stderr",
     "output_type": "stream",
     "text": [
      "Processing Files:  45%|███████████████████████████▌                                  | 159/357 [36:32<38:34, 11.69s/it]"
     ]
    },
    {
     "name": "stdout",
     "output_type": "stream",
     "text": [
      "\n",
      "file: 'E:\\hy\\Datasets\\TUSZ\\edf\\dev\\01_tcp_ar\\098\\00009839\\s008_2013_07_23\\00009839_s008_t008.edf' [RECORDING] ALL WINDOWS DONE! FILE DONE!...\n",
      "\n",
      "FILE NAME: E:\\hy\\Datasets\\TUSZ\\edf\\dev\\01_tcp_ar\\098\\00009839\\s009_2013_07_24\\00009839_s009_t000.edf\n",
      "Extracting EDF parameters from E:\\hy\\Datasets\\TUSZ\\edf\\dev\\01_tcp_ar\\098\\00009839\\s009_2013_07_24\\00009839_s009_t000.edf...\n",
      "EDF file detected\n",
      "Setting channel info structure...\n",
      "Creating raw.info structure...\n",
      "Reading 0 ... 38911  =      0.000 ...   151.996 secs...\n",
      "NOTE: pick_channels() is a legacy function. New code should use inst.pick(...).\n"
     ]
    },
    {
     "name": "stderr",
     "output_type": "stream",
     "text": [
      "Processing Files:  45%|███████████████████████████▊                                  | 160/357 [36:36<31:01,  9.45s/it]"
     ]
    },
    {
     "name": "stdout",
     "output_type": "stream",
     "text": [
      "\n",
      "file: 'E:\\hy\\Datasets\\TUSZ\\edf\\dev\\01_tcp_ar\\098\\00009839\\s009_2013_07_24\\00009839_s009_t000.edf' [RECORDING] ALL WINDOWS DONE! FILE DONE!...\n",
      "\n",
      "FILE NAME: E:\\hy\\Datasets\\TUSZ\\edf\\dev\\01_tcp_ar\\098\\00009839\\s010_2013_07_24\\00009839_s010_t000.edf\n",
      "Extracting EDF parameters from E:\\hy\\Datasets\\TUSZ\\edf\\dev\\01_tcp_ar\\098\\00009839\\s010_2013_07_24\\00009839_s010_t000.edf...\n",
      "EDF file detected\n",
      "Setting channel info structure...\n",
      "Creating raw.info structure...\n",
      "Reading 0 ... 40959  =      0.000 ...   159.996 secs...\n",
      "NOTE: pick_channels() is a legacy function. New code should use inst.pick(...).\n"
     ]
    },
    {
     "name": "stderr",
     "output_type": "stream",
     "text": [
      "Processing Files:  45%|███████████████████████████▉                                  | 161/357 [36:41<26:09,  8.01s/it]"
     ]
    },
    {
     "name": "stdout",
     "output_type": "stream",
     "text": [
      "\n",
      "file: 'E:\\hy\\Datasets\\TUSZ\\edf\\dev\\01_tcp_ar\\098\\00009839\\s010_2013_07_24\\00009839_s010_t000.edf' [RECORDING] ALL WINDOWS DONE! FILE DONE!...\n",
      "\n",
      "FILE NAME: E:\\hy\\Datasets\\TUSZ\\edf\\dev\\01_tcp_ar\\098\\00009839\\s011_2013_07_24\\00009839_s011_t001.edf\n",
      "Extracting EDF parameters from E:\\hy\\Datasets\\TUSZ\\edf\\dev\\01_tcp_ar\\098\\00009839\\s011_2013_07_24\\00009839_s011_t001.edf...\n",
      "EDF file detected\n",
      "Setting channel info structure...\n",
      "Creating raw.info structure...\n",
      "Reading 0 ... 75519  =      0.000 ...   294.996 secs...\n",
      "NOTE: pick_channels() is a legacy function. New code should use inst.pick(...).\n"
     ]
    },
    {
     "name": "stderr",
     "output_type": "stream",
     "text": [
      "Processing Files:  45%|████████████████████████████▏                                 | 162/357 [36:49<25:57,  7.99s/it]"
     ]
    },
    {
     "name": "stdout",
     "output_type": "stream",
     "text": [
      "\n",
      "file: 'E:\\hy\\Datasets\\TUSZ\\edf\\dev\\01_tcp_ar\\098\\00009839\\s011_2013_07_24\\00009839_s011_t001.edf' [RECORDING] ALL WINDOWS DONE! FILE DONE!...\n",
      "\n",
      "FILE NAME: E:\\hy\\Datasets\\TUSZ\\edf\\dev\\01_tcp_ar\\098\\00009839\\s011_2013_07_24\\00009839_s011_t002.edf\n",
      "Extracting EDF parameters from E:\\hy\\Datasets\\TUSZ\\edf\\dev\\01_tcp_ar\\098\\00009839\\s011_2013_07_24\\00009839_s011_t002.edf...\n",
      "EDF file detected\n",
      "Setting channel info structure...\n",
      "Creating raw.info structure...\n",
      "Reading 0 ... 153855  =      0.000 ...   600.996 secs...\n",
      "NOTE: pick_channels() is a legacy function. New code should use inst.pick(...).\n"
     ]
    },
    {
     "name": "stderr",
     "output_type": "stream",
     "text": [
      "Processing Files:  46%|████████████████████████████▎                                 | 163/357 [37:05<34:07, 10.56s/it]"
     ]
    },
    {
     "name": "stdout",
     "output_type": "stream",
     "text": [
      "\n",
      "file: 'E:\\hy\\Datasets\\TUSZ\\edf\\dev\\01_tcp_ar\\098\\00009839\\s011_2013_07_24\\00009839_s011_t002.edf' [RECORDING] ALL WINDOWS DONE! FILE DONE!...\n",
      "\n",
      "FILE NAME: E:\\hy\\Datasets\\TUSZ\\edf\\dev\\01_tcp_ar\\098\\00009839\\s011_2013_07_24\\00009839_s011_t003.edf\n",
      "Extracting EDF parameters from E:\\hy\\Datasets\\TUSZ\\edf\\dev\\01_tcp_ar\\098\\00009839\\s011_2013_07_24\\00009839_s011_t003.edf...\n",
      "EDF file detected\n",
      "Setting channel info structure...\n",
      "Creating raw.info structure...\n",
      "Reading 0 ... 153855  =      0.000 ...   600.996 secs...\n",
      "NOTE: pick_channels() is a legacy function. New code should use inst.pick(...).\n"
     ]
    },
    {
     "name": "stderr",
     "output_type": "stream",
     "text": [
      "Processing Files:  46%|████████████████████████████▍                                 | 164/357 [37:22<39:45, 12.36s/it]"
     ]
    },
    {
     "name": "stdout",
     "output_type": "stream",
     "text": [
      "\n",
      "file: 'E:\\hy\\Datasets\\TUSZ\\edf\\dev\\01_tcp_ar\\098\\00009839\\s011_2013_07_24\\00009839_s011_t003.edf' [RECORDING] ALL WINDOWS DONE! FILE DONE!...\n",
      "\n",
      "FILE NAME: E:\\hy\\Datasets\\TUSZ\\edf\\dev\\01_tcp_ar\\098\\00009839\\s011_2013_07_24\\00009839_s011_t004.edf\n",
      "Extracting EDF parameters from E:\\hy\\Datasets\\TUSZ\\edf\\dev\\01_tcp_ar\\098\\00009839\\s011_2013_07_24\\00009839_s011_t004.edf...\n",
      "EDF file detected\n",
      "Setting channel info structure...\n",
      "Creating raw.info structure...\n",
      "Reading 0 ... 76799  =      0.000 ...   299.996 secs...\n",
      "NOTE: pick_channels() is a legacy function. New code should use inst.pick(...).\n"
     ]
    },
    {
     "name": "stderr",
     "output_type": "stream",
     "text": [
      "Processing Files:  46%|████████████████████████████▋                                 | 165/357 [37:30<35:09, 10.98s/it]"
     ]
    },
    {
     "name": "stdout",
     "output_type": "stream",
     "text": [
      "\n",
      "file: 'E:\\hy\\Datasets\\TUSZ\\edf\\dev\\01_tcp_ar\\098\\00009839\\s011_2013_07_24\\00009839_s011_t004.edf' [RECORDING] ALL WINDOWS DONE! FILE DONE!...\n",
      "\n",
      "FILE NAME: E:\\hy\\Datasets\\TUSZ\\edf\\dev\\01_tcp_ar\\098\\00009839\\s011_2013_07_24\\00009839_s011_t005.edf\n",
      "Extracting EDF parameters from E:\\hy\\Datasets\\TUSZ\\edf\\dev\\01_tcp_ar\\098\\00009839\\s011_2013_07_24\\00009839_s011_t005.edf...\n",
      "EDF file detected\n",
      "Setting channel info structure...\n",
      "Creating raw.info structure...\n",
      "Reading 0 ... 153855  =      0.000 ...   600.996 secs...\n",
      "NOTE: pick_channels() is a legacy function. New code should use inst.pick(...).\n"
     ]
    },
    {
     "name": "stderr",
     "output_type": "stream",
     "text": [
      "Processing Files:  46%|████████████████████████████▊                                 | 166/357 [37:46<40:27, 12.71s/it]"
     ]
    },
    {
     "name": "stdout",
     "output_type": "stream",
     "text": [
      "\n",
      "file: 'E:\\hy\\Datasets\\TUSZ\\edf\\dev\\01_tcp_ar\\098\\00009839\\s011_2013_07_24\\00009839_s011_t005.edf' [RECORDING] ALL WINDOWS DONE! FILE DONE!...\n",
      "\n",
      "FILE NAME: E:\\hy\\Datasets\\TUSZ\\edf\\dev\\01_tcp_ar\\098\\00009839\\s011_2013_07_24\\00009839_s011_t006.edf\n",
      "Extracting EDF parameters from E:\\hy\\Datasets\\TUSZ\\edf\\dev\\01_tcp_ar\\098\\00009839\\s011_2013_07_24\\00009839_s011_t006.edf...\n",
      "EDF file detected\n",
      "Setting channel info structure...\n",
      "Creating raw.info structure...\n",
      "Reading 0 ... 76799  =      0.000 ...   299.996 secs...\n",
      "NOTE: pick_channels() is a legacy function. New code should use inst.pick(...).\n"
     ]
    },
    {
     "name": "stderr",
     "output_type": "stream",
     "text": [
      "Processing Files:  47%|█████████████████████████████                                 | 167/357 [37:55<35:55, 11.34s/it]"
     ]
    },
    {
     "name": "stdout",
     "output_type": "stream",
     "text": [
      "\n",
      "file: 'E:\\hy\\Datasets\\TUSZ\\edf\\dev\\01_tcp_ar\\098\\00009839\\s011_2013_07_24\\00009839_s011_t006.edf' [RECORDING] ALL WINDOWS DONE! FILE DONE!...\n",
      "\n",
      "FILE NAME: E:\\hy\\Datasets\\TUSZ\\edf\\dev\\01_tcp_ar\\098\\00009839\\s011_2013_07_24\\00009839_s011_t007.edf\n",
      "Extracting EDF parameters from E:\\hy\\Datasets\\TUSZ\\edf\\dev\\01_tcp_ar\\098\\00009839\\s011_2013_07_24\\00009839_s011_t007.edf...\n",
      "EDF file detected\n",
      "Setting channel info structure...\n",
      "Creating raw.info structure...\n",
      "Reading 0 ... 153855  =      0.000 ...   600.996 secs...\n",
      "NOTE: pick_channels() is a legacy function. New code should use inst.pick(...).\n"
     ]
    },
    {
     "name": "stderr",
     "output_type": "stream",
     "text": [
      "Processing Files:  47%|█████████████████████████████▏                                | 168/357 [38:12<41:14, 13.09s/it]"
     ]
    },
    {
     "name": "stdout",
     "output_type": "stream",
     "text": [
      "\n",
      "file: 'E:\\hy\\Datasets\\TUSZ\\edf\\dev\\01_tcp_ar\\098\\00009839\\s011_2013_07_24\\00009839_s011_t007.edf' [RECORDING] ALL WINDOWS DONE! FILE DONE!...\n",
      "\n",
      "FILE NAME: E:\\hy\\Datasets\\TUSZ\\edf\\dev\\01_tcp_ar\\098\\00009839\\s011_2013_07_24\\00009839_s011_t008.edf\n",
      "Extracting EDF parameters from E:\\hy\\Datasets\\TUSZ\\edf\\dev\\01_tcp_ar\\098\\00009839\\s011_2013_07_24\\00009839_s011_t008.edf...\n",
      "EDF file detected\n",
      "Setting channel info structure...\n",
      "Creating raw.info structure...\n",
      "Reading 0 ... 76799  =      0.000 ...   299.996 secs...\n",
      "NOTE: pick_channels() is a legacy function. New code should use inst.pick(...).\n"
     ]
    },
    {
     "name": "stderr",
     "output_type": "stream",
     "text": [
      "Processing Files:  47%|█████████████████████████████▎                                | 169/357 [38:20<36:50, 11.76s/it]"
     ]
    },
    {
     "name": "stdout",
     "output_type": "stream",
     "text": [
      "\n",
      "file: 'E:\\hy\\Datasets\\TUSZ\\edf\\dev\\01_tcp_ar\\098\\00009839\\s011_2013_07_24\\00009839_s011_t008.edf' [RECORDING] ALL WINDOWS DONE! FILE DONE!...\n",
      "\n",
      "FILE NAME: E:\\hy\\Datasets\\TUSZ\\edf\\dev\\01_tcp_ar\\098\\00009839\\s011_2013_07_24\\00009839_s011_t009.edf\n",
      "Extracting EDF parameters from E:\\hy\\Datasets\\TUSZ\\edf\\dev\\01_tcp_ar\\098\\00009839\\s011_2013_07_24\\00009839_s011_t009.edf...\n",
      "EDF file detected\n",
      "Setting channel info structure...\n",
      "Creating raw.info structure...\n",
      "Reading 0 ... 153855  =      0.000 ...   600.996 secs...\n",
      "NOTE: pick_channels() is a legacy function. New code should use inst.pick(...).\n"
     ]
    },
    {
     "name": "stderr",
     "output_type": "stream",
     "text": [
      "Processing Files:  48%|█████████████████████████████▌                                | 170/357 [38:38<42:13, 13.55s/it]"
     ]
    },
    {
     "name": "stdout",
     "output_type": "stream",
     "text": [
      "\n",
      "file: 'E:\\hy\\Datasets\\TUSZ\\edf\\dev\\01_tcp_ar\\098\\00009839\\s011_2013_07_24\\00009839_s011_t009.edf' [RECORDING] ALL WINDOWS DONE! FILE DONE!...\n",
      "\n",
      "FILE NAME: E:\\hy\\Datasets\\TUSZ\\edf\\dev\\01_tcp_ar\\098\\00009866\\s001_2013_04_04\\00009866_s001_t000.edf\n",
      "Extracting EDF parameters from E:\\hy\\Datasets\\TUSZ\\edf\\dev\\01_tcp_ar\\098\\00009866\\s001_2013_04_04\\00009866_s001_t000.edf...\n",
      "EDF file detected\n",
      "Setting channel info structure...\n",
      "Creating raw.info structure...\n",
      "Reading 0 ... 384255  =      0.000 ...  1500.996 secs...\n",
      "NOTE: pick_channels() is a legacy function. New code should use inst.pick(...).\n"
     ]
    },
    {
     "name": "stderr",
     "output_type": "stream",
     "text": [
      "Processing Files:  48%|████████████████████████████▋                               | 171/357 [39:22<1:10:22, 22.70s/it]"
     ]
    },
    {
     "name": "stdout",
     "output_type": "stream",
     "text": [
      "\n",
      "file: 'E:\\hy\\Datasets\\TUSZ\\edf\\dev\\01_tcp_ar\\098\\00009866\\s001_2013_04_04\\00009866_s001_t000.edf' [RECORDING] ALL WINDOWS DONE! FILE DONE!...\n",
      "\n",
      "FILE NAME: E:\\hy\\Datasets\\TUSZ\\edf\\dev\\01_tcp_ar\\098\\00009866\\s002_2013_07_24\\00009866_s002_t001.edf\n",
      "Extracting EDF parameters from E:\\hy\\Datasets\\TUSZ\\edf\\dev\\01_tcp_ar\\098\\00009866\\s002_2013_07_24\\00009866_s002_t001.edf...\n",
      "EDF file detected\n",
      "Setting channel info structure...\n",
      "Creating raw.info structure...\n",
      "Reading 0 ... 170749  =      0.000 ...   682.996 secs...\n",
      "NOTE: pick_channels() is a legacy function. New code should use inst.pick(...).\n"
     ]
    },
    {
     "name": "stderr",
     "output_type": "stream",
     "text": [
      "Processing Files:  48%|██████████████████████████████                                | 173/357 [39:42<51:24, 16.76s/it]"
     ]
    },
    {
     "name": "stdout",
     "output_type": "stream",
     "text": [
      "\n",
      "file: 'E:\\hy\\Datasets\\TUSZ\\edf\\dev\\01_tcp_ar\\098\\00009866\\s002_2013_07_24\\00009866_s002_t001.edf' [RECORDING] ALL WINDOWS DONE! FILE DONE!...\n",
      "\n",
      "FILE NAME: E:\\hy\\Datasets\\TUSZ\\edf\\dev\\01_tcp_ar\\098\\00009866\\s002_2013_07_24\\00009866_s002_t002.edf\n",
      "Extracting EDF parameters from E:\\hy\\Datasets\\TUSZ\\edf\\dev\\01_tcp_ar\\098\\00009866\\s002_2013_07_24\\00009866_s002_t002.edf...\n",
      "EDF file detected\n",
      "Setting channel info structure...\n",
      "Creating raw.info structure...\n",
      "Reading 0 ... 518499  =      0.000 ...  2073.996 secs...\n",
      "NOTE: pick_channels() is a legacy function. New code should use inst.pick(...).\n"
     ]
    },
    {
     "name": "stderr",
     "output_type": "stream",
     "text": [
      "Processing Files:  49%|█████████████████████████████▏                              | 174/357 [40:42<1:24:05, 27.57s/it]"
     ]
    },
    {
     "name": "stdout",
     "output_type": "stream",
     "text": [
      "\n",
      "file: 'E:\\hy\\Datasets\\TUSZ\\edf\\dev\\01_tcp_ar\\098\\00009866\\s002_2013_07_24\\00009866_s002_t002.edf' [RECORDING] ALL WINDOWS DONE! FILE DONE!...\n",
      "\n",
      "FILE NAME: E:\\hy\\Datasets\\TUSZ\\edf\\dev\\01_tcp_ar\\098\\00009866\\s003_2013_07_24\\00009866_s003_t001.edf\n",
      "Extracting EDF parameters from E:\\hy\\Datasets\\TUSZ\\edf\\dev\\01_tcp_ar\\098\\00009866\\s003_2013_07_24\\00009866_s003_t001.edf...\n",
      "EDF file detected\n",
      "Setting channel info structure...\n",
      "Creating raw.info structure...\n",
      "Reading 0 ... 6911  =      0.000 ...    26.996 secs...\n",
      "NOTE: pick_channels() is a legacy function. New code should use inst.pick(...).\n"
     ]
    },
    {
     "name": "stderr",
     "output_type": "stream",
     "text": [
      "Processing Files:  49%|█████████████████████████████▍                              | 175/357 [40:43<1:02:21, 20.56s/it]"
     ]
    },
    {
     "name": "stdout",
     "output_type": "stream",
     "text": [
      "\n",
      "file: 'E:\\hy\\Datasets\\TUSZ\\edf\\dev\\01_tcp_ar\\098\\00009866\\s003_2013_07_24\\00009866_s003_t001.edf' [RECORDING] ALL WINDOWS DONE! FILE DONE!...\n",
      "\n",
      "FILE NAME: E:\\hy\\Datasets\\TUSZ\\edf\\dev\\01_tcp_ar\\098\\00009866\\s003_2013_07_24\\00009866_s003_t002.edf\n",
      "Extracting EDF parameters from E:\\hy\\Datasets\\TUSZ\\edf\\dev\\01_tcp_ar\\098\\00009866\\s003_2013_07_24\\00009866_s003_t002.edf...\n",
      "EDF file detected\n",
      "Setting channel info structure...\n",
      "Creating raw.info structure...\n",
      "Reading 0 ... 159999  =      0.000 ...   624.996 secs...\n",
      "NOTE: pick_channels() is a legacy function. New code should use inst.pick(...).\n"
     ]
    },
    {
     "name": "stderr",
     "output_type": "stream",
     "text": [
      "Processing Files:  49%|██████████████████████████████▌                               | 176/357 [41:01<59:57, 19.88s/it]"
     ]
    },
    {
     "name": "stdout",
     "output_type": "stream",
     "text": [
      "\n",
      "file: 'E:\\hy\\Datasets\\TUSZ\\edf\\dev\\01_tcp_ar\\098\\00009866\\s003_2013_07_24\\00009866_s003_t002.edf' [RECORDING] ALL WINDOWS DONE! FILE DONE!...\n",
      "\n",
      "FILE NAME: E:\\hy\\Datasets\\TUSZ\\edf\\dev\\01_tcp_ar\\098\\00009866\\s003_2013_07_24\\00009866_s003_t003.edf\n",
      "Extracting EDF parameters from E:\\hy\\Datasets\\TUSZ\\edf\\dev\\01_tcp_ar\\098\\00009866\\s003_2013_07_24\\00009866_s003_t003.edf...\n",
      "EDF file detected\n",
      "Setting channel info structure...\n",
      "Creating raw.info structure...\n",
      "Reading 0 ... 508671  =      0.000 ...  1986.996 secs...\n",
      "NOTE: pick_channels() is a legacy function. New code should use inst.pick(...).\n"
     ]
    },
    {
     "name": "stderr",
     "output_type": "stream",
     "text": [
      "Processing Files:  50%|█████████████████████████████▋                              | 177/357 [42:00<1:32:14, 30.75s/it]"
     ]
    },
    {
     "name": "stdout",
     "output_type": "stream",
     "text": [
      "\n",
      "file: 'E:\\hy\\Datasets\\TUSZ\\edf\\dev\\01_tcp_ar\\098\\00009866\\s003_2013_07_24\\00009866_s003_t003.edf' [RECORDING] ALL WINDOWS DONE! FILE DONE!...\n",
      "\n",
      "FILE NAME: E:\\hy\\Datasets\\TUSZ\\edf\\dev\\01_tcp_ar\\098\\00009866\\s003_2013_07_24\\00009866_s003_t004.edf\n",
      "Extracting EDF parameters from E:\\hy\\Datasets\\TUSZ\\edf\\dev\\01_tcp_ar\\098\\00009866\\s003_2013_07_24\\00009866_s003_t004.edf...\n",
      "EDF file detected\n",
      "Setting channel info structure...\n",
      "Creating raw.info structure...\n",
      "Reading 0 ... 153855  =      0.000 ...   600.996 secs...\n",
      "NOTE: pick_channels() is a legacy function. New code should use inst.pick(...).\n"
     ]
    },
    {
     "name": "stderr",
     "output_type": "stream",
     "text": [
      "Processing Files:  50%|█████████████████████████████▉                              | 178/357 [42:17<1:20:26, 26.96s/it]"
     ]
    },
    {
     "name": "stdout",
     "output_type": "stream",
     "text": [
      "\n",
      "file: 'E:\\hy\\Datasets\\TUSZ\\edf\\dev\\01_tcp_ar\\098\\00009866\\s003_2013_07_24\\00009866_s003_t004.edf' [RECORDING] ALL WINDOWS DONE! FILE DONE!...\n",
      "\n",
      "FILE NAME: E:\\hy\\Datasets\\TUSZ\\edf\\dev\\01_tcp_ar\\098\\00009866\\s003_2013_07_24\\00009866_s003_t005.edf\n",
      "Extracting EDF parameters from E:\\hy\\Datasets\\TUSZ\\edf\\dev\\01_tcp_ar\\098\\00009866\\s003_2013_07_24\\00009866_s003_t005.edf...\n",
      "EDF file detected\n",
      "Setting channel info structure...\n",
      "Creating raw.info structure...\n",
      "Reading 0 ... 76799  =      0.000 ...   299.996 secs...\n",
      "NOTE: pick_channels() is a legacy function. New code should use inst.pick(...).\n"
     ]
    },
    {
     "name": "stderr",
     "output_type": "stream",
     "text": [
      "Processing Files:  50%|██████████████████████████████                              | 179/357 [42:26<1:04:10, 21.63s/it]"
     ]
    },
    {
     "name": "stdout",
     "output_type": "stream",
     "text": [
      "\n",
      "file: 'E:\\hy\\Datasets\\TUSZ\\edf\\dev\\01_tcp_ar\\098\\00009866\\s003_2013_07_24\\00009866_s003_t005.edf' [RECORDING] ALL WINDOWS DONE! FILE DONE!...\n",
      "\n",
      "FILE NAME: E:\\hy\\Datasets\\TUSZ\\edf\\dev\\01_tcp_ar\\098\\00009866\\s003_2013_07_24\\00009866_s003_t006.edf\n",
      "Extracting EDF parameters from E:\\hy\\Datasets\\TUSZ\\edf\\dev\\01_tcp_ar\\098\\00009866\\s003_2013_07_24\\00009866_s003_t006.edf...\n",
      "EDF file detected\n",
      "Setting channel info structure...\n",
      "Creating raw.info structure...\n",
      "Reading 0 ... 153855  =      0.000 ...   600.996 secs...\n",
      "NOTE: pick_channels() is a legacy function. New code should use inst.pick(...).\n"
     ]
    },
    {
     "name": "stderr",
     "output_type": "stream",
     "text": [
      "Processing Files:  50%|███████████████████████████████▎                              | 180/357 [42:43<59:51, 20.29s/it]"
     ]
    },
    {
     "name": "stdout",
     "output_type": "stream",
     "text": [
      "\n",
      "file: 'E:\\hy\\Datasets\\TUSZ\\edf\\dev\\01_tcp_ar\\098\\00009866\\s003_2013_07_24\\00009866_s003_t006.edf' [RECORDING] ALL WINDOWS DONE! FILE DONE!...\n",
      "\n",
      "FILE NAME: E:\\hy\\Datasets\\TUSZ\\edf\\dev\\01_tcp_ar\\098\\00009866\\s003_2013_07_24\\00009866_s003_t007.edf\n",
      "Extracting EDF parameters from E:\\hy\\Datasets\\TUSZ\\edf\\dev\\01_tcp_ar\\098\\00009866\\s003_2013_07_24\\00009866_s003_t007.edf...\n",
      "EDF file detected\n",
      "Setting channel info structure...\n",
      "Creating raw.info structure...\n",
      "Reading 0 ... 153855  =      0.000 ...   600.996 secs...\n",
      "NOTE: pick_channels() is a legacy function. New code should use inst.pick(...).\n"
     ]
    },
    {
     "name": "stderr",
     "output_type": "stream",
     "text": [
      "Processing Files:  51%|███████████████████████████████▍                              | 181/357 [43:00<56:51, 19.39s/it]"
     ]
    },
    {
     "name": "stdout",
     "output_type": "stream",
     "text": [
      "\n",
      "file: 'E:\\hy\\Datasets\\TUSZ\\edf\\dev\\01_tcp_ar\\098\\00009866\\s003_2013_07_24\\00009866_s003_t007.edf' [RECORDING] ALL WINDOWS DONE! FILE DONE!...\n",
      "\n",
      "FILE NAME: E:\\hy\\Datasets\\TUSZ\\edf\\dev\\01_tcp_ar\\098\\00009866\\s003_2013_07_24\\00009866_s003_t008.edf\n",
      "Extracting EDF parameters from E:\\hy\\Datasets\\TUSZ\\edf\\dev\\01_tcp_ar\\098\\00009866\\s003_2013_07_24\\00009866_s003_t008.edf...\n",
      "EDF file detected\n",
      "Setting channel info structure...\n",
      "Creating raw.info structure...\n",
      "Reading 0 ... 208895  =      0.000 ...   815.996 secs...\n",
      "NOTE: pick_channels() is a legacy function. New code should use inst.pick(...).\n"
     ]
    },
    {
     "name": "stderr",
     "output_type": "stream",
     "text": [
      "Processing Files:  51%|██████████████████████████████▌                             | 182/357 [43:24<1:00:16, 20.66s/it]"
     ]
    },
    {
     "name": "stdout",
     "output_type": "stream",
     "text": [
      "\n",
      "file: 'E:\\hy\\Datasets\\TUSZ\\edf\\dev\\01_tcp_ar\\098\\00009866\\s003_2013_07_24\\00009866_s003_t008.edf' [RECORDING] ALL WINDOWS DONE! FILE DONE!...\n",
      "\n",
      "FILE NAME: E:\\hy\\Datasets\\TUSZ\\edf\\dev\\01_tcp_ar\\098\\00009866\\s004_2013_07_25\\00009866_s004_t000.edf\n",
      "Extracting EDF parameters from E:\\hy\\Datasets\\TUSZ\\edf\\dev\\01_tcp_ar\\098\\00009866\\s004_2013_07_25\\00009866_s004_t000.edf...\n",
      "EDF file detected\n",
      "Setting channel info structure...\n",
      "Creating raw.info structure...\n",
      "Reading 0 ... 76799  =      0.000 ...   299.996 secs...\n",
      "NOTE: pick_channels() is a legacy function. New code should use inst.pick(...).\n"
     ]
    },
    {
     "name": "stderr",
     "output_type": "stream",
     "text": [
      "Processing Files:  51%|███████████████████████████████▊                              | 183/357 [43:32<49:16, 16.99s/it]"
     ]
    },
    {
     "name": "stdout",
     "output_type": "stream",
     "text": [
      "\n",
      "file: 'E:\\hy\\Datasets\\TUSZ\\edf\\dev\\01_tcp_ar\\098\\00009866\\s004_2013_07_25\\00009866_s004_t000.edf' [RECORDING] ALL WINDOWS DONE! FILE DONE!...\n",
      "\n",
      "FILE NAME: E:\\hy\\Datasets\\TUSZ\\edf\\dev\\01_tcp_ar\\098\\00009866\\s004_2013_07_25\\00009866_s004_t001.edf\n",
      "Extracting EDF parameters from E:\\hy\\Datasets\\TUSZ\\edf\\dev\\01_tcp_ar\\098\\00009866\\s004_2013_07_25\\00009866_s004_t001.edf...\n",
      "EDF file detected\n",
      "Setting channel info structure...\n",
      "Creating raw.info structure...\n",
      "Reading 0 ... 153855  =      0.000 ...   600.996 secs...\n",
      "NOTE: pick_channels() is a legacy function. New code should use inst.pick(...).\n"
     ]
    },
    {
     "name": "stderr",
     "output_type": "stream",
     "text": [
      "Processing Files:  52%|███████████████████████████████▉                              | 184/357 [43:49<49:03, 17.01s/it]"
     ]
    },
    {
     "name": "stdout",
     "output_type": "stream",
     "text": [
      "\n",
      "file: 'E:\\hy\\Datasets\\TUSZ\\edf\\dev\\01_tcp_ar\\098\\00009866\\s004_2013_07_25\\00009866_s004_t001.edf' [RECORDING] ALL WINDOWS DONE! FILE DONE!...\n",
      "\n",
      "FILE NAME: E:\\hy\\Datasets\\TUSZ\\edf\\dev\\01_tcp_ar\\098\\00009866\\s004_2013_07_25\\00009866_s004_t002.edf\n",
      "Extracting EDF parameters from E:\\hy\\Datasets\\TUSZ\\edf\\dev\\01_tcp_ar\\098\\00009866\\s004_2013_07_25\\00009866_s004_t002.edf...\n",
      "EDF file detected\n",
      "Setting channel info structure...\n",
      "Creating raw.info structure...\n",
      "Reading 0 ... 76799  =      0.000 ...   299.996 secs...\n",
      "NOTE: pick_channels() is a legacy function. New code should use inst.pick(...).\n"
     ]
    },
    {
     "name": "stderr",
     "output_type": "stream",
     "text": [
      "Processing Files:  52%|████████████████████████████████▏                             | 185/357 [43:58<41:18, 14.41s/it]"
     ]
    },
    {
     "name": "stdout",
     "output_type": "stream",
     "text": [
      "\n",
      "file: 'E:\\hy\\Datasets\\TUSZ\\edf\\dev\\01_tcp_ar\\098\\00009866\\s004_2013_07_25\\00009866_s004_t002.edf' [RECORDING] ALL WINDOWS DONE! FILE DONE!...\n",
      "\n",
      "FILE NAME: E:\\hy\\Datasets\\TUSZ\\edf\\dev\\01_tcp_ar\\098\\00009866\\s004_2013_07_25\\00009866_s004_t003.edf\n",
      "Extracting EDF parameters from E:\\hy\\Datasets\\TUSZ\\edf\\dev\\01_tcp_ar\\098\\00009866\\s004_2013_07_25\\00009866_s004_t003.edf...\n",
      "EDF file detected\n",
      "Setting channel info structure...\n",
      "Creating raw.info structure...\n",
      "Reading 0 ... 153855  =      0.000 ...   600.996 secs...\n",
      "NOTE: pick_channels() is a legacy function. New code should use inst.pick(...).\n"
     ]
    },
    {
     "name": "stderr",
     "output_type": "stream",
     "text": [
      "Processing Files:  52%|████████████████████████████████▎                             | 186/357 [44:14<42:44, 15.00s/it]"
     ]
    },
    {
     "name": "stdout",
     "output_type": "stream",
     "text": [
      "\n",
      "file: 'E:\\hy\\Datasets\\TUSZ\\edf\\dev\\01_tcp_ar\\098\\00009866\\s004_2013_07_25\\00009866_s004_t003.edf' [RECORDING] ALL WINDOWS DONE! FILE DONE!...\n",
      "\n",
      "FILE NAME: E:\\hy\\Datasets\\TUSZ\\edf\\dev\\01_tcp_ar\\098\\00009866\\s004_2013_07_25\\00009866_s004_t004.edf\n",
      "Extracting EDF parameters from E:\\hy\\Datasets\\TUSZ\\edf\\dev\\01_tcp_ar\\098\\00009866\\s004_2013_07_25\\00009866_s004_t004.edf...\n",
      "EDF file detected\n",
      "Setting channel info structure...\n",
      "Creating raw.info structure...\n",
      "Reading 0 ... 76799  =      0.000 ...   299.996 secs...\n",
      "NOTE: pick_channels() is a legacy function. New code should use inst.pick(...).\n"
     ]
    },
    {
     "name": "stderr",
     "output_type": "stream",
     "text": [
      "Processing Files:  52%|████████████████████████████████▍                             | 187/357 [44:22<36:39, 12.94s/it]"
     ]
    },
    {
     "name": "stdout",
     "output_type": "stream",
     "text": [
      "\n",
      "file: 'E:\\hy\\Datasets\\TUSZ\\edf\\dev\\01_tcp_ar\\098\\00009866\\s004_2013_07_25\\00009866_s004_t004.edf' [RECORDING] ALL WINDOWS DONE! FILE DONE!...\n",
      "\n",
      "FILE NAME: E:\\hy\\Datasets\\TUSZ\\edf\\dev\\01_tcp_ar\\098\\00009866\\s004_2013_07_25\\00009866_s004_t005.edf\n",
      "Extracting EDF parameters from E:\\hy\\Datasets\\TUSZ\\edf\\dev\\01_tcp_ar\\098\\00009866\\s004_2013_07_25\\00009866_s004_t005.edf...\n",
      "EDF file detected\n",
      "Setting channel info structure...\n",
      "Creating raw.info structure...\n",
      "Reading 0 ... 153855  =      0.000 ...   600.996 secs...\n",
      "NOTE: pick_channels() is a legacy function. New code should use inst.pick(...).\n"
     ]
    },
    {
     "name": "stderr",
     "output_type": "stream",
     "text": [
      "Processing Files:  53%|████████████████████████████████▋                             | 188/357 [44:40<40:19, 14.31s/it]"
     ]
    },
    {
     "name": "stdout",
     "output_type": "stream",
     "text": [
      "\n",
      "file: 'E:\\hy\\Datasets\\TUSZ\\edf\\dev\\01_tcp_ar\\098\\00009866\\s004_2013_07_25\\00009866_s004_t005.edf' [RECORDING] ALL WINDOWS DONE! FILE DONE!...\n",
      "\n",
      "FILE NAME: E:\\hy\\Datasets\\TUSZ\\edf\\dev\\01_tcp_ar\\098\\00009866\\s004_2013_07_25\\00009866_s004_t006.edf\n",
      "Extracting EDF parameters from E:\\hy\\Datasets\\TUSZ\\edf\\dev\\01_tcp_ar\\098\\00009866\\s004_2013_07_25\\00009866_s004_t006.edf...\n",
      "EDF file detected\n",
      "Setting channel info structure...\n",
      "Creating raw.info structure...\n",
      "Reading 0 ... 76799  =      0.000 ...   299.996 secs...\n",
      "NOTE: pick_channels() is a legacy function. New code should use inst.pick(...).\n"
     ]
    },
    {
     "name": "stderr",
     "output_type": "stream",
     "text": [
      "Processing Files:  53%|████████████████████████████████▊                             | 189/357 [44:48<34:46, 12.42s/it]"
     ]
    },
    {
     "name": "stdout",
     "output_type": "stream",
     "text": [
      "\n",
      "file: 'E:\\hy\\Datasets\\TUSZ\\edf\\dev\\01_tcp_ar\\098\\00009866\\s004_2013_07_25\\00009866_s004_t006.edf' [RECORDING] ALL WINDOWS DONE! FILE DONE!...\n",
      "\n",
      "FILE NAME: E:\\hy\\Datasets\\TUSZ\\edf\\dev\\01_tcp_ar\\098\\00009866\\s004_2013_07_25\\00009866_s004_t007.edf\n",
      "Extracting EDF parameters from E:\\hy\\Datasets\\TUSZ\\edf\\dev\\01_tcp_ar\\098\\00009866\\s004_2013_07_25\\00009866_s004_t007.edf...\n",
      "EDF file detected\n",
      "Setting channel info structure...\n",
      "Creating raw.info structure...\n",
      "Reading 0 ... 153855  =      0.000 ...   600.996 secs...\n",
      "NOTE: pick_channels() is a legacy function. New code should use inst.pick(...).\n"
     ]
    },
    {
     "name": "stderr",
     "output_type": "stream",
     "text": [
      "Processing Files:  53%|████████████████████████████████▉                             | 190/357 [45:04<38:18, 13.76s/it]"
     ]
    },
    {
     "name": "stdout",
     "output_type": "stream",
     "text": [
      "\n",
      "file: 'E:\\hy\\Datasets\\TUSZ\\edf\\dev\\01_tcp_ar\\098\\00009866\\s004_2013_07_25\\00009866_s004_t007.edf' [RECORDING] ALL WINDOWS DONE! FILE DONE!...\n",
      "\n",
      "FILE NAME: E:\\hy\\Datasets\\TUSZ\\edf\\dev\\01_tcp_ar\\098\\00009866\\s004_2013_07_25\\00009866_s004_t008.edf\n",
      "Extracting EDF parameters from E:\\hy\\Datasets\\TUSZ\\edf\\dev\\01_tcp_ar\\098\\00009866\\s004_2013_07_25\\00009866_s004_t008.edf...\n",
      "EDF file detected\n",
      "Setting channel info structure...\n",
      "Creating raw.info structure...\n",
      "Reading 0 ... 76799  =      0.000 ...   299.996 secs...\n",
      "NOTE: pick_channels() is a legacy function. New code should use inst.pick(...).\n"
     ]
    },
    {
     "name": "stderr",
     "output_type": "stream",
     "text": [
      "Processing Files:  54%|█████████████████████████████████▎                            | 192/357 [45:12<25:30,  9.28s/it]"
     ]
    },
    {
     "name": "stdout",
     "output_type": "stream",
     "text": [
      "\n",
      "file: 'E:\\hy\\Datasets\\TUSZ\\edf\\dev\\01_tcp_ar\\098\\00009866\\s004_2013_07_25\\00009866_s004_t008.edf' [RECORDING] ALL WINDOWS DONE! FILE DONE!...\n",
      "\n",
      "FILE NAME: E:\\hy\\Datasets\\TUSZ\\edf\\dev\\01_tcp_ar\\098\\00009866\\s004_2013_07_25\\00009866_s004_t009.edf\n",
      "Extracting EDF parameters from E:\\hy\\Datasets\\TUSZ\\edf\\dev\\01_tcp_ar\\098\\00009866\\s004_2013_07_25\\00009866_s004_t009.edf...\n",
      "EDF file detected\n",
      "Setting channel info structure...\n",
      "Creating raw.info structure...\n",
      "Reading 0 ... 55295  =      0.000 ...   215.996 secs...\n",
      "NOTE: pick_channels() is a legacy function. New code should use inst.pick(...).\n"
     ]
    },
    {
     "name": "stderr",
     "output_type": "stream",
     "text": [
      "Processing Files:  54%|█████████████████████████████████▌                            | 193/357 [45:18<23:01,  8.43s/it]"
     ]
    },
    {
     "name": "stdout",
     "output_type": "stream",
     "text": [
      "\n",
      "file: 'E:\\hy\\Datasets\\TUSZ\\edf\\dev\\01_tcp_ar\\098\\00009866\\s004_2013_07_25\\00009866_s004_t009.edf' [RECORDING] ALL WINDOWS DONE! FILE DONE!...\n",
      "\n",
      "FILE NAME: E:\\hy\\Datasets\\TUSZ\\edf\\dev\\01_tcp_ar\\098\\00009866\\s004_2013_07_25\\00009866_s004_t010.edf\n",
      "Extracting EDF parameters from E:\\hy\\Datasets\\TUSZ\\edf\\dev\\01_tcp_ar\\098\\00009866\\s004_2013_07_25\\00009866_s004_t010.edf...\n",
      "EDF file detected\n",
      "Setting channel info structure...\n",
      "Creating raw.info structure...\n",
      "Reading 0 ... 46079  =      0.000 ...   179.996 secs...\n",
      "NOTE: pick_channels() is a legacy function. New code should use inst.pick(...).\n"
     ]
    },
    {
     "name": "stderr",
     "output_type": "stream",
     "text": [
      "Processing Files:  54%|█████████████████████████████████▋                            | 194/357 [45:23<20:14,  7.45s/it]"
     ]
    },
    {
     "name": "stdout",
     "output_type": "stream",
     "text": [
      "\n",
      "file: 'E:\\hy\\Datasets\\TUSZ\\edf\\dev\\01_tcp_ar\\098\\00009866\\s004_2013_07_25\\00009866_s004_t010.edf' [RECORDING] ALL WINDOWS DONE! FILE DONE!...\n",
      "\n",
      "FILE NAME: E:\\hy\\Datasets\\TUSZ\\edf\\dev\\01_tcp_ar\\098\\00009866\\s005_2013_07_30\\00009866_s005_t001.edf\n",
      "Extracting EDF parameters from E:\\hy\\Datasets\\TUSZ\\edf\\dev\\01_tcp_ar\\098\\00009866\\s005_2013_07_30\\00009866_s005_t001.edf...\n",
      "EDF file detected\n",
      "Setting channel info structure...\n",
      "Creating raw.info structure...\n",
      "Reading 0 ... 336249  =      0.000 ...  1344.996 secs...\n",
      "NOTE: pick_channels() is a legacy function. New code should use inst.pick(...).\n"
     ]
    },
    {
     "name": "stderr",
     "output_type": "stream",
     "text": [
      "Processing Files:  55%|█████████████████████████████████▊                            | 195/357 [46:01<42:24, 15.71s/it]"
     ]
    },
    {
     "name": "stdout",
     "output_type": "stream",
     "text": [
      "\n",
      "file: 'E:\\hy\\Datasets\\TUSZ\\edf\\dev\\01_tcp_ar\\098\\00009866\\s005_2013_07_30\\00009866_s005_t001.edf' [RECORDING] ALL WINDOWS DONE! FILE DONE!...\n",
      "\n",
      "FILE NAME: E:\\hy\\Datasets\\TUSZ\\edf\\dev\\01_tcp_ar\\100\\00010022\\s001_2013_02_10\\00010022_s001_t000.edf\n",
      "Extracting EDF parameters from E:\\hy\\Datasets\\TUSZ\\edf\\dev\\01_tcp_ar\\100\\00010022\\s001_2013_02_10\\00010022_s001_t000.edf...\n",
      "EDF file detected\n",
      "Setting channel info structure...\n",
      "Creating raw.info structure...\n",
      "Reading 0 ... 7679  =      0.000 ...    29.996 secs...\n",
      "NOTE: pick_channels() is a legacy function. New code should use inst.pick(...).\n"
     ]
    },
    {
     "name": "stderr",
     "output_type": "stream",
     "text": [
      "Processing Files:  55%|██████████████████████████████████                            | 196/357 [46:02<30:53, 11.51s/it]"
     ]
    },
    {
     "name": "stdout",
     "output_type": "stream",
     "text": [
      "\n",
      "file: 'E:\\hy\\Datasets\\TUSZ\\edf\\dev\\01_tcp_ar\\100\\00010022\\s001_2013_02_10\\00010022_s001_t000.edf' [RECORDING] ALL WINDOWS DONE! FILE DONE!...\n",
      "\n",
      "FILE NAME: E:\\hy\\Datasets\\TUSZ\\edf\\dev\\01_tcp_ar\\100\\00010022\\s001_2013_02_10\\00010022_s001_t001.edf\n",
      "Extracting EDF parameters from E:\\hy\\Datasets\\TUSZ\\edf\\dev\\01_tcp_ar\\100\\00010022\\s001_2013_02_10\\00010022_s001_t001.edf...\n",
      "EDF file detected\n",
      "Setting channel info structure...\n",
      "Creating raw.info structure...\n",
      "Reading 0 ... 329983  =      0.000 ...  1288.996 secs...\n",
      "NOTE: pick_channels() is a legacy function. New code should use inst.pick(...).\n"
     ]
    },
    {
     "name": "stderr",
     "output_type": "stream",
     "text": [
      "Processing Files:  55%|██████████████████████████████████▏                           | 197/357 [46:37<49:11, 18.45s/it]"
     ]
    },
    {
     "name": "stdout",
     "output_type": "stream",
     "text": [
      "\n",
      "file: 'E:\\hy\\Datasets\\TUSZ\\edf\\dev\\01_tcp_ar\\100\\00010022\\s001_2013_02_10\\00010022_s001_t001.edf' [RECORDING] ALL WINDOWS DONE! FILE DONE!...\n",
      "\n",
      "FILE NAME: E:\\hy\\Datasets\\TUSZ\\edf\\dev\\01_tcp_ar\\100\\00010022\\s002_2013_02_10\\00010022_s002_t000.edf\n",
      "Extracting EDF parameters from E:\\hy\\Datasets\\TUSZ\\edf\\dev\\01_tcp_ar\\100\\00010022\\s002_2013_02_10\\00010022_s002_t000.edf...\n",
      "EDF file detected\n",
      "Setting channel info structure...\n",
      "Creating raw.info structure...\n",
      "Reading 0 ... 153855  =      0.000 ...   600.996 secs...\n",
      "NOTE: pick_channels() is a legacy function. New code should use inst.pick(...).\n"
     ]
    },
    {
     "name": "stderr",
     "output_type": "stream",
     "text": [
      "Processing Files:  55%|██████████████████████████████████▍                           | 198/357 [46:54<47:31, 17.93s/it]"
     ]
    },
    {
     "name": "stdout",
     "output_type": "stream",
     "text": [
      "\n",
      "file: 'E:\\hy\\Datasets\\TUSZ\\edf\\dev\\01_tcp_ar\\100\\00010022\\s002_2013_02_10\\00010022_s002_t000.edf' [RECORDING] ALL WINDOWS DONE! FILE DONE!...\n",
      "\n",
      "FILE NAME: E:\\hy\\Datasets\\TUSZ\\edf\\dev\\01_tcp_ar\\100\\00010022\\s002_2013_02_10\\00010022_s002_t001.edf\n",
      "Extracting EDF parameters from E:\\hy\\Datasets\\TUSZ\\edf\\dev\\01_tcp_ar\\100\\00010022\\s002_2013_02_10\\00010022_s002_t001.edf...\n",
      "EDF file detected\n",
      "Setting channel info structure...\n",
      "Creating raw.info structure...\n",
      "Reading 0 ... 153855  =      0.000 ...   600.996 secs...\n",
      "NOTE: pick_channels() is a legacy function. New code should use inst.pick(...).\n"
     ]
    },
    {
     "name": "stderr",
     "output_type": "stream",
     "text": [
      "Processing Files:  56%|██████████████████████████████████▌                           | 199/357 [47:11<46:30, 17.66s/it]"
     ]
    },
    {
     "name": "stdout",
     "output_type": "stream",
     "text": [
      "\n",
      "file: 'E:\\hy\\Datasets\\TUSZ\\edf\\dev\\01_tcp_ar\\100\\00010022\\s002_2013_02_10\\00010022_s002_t001.edf' [RECORDING] ALL WINDOWS DONE! FILE DONE!...\n",
      "\n",
      "FILE NAME: E:\\hy\\Datasets\\TUSZ\\edf\\dev\\01_tcp_ar\\100\\00010022\\s002_2013_02_10\\00010022_s002_t002.edf\n",
      "Extracting EDF parameters from E:\\hy\\Datasets\\TUSZ\\edf\\dev\\01_tcp_ar\\100\\00010022\\s002_2013_02_10\\00010022_s002_t002.edf...\n",
      "EDF file detected\n",
      "Setting channel info structure...\n",
      "Creating raw.info structure...\n",
      "Reading 0 ... 153855  =      0.000 ...   600.996 secs...\n",
      "NOTE: pick_channels() is a legacy function. New code should use inst.pick(...).\n"
     ]
    },
    {
     "name": "stderr",
     "output_type": "stream",
     "text": [
      "Processing Files:  56%|██████████████████████████████████▋                           | 200/357 [47:28<45:44, 17.48s/it]"
     ]
    },
    {
     "name": "stdout",
     "output_type": "stream",
     "text": [
      "\n",
      "file: 'E:\\hy\\Datasets\\TUSZ\\edf\\dev\\01_tcp_ar\\100\\00010022\\s002_2013_02_10\\00010022_s002_t002.edf' [RECORDING] ALL WINDOWS DONE! FILE DONE!...\n",
      "\n",
      "FILE NAME: E:\\hy\\Datasets\\TUSZ\\edf\\dev\\01_tcp_ar\\100\\00010022\\s002_2013_02_10\\00010022_s002_t003.edf\n",
      "Extracting EDF parameters from E:\\hy\\Datasets\\TUSZ\\edf\\dev\\01_tcp_ar\\100\\00010022\\s002_2013_02_10\\00010022_s002_t003.edf...\n",
      "EDF file detected\n",
      "Setting channel info structure...\n",
      "Creating raw.info structure...\n",
      "Reading 0 ... 153855  =      0.000 ...   600.996 secs...\n",
      "NOTE: pick_channels() is a legacy function. New code should use inst.pick(...).\n"
     ]
    },
    {
     "name": "stderr",
     "output_type": "stream",
     "text": [
      "Processing Files:  56%|██████████████████████████████████▉                           | 201/357 [47:45<44:51, 17.25s/it]"
     ]
    },
    {
     "name": "stdout",
     "output_type": "stream",
     "text": [
      "\n",
      "file: 'E:\\hy\\Datasets\\TUSZ\\edf\\dev\\01_tcp_ar\\100\\00010022\\s002_2013_02_10\\00010022_s002_t003.edf' [RECORDING] ALL WINDOWS DONE! FILE DONE!...\n",
      "\n",
      "FILE NAME: E:\\hy\\Datasets\\TUSZ\\edf\\dev\\01_tcp_ar\\100\\00010022\\s002_2013_02_10\\00010022_s002_t004.edf\n",
      "Extracting EDF parameters from E:\\hy\\Datasets\\TUSZ\\edf\\dev\\01_tcp_ar\\100\\00010022\\s002_2013_02_10\\00010022_s002_t004.edf...\n",
      "EDF file detected\n",
      "Setting channel info structure...\n",
      "Creating raw.info structure...\n",
      "Reading 0 ... 317695  =      0.000 ...  1240.996 secs...\n",
      "NOTE: pick_channels() is a legacy function. New code should use inst.pick(...).\n"
     ]
    },
    {
     "name": "stderr",
     "output_type": "stream",
     "text": [
      "Processing Files:  57%|███████████████████████████████████                           | 202/357 [48:19<57:21, 22.21s/it]"
     ]
    },
    {
     "name": "stdout",
     "output_type": "stream",
     "text": [
      "\n",
      "file: 'E:\\hy\\Datasets\\TUSZ\\edf\\dev\\01_tcp_ar\\100\\00010022\\s002_2013_02_10\\00010022_s002_t004.edf' [RECORDING] ALL WINDOWS DONE! FILE DONE!...\n",
      "\n",
      "FILE NAME: E:\\hy\\Datasets\\TUSZ\\edf\\dev\\01_tcp_ar\\100\\00010022\\s002_2013_02_10\\00010022_s002_t005.edf\n",
      "Extracting EDF parameters from E:\\hy\\Datasets\\TUSZ\\edf\\dev\\01_tcp_ar\\100\\00010022\\s002_2013_02_10\\00010022_s002_t005.edf...\n",
      "EDF file detected\n",
      "Setting channel info structure...\n",
      "Creating raw.info structure...\n",
      "Reading 0 ... 153855  =      0.000 ...   600.996 secs...\n",
      "NOTE: pick_channels() is a legacy function. New code should use inst.pick(...).\n"
     ]
    },
    {
     "name": "stderr",
     "output_type": "stream",
     "text": [
      "Processing Files:  57%|███████████████████████████████████▎                          | 203/357 [48:35<52:11, 20.34s/it]"
     ]
    },
    {
     "name": "stdout",
     "output_type": "stream",
     "text": [
      "\n",
      "file: 'E:\\hy\\Datasets\\TUSZ\\edf\\dev\\01_tcp_ar\\100\\00010022\\s002_2013_02_10\\00010022_s002_t005.edf' [RECORDING] ALL WINDOWS DONE! FILE DONE!...\n",
      "\n",
      "FILE NAME: E:\\hy\\Datasets\\TUSZ\\edf\\dev\\01_tcp_ar\\100\\00010022\\s003_2013_02_11\\00010022_s003_t000.edf\n",
      "Extracting EDF parameters from E:\\hy\\Datasets\\TUSZ\\edf\\dev\\01_tcp_ar\\100\\00010022\\s003_2013_02_11\\00010022_s003_t000.edf...\n",
      "EDF file detected\n",
      "Setting channel info structure...\n",
      "Creating raw.info structure...\n",
      "Reading 0 ... 149247  =      0.000 ...   582.996 secs...\n",
      "NOTE: pick_channels() is a legacy function. New code should use inst.pick(...).\n"
     ]
    },
    {
     "name": "stderr",
     "output_type": "stream",
     "text": [
      "Processing Files:  57%|███████████████████████████████████▍                          | 204/357 [48:50<48:12, 18.91s/it]"
     ]
    },
    {
     "name": "stdout",
     "output_type": "stream",
     "text": [
      "\n",
      "file: 'E:\\hy\\Datasets\\TUSZ\\edf\\dev\\01_tcp_ar\\100\\00010022\\s003_2013_02_11\\00010022_s003_t000.edf' [RECORDING] ALL WINDOWS DONE! FILE DONE!...\n",
      "\n",
      "FILE NAME: E:\\hy\\Datasets\\TUSZ\\edf\\dev\\01_tcp_ar\\100\\00010022\\s003_2013_02_11\\00010022_s003_t001.edf\n",
      "Extracting EDF parameters from E:\\hy\\Datasets\\TUSZ\\edf\\dev\\01_tcp_ar\\100\\00010022\\s003_2013_02_11\\00010022_s003_t001.edf...\n",
      "EDF file detected\n",
      "Setting channel info structure...\n",
      "Creating raw.info structure...\n",
      "Reading 0 ... 153855  =      0.000 ...   600.996 secs...\n",
      "NOTE: pick_channels() is a legacy function. New code should use inst.pick(...).\n"
     ]
    },
    {
     "name": "stderr",
     "output_type": "stream",
     "text": [
      "Processing Files:  57%|███████████████████████████████████▌                          | 205/357 [49:06<45:40, 18.03s/it]"
     ]
    },
    {
     "name": "stdout",
     "output_type": "stream",
     "text": [
      "\n",
      "file: 'E:\\hy\\Datasets\\TUSZ\\edf\\dev\\01_tcp_ar\\100\\00010022\\s003_2013_02_11\\00010022_s003_t001.edf' [RECORDING] ALL WINDOWS DONE! FILE DONE!...\n",
      "\n",
      "FILE NAME: E:\\hy\\Datasets\\TUSZ\\edf\\dev\\01_tcp_ar\\100\\00010022\\s003_2013_02_11\\00010022_s003_t004.edf\n",
      "Extracting EDF parameters from E:\\hy\\Datasets\\TUSZ\\edf\\dev\\01_tcp_ar\\100\\00010022\\s003_2013_02_11\\00010022_s003_t004.edf...\n",
      "EDF file detected\n",
      "Setting channel info structure...\n",
      "Creating raw.info structure...\n",
      "Reading 0 ... 153855  =      0.000 ...   600.996 secs...\n",
      "NOTE: pick_channels() is a legacy function. New code should use inst.pick(...).\n"
     ]
    },
    {
     "name": "stderr",
     "output_type": "stream",
     "text": [
      "Processing Files:  58%|███████████████████████████████████▊                          | 206/357 [49:22<43:48, 17.41s/it]"
     ]
    },
    {
     "name": "stdout",
     "output_type": "stream",
     "text": [
      "\n",
      "file: 'E:\\hy\\Datasets\\TUSZ\\edf\\dev\\01_tcp_ar\\100\\00010022\\s003_2013_02_11\\00010022_s003_t004.edf' [RECORDING] ALL WINDOWS DONE! FILE DONE!...\n",
      "\n",
      "FILE NAME: E:\\hy\\Datasets\\TUSZ\\edf\\dev\\01_tcp_ar\\100\\00010022\\s003_2013_02_11\\00010022_s003_t006.edf\n",
      "Extracting EDF parameters from E:\\hy\\Datasets\\TUSZ\\edf\\dev\\01_tcp_ar\\100\\00010022\\s003_2013_02_11\\00010022_s003_t006.edf...\n",
      "EDF file detected\n",
      "Setting channel info structure...\n",
      "Creating raw.info structure...\n",
      "Reading 0 ... 225023  =      0.000 ...   878.996 secs...\n",
      "NOTE: pick_channels() is a legacy function. New code should use inst.pick(...).\n"
     ]
    },
    {
     "name": "stderr",
     "output_type": "stream",
     "text": [
      "Processing Files:  58%|███████████████████████████████████▉                          | 207/357 [49:45<47:39, 19.07s/it]"
     ]
    },
    {
     "name": "stdout",
     "output_type": "stream",
     "text": [
      "\n",
      "file: 'E:\\hy\\Datasets\\TUSZ\\edf\\dev\\01_tcp_ar\\100\\00010022\\s003_2013_02_11\\00010022_s003_t006.edf' [RECORDING] ALL WINDOWS DONE! FILE DONE!...\n",
      "\n",
      "FILE NAME: E:\\hy\\Datasets\\TUSZ\\edf\\dev\\01_tcp_ar\\100\\00010022\\s003_2013_02_11\\00010022_s003_t008.edf\n",
      "Extracting EDF parameters from E:\\hy\\Datasets\\TUSZ\\edf\\dev\\01_tcp_ar\\100\\00010022\\s003_2013_02_11\\00010022_s003_t008.edf...\n",
      "EDF file detected\n",
      "Setting channel info structure...\n",
      "Creating raw.info structure...\n",
      "Reading 0 ... 415743  =      0.000 ...  1623.996 secs...\n",
      "NOTE: pick_channels() is a legacy function. New code should use inst.pick(...).\n"
     ]
    },
    {
     "name": "stderr",
     "output_type": "stream",
     "text": [
      "Processing Files:  58%|██████████████████████████████████▉                         | 208/357 [50:28<1:04:49, 26.11s/it]"
     ]
    },
    {
     "name": "stdout",
     "output_type": "stream",
     "text": [
      "\n",
      "file: 'E:\\hy\\Datasets\\TUSZ\\edf\\dev\\01_tcp_ar\\100\\00010022\\s003_2013_02_11\\00010022_s003_t008.edf' [RECORDING] ALL WINDOWS DONE! FILE DONE!...\n",
      "\n",
      "FILE NAME: E:\\hy\\Datasets\\TUSZ\\edf\\dev\\01_tcp_ar\\100\\00010022\\s003_2013_02_11\\00010022_s003_t010.edf\n",
      "Extracting EDF parameters from E:\\hy\\Datasets\\TUSZ\\edf\\dev\\01_tcp_ar\\100\\00010022\\s003_2013_02_11\\00010022_s003_t010.edf...\n",
      "EDF file detected\n",
      "Setting channel info structure...\n",
      "Creating raw.info structure...\n",
      "Reading 0 ... 76799  =      0.000 ...   299.996 secs...\n",
      "NOTE: pick_channels() is a legacy function. New code should use inst.pick(...).\n"
     ]
    },
    {
     "name": "stderr",
     "output_type": "stream",
     "text": [
      "Processing Files:  59%|████████████████████████████████████▎                         | 209/357 [50:35<50:47, 20.59s/it]"
     ]
    },
    {
     "name": "stdout",
     "output_type": "stream",
     "text": [
      "\n",
      "file: 'E:\\hy\\Datasets\\TUSZ\\edf\\dev\\01_tcp_ar\\100\\00010022\\s003_2013_02_11\\00010022_s003_t010.edf' [RECORDING] ALL WINDOWS DONE! FILE DONE!...\n",
      "\n",
      "FILE NAME: E:\\hy\\Datasets\\TUSZ\\edf\\dev\\01_tcp_ar\\100\\00010022\\s003_2013_02_11\\00010022_s003_t011.edf\n",
      "Extracting EDF parameters from E:\\hy\\Datasets\\TUSZ\\edf\\dev\\01_tcp_ar\\100\\00010022\\s003_2013_02_11\\00010022_s003_t011.edf...\n",
      "EDF file detected\n",
      "Setting channel info structure...\n",
      "Creating raw.info structure...\n",
      "Reading 0 ... 153855  =      0.000 ...   600.996 secs...\n",
      "NOTE: pick_channels() is a legacy function. New code should use inst.pick(...).\n"
     ]
    },
    {
     "name": "stderr",
     "output_type": "stream",
     "text": [
      "Processing Files:  59%|████████████████████████████████████▍                         | 210/357 [50:51<47:04, 19.21s/it]"
     ]
    },
    {
     "name": "stdout",
     "output_type": "stream",
     "text": [
      "\n",
      "file: 'E:\\hy\\Datasets\\TUSZ\\edf\\dev\\01_tcp_ar\\100\\00010022\\s003_2013_02_11\\00010022_s003_t011.edf' [RECORDING] ALL WINDOWS DONE! FILE DONE!...\n",
      "\n",
      "FILE NAME: E:\\hy\\Datasets\\TUSZ\\edf\\dev\\01_tcp_ar\\100\\00010022\\s003_2013_02_11\\00010022_s003_t012.edf\n",
      "Extracting EDF parameters from E:\\hy\\Datasets\\TUSZ\\edf\\dev\\01_tcp_ar\\100\\00010022\\s003_2013_02_11\\00010022_s003_t012.edf...\n",
      "EDF file detected\n",
      "Setting channel info structure...\n",
      "Creating raw.info structure...\n",
      "Reading 0 ... 153855  =      0.000 ...   600.996 secs...\n",
      "NOTE: pick_channels() is a legacy function. New code should use inst.pick(...).\n"
     ]
    },
    {
     "name": "stderr",
     "output_type": "stream",
     "text": [
      "Processing Files:  59%|████████████████████████████████████▊                         | 212/357 [51:07<33:56, 14.04s/it]"
     ]
    },
    {
     "name": "stdout",
     "output_type": "stream",
     "text": [
      "\n",
      "file: 'E:\\hy\\Datasets\\TUSZ\\edf\\dev\\01_tcp_ar\\100\\00010022\\s003_2013_02_11\\00010022_s003_t012.edf' [RECORDING] ALL WINDOWS DONE! FILE DONE!...\n",
      "\n",
      "FILE NAME: E:\\hy\\Datasets\\TUSZ\\edf\\dev\\01_tcp_ar\\100\\00010022\\s003_2013_02_11\\00010022_s003_t013.edf\n",
      "Extracting EDF parameters from E:\\hy\\Datasets\\TUSZ\\edf\\dev\\01_tcp_ar\\100\\00010022\\s003_2013_02_11\\00010022_s003_t013.edf...\n",
      "EDF file detected\n",
      "Setting channel info structure...\n",
      "Creating raw.info structure...\n",
      "Reading 0 ... 76799  =      0.000 ...   299.996 secs...\n",
      "NOTE: pick_channels() is a legacy function. New code should use inst.pick(...).\n"
     ]
    },
    {
     "name": "stderr",
     "output_type": "stream",
     "text": [
      "Processing Files:  60%|████████████████████████████████████▉                         | 213/357 [51:15<29:36, 12.34s/it]"
     ]
    },
    {
     "name": "stdout",
     "output_type": "stream",
     "text": [
      "\n",
      "file: 'E:\\hy\\Datasets\\TUSZ\\edf\\dev\\01_tcp_ar\\100\\00010022\\s003_2013_02_11\\00010022_s003_t013.edf' [RECORDING] ALL WINDOWS DONE! FILE DONE!...\n",
      "\n",
      "FILE NAME: E:\\hy\\Datasets\\TUSZ\\edf\\dev\\01_tcp_ar\\100\\00010022\\s003_2013_02_11\\00010022_s003_t014.edf\n",
      "Extracting EDF parameters from E:\\hy\\Datasets\\TUSZ\\edf\\dev\\01_tcp_ar\\100\\00010022\\s003_2013_02_11\\00010022_s003_t014.edf...\n",
      "EDF file detected\n",
      "Setting channel info structure...\n",
      "Creating raw.info structure...\n",
      "Reading 0 ... 206591  =      0.000 ...   806.996 secs...\n",
      "NOTE: pick_channels() is a legacy function. New code should use inst.pick(...).\n"
     ]
    },
    {
     "name": "stderr",
     "output_type": "stream",
     "text": [
      "Processing Files:  60%|█████████████████████████████████████▏                        | 214/357 [51:35<34:21, 14.42s/it]"
     ]
    },
    {
     "name": "stdout",
     "output_type": "stream",
     "text": [
      "\n",
      "file: 'E:\\hy\\Datasets\\TUSZ\\edf\\dev\\01_tcp_ar\\100\\00010022\\s003_2013_02_11\\00010022_s003_t014.edf' [RECORDING] ALL WINDOWS DONE! FILE DONE!...\n",
      "\n",
      "FILE NAME: E:\\hy\\Datasets\\TUSZ\\edf\\dev\\01_tcp_ar\\100\\00010022\\s003_2013_02_11\\00010022_s003_t015.edf\n",
      "Extracting EDF parameters from E:\\hy\\Datasets\\TUSZ\\edf\\dev\\01_tcp_ar\\100\\00010022\\s003_2013_02_11\\00010022_s003_t015.edf...\n",
      "EDF file detected\n",
      "Setting channel info structure...\n",
      "Creating raw.info structure...\n",
      "Reading 0 ... 76799  =      0.000 ...   299.996 secs...\n",
      "NOTE: pick_channels() is a legacy function. New code should use inst.pick(...).\n"
     ]
    },
    {
     "name": "stderr",
     "output_type": "stream",
     "text": [
      "Processing Files:  60%|█████████████████████████████████████▎                        | 215/357 [51:42<29:45, 12.57s/it]"
     ]
    },
    {
     "name": "stdout",
     "output_type": "stream",
     "text": [
      "\n",
      "file: 'E:\\hy\\Datasets\\TUSZ\\edf\\dev\\01_tcp_ar\\100\\00010022\\s003_2013_02_11\\00010022_s003_t015.edf' [RECORDING] ALL WINDOWS DONE! FILE DONE!...\n",
      "\n",
      "FILE NAME: E:\\hy\\Datasets\\TUSZ\\edf\\dev\\01_tcp_ar\\100\\00010022\\s003_2013_02_11\\00010022_s003_t016.edf\n",
      "Extracting EDF parameters from E:\\hy\\Datasets\\TUSZ\\edf\\dev\\01_tcp_ar\\100\\00010022\\s003_2013_02_11\\00010022_s003_t016.edf...\n",
      "EDF file detected\n",
      "Setting channel info structure...\n",
      "Creating raw.info structure...\n",
      "Reading 0 ... 153855  =      0.000 ...   600.996 secs...\n",
      "NOTE: pick_channels() is a legacy function. New code should use inst.pick(...).\n"
     ]
    },
    {
     "name": "stderr",
     "output_type": "stream",
     "text": [
      "Processing Files:  61%|█████████████████████████████████████▌                        | 216/357 [51:58<31:15, 13.30s/it]"
     ]
    },
    {
     "name": "stdout",
     "output_type": "stream",
     "text": [
      "\n",
      "file: 'E:\\hy\\Datasets\\TUSZ\\edf\\dev\\01_tcp_ar\\100\\00010022\\s003_2013_02_11\\00010022_s003_t016.edf' [RECORDING] ALL WINDOWS DONE! FILE DONE!...\n",
      "\n",
      "FILE NAME: E:\\hy\\Datasets\\TUSZ\\edf\\dev\\01_tcp_ar\\100\\00010022\\s003_2013_02_11\\00010022_s003_t017.edf\n",
      "Extracting EDF parameters from E:\\hy\\Datasets\\TUSZ\\edf\\dev\\01_tcp_ar\\100\\00010022\\s003_2013_02_11\\00010022_s003_t017.edf...\n",
      "EDF file detected\n",
      "Setting channel info structure...\n",
      "Creating raw.info structure...\n",
      "Reading 0 ... 153855  =      0.000 ...   600.996 secs...\n",
      "NOTE: pick_channels() is a legacy function. New code should use inst.pick(...).\n"
     ]
    },
    {
     "name": "stderr",
     "output_type": "stream",
     "text": [
      "Processing Files:  61%|█████████████████████████████████████▋                        | 217/357 [52:14<32:53, 14.10s/it]"
     ]
    },
    {
     "name": "stdout",
     "output_type": "stream",
     "text": [
      "\n",
      "file: 'E:\\hy\\Datasets\\TUSZ\\edf\\dev\\01_tcp_ar\\100\\00010022\\s003_2013_02_11\\00010022_s003_t017.edf' [RECORDING] ALL WINDOWS DONE! FILE DONE!...\n",
      "\n",
      "FILE NAME: E:\\hy\\Datasets\\TUSZ\\edf\\dev\\01_tcp_ar\\100\\00010022\\s004_2013_02_12\\00010022_s004_t000.edf\n",
      "Extracting EDF parameters from E:\\hy\\Datasets\\TUSZ\\edf\\dev\\01_tcp_ar\\100\\00010022\\s004_2013_02_12\\00010022_s004_t000.edf...\n",
      "EDF file detected\n",
      "Setting channel info structure...\n",
      "Creating raw.info structure...\n",
      "Reading 0 ... 76799  =      0.000 ...   299.996 secs...\n",
      "NOTE: pick_channels() is a legacy function. New code should use inst.pick(...).\n"
     ]
    },
    {
     "name": "stderr",
     "output_type": "stream",
     "text": [
      "Processing Files:  61%|█████████████████████████████████████▊                        | 218/357 [52:21<28:13, 12.18s/it]"
     ]
    },
    {
     "name": "stdout",
     "output_type": "stream",
     "text": [
      "\n",
      "file: 'E:\\hy\\Datasets\\TUSZ\\edf\\dev\\01_tcp_ar\\100\\00010022\\s004_2013_02_12\\00010022_s004_t000.edf' [RECORDING] ALL WINDOWS DONE! FILE DONE!...\n",
      "\n",
      "FILE NAME: E:\\hy\\Datasets\\TUSZ\\edf\\dev\\01_tcp_ar\\100\\00010022\\s004_2013_02_12\\00010022_s004_t001.edf\n",
      "Extracting EDF parameters from E:\\hy\\Datasets\\TUSZ\\edf\\dev\\01_tcp_ar\\100\\00010022\\s004_2013_02_12\\00010022_s004_t001.edf...\n",
      "EDF file detected\n",
      "Setting channel info structure...\n",
      "Creating raw.info structure...\n",
      "Reading 0 ... 153855  =      0.000 ...   600.996 secs...\n",
      "NOTE: pick_channels() is a legacy function. New code should use inst.pick(...).\n"
     ]
    },
    {
     "name": "stderr",
     "output_type": "stream",
     "text": [
      "Processing Files:  61%|██████████████████████████████████████                        | 219/357 [52:37<30:28, 13.25s/it]"
     ]
    },
    {
     "name": "stdout",
     "output_type": "stream",
     "text": [
      "\n",
      "file: 'E:\\hy\\Datasets\\TUSZ\\edf\\dev\\01_tcp_ar\\100\\00010022\\s004_2013_02_12\\00010022_s004_t001.edf' [RECORDING] ALL WINDOWS DONE! FILE DONE!...\n",
      "\n",
      "FILE NAME: E:\\hy\\Datasets\\TUSZ\\edf\\dev\\01_tcp_ar\\100\\00010022\\s004_2013_02_12\\00010022_s004_t002.edf\n",
      "Extracting EDF parameters from E:\\hy\\Datasets\\TUSZ\\edf\\dev\\01_tcp_ar\\100\\00010022\\s004_2013_02_12\\00010022_s004_t002.edf...\n",
      "EDF file detected\n",
      "Setting channel info structure...\n",
      "Creating raw.info structure...\n",
      "Reading 0 ... 153855  =      0.000 ...   600.996 secs...\n",
      "NOTE: pick_channels() is a legacy function. New code should use inst.pick(...).\n"
     ]
    },
    {
     "name": "stderr",
     "output_type": "stream",
     "text": [
      "Processing Files:  62%|██████████████████████████████████████▏                       | 220/357 [52:53<31:53, 13.97s/it]"
     ]
    },
    {
     "name": "stdout",
     "output_type": "stream",
     "text": [
      "\n",
      "file: 'E:\\hy\\Datasets\\TUSZ\\edf\\dev\\01_tcp_ar\\100\\00010022\\s004_2013_02_12\\00010022_s004_t002.edf' [RECORDING] ALL WINDOWS DONE! FILE DONE!...\n",
      "\n",
      "FILE NAME: E:\\hy\\Datasets\\TUSZ\\edf\\dev\\01_tcp_ar\\100\\00010022\\s004_2013_02_12\\00010022_s004_t003.edf\n",
      "Extracting EDF parameters from E:\\hy\\Datasets\\TUSZ\\edf\\dev\\01_tcp_ar\\100\\00010022\\s004_2013_02_12\\00010022_s004_t003.edf...\n",
      "EDF file detected\n",
      "Setting channel info structure...\n",
      "Creating raw.info structure...\n",
      "Reading 0 ... 76799  =      0.000 ...   299.996 secs...\n",
      "NOTE: pick_channels() is a legacy function. New code should use inst.pick(...).\n"
     ]
    },
    {
     "name": "stderr",
     "output_type": "stream",
     "text": [
      "Processing Files:  62%|██████████████████████████████████████▍                       | 221/357 [53:00<27:26, 12.11s/it]"
     ]
    },
    {
     "name": "stdout",
     "output_type": "stream",
     "text": [
      "\n",
      "file: 'E:\\hy\\Datasets\\TUSZ\\edf\\dev\\01_tcp_ar\\100\\00010022\\s004_2013_02_12\\00010022_s004_t003.edf' [RECORDING] ALL WINDOWS DONE! FILE DONE!...\n",
      "\n",
      "FILE NAME: E:\\hy\\Datasets\\TUSZ\\edf\\dev\\01_tcp_ar\\100\\00010022\\s004_2013_02_12\\00010022_s004_t004.edf\n",
      "Extracting EDF parameters from E:\\hy\\Datasets\\TUSZ\\edf\\dev\\01_tcp_ar\\100\\00010022\\s004_2013_02_12\\00010022_s004_t004.edf...\n",
      "EDF file detected\n",
      "Setting channel info structure...\n",
      "Creating raw.info structure...\n",
      "Reading 0 ... 153855  =      0.000 ...   600.996 secs...\n",
      "NOTE: pick_channels() is a legacy function. New code should use inst.pick(...).\n"
     ]
    },
    {
     "name": "stderr",
     "output_type": "stream",
     "text": [
      "Processing Files:  62%|██████████████████████████████████████▌                       | 222/357 [53:16<29:52, 13.28s/it]"
     ]
    },
    {
     "name": "stdout",
     "output_type": "stream",
     "text": [
      "\n",
      "file: 'E:\\hy\\Datasets\\TUSZ\\edf\\dev\\01_tcp_ar\\100\\00010022\\s004_2013_02_12\\00010022_s004_t004.edf' [RECORDING] ALL WINDOWS DONE! FILE DONE!...\n",
      "\n",
      "FILE NAME: E:\\hy\\Datasets\\TUSZ\\edf\\dev\\01_tcp_ar\\100\\00010022\\s004_2013_02_12\\00010022_s004_t005.edf\n",
      "Extracting EDF parameters from E:\\hy\\Datasets\\TUSZ\\edf\\dev\\01_tcp_ar\\100\\00010022\\s004_2013_02_12\\00010022_s004_t005.edf...\n",
      "EDF file detected\n",
      "Setting channel info structure...\n",
      "Creating raw.info structure...\n",
      "Reading 0 ... 76799  =      0.000 ...   299.996 secs...\n",
      "NOTE: pick_channels() is a legacy function. New code should use inst.pick(...).\n"
     ]
    },
    {
     "name": "stderr",
     "output_type": "stream",
     "text": [
      "Processing Files:  62%|██████████████████████████████████████▋                       | 223/357 [53:24<25:48, 11.56s/it]"
     ]
    },
    {
     "name": "stdout",
     "output_type": "stream",
     "text": [
      "\n",
      "file: 'E:\\hy\\Datasets\\TUSZ\\edf\\dev\\01_tcp_ar\\100\\00010022\\s004_2013_02_12\\00010022_s004_t005.edf' [RECORDING] ALL WINDOWS DONE! FILE DONE!...\n",
      "\n",
      "FILE NAME: E:\\hy\\Datasets\\TUSZ\\edf\\dev\\01_tcp_ar\\100\\00010022\\s004_2013_02_12\\00010022_s004_t006.edf\n",
      "Extracting EDF parameters from E:\\hy\\Datasets\\TUSZ\\edf\\dev\\01_tcp_ar\\100\\00010022\\s004_2013_02_12\\00010022_s004_t006.edf...\n",
      "EDF file detected\n",
      "Setting channel info structure...\n",
      "Creating raw.info structure...\n",
      "Reading 0 ... 153855  =      0.000 ...   600.996 secs...\n",
      "NOTE: pick_channels() is a legacy function. New code should use inst.pick(...).\n"
     ]
    },
    {
     "name": "stderr",
     "output_type": "stream",
     "text": [
      "Processing Files:  63%|██████████████████████████████████████▉                       | 224/357 [53:40<28:36, 12.91s/it]"
     ]
    },
    {
     "name": "stdout",
     "output_type": "stream",
     "text": [
      "\n",
      "file: 'E:\\hy\\Datasets\\TUSZ\\edf\\dev\\01_tcp_ar\\100\\00010022\\s004_2013_02_12\\00010022_s004_t006.edf' [RECORDING] ALL WINDOWS DONE! FILE DONE!...\n",
      "\n",
      "FILE NAME: E:\\hy\\Datasets\\TUSZ\\edf\\dev\\01_tcp_ar\\100\\00010022\\s004_2013_02_12\\00010022_s004_t007.edf\n",
      "Extracting EDF parameters from E:\\hy\\Datasets\\TUSZ\\edf\\dev\\01_tcp_ar\\100\\00010022\\s004_2013_02_12\\00010022_s004_t007.edf...\n",
      "EDF file detected\n",
      "Setting channel info structure...\n",
      "Creating raw.info structure...\n",
      "Reading 0 ... 196095  =      0.000 ...   765.996 secs...\n",
      "NOTE: pick_channels() is a legacy function. New code should use inst.pick(...).\n"
     ]
    },
    {
     "name": "stderr",
     "output_type": "stream",
     "text": [
      "Processing Files:  63%|███████████████████████████████████████                       | 225/357 [54:00<32:45, 14.89s/it]"
     ]
    },
    {
     "name": "stdout",
     "output_type": "stream",
     "text": [
      "\n",
      "file: 'E:\\hy\\Datasets\\TUSZ\\edf\\dev\\01_tcp_ar\\100\\00010022\\s004_2013_02_12\\00010022_s004_t007.edf' [RECORDING] ALL WINDOWS DONE! FILE DONE!...\n",
      "\n",
      "FILE NAME: E:\\hy\\Datasets\\TUSZ\\edf\\dev\\01_tcp_ar\\100\\00010022\\s004_2013_02_12\\00010022_s004_t008.edf\n",
      "Extracting EDF parameters from E:\\hy\\Datasets\\TUSZ\\edf\\dev\\01_tcp_ar\\100\\00010022\\s004_2013_02_12\\00010022_s004_t008.edf...\n",
      "EDF file detected\n",
      "Setting channel info structure...\n",
      "Creating raw.info structure...\n",
      "Reading 0 ... 319231  =      0.000 ...  1246.996 secs...\n",
      "NOTE: pick_channels() is a legacy function. New code should use inst.pick(...).\n"
     ]
    },
    {
     "name": "stderr",
     "output_type": "stream",
     "text": [
      "Processing Files:  63%|███████████████████████████████████████▏                      | 226/357 [54:33<44:19, 20.30s/it]"
     ]
    },
    {
     "name": "stdout",
     "output_type": "stream",
     "text": [
      "\n",
      "file: 'E:\\hy\\Datasets\\TUSZ\\edf\\dev\\01_tcp_ar\\100\\00010022\\s004_2013_02_12\\00010022_s004_t008.edf' [RECORDING] ALL WINDOWS DONE! FILE DONE!...\n",
      "\n",
      "FILE NAME: E:\\hy\\Datasets\\TUSZ\\edf\\dev\\01_tcp_ar\\100\\00010022\\s004_2013_02_12\\00010022_s004_t009.edf\n",
      "Extracting EDF parameters from E:\\hy\\Datasets\\TUSZ\\edf\\dev\\01_tcp_ar\\100\\00010022\\s004_2013_02_12\\00010022_s004_t009.edf...\n",
      "EDF file detected\n",
      "Setting channel info structure...\n",
      "Creating raw.info structure...\n",
      "Reading 0 ... 76799  =      0.000 ...   299.996 secs...\n",
      "NOTE: pick_channels() is a legacy function. New code should use inst.pick(...).\n"
     ]
    },
    {
     "name": "stderr",
     "output_type": "stream",
     "text": [
      "Processing Files:  64%|███████████████████████████████████████▍                      | 227/357 [54:40<35:42, 16.48s/it]"
     ]
    },
    {
     "name": "stdout",
     "output_type": "stream",
     "text": [
      "\n",
      "file: 'E:\\hy\\Datasets\\TUSZ\\edf\\dev\\01_tcp_ar\\100\\00010022\\s004_2013_02_12\\00010022_s004_t009.edf' [RECORDING] ALL WINDOWS DONE! FILE DONE!...\n",
      "\n",
      "FILE NAME: E:\\hy\\Datasets\\TUSZ\\edf\\dev\\01_tcp_ar\\100\\00010022\\s004_2013_02_12\\00010022_s004_t010.edf\n",
      "Extracting EDF parameters from E:\\hy\\Datasets\\TUSZ\\edf\\dev\\01_tcp_ar\\100\\00010022\\s004_2013_02_12\\00010022_s004_t010.edf...\n",
      "EDF file detected\n",
      "Setting channel info structure...\n",
      "Creating raw.info structure...\n",
      "Reading 0 ... 153855  =      0.000 ...   600.996 secs...\n",
      "NOTE: pick_channels() is a legacy function. New code should use inst.pick(...).\n"
     ]
    },
    {
     "name": "stderr",
     "output_type": "stream",
     "text": [
      "Processing Files:  64%|███████████████████████████████████████▌                      | 228/357 [54:56<35:02, 16.30s/it]"
     ]
    },
    {
     "name": "stdout",
     "output_type": "stream",
     "text": [
      "\n",
      "file: 'E:\\hy\\Datasets\\TUSZ\\edf\\dev\\01_tcp_ar\\100\\00010022\\s004_2013_02_12\\00010022_s004_t010.edf' [RECORDING] ALL WINDOWS DONE! FILE DONE!...\n",
      "\n",
      "FILE NAME: E:\\hy\\Datasets\\TUSZ\\edf\\dev\\01_tcp_ar\\100\\00010022\\s004_2013_02_12\\00010022_s004_t011.edf\n",
      "Extracting EDF parameters from E:\\hy\\Datasets\\TUSZ\\edf\\dev\\01_tcp_ar\\100\\00010022\\s004_2013_02_12\\00010022_s004_t011.edf...\n",
      "EDF file detected\n",
      "Setting channel info structure...\n",
      "Creating raw.info structure...\n",
      "Reading 0 ... 252415  =      0.000 ...   985.996 secs...\n",
      "NOTE: pick_channels() is a legacy function. New code should use inst.pick(...).\n"
     ]
    },
    {
     "name": "stderr",
     "output_type": "stream",
     "text": [
      "Processing Files:  64%|███████████████████████████████████████▊                      | 229/357 [55:22<41:01, 19.23s/it]"
     ]
    },
    {
     "name": "stdout",
     "output_type": "stream",
     "text": [
      "\n",
      "file: 'E:\\hy\\Datasets\\TUSZ\\edf\\dev\\01_tcp_ar\\100\\00010022\\s004_2013_02_12\\00010022_s004_t011.edf' [RECORDING] ALL WINDOWS DONE! FILE DONE!...\n",
      "\n",
      "FILE NAME: E:\\hy\\Datasets\\TUSZ\\edf\\dev\\01_tcp_ar\\100\\00010022\\s005_2013_02_13\\00010022_s005_t000.edf\n",
      "Extracting EDF parameters from E:\\hy\\Datasets\\TUSZ\\edf\\dev\\01_tcp_ar\\100\\00010022\\s005_2013_02_13\\00010022_s005_t000.edf...\n",
      "EDF file detected\n",
      "Setting channel info structure...\n",
      "Creating raw.info structure...\n",
      "Reading 0 ... 76799  =      0.000 ...   299.996 secs...\n",
      "NOTE: pick_channels() is a legacy function. New code should use inst.pick(...).\n"
     ]
    },
    {
     "name": "stderr",
     "output_type": "stream",
     "text": [
      "Processing Files:  64%|███████████████████████████████████████▉                      | 230/357 [55:30<33:23, 15.77s/it]"
     ]
    },
    {
     "name": "stdout",
     "output_type": "stream",
     "text": [
      "\n",
      "file: 'E:\\hy\\Datasets\\TUSZ\\edf\\dev\\01_tcp_ar\\100\\00010022\\s005_2013_02_13\\00010022_s005_t000.edf' [RECORDING] ALL WINDOWS DONE! FILE DONE!...\n",
      "\n",
      "FILE NAME: E:\\hy\\Datasets\\TUSZ\\edf\\dev\\01_tcp_ar\\100\\00010022\\s005_2013_02_13\\00010022_s005_t001.edf\n",
      "Extracting EDF parameters from E:\\hy\\Datasets\\TUSZ\\edf\\dev\\01_tcp_ar\\100\\00010022\\s005_2013_02_13\\00010022_s005_t001.edf...\n",
      "EDF file detected\n",
      "Setting channel info structure...\n",
      "Creating raw.info structure...\n",
      "Reading 0 ... 449279  =      0.000 ...  1754.996 secs...\n",
      "NOTE: pick_channels() is a legacy function. New code should use inst.pick(...).\n"
     ]
    },
    {
     "name": "stderr",
     "output_type": "stream",
     "text": [
      "Processing Files:  65%|████████████████████████████████████████                      | 231/357 [56:16<52:36, 25.05s/it]"
     ]
    },
    {
     "name": "stdout",
     "output_type": "stream",
     "text": [
      "\n",
      "file: 'E:\\hy\\Datasets\\TUSZ\\edf\\dev\\01_tcp_ar\\100\\00010022\\s005_2013_02_13\\00010022_s005_t001.edf' [RECORDING] ALL WINDOWS DONE! FILE DONE!...\n",
      "\n",
      "FILE NAME: E:\\hy\\Datasets\\TUSZ\\edf\\dev\\01_tcp_ar\\100\\00010022\\s005_2013_02_13\\00010022_s005_t002.edf\n",
      "Extracting EDF parameters from E:\\hy\\Datasets\\TUSZ\\edf\\dev\\01_tcp_ar\\100\\00010022\\s005_2013_02_13\\00010022_s005_t002.edf...\n",
      "EDF file detected\n",
      "Setting channel info structure...\n",
      "Creating raw.info structure...\n",
      "Reading 0 ... 153855  =      0.000 ...   600.996 secs...\n",
      "NOTE: pick_channels() is a legacy function. New code should use inst.pick(...).\n"
     ]
    },
    {
     "name": "stderr",
     "output_type": "stream",
     "text": [
      "Processing Files:  65%|████████████████████████████████████████▍                     | 233/357 [56:33<35:35, 17.22s/it]"
     ]
    },
    {
     "name": "stdout",
     "output_type": "stream",
     "text": [
      "\n",
      "file: 'E:\\hy\\Datasets\\TUSZ\\edf\\dev\\01_tcp_ar\\100\\00010022\\s005_2013_02_13\\00010022_s005_t002.edf' [RECORDING] ALL WINDOWS DONE! FILE DONE!...\n",
      "\n",
      "FILE NAME: E:\\hy\\Datasets\\TUSZ\\edf\\dev\\01_tcp_ar\\100\\00010022\\s005_2013_02_13\\00010022_s005_t003.edf\n",
      "Extracting EDF parameters from E:\\hy\\Datasets\\TUSZ\\edf\\dev\\01_tcp_ar\\100\\00010022\\s005_2013_02_13\\00010022_s005_t003.edf...\n",
      "EDF file detected\n",
      "Setting channel info structure...\n",
      "Creating raw.info structure...\n",
      "Reading 0 ... 76799  =      0.000 ...   299.996 secs...\n",
      "NOTE: pick_channels() is a legacy function. New code should use inst.pick(...).\n"
     ]
    },
    {
     "name": "stderr",
     "output_type": "stream",
     "text": [
      "Processing Files:  66%|████████████████████████████████████████▋                     | 234/357 [56:40<30:31, 14.89s/it]"
     ]
    },
    {
     "name": "stdout",
     "output_type": "stream",
     "text": [
      "\n",
      "file: 'E:\\hy\\Datasets\\TUSZ\\edf\\dev\\01_tcp_ar\\100\\00010022\\s005_2013_02_13\\00010022_s005_t003.edf' [RECORDING] ALL WINDOWS DONE! FILE DONE!...\n",
      "\n",
      "FILE NAME: E:\\hy\\Datasets\\TUSZ\\edf\\dev\\01_tcp_ar\\100\\00010022\\s005_2013_02_13\\00010022_s005_t004.edf\n",
      "Extracting EDF parameters from E:\\hy\\Datasets\\TUSZ\\edf\\dev\\01_tcp_ar\\100\\00010022\\s005_2013_02_13\\00010022_s005_t004.edf...\n",
      "EDF file detected\n",
      "Setting channel info structure...\n",
      "Creating raw.info structure...\n",
      "Reading 0 ... 236287  =      0.000 ...   922.996 secs...\n",
      "NOTE: pick_channels() is a legacy function. New code should use inst.pick(...).\n"
     ]
    },
    {
     "name": "stderr",
     "output_type": "stream",
     "text": [
      "Processing Files:  66%|████████████████████████████████████████▊                     | 235/357 [57:05<35:12, 17.31s/it]"
     ]
    },
    {
     "name": "stdout",
     "output_type": "stream",
     "text": [
      "\n",
      "file: 'E:\\hy\\Datasets\\TUSZ\\edf\\dev\\01_tcp_ar\\100\\00010022\\s005_2013_02_13\\00010022_s005_t004.edf' [RECORDING] ALL WINDOWS DONE! FILE DONE!...\n",
      "\n",
      "FILE NAME: E:\\hy\\Datasets\\TUSZ\\edf\\dev\\01_tcp_ar\\100\\00010022\\s005_2013_02_13\\00010022_s005_t005.edf\n",
      "Extracting EDF parameters from E:\\hy\\Datasets\\TUSZ\\edf\\dev\\01_tcp_ar\\100\\00010022\\s005_2013_02_13\\00010022_s005_t005.edf...\n",
      "EDF file detected\n",
      "Setting channel info structure...\n",
      "Creating raw.info structure...\n",
      "Reading 0 ... 76799  =      0.000 ...   299.996 secs...\n",
      "NOTE: pick_channels() is a legacy function. New code should use inst.pick(...).\n"
     ]
    },
    {
     "name": "stderr",
     "output_type": "stream",
     "text": [
      "Processing Files:  66%|████████████████████████████████████████▉                     | 236/357 [57:12<29:37, 14.69s/it]"
     ]
    },
    {
     "name": "stdout",
     "output_type": "stream",
     "text": [
      "\n",
      "file: 'E:\\hy\\Datasets\\TUSZ\\edf\\dev\\01_tcp_ar\\100\\00010022\\s005_2013_02_13\\00010022_s005_t005.edf' [RECORDING] ALL WINDOWS DONE! FILE DONE!...\n",
      "\n",
      "FILE NAME: E:\\hy\\Datasets\\TUSZ\\edf\\dev\\01_tcp_ar\\100\\00010022\\s005_2013_02_13\\00010022_s005_t006.edf\n",
      "Extracting EDF parameters from E:\\hy\\Datasets\\TUSZ\\edf\\dev\\01_tcp_ar\\100\\00010022\\s005_2013_02_13\\00010022_s005_t006.edf...\n",
      "EDF file detected\n",
      "Setting channel info structure...\n",
      "Creating raw.info structure...\n",
      "Reading 0 ... 153855  =      0.000 ...   600.996 secs...\n",
      "NOTE: pick_channels() is a legacy function. New code should use inst.pick(...).\n"
     ]
    },
    {
     "name": "stderr",
     "output_type": "stream",
     "text": [
      "Processing Files:  66%|█████████████████████████████████████████▏                    | 237/357 [57:28<30:10, 15.08s/it]"
     ]
    },
    {
     "name": "stdout",
     "output_type": "stream",
     "text": [
      "\n",
      "file: 'E:\\hy\\Datasets\\TUSZ\\edf\\dev\\01_tcp_ar\\100\\00010022\\s005_2013_02_13\\00010022_s005_t006.edf' [RECORDING] ALL WINDOWS DONE! FILE DONE!...\n",
      "\n",
      "FILE NAME: E:\\hy\\Datasets\\TUSZ\\edf\\dev\\01_tcp_ar\\100\\00010022\\s005_2013_02_13\\00010022_s005_t007.edf\n",
      "Extracting EDF parameters from E:\\hy\\Datasets\\TUSZ\\edf\\dev\\01_tcp_ar\\100\\00010022\\s005_2013_02_13\\00010022_s005_t007.edf...\n",
      "EDF file detected\n",
      "Setting channel info structure...\n",
      "Creating raw.info structure...\n",
      "Reading 0 ... 76799  =      0.000 ...   299.996 secs...\n",
      "NOTE: pick_channels() is a legacy function. New code should use inst.pick(...).\n"
     ]
    },
    {
     "name": "stderr",
     "output_type": "stream",
     "text": [
      "Processing Files:  67%|█████████████████████████████████████████▎                    | 238/357 [57:37<26:02, 13.13s/it]"
     ]
    },
    {
     "name": "stdout",
     "output_type": "stream",
     "text": [
      "\n",
      "file: 'E:\\hy\\Datasets\\TUSZ\\edf\\dev\\01_tcp_ar\\100\\00010022\\s005_2013_02_13\\00010022_s005_t007.edf' [RECORDING] ALL WINDOWS DONE! FILE DONE!...\n",
      "\n",
      "FILE NAME: E:\\hy\\Datasets\\TUSZ\\edf\\dev\\01_tcp_ar\\100\\00010022\\s005_2013_02_13\\00010022_s005_t008.edf\n",
      "Extracting EDF parameters from E:\\hy\\Datasets\\TUSZ\\edf\\dev\\01_tcp_ar\\100\\00010022\\s005_2013_02_13\\00010022_s005_t008.edf...\n",
      "EDF file detected\n",
      "Setting channel info structure...\n",
      "Creating raw.info structure...\n",
      "Reading 0 ... 153855  =      0.000 ...   600.996 secs...\n",
      "NOTE: pick_channels() is a legacy function. New code should use inst.pick(...).\n"
     ]
    },
    {
     "name": "stderr",
     "output_type": "stream",
     "text": [
      "Processing Files:  67%|█████████████████████████████████████████▌                    | 239/357 [57:53<27:53, 14.18s/it]"
     ]
    },
    {
     "name": "stdout",
     "output_type": "stream",
     "text": [
      "\n",
      "file: 'E:\\hy\\Datasets\\TUSZ\\edf\\dev\\01_tcp_ar\\100\\00010022\\s005_2013_02_13\\00010022_s005_t008.edf' [RECORDING] ALL WINDOWS DONE! FILE DONE!...\n",
      "\n",
      "FILE NAME: E:\\hy\\Datasets\\TUSZ\\edf\\dev\\01_tcp_ar\\100\\00010022\\s005_2013_02_13\\00010022_s005_t009.edf\n",
      "Extracting EDF parameters from E:\\hy\\Datasets\\TUSZ\\edf\\dev\\01_tcp_ar\\100\\00010022\\s005_2013_02_13\\00010022_s005_t009.edf...\n",
      "EDF file detected\n",
      "Setting channel info structure...\n",
      "Creating raw.info structure...\n",
      "Reading 0 ... 153855  =      0.000 ...   600.996 secs...\n",
      "NOTE: pick_channels() is a legacy function. New code should use inst.pick(...).\n"
     ]
    },
    {
     "name": "stderr",
     "output_type": "stream",
     "text": [
      "Processing Files:  67%|█████████████████████████████████████████▋                    | 240/357 [58:10<29:09, 14.95s/it]"
     ]
    },
    {
     "name": "stdout",
     "output_type": "stream",
     "text": [
      "\n",
      "file: 'E:\\hy\\Datasets\\TUSZ\\edf\\dev\\01_tcp_ar\\100\\00010022\\s005_2013_02_13\\00010022_s005_t009.edf' [RECORDING] ALL WINDOWS DONE! FILE DONE!...\n",
      "\n",
      "FILE NAME: E:\\hy\\Datasets\\TUSZ\\edf\\dev\\01_tcp_ar\\100\\00010022\\s006_2013_02_18\\00010022_s006_t000.edf\n",
      "Extracting EDF parameters from E:\\hy\\Datasets\\TUSZ\\edf\\dev\\01_tcp_ar\\100\\00010022\\s006_2013_02_18\\00010022_s006_t000.edf...\n",
      "EDF file detected\n",
      "Setting channel info structure...\n",
      "Creating raw.info structure...\n",
      "Reading 0 ... 43749  =      0.000 ...   174.996 secs...\n",
      "NOTE: pick_channels() is a legacy function. New code should use inst.pick(...).\n"
     ]
    },
    {
     "name": "stderr",
     "output_type": "stream",
     "text": [
      "Processing Files:  68%|█████████████████████████████████████████▊                    | 241/357 [58:15<23:03, 11.92s/it]"
     ]
    },
    {
     "name": "stdout",
     "output_type": "stream",
     "text": [
      "\n",
      "file: 'E:\\hy\\Datasets\\TUSZ\\edf\\dev\\01_tcp_ar\\100\\00010022\\s006_2013_02_18\\00010022_s006_t000.edf' [RECORDING] ALL WINDOWS DONE! FILE DONE!...\n",
      "\n",
      "FILE NAME: E:\\hy\\Datasets\\TUSZ\\edf\\dev\\01_tcp_ar\\100\\00010022\\s006_2013_02_18\\00010022_s006_t001.edf\n",
      "Extracting EDF parameters from E:\\hy\\Datasets\\TUSZ\\edf\\dev\\01_tcp_ar\\100\\00010022\\s006_2013_02_18\\00010022_s006_t001.edf...\n",
      "EDF file detected\n",
      "Setting channel info structure...\n",
      "Creating raw.info structure...\n",
      "Reading 0 ... 27499  =      0.000 ...   109.996 secs...\n",
      "NOTE: pick_channels() is a legacy function. New code should use inst.pick(...).\n"
     ]
    },
    {
     "name": "stderr",
     "output_type": "stream",
     "text": [
      "Processing Files:  68%|██████████████████████████████████████████                    | 242/357 [58:18<17:47,  9.28s/it]"
     ]
    },
    {
     "name": "stdout",
     "output_type": "stream",
     "text": [
      "\n",
      "file: 'E:\\hy\\Datasets\\TUSZ\\edf\\dev\\01_tcp_ar\\100\\00010022\\s006_2013_02_18\\00010022_s006_t001.edf' [RECORDING] ALL WINDOWS DONE! FILE DONE!...\n",
      "\n",
      "FILE NAME: E:\\hy\\Datasets\\TUSZ\\edf\\dev\\01_tcp_ar\\100\\00010022\\s006_2013_02_18\\00010022_s006_t002.edf\n",
      "Extracting EDF parameters from E:\\hy\\Datasets\\TUSZ\\edf\\dev\\01_tcp_ar\\100\\00010022\\s006_2013_02_18\\00010022_s006_t002.edf...\n",
      "EDF file detected\n",
      "Setting channel info structure...\n",
      "Creating raw.info structure...\n",
      "Reading 0 ... 245249  =      0.000 ...   980.996 secs...\n",
      "NOTE: pick_channels() is a legacy function. New code should use inst.pick(...).\n"
     ]
    },
    {
     "name": "stderr",
     "output_type": "stream",
     "text": [
      "Processing Files:  68%|██████████████████████████████████████████▏                   | 243/357 [58:45<27:46, 14.62s/it]"
     ]
    },
    {
     "name": "stdout",
     "output_type": "stream",
     "text": [
      "\n",
      "file: 'E:\\hy\\Datasets\\TUSZ\\edf\\dev\\01_tcp_ar\\100\\00010022\\s006_2013_02_18\\00010022_s006_t002.edf' [RECORDING] ALL WINDOWS DONE! FILE DONE!...\n",
      "\n",
      "FILE NAME: E:\\hy\\Datasets\\TUSZ\\edf\\dev\\01_tcp_ar\\100\\00010062\\s001_2013_02_19\\00010062_s001_t000.edf\n",
      "Extracting EDF parameters from E:\\hy\\Datasets\\TUSZ\\edf\\dev\\01_tcp_ar\\100\\00010062\\s001_2013_02_19\\00010062_s001_t000.edf...\n",
      "EDF file detected\n",
      "Setting channel info structure...\n",
      "Creating raw.info structure...\n",
      "Reading 0 ... 441749  =      0.000 ...  1766.996 secs...\n",
      "NOTE: pick_channels() is a legacy function. New code should use inst.pick(...).\n"
     ]
    },
    {
     "name": "stderr",
     "output_type": "stream",
     "text": [
      "Processing Files:  68%|██████████████████████████████████████████▍                   | 244/357 [59:34<46:48, 24.85s/it]"
     ]
    },
    {
     "name": "stdout",
     "output_type": "stream",
     "text": [
      "\n",
      "file: 'E:\\hy\\Datasets\\TUSZ\\edf\\dev\\01_tcp_ar\\100\\00010062\\s001_2013_02_19\\00010062_s001_t000.edf' [RECORDING] ALL WINDOWS DONE! FILE DONE!...\n",
      "\n",
      "FILE NAME: E:\\hy\\Datasets\\TUSZ\\edf\\dev\\01_tcp_ar\\100\\00010062\\s002_2013_03_11\\00010062_s002_t000.edf\n",
      "Extracting EDF parameters from E:\\hy\\Datasets\\TUSZ\\edf\\dev\\01_tcp_ar\\100\\00010062\\s002_2013_03_11\\00010062_s002_t000.edf...\n",
      "EDF file detected\n",
      "Setting channel info structure...\n",
      "Creating raw.info structure...\n",
      "Reading 0 ... 185749  =      0.000 ...   742.996 secs...\n",
      "NOTE: pick_channels() is a legacy function. New code should use inst.pick(...).\n"
     ]
    },
    {
     "name": "stderr",
     "output_type": "stream",
     "text": [
      "Processing Files:  69%|██████████████████████████████████████████▌                   | 245/357 [59:55<44:00, 23.57s/it]"
     ]
    },
    {
     "name": "stdout",
     "output_type": "stream",
     "text": [
      "\n",
      "file: 'E:\\hy\\Datasets\\TUSZ\\edf\\dev\\01_tcp_ar\\100\\00010062\\s002_2013_03_11\\00010062_s002_t000.edf' [RECORDING] ALL WINDOWS DONE! FILE DONE!...\n",
      "\n",
      "FILE NAME: E:\\hy\\Datasets\\TUSZ\\edf\\dev\\01_tcp_ar\\100\\00010062\\s003_2013_03_26\\00010062_s003_t000.edf\n",
      "Extracting EDF parameters from E:\\hy\\Datasets\\TUSZ\\edf\\dev\\01_tcp_ar\\100\\00010062\\s003_2013_03_26\\00010062_s003_t000.edf...\n",
      "EDF file detected\n",
      "Setting channel info structure...\n",
      "Creating raw.info structure...\n",
      "Reading 0 ... 151039  =      0.000 ...   589.996 secs...\n",
      "NOTE: pick_channels() is a legacy function. New code should use inst.pick(...).\n"
     ]
    },
    {
     "name": "stderr",
     "output_type": "stream",
     "text": [
      "Processing Files:  69%|█████████████████████████████████████████▎                  | 246/357 [1:00:11<39:42, 21.46s/it]"
     ]
    },
    {
     "name": "stdout",
     "output_type": "stream",
     "text": [
      "\n",
      "file: 'E:\\hy\\Datasets\\TUSZ\\edf\\dev\\01_tcp_ar\\100\\00010062\\s003_2013_03_26\\00010062_s003_t000.edf' [RECORDING] ALL WINDOWS DONE! FILE DONE!...\n",
      "\n",
      "FILE NAME: E:\\hy\\Datasets\\TUSZ\\edf\\dev\\01_tcp_ar\\100\\00010062\\s003_2013_03_26\\00010062_s003_t001.edf\n",
      "Extracting EDF parameters from E:\\hy\\Datasets\\TUSZ\\edf\\dev\\01_tcp_ar\\100\\00010062\\s003_2013_03_26\\00010062_s003_t001.edf...\n",
      "EDF file detected\n",
      "Setting channel info structure...\n",
      "Creating raw.info structure...\n",
      "Reading 0 ... 193023  =      0.000 ...   753.996 secs...\n",
      "NOTE: pick_channels() is a legacy function. New code should use inst.pick(...).\n"
     ]
    },
    {
     "name": "stderr",
     "output_type": "stream",
     "text": [
      "Processing Files:  69%|█████████████████████████████████████████▌                  | 247/357 [1:00:31<38:39, 21.09s/it]"
     ]
    },
    {
     "name": "stdout",
     "output_type": "stream",
     "text": [
      "\n",
      "file: 'E:\\hy\\Datasets\\TUSZ\\edf\\dev\\01_tcp_ar\\100\\00010062\\s003_2013_03_26\\00010062_s003_t001.edf' [RECORDING] ALL WINDOWS DONE! FILE DONE!...\n",
      "\n",
      "FILE NAME: E:\\hy\\Datasets\\TUSZ\\edf\\dev\\01_tcp_ar\\100\\00010062\\s003_2013_03_26\\00010062_s003_t002.edf\n",
      "Extracting EDF parameters from E:\\hy\\Datasets\\TUSZ\\edf\\dev\\01_tcp_ar\\100\\00010062\\s003_2013_03_26\\00010062_s003_t002.edf...\n",
      "EDF file detected\n",
      "Setting channel info structure...\n",
      "Creating raw.info structure...\n",
      "Reading 0 ... 153855  =      0.000 ...   600.996 secs...\n",
      "NOTE: pick_channels() is a legacy function. New code should use inst.pick(...).\n"
     ]
    },
    {
     "name": "stderr",
     "output_type": "stream",
     "text": [
      "Processing Files:  69%|█████████████████████████████████████████▋                  | 248/357 [1:00:47<35:32, 19.56s/it]"
     ]
    },
    {
     "name": "stdout",
     "output_type": "stream",
     "text": [
      "\n",
      "file: 'E:\\hy\\Datasets\\TUSZ\\edf\\dev\\01_tcp_ar\\100\\00010062\\s003_2013_03_26\\00010062_s003_t002.edf' [RECORDING] ALL WINDOWS DONE! FILE DONE!...\n",
      "\n",
      "FILE NAME: E:\\hy\\Datasets\\TUSZ\\edf\\dev\\01_tcp_ar\\100\\00010062\\s003_2013_03_26\\00010062_s003_t003.edf\n",
      "Extracting EDF parameters from E:\\hy\\Datasets\\TUSZ\\edf\\dev\\01_tcp_ar\\100\\00010062\\s003_2013_03_26\\00010062_s003_t003.edf...\n",
      "EDF file detected\n",
      "Setting channel info structure...\n",
      "Creating raw.info structure...\n",
      "Reading 0 ... 153855  =      0.000 ...   600.996 secs...\n",
      "NOTE: pick_channels() is a legacy function. New code should use inst.pick(...).\n"
     ]
    },
    {
     "name": "stderr",
     "output_type": "stream",
     "text": [
      "Processing Files:  70%|█████████████████████████████████████████▊                  | 249/357 [1:01:03<33:15, 18.48s/it]"
     ]
    },
    {
     "name": "stdout",
     "output_type": "stream",
     "text": [
      "\n",
      "file: 'E:\\hy\\Datasets\\TUSZ\\edf\\dev\\01_tcp_ar\\100\\00010062\\s003_2013_03_26\\00010062_s003_t003.edf' [RECORDING] ALL WINDOWS DONE! FILE DONE!...\n",
      "\n",
      "FILE NAME: E:\\hy\\Datasets\\TUSZ\\edf\\dev\\01_tcp_ar\\100\\00010062\\s004_2013_03_27\\00010062_s004_t000.edf\n",
      "Extracting EDF parameters from E:\\hy\\Datasets\\TUSZ\\edf\\dev\\01_tcp_ar\\100\\00010062\\s004_2013_03_27\\00010062_s004_t000.edf...\n",
      "EDF file detected\n",
      "Setting channel info structure...\n",
      "Creating raw.info structure...\n",
      "Reading 0 ... 153855  =      0.000 ...   600.996 secs...\n",
      "NOTE: pick_channels() is a legacy function. New code should use inst.pick(...).\n"
     ]
    },
    {
     "name": "stderr",
     "output_type": "stream",
     "text": [
      "Processing Files:  70%|██████████████████████████████████████████                  | 250/357 [1:01:19<31:27, 17.64s/it]"
     ]
    },
    {
     "name": "stdout",
     "output_type": "stream",
     "text": [
      "\n",
      "file: 'E:\\hy\\Datasets\\TUSZ\\edf\\dev\\01_tcp_ar\\100\\00010062\\s004_2013_03_27\\00010062_s004_t000.edf' [RECORDING] ALL WINDOWS DONE! FILE DONE!...\n",
      "\n",
      "FILE NAME: E:\\hy\\Datasets\\TUSZ\\edf\\dev\\01_tcp_ar\\100\\00010062\\s004_2013_03_27\\00010062_s004_t001.edf\n",
      "Extracting EDF parameters from E:\\hy\\Datasets\\TUSZ\\edf\\dev\\01_tcp_ar\\100\\00010062\\s004_2013_03_27\\00010062_s004_t001.edf...\n",
      "EDF file detected\n",
      "Setting channel info structure...\n",
      "Creating raw.info structure...\n",
      "Reading 0 ... 206847  =      0.000 ...   807.996 secs...\n",
      "NOTE: pick_channels() is a legacy function. New code should use inst.pick(...).\n"
     ]
    },
    {
     "name": "stderr",
     "output_type": "stream",
     "text": [
      "Processing Files:  70%|██████████████████████████████████████████▏                 | 251/357 [1:01:40<32:50, 18.59s/it]"
     ]
    },
    {
     "name": "stdout",
     "output_type": "stream",
     "text": [
      "\n",
      "file: 'E:\\hy\\Datasets\\TUSZ\\edf\\dev\\01_tcp_ar\\100\\00010062\\s004_2013_03_27\\00010062_s004_t001.edf' [RECORDING] ALL WINDOWS DONE! FILE DONE!...\n",
      "\n",
      "FILE NAME: E:\\hy\\Datasets\\TUSZ\\edf\\dev\\01_tcp_ar\\100\\00010062\\s004_2013_03_27\\00010062_s004_t002.edf\n",
      "Extracting EDF parameters from E:\\hy\\Datasets\\TUSZ\\edf\\dev\\01_tcp_ar\\100\\00010062\\s004_2013_03_27\\00010062_s004_t002.edf...\n",
      "EDF file detected\n",
      "Setting channel info structure...\n",
      "Creating raw.info structure...\n",
      "Reading 0 ... 524543  =      0.000 ...  2048.996 secs...\n",
      "NOTE: pick_channels() is a legacy function. New code should use inst.pick(...).\n"
     ]
    },
    {
     "name": "stderr",
     "output_type": "stream",
     "text": [
      "Processing Files:  71%|██████████████████████████████████████████▎                 | 252/357 [1:02:35<51:43, 29.56s/it]"
     ]
    },
    {
     "name": "stdout",
     "output_type": "stream",
     "text": [
      "\n",
      "file: 'E:\\hy\\Datasets\\TUSZ\\edf\\dev\\01_tcp_ar\\100\\00010062\\s004_2013_03_27\\00010062_s004_t002.edf' [RECORDING] ALL WINDOWS DONE! FILE DONE!...\n",
      "\n",
      "FILE NAME: E:\\hy\\Datasets\\TUSZ\\edf\\dev\\01_tcp_ar\\100\\00010062\\s004_2013_03_27\\00010062_s004_t003.edf\n",
      "Extracting EDF parameters from E:\\hy\\Datasets\\TUSZ\\edf\\dev\\01_tcp_ar\\100\\00010062\\s004_2013_03_27\\00010062_s004_t003.edf...\n",
      "EDF file detected\n",
      "Setting channel info structure...\n",
      "Creating raw.info structure...\n",
      "Reading 0 ... 59647  =      0.000 ...   232.996 secs...\n",
      "NOTE: pick_channels() is a legacy function. New code should use inst.pick(...).\n"
     ]
    },
    {
     "name": "stderr",
     "output_type": "stream",
     "text": [
      "Processing Files:  71%|██████████████████████████████████████████▌                 | 253/357 [1:02:41<39:10, 22.60s/it]"
     ]
    },
    {
     "name": "stdout",
     "output_type": "stream",
     "text": [
      "\n",
      "file: 'E:\\hy\\Datasets\\TUSZ\\edf\\dev\\01_tcp_ar\\100\\00010062\\s004_2013_03_27\\00010062_s004_t003.edf' [RECORDING] ALL WINDOWS DONE! FILE DONE!...\n",
      "\n",
      "FILE NAME: E:\\hy\\Datasets\\TUSZ\\edf\\dev\\01_tcp_ar\\100\\00010062\\s005_2013_03_27\\00010062_s005_t000.edf\n",
      "Extracting EDF parameters from E:\\hy\\Datasets\\TUSZ\\edf\\dev\\01_tcp_ar\\100\\00010062\\s005_2013_03_27\\00010062_s005_t000.edf...\n",
      "EDF file detected\n",
      "Setting channel info structure...\n",
      "Creating raw.info structure...\n",
      "Reading 0 ... 153855  =      0.000 ...   600.996 secs...\n",
      "NOTE: pick_channels() is a legacy function. New code should use inst.pick(...).\n"
     ]
    },
    {
     "name": "stderr",
     "output_type": "stream",
     "text": [
      "Processing Files:  71%|██████████████████████████████████████████▊                 | 255/357 [1:02:58<27:15, 16.03s/it]"
     ]
    },
    {
     "name": "stdout",
     "output_type": "stream",
     "text": [
      "\n",
      "file: 'E:\\hy\\Datasets\\TUSZ\\edf\\dev\\01_tcp_ar\\100\\00010062\\s005_2013_03_27\\00010062_s005_t000.edf' [RECORDING] ALL WINDOWS DONE! FILE DONE!...\n",
      "\n",
      "FILE NAME: E:\\hy\\Datasets\\TUSZ\\edf\\dev\\01_tcp_ar\\100\\00010062\\s005_2013_03_27\\00010062_s005_t001.edf\n",
      "Extracting EDF parameters from E:\\hy\\Datasets\\TUSZ\\edf\\dev\\01_tcp_ar\\100\\00010062\\s005_2013_03_27\\00010062_s005_t001.edf...\n",
      "EDF file detected\n",
      "Setting channel info structure...\n",
      "Creating raw.info structure...\n",
      "Reading 0 ... 98303  =      0.000 ...   383.996 secs...\n",
      "NOTE: pick_channels() is a legacy function. New code should use inst.pick(...).\n"
     ]
    },
    {
     "name": "stderr",
     "output_type": "stream",
     "text": [
      "Processing Files:  72%|███████████████████████████████████████████                 | 256/357 [1:03:09<24:42, 14.68s/it]"
     ]
    },
    {
     "name": "stdout",
     "output_type": "stream",
     "text": [
      "\n",
      "file: 'E:\\hy\\Datasets\\TUSZ\\edf\\dev\\01_tcp_ar\\100\\00010062\\s005_2013_03_27\\00010062_s005_t001.edf' [RECORDING] ALL WINDOWS DONE! FILE DONE!...\n",
      "\n",
      "FILE NAME: E:\\hy\\Datasets\\TUSZ\\edf\\dev\\01_tcp_ar\\100\\00010062\\s006_2013_03_27\\00010062_s006_t000.edf\n",
      "Extracting EDF parameters from E:\\hy\\Datasets\\TUSZ\\edf\\dev\\01_tcp_ar\\100\\00010062\\s006_2013_03_27\\00010062_s006_t000.edf...\n",
      "EDF file detected\n",
      "Setting channel info structure...\n",
      "Creating raw.info structure...\n",
      "Reading 0 ... 199679  =      0.000 ...   779.996 secs...\n",
      "NOTE: pick_channels() is a legacy function. New code should use inst.pick(...).\n"
     ]
    },
    {
     "name": "stderr",
     "output_type": "stream",
     "text": [
      "Processing Files:  72%|███████████████████████████████████████████▏                | 257/357 [1:03:30<27:24, 16.44s/it]"
     ]
    },
    {
     "name": "stdout",
     "output_type": "stream",
     "text": [
      "\n",
      "file: 'E:\\hy\\Datasets\\TUSZ\\edf\\dev\\01_tcp_ar\\100\\00010062\\s006_2013_03_27\\00010062_s006_t000.edf' [RECORDING] ALL WINDOWS DONE! FILE DONE!...\n",
      "\n",
      "FILE NAME: E:\\hy\\Datasets\\TUSZ\\edf\\dev\\01_tcp_ar\\100\\00010062\\s006_2013_03_27\\00010062_s006_t001.edf\n",
      "Extracting EDF parameters from E:\\hy\\Datasets\\TUSZ\\edf\\dev\\01_tcp_ar\\100\\00010062\\s006_2013_03_27\\00010062_s006_t001.edf...\n",
      "EDF file detected\n",
      "Setting channel info structure...\n",
      "Creating raw.info structure...\n",
      "Reading 0 ... 273663  =      0.000 ...  1068.996 secs...\n",
      "NOTE: pick_channels() is a legacy function. New code should use inst.pick(...).\n"
     ]
    },
    {
     "name": "stderr",
     "output_type": "stream",
     "text": [
      "Processing Files:  72%|███████████████████████████████████████████▎                | 258/357 [1:04:00<33:12, 20.12s/it]"
     ]
    },
    {
     "name": "stdout",
     "output_type": "stream",
     "text": [
      "\n",
      "file: 'E:\\hy\\Datasets\\TUSZ\\edf\\dev\\01_tcp_ar\\100\\00010062\\s006_2013_03_27\\00010062_s006_t001.edf' [RECORDING] ALL WINDOWS DONE! FILE DONE!...\n",
      "\n",
      "FILE NAME: E:\\hy\\Datasets\\TUSZ\\edf\\dev\\01_tcp_ar\\100\\00010062\\s006_2013_03_27\\00010062_s006_t002.edf\n",
      "Extracting EDF parameters from E:\\hy\\Datasets\\TUSZ\\edf\\dev\\01_tcp_ar\\100\\00010062\\s006_2013_03_27\\00010062_s006_t002.edf...\n",
      "EDF file detected\n",
      "Setting channel info structure...\n",
      "Creating raw.info structure...\n",
      "Reading 0 ... 306431  =      0.000 ...  1196.996 secs...\n",
      "NOTE: pick_channels() is a legacy function. New code should use inst.pick(...).\n"
     ]
    },
    {
     "name": "stderr",
     "output_type": "stream",
     "text": [
      "Processing Files:  73%|███████████████████████████████████████████▌                | 259/357 [1:04:34<39:08, 23.97s/it]"
     ]
    },
    {
     "name": "stdout",
     "output_type": "stream",
     "text": [
      "\n",
      "file: 'E:\\hy\\Datasets\\TUSZ\\edf\\dev\\01_tcp_ar\\100\\00010062\\s006_2013_03_27\\00010062_s006_t002.edf' [RECORDING] ALL WINDOWS DONE! FILE DONE!...\n",
      "\n",
      "FILE NAME: E:\\hy\\Datasets\\TUSZ\\edf\\dev\\01_tcp_ar\\100\\00010062\\s006_2013_03_27\\00010062_s006_t003.edf\n",
      "Extracting EDF parameters from E:\\hy\\Datasets\\TUSZ\\edf\\dev\\01_tcp_ar\\100\\00010062\\s006_2013_03_27\\00010062_s006_t003.edf...\n",
      "EDF file detected\n",
      "Setting channel info structure...\n",
      "Creating raw.info structure...\n",
      "Reading 0 ... 624895  =      0.000 ...  2440.996 secs...\n",
      "NOTE: pick_channels() is a legacy function. New code should use inst.pick(...).\n"
     ]
    },
    {
     "name": "stderr",
     "output_type": "stream",
     "text": [
      "Processing Files:  73%|██████████████████████████████████████████▏               | 260/357 [1:05:44<1:00:02, 37.14s/it]"
     ]
    },
    {
     "name": "stdout",
     "output_type": "stream",
     "text": [
      "\n",
      "file: 'E:\\hy\\Datasets\\TUSZ\\edf\\dev\\01_tcp_ar\\100\\00010062\\s006_2013_03_27\\00010062_s006_t003.edf' [RECORDING] ALL WINDOWS DONE! FILE DONE!...\n",
      "\n",
      "FILE NAME: E:\\hy\\Datasets\\TUSZ\\edf\\dev\\01_tcp_ar\\100\\00010062\\s007_2013_03_28\\00010062_s007_t000.edf\n",
      "Extracting EDF parameters from E:\\hy\\Datasets\\TUSZ\\edf\\dev\\01_tcp_ar\\100\\00010062\\s007_2013_03_28\\00010062_s007_t000.edf...\n",
      "EDF file detected\n",
      "Setting channel info structure...\n",
      "Creating raw.info structure...\n",
      "Reading 0 ... 178943  =      0.000 ...   698.996 secs...\n",
      "NOTE: pick_channels() is a legacy function. New code should use inst.pick(...).\n"
     ]
    },
    {
     "name": "stderr",
     "output_type": "stream",
     "text": [
      "Processing Files:  73%|███████████████████████████████████████████▊                | 261/357 [1:06:05<52:06, 32.57s/it]"
     ]
    },
    {
     "name": "stdout",
     "output_type": "stream",
     "text": [
      "\n",
      "file: 'E:\\hy\\Datasets\\TUSZ\\edf\\dev\\01_tcp_ar\\100\\00010062\\s007_2013_03_28\\00010062_s007_t000.edf' [RECORDING] ALL WINDOWS DONE! FILE DONE!...\n",
      "\n",
      "FILE NAME: E:\\hy\\Datasets\\TUSZ\\edf\\dev\\01_tcp_ar\\100\\00010062\\s007_2013_03_28\\00010062_s007_t001.edf\n",
      "Extracting EDF parameters from E:\\hy\\Datasets\\TUSZ\\edf\\dev\\01_tcp_ar\\100\\00010062\\s007_2013_03_28\\00010062_s007_t001.edf...\n",
      "EDF file detected\n",
      "Setting channel info structure...\n",
      "Creating raw.info structure...\n",
      "Reading 0 ... 153855  =      0.000 ...   600.996 secs...\n",
      "NOTE: pick_channels() is a legacy function. New code should use inst.pick(...).\n"
     ]
    },
    {
     "name": "stderr",
     "output_type": "stream",
     "text": [
      "Processing Files:  73%|████████████████████████████████████████████                | 262/357 [1:06:23<44:54, 28.36s/it]"
     ]
    },
    {
     "name": "stdout",
     "output_type": "stream",
     "text": [
      "\n",
      "file: 'E:\\hy\\Datasets\\TUSZ\\edf\\dev\\01_tcp_ar\\100\\00010062\\s007_2013_03_28\\00010062_s007_t001.edf' [RECORDING] ALL WINDOWS DONE! FILE DONE!...\n",
      "\n",
      "FILE NAME: E:\\hy\\Datasets\\TUSZ\\edf\\dev\\01_tcp_ar\\100\\00010062\\s007_2013_03_28\\00010062_s007_t002.edf\n",
      "Extracting EDF parameters from E:\\hy\\Datasets\\TUSZ\\edf\\dev\\01_tcp_ar\\100\\00010062\\s007_2013_03_28\\00010062_s007_t002.edf...\n",
      "EDF file detected\n",
      "Setting channel info structure...\n",
      "Creating raw.info structure...\n",
      "Reading 0 ... 153855  =      0.000 ...   600.996 secs...\n",
      "NOTE: pick_channels() is a legacy function. New code should use inst.pick(...).\n"
     ]
    },
    {
     "name": "stderr",
     "output_type": "stream",
     "text": [
      "Processing Files:  74%|████████████████████████████████████████████▏               | 263/357 [1:06:41<39:35, 25.28s/it]"
     ]
    },
    {
     "name": "stdout",
     "output_type": "stream",
     "text": [
      "\n",
      "file: 'E:\\hy\\Datasets\\TUSZ\\edf\\dev\\01_tcp_ar\\100\\00010062\\s007_2013_03_28\\00010062_s007_t002.edf' [RECORDING] ALL WINDOWS DONE! FILE DONE!...\n",
      "\n",
      "FILE NAME: E:\\hy\\Datasets\\TUSZ\\edf\\dev\\01_tcp_ar\\100\\00010062\\s008_2013_03_28\\00010062_s008_t000.edf\n",
      "Extracting EDF parameters from E:\\hy\\Datasets\\TUSZ\\edf\\dev\\01_tcp_ar\\100\\00010062\\s008_2013_03_28\\00010062_s008_t000.edf...\n",
      "EDF file detected\n",
      "Setting channel info structure...\n",
      "Creating raw.info structure...\n",
      "Reading 0 ... 153855  =      0.000 ...   600.996 secs...\n",
      "NOTE: pick_channels() is a legacy function. New code should use inst.pick(...).\n"
     ]
    },
    {
     "name": "stderr",
     "output_type": "stream",
     "text": [
      "Processing Files:  74%|████████████████████████████████████████████▎               | 264/357 [1:06:59<35:34, 22.95s/it]"
     ]
    },
    {
     "name": "stdout",
     "output_type": "stream",
     "text": [
      "\n",
      "file: 'E:\\hy\\Datasets\\TUSZ\\edf\\dev\\01_tcp_ar\\100\\00010062\\s008_2013_03_28\\00010062_s008_t000.edf' [RECORDING] ALL WINDOWS DONE! FILE DONE!...\n",
      "\n",
      "FILE NAME: E:\\hy\\Datasets\\TUSZ\\edf\\dev\\01_tcp_ar\\100\\00010062\\s008_2013_03_28\\00010062_s008_t001.edf\n",
      "Extracting EDF parameters from E:\\hy\\Datasets\\TUSZ\\edf\\dev\\01_tcp_ar\\100\\00010062\\s008_2013_03_28\\00010062_s008_t001.edf...\n",
      "EDF file detected\n",
      "Setting channel info structure...\n",
      "Creating raw.info structure...\n",
      "Reading 0 ... 153855  =      0.000 ...   600.996 secs...\n",
      "NOTE: pick_channels() is a legacy function. New code should use inst.pick(...).\n"
     ]
    },
    {
     "name": "stderr",
     "output_type": "stream",
     "text": [
      "Processing Files:  74%|████████████████████████████████████████████▌               | 265/357 [1:07:15<32:11, 20.99s/it]"
     ]
    },
    {
     "name": "stdout",
     "output_type": "stream",
     "text": [
      "\n",
      "file: 'E:\\hy\\Datasets\\TUSZ\\edf\\dev\\01_tcp_ar\\100\\00010062\\s008_2013_03_28\\00010062_s008_t001.edf' [RECORDING] ALL WINDOWS DONE! FILE DONE!...\n",
      "\n",
      "FILE NAME: E:\\hy\\Datasets\\TUSZ\\edf\\dev\\01_tcp_ar\\100\\00010062\\s008_2013_03_28\\00010062_s008_t002.edf\n",
      "Extracting EDF parameters from E:\\hy\\Datasets\\TUSZ\\edf\\dev\\01_tcp_ar\\100\\00010062\\s008_2013_03_28\\00010062_s008_t002.edf...\n",
      "EDF file detected\n",
      "Setting channel info structure...\n",
      "Creating raw.info structure...\n",
      "Reading 0 ... 230911  =      0.000 ...   901.996 secs...\n",
      "NOTE: pick_channels() is a legacy function. New code should use inst.pick(...).\n"
     ]
    },
    {
     "name": "stderr",
     "output_type": "stream",
     "text": [
      "Processing Files:  75%|████████████████████████████████████████████▋               | 266/357 [1:07:40<33:35, 22.15s/it]"
     ]
    },
    {
     "name": "stdout",
     "output_type": "stream",
     "text": [
      "\n",
      "file: 'E:\\hy\\Datasets\\TUSZ\\edf\\dev\\01_tcp_ar\\100\\00010062\\s008_2013_03_28\\00010062_s008_t002.edf' [RECORDING] ALL WINDOWS DONE! FILE DONE!...\n",
      "\n",
      "FILE NAME: E:\\hy\\Datasets\\TUSZ\\edf\\dev\\01_tcp_ar\\100\\00010062\\s008_2013_03_28\\00010062_s008_t003.edf\n",
      "Extracting EDF parameters from E:\\hy\\Datasets\\TUSZ\\edf\\dev\\01_tcp_ar\\100\\00010062\\s008_2013_03_28\\00010062_s008_t003.edf...\n",
      "EDF file detected\n",
      "Setting channel info structure...\n",
      "Creating raw.info structure...\n",
      "Reading 0 ... 153855  =      0.000 ...   600.996 secs...\n",
      "NOTE: pick_channels() is a legacy function. New code should use inst.pick(...).\n"
     ]
    },
    {
     "name": "stderr",
     "output_type": "stream",
     "text": [
      "Processing Files:  75%|████████████████████████████████████████████▊               | 267/357 [1:07:57<30:53, 20.59s/it]"
     ]
    },
    {
     "name": "stdout",
     "output_type": "stream",
     "text": [
      "\n",
      "file: 'E:\\hy\\Datasets\\TUSZ\\edf\\dev\\01_tcp_ar\\100\\00010062\\s008_2013_03_28\\00010062_s008_t003.edf' [RECORDING] ALL WINDOWS DONE! FILE DONE!...\n",
      "\n",
      "FILE NAME: E:\\hy\\Datasets\\TUSZ\\edf\\dev\\01_tcp_ar\\100\\00010062\\s008_2013_03_28\\00010062_s008_t004.edf\n",
      "Extracting EDF parameters from E:\\hy\\Datasets\\TUSZ\\edf\\dev\\01_tcp_ar\\100\\00010062\\s008_2013_03_28\\00010062_s008_t004.edf...\n",
      "EDF file detected\n",
      "Setting channel info structure...\n",
      "Creating raw.info structure...\n",
      "Reading 0 ... 153855  =      0.000 ...   600.996 secs...\n",
      "NOTE: pick_channels() is a legacy function. New code should use inst.pick(...).\n"
     ]
    },
    {
     "name": "stderr",
     "output_type": "stream",
     "text": [
      "Processing Files:  75%|█████████████████████████████████████████████               | 268/357 [1:08:14<29:11, 19.68s/it]"
     ]
    },
    {
     "name": "stdout",
     "output_type": "stream",
     "text": [
      "\n",
      "file: 'E:\\hy\\Datasets\\TUSZ\\edf\\dev\\01_tcp_ar\\100\\00010062\\s008_2013_03_28\\00010062_s008_t004.edf' [RECORDING] ALL WINDOWS DONE! FILE DONE!...\n",
      "\n",
      "FILE NAME: E:\\hy\\Datasets\\TUSZ\\edf\\dev\\01_tcp_ar\\100\\00010062\\s009_2013_03_29\\00010062_s009_t001.edf\n",
      "Extracting EDF parameters from E:\\hy\\Datasets\\TUSZ\\edf\\dev\\01_tcp_ar\\100\\00010062\\s009_2013_03_29\\00010062_s009_t001.edf...\n",
      "EDF file detected\n",
      "Setting channel info structure...\n",
      "Creating raw.info structure...\n",
      "Reading 0 ... 6655  =      0.000 ...    25.996 secs...\n",
      "NOTE: pick_channels() is a legacy function. New code should use inst.pick(...).\n"
     ]
    },
    {
     "name": "stderr",
     "output_type": "stream",
     "text": [
      "Processing Files:  75%|█████████████████████████████████████████████▏              | 269/357 [1:08:15<20:31, 13.99s/it]"
     ]
    },
    {
     "name": "stdout",
     "output_type": "stream",
     "text": [
      "\n",
      "file: 'E:\\hy\\Datasets\\TUSZ\\edf\\dev\\01_tcp_ar\\100\\00010062\\s009_2013_03_29\\00010062_s009_t001.edf' [RECORDING] ALL WINDOWS DONE! FILE DONE!...\n",
      "\n",
      "FILE NAME: E:\\hy\\Datasets\\TUSZ\\edf\\dev\\01_tcp_ar\\101\\00010106\\s001_2013_02_08\\00010106_s001_t000.edf\n",
      "Extracting EDF parameters from E:\\hy\\Datasets\\TUSZ\\edf\\dev\\01_tcp_ar\\101\\00010106\\s001_2013_02_08\\00010106_s001_t000.edf...\n",
      "EDF file detected\n",
      "Setting channel info structure...\n",
      "Creating raw.info structure...\n",
      "Reading 0 ... 339749  =      0.000 ...  1358.996 secs...\n",
      "NOTE: pick_channels() is a legacy function. New code should use inst.pick(...).\n"
     ]
    },
    {
     "name": "stderr",
     "output_type": "stream",
     "text": [
      "Processing Files:  76%|█████████████████████████████████████████████▍              | 270/357 [1:08:54<31:04, 21.43s/it]"
     ]
    },
    {
     "name": "stdout",
     "output_type": "stream",
     "text": [
      "\n",
      "file: 'E:\\hy\\Datasets\\TUSZ\\edf\\dev\\01_tcp_ar\\101\\00010106\\s001_2013_02_08\\00010106_s001_t000.edf' [RECORDING] ALL WINDOWS DONE! FILE DONE!...\n",
      "\n",
      "FILE NAME: E:\\hy\\Datasets\\TUSZ\\edf\\dev\\01_tcp_ar\\101\\00010106\\s002_2013_02_08\\00010106_s002_t000.edf\n",
      "Extracting EDF parameters from E:\\hy\\Datasets\\TUSZ\\edf\\dev\\01_tcp_ar\\101\\00010106\\s002_2013_02_08\\00010106_s002_t000.edf...\n",
      "EDF file detected\n",
      "Setting channel info structure...\n",
      "Creating raw.info structure...\n",
      "Reading 0 ... 153855  =      0.000 ...   600.996 secs...\n",
      "NOTE: pick_channels() is a legacy function. New code should use inst.pick(...).\n"
     ]
    },
    {
     "name": "stderr",
     "output_type": "stream",
     "text": [
      "Processing Files:  76%|█████████████████████████████████████████████▌              | 271/357 [1:09:11<28:42, 20.03s/it]"
     ]
    },
    {
     "name": "stdout",
     "output_type": "stream",
     "text": [
      "\n",
      "file: 'E:\\hy\\Datasets\\TUSZ\\edf\\dev\\01_tcp_ar\\101\\00010106\\s002_2013_02_08\\00010106_s002_t000.edf' [RECORDING] ALL WINDOWS DONE! FILE DONE!...\n",
      "\n",
      "FILE NAME: E:\\hy\\Datasets\\TUSZ\\edf\\dev\\01_tcp_ar\\101\\00010106\\s002_2013_02_08\\00010106_s002_t001.edf\n",
      "Extracting EDF parameters from E:\\hy\\Datasets\\TUSZ\\edf\\dev\\01_tcp_ar\\101\\00010106\\s002_2013_02_08\\00010106_s002_t001.edf...\n",
      "EDF file detected\n",
      "Setting channel info structure...\n",
      "Creating raw.info structure...\n",
      "Reading 0 ... 153855  =      0.000 ...   600.996 secs...\n",
      "NOTE: pick_channels() is a legacy function. New code should use inst.pick(...).\n"
     ]
    },
    {
     "name": "stderr",
     "output_type": "stream",
     "text": [
      "Processing Files:  76%|█████████████████████████████████████████████▋              | 272/357 [1:09:27<26:58, 19.04s/it]"
     ]
    },
    {
     "name": "stdout",
     "output_type": "stream",
     "text": [
      "\n",
      "file: 'E:\\hy\\Datasets\\TUSZ\\edf\\dev\\01_tcp_ar\\101\\00010106\\s002_2013_02_08\\00010106_s002_t001.edf' [RECORDING] ALL WINDOWS DONE! FILE DONE!...\n",
      "\n",
      "FILE NAME: E:\\hy\\Datasets\\TUSZ\\edf\\dev\\01_tcp_ar\\101\\00010106\\s002_2013_02_08\\00010106_s002_t002.edf\n",
      "Extracting EDF parameters from E:\\hy\\Datasets\\TUSZ\\edf\\dev\\01_tcp_ar\\101\\00010106\\s002_2013_02_08\\00010106_s002_t002.edf...\n",
      "EDF file detected\n",
      "Setting channel info structure...\n",
      "Creating raw.info structure...\n",
      "Reading 0 ... 214015  =      0.000 ...   835.996 secs...\n",
      "NOTE: pick_channels() is a legacy function. New code should use inst.pick(...).\n"
     ]
    },
    {
     "name": "stderr",
     "output_type": "stream",
     "text": [
      "Processing Files:  76%|█████████████████████████████████████████████▉              | 273/357 [1:09:50<28:15, 20.19s/it]"
     ]
    },
    {
     "name": "stdout",
     "output_type": "stream",
     "text": [
      "\n",
      "file: 'E:\\hy\\Datasets\\TUSZ\\edf\\dev\\01_tcp_ar\\101\\00010106\\s002_2013_02_08\\00010106_s002_t002.edf' [RECORDING] ALL WINDOWS DONE! FILE DONE!...\n",
      "\n",
      "FILE NAME: E:\\hy\\Datasets\\TUSZ\\edf\\dev\\01_tcp_ar\\101\\00010106\\s002_2013_02_08\\00010106_s002_t003.edf\n",
      "Extracting EDF parameters from E:\\hy\\Datasets\\TUSZ\\edf\\dev\\01_tcp_ar\\101\\00010106\\s002_2013_02_08\\00010106_s002_t003.edf...\n",
      "EDF file detected\n",
      "Setting channel info structure...\n",
      "Creating raw.info structure...\n",
      "Reading 0 ... 206079  =      0.000 ...   804.996 secs...\n",
      "NOTE: pick_channels() is a legacy function. New code should use inst.pick(...).\n"
     ]
    },
    {
     "name": "stderr",
     "output_type": "stream",
     "text": [
      "Processing Files:  77%|██████████████████████████████████████████████              | 274/357 [1:10:13<28:56, 20.92s/it]"
     ]
    },
    {
     "name": "stdout",
     "output_type": "stream",
     "text": [
      "\n",
      "file: 'E:\\hy\\Datasets\\TUSZ\\edf\\dev\\01_tcp_ar\\101\\00010106\\s002_2013_02_08\\00010106_s002_t003.edf' [RECORDING] ALL WINDOWS DONE! FILE DONE!...\n",
      "\n",
      "FILE NAME: E:\\hy\\Datasets\\TUSZ\\edf\\dev\\01_tcp_ar\\101\\00010106\\s002_2013_02_08\\00010106_s002_t004.edf\n",
      "Extracting EDF parameters from E:\\hy\\Datasets\\TUSZ\\edf\\dev\\01_tcp_ar\\101\\00010106\\s002_2013_02_08\\00010106_s002_t004.edf...\n",
      "EDF file detected\n",
      "Setting channel info structure...\n",
      "Creating raw.info structure...\n",
      "Reading 0 ... 391935  =      0.000 ...  1530.996 secs...\n",
      "NOTE: pick_channels() is a legacy function. New code should use inst.pick(...).\n"
     ]
    },
    {
     "name": "stderr",
     "output_type": "stream",
     "text": [
      "Processing Files:  77%|██████████████████████████████████████████████▏             | 275/357 [1:10:54<36:49, 26.94s/it]"
     ]
    },
    {
     "name": "stdout",
     "output_type": "stream",
     "text": [
      "\n",
      "file: 'E:\\hy\\Datasets\\TUSZ\\edf\\dev\\01_tcp_ar\\101\\00010106\\s002_2013_02_08\\00010106_s002_t004.edf' [RECORDING] ALL WINDOWS DONE! FILE DONE!...\n",
      "\n",
      "FILE NAME: E:\\hy\\Datasets\\TUSZ\\edf\\dev\\01_tcp_ar\\101\\00010106\\s002_2013_02_08\\00010106_s002_t005.edf\n",
      "Extracting EDF parameters from E:\\hy\\Datasets\\TUSZ\\edf\\dev\\01_tcp_ar\\101\\00010106\\s002_2013_02_08\\00010106_s002_t005.edf...\n",
      "EDF file detected\n",
      "Setting channel info structure...\n",
      "Creating raw.info structure...\n",
      "Reading 0 ... 222207  =      0.000 ...   867.996 secs...\n",
      "NOTE: pick_channels() is a legacy function. New code should use inst.pick(...).\n"
     ]
    },
    {
     "name": "stderr",
     "output_type": "stream",
     "text": [
      "Processing Files:  77%|██████████████████████████████████████████████▍             | 276/357 [1:11:17<34:57, 25.89s/it]"
     ]
    },
    {
     "name": "stdout",
     "output_type": "stream",
     "text": [
      "\n",
      "file: 'E:\\hy\\Datasets\\TUSZ\\edf\\dev\\01_tcp_ar\\101\\00010106\\s002_2013_02_08\\00010106_s002_t005.edf' [RECORDING] ALL WINDOWS DONE! FILE DONE!...\n",
      "\n",
      "FILE NAME: E:\\hy\\Datasets\\TUSZ\\edf\\dev\\01_tcp_ar\\101\\00010106\\s002_2013_02_08\\00010106_s002_t006.edf\n",
      "Extracting EDF parameters from E:\\hy\\Datasets\\TUSZ\\edf\\dev\\01_tcp_ar\\101\\00010106\\s002_2013_02_08\\00010106_s002_t006.edf...\n",
      "EDF file detected\n",
      "Setting channel info structure...\n",
      "Creating raw.info structure...\n",
      "Reading 0 ... 268543  =      0.000 ...  1048.996 secs...\n",
      "NOTE: pick_channels() is a legacy function. New code should use inst.pick(...).\n"
     ]
    },
    {
     "name": "stderr",
     "output_type": "stream",
     "text": [
      "Processing Files:  78%|██████████████████████████████████████████████▋             | 278/357 [1:11:44<26:25, 20.07s/it]"
     ]
    },
    {
     "name": "stdout",
     "output_type": "stream",
     "text": [
      "\n",
      "file: 'E:\\hy\\Datasets\\TUSZ\\edf\\dev\\01_tcp_ar\\101\\00010106\\s002_2013_02_08\\00010106_s002_t006.edf' [RECORDING] ALL WINDOWS DONE! FILE DONE!...\n",
      "\n",
      "FILE NAME: E:\\hy\\Datasets\\TUSZ\\edf\\dev\\01_tcp_ar\\101\\00010106\\s002_2013_02_08\\00010106_s002_t007.edf\n",
      "Extracting EDF parameters from E:\\hy\\Datasets\\TUSZ\\edf\\dev\\01_tcp_ar\\101\\00010106\\s002_2013_02_08\\00010106_s002_t007.edf...\n",
      "EDF file detected\n",
      "Setting channel info structure...\n",
      "Creating raw.info structure...\n",
      "Reading 0 ... 153855  =      0.000 ...   600.996 secs...\n",
      "NOTE: pick_channels() is a legacy function. New code should use inst.pick(...).\n"
     ]
    },
    {
     "name": "stderr",
     "output_type": "stream",
     "text": [
      "Processing Files:  78%|██████████████████████████████████████████████▉             | 279/357 [1:12:00<24:50, 19.11s/it]"
     ]
    },
    {
     "name": "stdout",
     "output_type": "stream",
     "text": [
      "\n",
      "file: 'E:\\hy\\Datasets\\TUSZ\\edf\\dev\\01_tcp_ar\\101\\00010106\\s002_2013_02_08\\00010106_s002_t007.edf' [RECORDING] ALL WINDOWS DONE! FILE DONE!...\n",
      "\n",
      "FILE NAME: E:\\hy\\Datasets\\TUSZ\\edf\\dev\\01_tcp_ar\\101\\00010106\\s003_2013_02_09\\00010106_s003_t000.edf\n",
      "Extracting EDF parameters from E:\\hy\\Datasets\\TUSZ\\edf\\dev\\01_tcp_ar\\101\\00010106\\s003_2013_02_09\\00010106_s003_t000.edf...\n",
      "EDF file detected\n",
      "Setting channel info structure...\n",
      "Creating raw.info structure...\n",
      "Reading 0 ... 153855  =      0.000 ...   600.996 secs...\n",
      "NOTE: pick_channels() is a legacy function. New code should use inst.pick(...).\n"
     ]
    },
    {
     "name": "stderr",
     "output_type": "stream",
     "text": [
      "Processing Files:  78%|███████████████████████████████████████████████             | 280/357 [1:12:15<23:13, 18.10s/it]"
     ]
    },
    {
     "name": "stdout",
     "output_type": "stream",
     "text": [
      "\n",
      "file: 'E:\\hy\\Datasets\\TUSZ\\edf\\dev\\01_tcp_ar\\101\\00010106\\s003_2013_02_09\\00010106_s003_t000.edf' [RECORDING] ALL WINDOWS DONE! FILE DONE!...\n",
      "\n",
      "FILE NAME: E:\\hy\\Datasets\\TUSZ\\edf\\dev\\01_tcp_ar\\101\\00010106\\s003_2013_02_09\\00010106_s003_t001.edf\n",
      "Extracting EDF parameters from E:\\hy\\Datasets\\TUSZ\\edf\\dev\\01_tcp_ar\\101\\00010106\\s003_2013_02_09\\00010106_s003_t001.edf...\n",
      "EDF file detected\n",
      "Setting channel info structure...\n",
      "Creating raw.info structure...\n",
      "Reading 0 ... 245759  =      0.000 ...   959.996 secs...\n",
      "NOTE: pick_channels() is a legacy function. New code should use inst.pick(...).\n"
     ]
    },
    {
     "name": "stderr",
     "output_type": "stream",
     "text": [
      "Processing Files:  79%|███████████████████████████████████████████████▏            | 281/357 [1:12:39<24:54, 19.66s/it]"
     ]
    },
    {
     "name": "stdout",
     "output_type": "stream",
     "text": [
      "\n",
      "file: 'E:\\hy\\Datasets\\TUSZ\\edf\\dev\\01_tcp_ar\\101\\00010106\\s003_2013_02_09\\00010106_s003_t001.edf' [RECORDING] ALL WINDOWS DONE! FILE DONE!...\n",
      "\n",
      "FILE NAME: E:\\hy\\Datasets\\TUSZ\\edf\\dev\\01_tcp_ar\\101\\00010106\\s003_2013_02_09\\00010106_s003_t002.edf\n",
      "Extracting EDF parameters from E:\\hy\\Datasets\\TUSZ\\edf\\dev\\01_tcp_ar\\101\\00010106\\s003_2013_02_09\\00010106_s003_t002.edf...\n",
      "EDF file detected\n",
      "Setting channel info structure...\n",
      "Creating raw.info structure...\n",
      "Reading 0 ... 241407  =      0.000 ...   942.996 secs...\n",
      "NOTE: pick_channels() is a legacy function. New code should use inst.pick(...).\n"
     ]
    },
    {
     "name": "stderr",
     "output_type": "stream",
     "text": [
      "Processing Files:  79%|███████████████████████████████████████████████▍            | 282/357 [1:13:04<26:17, 21.03s/it]"
     ]
    },
    {
     "name": "stdout",
     "output_type": "stream",
     "text": [
      "\n",
      "file: 'E:\\hy\\Datasets\\TUSZ\\edf\\dev\\01_tcp_ar\\101\\00010106\\s003_2013_02_09\\00010106_s003_t002.edf' [RECORDING] ALL WINDOWS DONE! FILE DONE!...\n",
      "\n",
      "FILE NAME: E:\\hy\\Datasets\\TUSZ\\edf\\dev\\01_tcp_ar\\101\\00010106\\s003_2013_02_09\\00010106_s003_t003.edf\n",
      "Extracting EDF parameters from E:\\hy\\Datasets\\TUSZ\\edf\\dev\\01_tcp_ar\\101\\00010106\\s003_2013_02_09\\00010106_s003_t003.edf...\n",
      "EDF file detected\n",
      "Setting channel info structure...\n",
      "Creating raw.info structure...\n",
      "Reading 0 ... 153855  =      0.000 ...   600.996 secs...\n",
      "NOTE: pick_channels() is a legacy function. New code should use inst.pick(...).\n"
     ]
    },
    {
     "name": "stderr",
     "output_type": "stream",
     "text": [
      "Processing Files:  79%|███████████████████████████████████████████████▌            | 283/357 [1:13:20<24:05, 19.54s/it]"
     ]
    },
    {
     "name": "stdout",
     "output_type": "stream",
     "text": [
      "\n",
      "file: 'E:\\hy\\Datasets\\TUSZ\\edf\\dev\\01_tcp_ar\\101\\00010106\\s003_2013_02_09\\00010106_s003_t003.edf' [RECORDING] ALL WINDOWS DONE! FILE DONE!...\n",
      "\n",
      "FILE NAME: E:\\hy\\Datasets\\TUSZ\\edf\\dev\\01_tcp_ar\\101\\00010106\\s003_2013_02_09\\00010106_s003_t004.edf\n",
      "Extracting EDF parameters from E:\\hy\\Datasets\\TUSZ\\edf\\dev\\01_tcp_ar\\101\\00010106\\s003_2013_02_09\\00010106_s003_t004.edf...\n",
      "EDF file detected\n",
      "Setting channel info structure...\n",
      "Creating raw.info structure...\n",
      "Reading 0 ... 153855  =      0.000 ...   600.996 secs...\n",
      "NOTE: pick_channels() is a legacy function. New code should use inst.pick(...).\n"
     ]
    },
    {
     "name": "stderr",
     "output_type": "stream",
     "text": [
      "Processing Files:  80%|███████████████████████████████████████████████▋            | 284/357 [1:13:36<22:38, 18.61s/it]"
     ]
    },
    {
     "name": "stdout",
     "output_type": "stream",
     "text": [
      "\n",
      "file: 'E:\\hy\\Datasets\\TUSZ\\edf\\dev\\01_tcp_ar\\101\\00010106\\s003_2013_02_09\\00010106_s003_t004.edf' [RECORDING] ALL WINDOWS DONE! FILE DONE!...\n",
      "\n",
      "FILE NAME: E:\\hy\\Datasets\\TUSZ\\edf\\dev\\01_tcp_ar\\101\\00010106\\s004_2013_08_06\\00010106_s004_t000.edf\n",
      "Extracting EDF parameters from E:\\hy\\Datasets\\TUSZ\\edf\\dev\\01_tcp_ar\\101\\00010106\\s004_2013_08_06\\00010106_s004_t000.edf...\n",
      "EDF file detected\n",
      "Setting channel info structure...\n",
      "Creating raw.info structure...\n",
      "Reading 0 ... 50749  =      0.000 ...   202.996 secs...\n",
      "NOTE: pick_channels() is a legacy function. New code should use inst.pick(...).\n"
     ]
    },
    {
     "name": "stderr",
     "output_type": "stream",
     "text": [
      "Processing Files:  80%|███████████████████████████████████████████████▉            | 285/357 [1:13:41<17:36, 14.68s/it]"
     ]
    },
    {
     "name": "stdout",
     "output_type": "stream",
     "text": [
      "\n",
      "file: 'E:\\hy\\Datasets\\TUSZ\\edf\\dev\\01_tcp_ar\\101\\00010106\\s004_2013_08_06\\00010106_s004_t000.edf' [RECORDING] ALL WINDOWS DONE! FILE DONE!...\n",
      "\n",
      "FILE NAME: E:\\hy\\Datasets\\TUSZ\\edf\\dev\\01_tcp_ar\\101\\00010106\\s004_2013_08_06\\00010106_s004_t001.edf\n",
      "Extracting EDF parameters from E:\\hy\\Datasets\\TUSZ\\edf\\dev\\01_tcp_ar\\101\\00010106\\s004_2013_08_06\\00010106_s004_t001.edf...\n",
      "EDF file detected\n",
      "Setting channel info structure...\n",
      "Creating raw.info structure...\n",
      "Reading 0 ... 101749  =      0.000 ...   406.996 secs...\n",
      "NOTE: pick_channels() is a legacy function. New code should use inst.pick(...).\n"
     ]
    },
    {
     "name": "stderr",
     "output_type": "stream",
     "text": [
      "Processing Files:  80%|████████████████████████████████████████████████            | 286/357 [1:13:52<16:08, 13.64s/it]"
     ]
    },
    {
     "name": "stdout",
     "output_type": "stream",
     "text": [
      "\n",
      "file: 'E:\\hy\\Datasets\\TUSZ\\edf\\dev\\01_tcp_ar\\101\\00010106\\s004_2013_08_06\\00010106_s004_t001.edf' [RECORDING] ALL WINDOWS DONE! FILE DONE!...\n",
      "\n",
      "FILE NAME: E:\\hy\\Datasets\\TUSZ\\edf\\dev\\01_tcp_ar\\101\\00010106\\s004_2013_08_06\\00010106_s004_t002.edf\n",
      "Extracting EDF parameters from E:\\hy\\Datasets\\TUSZ\\edf\\dev\\01_tcp_ar\\101\\00010106\\s004_2013_08_06\\00010106_s004_t002.edf...\n",
      "EDF file detected\n",
      "Setting channel info structure...\n",
      "Creating raw.info structure...\n",
      "Reading 0 ... 252999  =      0.000 ...  1011.996 secs...\n",
      "NOTE: pick_channels() is a legacy function. New code should use inst.pick(...).\n"
     ]
    },
    {
     "name": "stderr",
     "output_type": "stream",
     "text": [
      "Processing Files:  80%|████████████████████████████████████████████████▏           | 287/357 [1:14:21<20:58, 17.98s/it]"
     ]
    },
    {
     "name": "stdout",
     "output_type": "stream",
     "text": [
      "\n",
      "file: 'E:\\hy\\Datasets\\TUSZ\\edf\\dev\\01_tcp_ar\\101\\00010106\\s004_2013_08_06\\00010106_s004_t002.edf' [RECORDING] ALL WINDOWS DONE! FILE DONE!...\n",
      "\n",
      "FILE NAME: E:\\hy\\Datasets\\TUSZ\\edf\\dev\\01_tcp_ar\\105\\00010547\\s001_2013_07_29\\00010547_s001_t001.edf\n",
      "Extracting EDF parameters from E:\\hy\\Datasets\\TUSZ\\edf\\dev\\01_tcp_ar\\105\\00010547\\s001_2013_07_29\\00010547_s001_t001.edf...\n",
      "EDF file detected\n",
      "Setting channel info structure...\n",
      "Creating raw.info structure...\n",
      "Reading 0 ... 448749  =      0.000 ...  1794.996 secs...\n",
      "NOTE: pick_channels() is a legacy function. New code should use inst.pick(...).\n"
     ]
    },
    {
     "name": "stderr",
     "output_type": "stream",
     "text": [
      "Processing Files:  81%|████████████████████████████████████████████████▍           | 288/357 [1:15:12<32:12, 28.01s/it]"
     ]
    },
    {
     "name": "stdout",
     "output_type": "stream",
     "text": [
      "\n",
      "file: 'E:\\hy\\Datasets\\TUSZ\\edf\\dev\\01_tcp_ar\\105\\00010547\\s001_2013_07_29\\00010547_s001_t001.edf' [RECORDING] ALL WINDOWS DONE! FILE DONE!...\n",
      "\n",
      "FILE NAME: E:\\hy\\Datasets\\TUSZ\\edf\\dev\\01_tcp_ar\\106\\00010639\\s001_2013_08_22\\00010639_s001_t000.edf\n",
      "Extracting EDF parameters from E:\\hy\\Datasets\\TUSZ\\edf\\dev\\01_tcp_ar\\106\\00010639\\s001_2013_08_22\\00010639_s001_t000.edf...\n",
      "EDF file detected\n",
      "Setting channel info structure...\n",
      "Creating raw.info structure...\n",
      "Reading 0 ... 380671  =      0.000 ...  1486.996 secs...\n",
      "NOTE: pick_channels() is a legacy function. New code should use inst.pick(...).\n"
     ]
    },
    {
     "name": "stderr",
     "output_type": "stream",
     "text": [
      "Processing Files:  81%|████████████████████████████████████████████████▌           | 289/357 [1:15:57<37:27, 33.05s/it]"
     ]
    },
    {
     "name": "stdout",
     "output_type": "stream",
     "text": [
      "\n",
      "file: 'E:\\hy\\Datasets\\TUSZ\\edf\\dev\\01_tcp_ar\\106\\00010639\\s001_2013_08_22\\00010639_s001_t000.edf' [RECORDING] ALL WINDOWS DONE! FILE DONE!...\n",
      "\n",
      "FILE NAME: E:\\hy\\Datasets\\TUSZ\\edf\\dev\\01_tcp_ar\\106\\00010639\\s002_2013_08_30\\00010639_s002_t000.edf\n",
      "Extracting EDF parameters from E:\\hy\\Datasets\\TUSZ\\edf\\dev\\01_tcp_ar\\106\\00010639\\s002_2013_08_30\\00010639_s002_t000.edf...\n",
      "EDF file detected\n",
      "Setting channel info structure...\n",
      "Creating raw.info structure...\n",
      "Reading 0 ... 309999  =      0.000 ...  1239.996 secs...\n",
      "NOTE: pick_channels() is a legacy function. New code should use inst.pick(...).\n"
     ]
    },
    {
     "name": "stderr",
     "output_type": "stream",
     "text": [
      "Processing Files:  81%|████████████████████████████████████████████████▋           | 290/357 [1:16:35<38:27, 34.44s/it]"
     ]
    },
    {
     "name": "stdout",
     "output_type": "stream",
     "text": [
      "\n",
      "file: 'E:\\hy\\Datasets\\TUSZ\\edf\\dev\\01_tcp_ar\\106\\00010639\\s002_2013_08_30\\00010639_s002_t000.edf' [RECORDING] ALL WINDOWS DONE! FILE DONE!...\n",
      "\n",
      "FILE NAME: E:\\hy\\Datasets\\TUSZ\\edf\\dev\\01_tcp_ar\\106\\00010639\\s003_2013_09_10\\00010639_s003_t001.edf\n",
      "Extracting EDF parameters from E:\\hy\\Datasets\\TUSZ\\edf\\dev\\01_tcp_ar\\106\\00010639\\s003_2013_09_10\\00010639_s003_t001.edf...\n",
      "EDF file detected\n",
      "Setting channel info structure...\n",
      "Creating raw.info structure...\n",
      "Reading 0 ... 426495  =      0.000 ...  1665.996 secs...\n",
      "NOTE: pick_channels() is a legacy function. New code should use inst.pick(...).\n"
     ]
    },
    {
     "name": "stderr",
     "output_type": "stream",
     "text": [
      "Processing Files:  82%|████████████████████████████████████████████████▉           | 291/357 [1:17:22<42:04, 38.25s/it]"
     ]
    },
    {
     "name": "stdout",
     "output_type": "stream",
     "text": [
      "\n",
      "file: 'E:\\hy\\Datasets\\TUSZ\\edf\\dev\\01_tcp_ar\\106\\00010639\\s003_2013_09_10\\00010639_s003_t001.edf' [RECORDING] ALL WINDOWS DONE! FILE DONE!...\n",
      "\n",
      "FILE NAME: E:\\hy\\Datasets\\TUSZ\\edf\\dev\\01_tcp_ar\\106\\00010639\\s004_2013_09_10\\00010639_s004_t000.edf\n",
      "Extracting EDF parameters from E:\\hy\\Datasets\\TUSZ\\edf\\dev\\01_tcp_ar\\106\\00010639\\s004_2013_09_10\\00010639_s004_t000.edf...\n",
      "EDF file detected\n",
      "Setting channel info structure...\n",
      "Creating raw.info structure...\n",
      "Reading 0 ... 77567  =      0.000 ...   302.996 secs...\n",
      "NOTE: pick_channels() is a legacy function. New code should use inst.pick(...).\n"
     ]
    },
    {
     "name": "stderr",
     "output_type": "stream",
     "text": [
      "Processing Files:  82%|█████████████████████████████████████████████████           | 292/357 [1:17:30<31:45, 29.31s/it]"
     ]
    },
    {
     "name": "stdout",
     "output_type": "stream",
     "text": [
      "\n",
      "file: 'E:\\hy\\Datasets\\TUSZ\\edf\\dev\\01_tcp_ar\\106\\00010639\\s004_2013_09_10\\00010639_s004_t000.edf' [RECORDING] ALL WINDOWS DONE! FILE DONE!...\n",
      "\n",
      "FILE NAME: E:\\hy\\Datasets\\TUSZ\\edf\\dev\\01_tcp_ar\\106\\00010639\\s006_2013_09_10\\00010639_s006_t000.edf\n",
      "Extracting EDF parameters from E:\\hy\\Datasets\\TUSZ\\edf\\dev\\01_tcp_ar\\106\\00010639\\s006_2013_09_10\\00010639_s006_t000.edf...\n",
      "EDF file detected\n",
      "Setting channel info structure...\n",
      "Creating raw.info structure...\n",
      "Reading 0 ... 120575  =      0.000 ...   470.996 secs...\n",
      "NOTE: pick_channels() is a legacy function. New code should use inst.pick(...).\n"
     ]
    },
    {
     "name": "stderr",
     "output_type": "stream",
     "text": [
      "Processing Files:  82%|█████████████████████████████████████████████████▏          | 293/357 [1:17:44<26:07, 24.49s/it]"
     ]
    },
    {
     "name": "stdout",
     "output_type": "stream",
     "text": [
      "\n",
      "file: 'E:\\hy\\Datasets\\TUSZ\\edf\\dev\\01_tcp_ar\\106\\00010639\\s006_2013_09_10\\00010639_s006_t000.edf' [RECORDING] ALL WINDOWS DONE! FILE DONE!...\n",
      "\n",
      "FILE NAME: E:\\hy\\Datasets\\TUSZ\\edf\\dev\\01_tcp_ar\\106\\00010639\\s008_2013_09_10\\00010639_s008_t000.edf\n",
      "Extracting EDF parameters from E:\\hy\\Datasets\\TUSZ\\edf\\dev\\01_tcp_ar\\106\\00010639\\s008_2013_09_10\\00010639_s008_t000.edf...\n",
      "EDF file detected\n",
      "Setting channel info structure...\n",
      "Creating raw.info structure...\n",
      "Reading 0 ... 170751  =      0.000 ...   666.996 secs...\n",
      "NOTE: pick_channels() is a legacy function. New code should use inst.pick(...).\n"
     ]
    },
    {
     "name": "stderr",
     "output_type": "stream",
     "text": [
      "Processing Files:  82%|█████████████████████████████████████████████████▍          | 294/357 [1:18:02<23:41, 22.57s/it]"
     ]
    },
    {
     "name": "stdout",
     "output_type": "stream",
     "text": [
      "\n",
      "file: 'E:\\hy\\Datasets\\TUSZ\\edf\\dev\\01_tcp_ar\\106\\00010639\\s008_2013_09_10\\00010639_s008_t000.edf' [RECORDING] ALL WINDOWS DONE! FILE DONE!...\n",
      "\n",
      "FILE NAME: E:\\hy\\Datasets\\TUSZ\\edf\\dev\\01_tcp_ar\\106\\00010639\\s008_2013_09_10\\00010639_s008_t001.edf\n",
      "Extracting EDF parameters from E:\\hy\\Datasets\\TUSZ\\edf\\dev\\01_tcp_ar\\106\\00010639\\s008_2013_09_10\\00010639_s008_t001.edf...\n",
      "EDF file detected\n",
      "Setting channel info structure...\n",
      "Creating raw.info structure...\n",
      "Reading 0 ... 153855  =      0.000 ...   600.996 secs...\n",
      "NOTE: pick_channels() is a legacy function. New code should use inst.pick(...).\n"
     ]
    },
    {
     "name": "stderr",
     "output_type": "stream",
     "text": [
      "Processing Files:  83%|█████████████████████████████████████████████████▌          | 295/357 [1:18:18<21:25, 20.73s/it]"
     ]
    },
    {
     "name": "stdout",
     "output_type": "stream",
     "text": [
      "\n",
      "file: 'E:\\hy\\Datasets\\TUSZ\\edf\\dev\\01_tcp_ar\\106\\00010639\\s008_2013_09_10\\00010639_s008_t001.edf' [RECORDING] ALL WINDOWS DONE! FILE DONE!...\n",
      "\n",
      "FILE NAME: E:\\hy\\Datasets\\TUSZ\\edf\\dev\\01_tcp_ar\\106\\00010639\\s008_2013_09_10\\00010639_s008_t002.edf\n",
      "Extracting EDF parameters from E:\\hy\\Datasets\\TUSZ\\edf\\dev\\01_tcp_ar\\106\\00010639\\s008_2013_09_10\\00010639_s008_t002.edf...\n",
      "EDF file detected\n",
      "Setting channel info structure...\n",
      "Creating raw.info structure...\n",
      "Reading 0 ... 76799  =      0.000 ...   299.996 secs...\n",
      "NOTE: pick_channels() is a legacy function. New code should use inst.pick(...).\n"
     ]
    },
    {
     "name": "stderr",
     "output_type": "stream",
     "text": [
      "Processing Files:  83%|█████████████████████████████████████████████████▋          | 296/357 [1:18:26<17:07, 16.85s/it]"
     ]
    },
    {
     "name": "stdout",
     "output_type": "stream",
     "text": [
      "\n",
      "file: 'E:\\hy\\Datasets\\TUSZ\\edf\\dev\\01_tcp_ar\\106\\00010639\\s008_2013_09_10\\00010639_s008_t002.edf' [RECORDING] ALL WINDOWS DONE! FILE DONE!...\n",
      "\n",
      "FILE NAME: E:\\hy\\Datasets\\TUSZ\\edf\\dev\\01_tcp_ar\\106\\00010639\\s008_2013_09_10\\00010639_s008_t003.edf\n",
      "Extracting EDF parameters from E:\\hy\\Datasets\\TUSZ\\edf\\dev\\01_tcp_ar\\106\\00010639\\s008_2013_09_10\\00010639_s008_t003.edf...\n",
      "EDF file detected\n",
      "Setting channel info structure...\n",
      "Creating raw.info structure...\n",
      "Reading 0 ... 153855  =      0.000 ...   600.996 secs...\n",
      "NOTE: pick_channels() is a legacy function. New code should use inst.pick(...).\n"
     ]
    },
    {
     "name": "stderr",
     "output_type": "stream",
     "text": [
      "Processing Files:  83%|█████████████████████████████████████████████████▉          | 297/357 [1:18:42<16:28, 16.47s/it]"
     ]
    },
    {
     "name": "stdout",
     "output_type": "stream",
     "text": [
      "\n",
      "file: 'E:\\hy\\Datasets\\TUSZ\\edf\\dev\\01_tcp_ar\\106\\00010639\\s008_2013_09_10\\00010639_s008_t003.edf' [RECORDING] ALL WINDOWS DONE! FILE DONE!...\n",
      "\n",
      "FILE NAME: E:\\hy\\Datasets\\TUSZ\\edf\\dev\\01_tcp_ar\\106\\00010639\\s008_2013_09_10\\00010639_s008_t004.edf\n",
      "Extracting EDF parameters from E:\\hy\\Datasets\\TUSZ\\edf\\dev\\01_tcp_ar\\106\\00010639\\s008_2013_09_10\\00010639_s008_t004.edf...\n",
      "EDF file detected\n",
      "Setting channel info structure...\n",
      "Creating raw.info structure...\n",
      "Reading 0 ... 153855  =      0.000 ...   600.996 secs...\n",
      "NOTE: pick_channels() is a legacy function. New code should use inst.pick(...).\n"
     ]
    },
    {
     "name": "stderr",
     "output_type": "stream",
     "text": [
      "Processing Files:  83%|██████████████████████████████████████████████████          | 298/357 [1:18:57<15:49, 16.09s/it]"
     ]
    },
    {
     "name": "stdout",
     "output_type": "stream",
     "text": [
      "\n",
      "file: 'E:\\hy\\Datasets\\TUSZ\\edf\\dev\\01_tcp_ar\\106\\00010639\\s008_2013_09_10\\00010639_s008_t004.edf' [RECORDING] ALL WINDOWS DONE! FILE DONE!...\n",
      "\n",
      "FILE NAME: E:\\hy\\Datasets\\TUSZ\\edf\\dev\\01_tcp_ar\\108\\00010861\\s001_2013_11_16\\00010861_s001_t000.edf\n",
      "Extracting EDF parameters from E:\\hy\\Datasets\\TUSZ\\edf\\dev\\01_tcp_ar\\108\\00010861\\s001_2013_11_16\\00010861_s001_t000.edf...\n",
      "EDF file detected\n",
      "Setting channel info structure...\n",
      "Creating raw.info structure...\n",
      "Reading 0 ... 300749  =      0.000 ...  1202.996 secs...\n",
      "NOTE: pick_channels() is a legacy function. New code should use inst.pick(...).\n"
     ]
    },
    {
     "name": "stderr",
     "output_type": "stream",
     "text": [
      "Processing Files:  84%|██████████████████████████████████████████████████▎         | 299/357 [1:19:27<19:42, 20.39s/it]"
     ]
    },
    {
     "name": "stdout",
     "output_type": "stream",
     "text": [
      "\n",
      "file: 'E:\\hy\\Datasets\\TUSZ\\edf\\dev\\01_tcp_ar\\108\\00010861\\s001_2013_11_16\\00010861_s001_t000.edf' [RECORDING] ALL WINDOWS DONE! FILE DONE!...\n",
      "\n",
      "FILE NAME: E:\\hy\\Datasets\\TUSZ\\edf\\dev\\02_tcp_le\\002\\00000258\\s001_2003_07_16\\00000258_s001_t000.edf\n",
      "Extracting EDF parameters from E:\\hy\\Datasets\\TUSZ\\edf\\dev\\02_tcp_le\\002\\00000258\\s001_2003_07_16\\00000258_s001_t000.edf...\n",
      "EDF file detected\n",
      "Setting channel info structure...\n",
      "Creating raw.info structure...\n",
      "Reading 0 ... 437499  =      0.000 ...  1749.996 secs...\n",
      "NOTE: pick_channels() is a legacy function. New code should use inst.pick(...).\n"
     ]
    },
    {
     "name": "stderr",
     "output_type": "stream",
     "text": [
      "Processing Files:  84%|██████████████████████████████████████████████████▍         | 300/357 [1:20:11<26:09, 27.54s/it]"
     ]
    },
    {
     "name": "stdout",
     "output_type": "stream",
     "text": [
      "\n",
      "file: 'E:\\hy\\Datasets\\TUSZ\\edf\\dev\\02_tcp_le\\002\\00000258\\s001_2003_07_16\\00000258_s001_t000.edf' [RECORDING] ALL WINDOWS DONE! FILE DONE!...\n",
      "\n",
      "FILE NAME: E:\\hy\\Datasets\\TUSZ\\edf\\dev\\02_tcp_le\\002\\00000258\\s004_2003_07_24\\00000258_s004_t000.edf\n",
      "Extracting EDF parameters from E:\\hy\\Datasets\\TUSZ\\edf\\dev\\02_tcp_le\\002\\00000258\\s004_2003_07_24\\00000258_s004_t000.edf...\n",
      "EDF file detected\n",
      "Setting channel info structure...\n",
      "Creating raw.info structure...\n",
      "Reading 0 ... 324249  =      0.000 ...  1296.996 secs...\n",
      "NOTE: pick_channels() is a legacy function. New code should use inst.pick(...).\n"
     ]
    },
    {
     "name": "stderr",
     "output_type": "stream",
     "text": [
      "Processing Files:  85%|██████████████████████████████████████████████████▊         | 302/357 [1:20:45<20:42, 22.58s/it]"
     ]
    },
    {
     "name": "stdout",
     "output_type": "stream",
     "text": [
      "\n",
      "file: 'E:\\hy\\Datasets\\TUSZ\\edf\\dev\\02_tcp_le\\002\\00000258\\s004_2003_07_24\\00000258_s004_t000.edf' [RECORDING] ALL WINDOWS DONE! FILE DONE!...\n",
      "\n",
      "FILE NAME: E:\\hy\\Datasets\\TUSZ\\edf\\dev\\02_tcp_le\\006\\00000629\\s001_2003_07_22\\00000629_s001_t000.edf\n",
      "Extracting EDF parameters from E:\\hy\\Datasets\\TUSZ\\edf\\dev\\02_tcp_le\\006\\00000629\\s001_2003_07_22\\00000629_s001_t000.edf...\n",
      "EDF file detected\n",
      "Setting channel info structure...\n",
      "Creating raw.info structure...\n",
      "Reading 0 ... 36249  =      0.000 ...   144.996 secs...\n",
      "NOTE: pick_channels() is a legacy function. New code should use inst.pick(...).\n"
     ]
    },
    {
     "name": "stderr",
     "output_type": "stream",
     "text": [
      "Processing Files:  85%|██████████████████████████████████████████████████▉         | 303/357 [1:20:49<16:10, 17.97s/it]"
     ]
    },
    {
     "name": "stdout",
     "output_type": "stream",
     "text": [
      "\n",
      "file: 'E:\\hy\\Datasets\\TUSZ\\edf\\dev\\02_tcp_le\\006\\00000629\\s001_2003_07_22\\00000629_s001_t000.edf' [RECORDING] ALL WINDOWS DONE! FILE DONE!...\n",
      "\n",
      "FILE NAME: E:\\hy\\Datasets\\TUSZ\\edf\\dev\\02_tcp_le\\006\\00000629\\s001_2003_07_22\\00000629_s001_t001.edf\n",
      "Extracting EDF parameters from E:\\hy\\Datasets\\TUSZ\\edf\\dev\\02_tcp_le\\006\\00000629\\s001_2003_07_22\\00000629_s001_t001.edf...\n",
      "EDF file detected\n",
      "Setting channel info structure...\n",
      "Creating raw.info structure...\n",
      "Reading 0 ... 338499  =      0.000 ...  1353.996 secs...\n",
      "NOTE: pick_channels() is a legacy function. New code should use inst.pick(...).\n"
     ]
    },
    {
     "name": "stderr",
     "output_type": "stream",
     "text": [
      "Processing Files:  85%|███████████████████████████████████████████████████         | 304/357 [1:21:26<20:11, 22.85s/it]"
     ]
    },
    {
     "name": "stdout",
     "output_type": "stream",
     "text": [
      "\n",
      "file: 'E:\\hy\\Datasets\\TUSZ\\edf\\dev\\02_tcp_le\\006\\00000629\\s001_2003_07_22\\00000629_s001_t001.edf' [RECORDING] ALL WINDOWS DONE! FILE DONE!...\n",
      "\n",
      "FILE NAME: E:\\hy\\Datasets\\TUSZ\\edf\\dev\\02_tcp_le\\006\\00000675\\s001_2003_11_10\\00000675_s001_t001.edf\n",
      "Extracting EDF parameters from E:\\hy\\Datasets\\TUSZ\\edf\\dev\\02_tcp_le\\006\\00000675\\s001_2003_11_10\\00000675_s001_t001.edf...\n",
      "EDF file detected\n",
      "Setting channel info structure...\n",
      "Creating raw.info structure...\n",
      "Reading 0 ... 309249  =      0.000 ...  1236.996 secs...\n",
      "NOTE: pick_channels() is a legacy function. New code should use inst.pick(...).\n"
     ]
    },
    {
     "name": "stderr",
     "output_type": "stream",
     "text": [
      "Processing Files:  85%|███████████████████████████████████████████████████▎        | 305/357 [1:21:59<22:11, 25.61s/it]"
     ]
    },
    {
     "name": "stdout",
     "output_type": "stream",
     "text": [
      "\n",
      "file: 'E:\\hy\\Datasets\\TUSZ\\edf\\dev\\02_tcp_le\\006\\00000675\\s001_2003_11_10\\00000675_s001_t001.edf' [RECORDING] ALL WINDOWS DONE! FILE DONE!...\n",
      "\n",
      "FILE NAME: E:\\hy\\Datasets\\TUSZ\\edf\\dev\\02_tcp_le\\006\\00000675\\s002_2006_09_05\\00000675_s002_t001.edf\n",
      "Extracting EDF parameters from E:\\hy\\Datasets\\TUSZ\\edf\\dev\\02_tcp_le\\006\\00000675\\s002_2006_09_05\\00000675_s002_t001.edf...\n",
      "EDF file detected\n",
      "Setting channel info structure...\n",
      "Creating raw.info structure...\n",
      "Reading 0 ... 311249  =      0.000 ...  1244.996 secs...\n",
      "NOTE: pick_channels() is a legacy function. New code should use inst.pick(...).\n"
     ]
    },
    {
     "name": "stderr",
     "output_type": "stream",
     "text": [
      "Processing Files:  86%|███████████████████████████████████████████████████▍        | 306/357 [1:22:32<23:35, 27.76s/it]"
     ]
    },
    {
     "name": "stdout",
     "output_type": "stream",
     "text": [
      "\n",
      "file: 'E:\\hy\\Datasets\\TUSZ\\edf\\dev\\02_tcp_le\\006\\00000675\\s002_2006_09_05\\00000675_s002_t001.edf' [RECORDING] ALL WINDOWS DONE! FILE DONE!...\n",
      "\n",
      "FILE NAME: E:\\hy\\Datasets\\TUSZ\\edf\\dev\\02_tcp_le\\007\\00000795\\s001_2003_12_02\\00000795_s001_t001.edf\n",
      "Extracting EDF parameters from E:\\hy\\Datasets\\TUSZ\\edf\\dev\\02_tcp_le\\007\\00000795\\s001_2003_12_02\\00000795_s001_t001.edf...\n",
      "EDF file detected\n",
      "Setting channel info structure...\n",
      "Creating raw.info structure...\n",
      "Reading 0 ... 22249  =      0.000 ...    88.996 secs...\n",
      "NOTE: pick_channels() is a legacy function. New code should use inst.pick(...).\n"
     ]
    },
    {
     "name": "stderr",
     "output_type": "stream",
     "text": [
      "Processing Files:  86%|███████████████████████████████████████████████████▌        | 307/357 [1:22:34<17:05, 20.50s/it]"
     ]
    },
    {
     "name": "stdout",
     "output_type": "stream",
     "text": [
      "\n",
      "file: 'E:\\hy\\Datasets\\TUSZ\\edf\\dev\\02_tcp_le\\007\\00000795\\s001_2003_12_02\\00000795_s001_t001.edf' [RECORDING] ALL WINDOWS DONE! FILE DONE!...\n",
      "\n",
      "FILE NAME: E:\\hy\\Datasets\\TUSZ\\edf\\dev\\02_tcp_le\\007\\00000795\\s001_2003_12_02\\00000795_s001_t002.edf\n",
      "Extracting EDF parameters from E:\\hy\\Datasets\\TUSZ\\edf\\dev\\02_tcp_le\\007\\00000795\\s001_2003_12_02\\00000795_s001_t002.edf...\n",
      "EDF file detected\n",
      "Setting channel info structure...\n",
      "Creating raw.info structure...\n",
      "Reading 0 ... 296999  =      0.000 ...  1187.996 secs...\n",
      "NOTE: pick_channels() is a legacy function. New code should use inst.pick(...).\n"
     ]
    },
    {
     "name": "stderr",
     "output_type": "stream",
     "text": [
      "Processing Files:  86%|███████████████████████████████████████████████████▊        | 308/357 [1:23:06<19:24, 23.76s/it]"
     ]
    },
    {
     "name": "stdout",
     "output_type": "stream",
     "text": [
      "\n",
      "file: 'E:\\hy\\Datasets\\TUSZ\\edf\\dev\\02_tcp_le\\007\\00000795\\s001_2003_12_02\\00000795_s001_t002.edf' [RECORDING] ALL WINDOWS DONE! FILE DONE!...\n",
      "\n",
      "FILE NAME: E:\\hy\\Datasets\\TUSZ\\edf\\dev\\02_tcp_le\\012\\00001278\\s001_2003_11_17\\00001278_s001_t001.edf\n",
      "Extracting EDF parameters from E:\\hy\\Datasets\\TUSZ\\edf\\dev\\02_tcp_le\\012\\00001278\\s001_2003_11_17\\00001278_s001_t001.edf...\n",
      "EDF file detected\n",
      "Setting channel info structure...\n",
      "Creating raw.info structure...\n",
      "Reading 0 ... 314499  =      0.000 ...  1257.996 secs...\n",
      "NOTE: pick_channels() is a legacy function. New code should use inst.pick(...).\n"
     ]
    },
    {
     "name": "stderr",
     "output_type": "stream",
     "text": [
      "Processing Files:  87%|███████████████████████████████████████████████████▉        | 309/357 [1:23:39<21:13, 26.53s/it]"
     ]
    },
    {
     "name": "stdout",
     "output_type": "stream",
     "text": [
      "\n",
      "file: 'E:\\hy\\Datasets\\TUSZ\\edf\\dev\\02_tcp_le\\012\\00001278\\s001_2003_11_17\\00001278_s001_t001.edf' [RECORDING] ALL WINDOWS DONE! FILE DONE!...\n",
      "\n",
      "FILE NAME: E:\\hy\\Datasets\\TUSZ\\edf\\dev\\02_tcp_le\\016\\00001640\\s001_2004_09_21\\00001640_s001_t001.edf\n",
      "Extracting EDF parameters from E:\\hy\\Datasets\\TUSZ\\edf\\dev\\02_tcp_le\\016\\00001640\\s001_2004_09_21\\00001640_s001_t001.edf...\n",
      "EDF file detected\n",
      "Setting channel info structure...\n",
      "Creating raw.info structure...\n",
      "Reading 0 ... 305999  =      0.000 ...  1223.996 secs...\n",
      "NOTE: pick_channels() is a legacy function. New code should use inst.pick(...).\n"
     ]
    },
    {
     "name": "stderr",
     "output_type": "stream",
     "text": [
      "Processing Files:  87%|████████████████████████████████████████████████████        | 310/357 [1:24:12<22:15, 28.41s/it]"
     ]
    },
    {
     "name": "stdout",
     "output_type": "stream",
     "text": [
      "\n",
      "file: 'E:\\hy\\Datasets\\TUSZ\\edf\\dev\\02_tcp_le\\016\\00001640\\s001_2004_09_21\\00001640_s001_t001.edf' [RECORDING] ALL WINDOWS DONE! FILE DONE!...\n",
      "\n",
      "FILE NAME: E:\\hy\\Datasets\\TUSZ\\edf\\dev\\02_tcp_le\\017\\00001770\\s001_2004_01_22\\00001770_s001_t000.edf\n",
      "Extracting EDF parameters from E:\\hy\\Datasets\\TUSZ\\edf\\dev\\02_tcp_le\\017\\00001770\\s001_2004_01_22\\00001770_s001_t000.edf...\n",
      "EDF file detected\n",
      "Setting channel info structure...\n",
      "Creating raw.info structure...\n",
      "Reading 0 ... 201749  =      0.000 ...   806.996 secs...\n",
      "NOTE: pick_channels() is a legacy function. New code should use inst.pick(...).\n"
     ]
    },
    {
     "name": "stderr",
     "output_type": "stream",
     "text": [
      "Processing Files:  87%|████████████████████████████████████████████████████▎       | 311/357 [1:24:33<20:04, 26.19s/it]"
     ]
    },
    {
     "name": "stdout",
     "output_type": "stream",
     "text": [
      "\n",
      "file: 'E:\\hy\\Datasets\\TUSZ\\edf\\dev\\02_tcp_le\\017\\00001770\\s001_2004_01_22\\00001770_s001_t000.edf' [RECORDING] ALL WINDOWS DONE! FILE DONE!...\n",
      "\n",
      "FILE NAME: E:\\hy\\Datasets\\TUSZ\\edf\\dev\\02_tcp_le\\017\\00001770\\s001_2004_01_22\\00001770_s001_t001.edf\n",
      "Extracting EDF parameters from E:\\hy\\Datasets\\TUSZ\\edf\\dev\\02_tcp_le\\017\\00001770\\s001_2004_01_22\\00001770_s001_t001.edf...\n",
      "EDF file detected\n",
      "Setting channel info structure...\n",
      "Creating raw.info structure...\n",
      "Reading 0 ... 148249  =      0.000 ...   592.996 secs...\n",
      "NOTE: pick_channels() is a legacy function. New code should use inst.pick(...).\n"
     ]
    },
    {
     "name": "stderr",
     "output_type": "stream",
     "text": [
      "Processing Files:  87%|████████████████████████████████████████████████████▍       | 312/357 [1:24:49<17:19, 23.11s/it]"
     ]
    },
    {
     "name": "stdout",
     "output_type": "stream",
     "text": [
      "\n",
      "file: 'E:\\hy\\Datasets\\TUSZ\\edf\\dev\\02_tcp_le\\017\\00001770\\s001_2004_01_22\\00001770_s001_t001.edf' [RECORDING] ALL WINDOWS DONE! FILE DONE!...\n",
      "\n",
      "FILE NAME: E:\\hy\\Datasets\\TUSZ\\edf\\dev\\02_tcp_le\\017\\00001770\\s002_2004_07_20\\00001770_s002_t000.edf\n",
      "Extracting EDF parameters from E:\\hy\\Datasets\\TUSZ\\edf\\dev\\02_tcp_le\\017\\00001770\\s002_2004_07_20\\00001770_s002_t000.edf...\n",
      "EDF file detected\n",
      "Setting channel info structure...\n",
      "Creating raw.info structure...\n",
      "Reading 0 ... 332499  =      0.000 ...  1329.996 secs...\n",
      "NOTE: pick_channels() is a legacy function. New code should use inst.pick(...).\n"
     ]
    },
    {
     "name": "stderr",
     "output_type": "stream",
     "text": [
      "Processing Files:  88%|████████████████████████████████████████████████████▌       | 313/357 [1:25:24<19:37, 26.76s/it]"
     ]
    },
    {
     "name": "stdout",
     "output_type": "stream",
     "text": [
      "\n",
      "file: 'E:\\hy\\Datasets\\TUSZ\\edf\\dev\\02_tcp_le\\017\\00001770\\s002_2004_07_20\\00001770_s002_t000.edf' [RECORDING] ALL WINDOWS DONE! FILE DONE!...\n",
      "\n",
      "FILE NAME: E:\\hy\\Datasets\\TUSZ\\edf\\dev\\02_tcp_le\\017\\00001770\\s003_2006_10_26\\00001770_s003_t000.edf\n",
      "Extracting EDF parameters from E:\\hy\\Datasets\\TUSZ\\edf\\dev\\02_tcp_le\\017\\00001770\\s003_2006_10_26\\00001770_s003_t000.edf...\n",
      "EDF file detected\n",
      "Setting channel info structure...\n",
      "Creating raw.info structure...\n",
      "Reading 0 ... 592499  =      0.000 ...  2369.996 secs...\n",
      "NOTE: pick_channels() is a legacy function. New code should use inst.pick(...).\n"
     ]
    },
    {
     "name": "stderr",
     "output_type": "stream",
     "text": [
      "Processing Files:  88%|████████████████████████████████████████████████████▊       | 314/357 [1:26:31<27:49, 38.82s/it]"
     ]
    },
    {
     "name": "stdout",
     "output_type": "stream",
     "text": [
      "\n",
      "file: 'E:\\hy\\Datasets\\TUSZ\\edf\\dev\\02_tcp_le\\017\\00001770\\s003_2006_10_26\\00001770_s003_t000.edf' [RECORDING] ALL WINDOWS DONE! FILE DONE!...\n",
      "\n",
      "FILE NAME: E:\\hy\\Datasets\\TUSZ\\edf\\dev\\02_tcp_le\\019\\00001984\\s001_2004_02_17\\00001984_s001_t001.edf\n",
      "Extracting EDF parameters from E:\\hy\\Datasets\\TUSZ\\edf\\dev\\02_tcp_le\\019\\00001984\\s001_2004_02_17\\00001984_s001_t001.edf...\n",
      "EDF file detected\n",
      "Setting channel info structure...\n",
      "Creating raw.info structure...\n",
      "Reading 0 ... 364749  =      0.000 ...  1458.996 secs...\n",
      "NOTE: pick_channels() is a legacy function. New code should use inst.pick(...).\n"
     ]
    },
    {
     "name": "stderr",
     "output_type": "stream",
     "text": [
      "Processing Files:  88%|████████████████████████████████████████████████████▉       | 315/357 [1:27:10<27:08, 38.77s/it]"
     ]
    },
    {
     "name": "stdout",
     "output_type": "stream",
     "text": [
      "\n",
      "file: 'E:\\hy\\Datasets\\TUSZ\\edf\\dev\\02_tcp_le\\019\\00001984\\s001_2004_02_17\\00001984_s001_t001.edf' [RECORDING] ALL WINDOWS DONE! FILE DONE!...\n",
      "\n",
      "FILE NAME: E:\\hy\\Datasets\\TUSZ\\edf\\dev\\02_tcp_le\\022\\00002289\\s001_2005_03_02\\00002289_s001_t000.edf\n",
      "Extracting EDF parameters from E:\\hy\\Datasets\\TUSZ\\edf\\dev\\02_tcp_le\\022\\00002289\\s001_2005_03_02\\00002289_s001_t000.edf...\n",
      "EDF file detected\n",
      "Setting channel info structure...\n",
      "Creating raw.info structure...\n",
      "Reading 0 ... 349249  =      0.000 ...  1396.996 secs...\n",
      "NOTE: pick_channels() is a legacy function. New code should use inst.pick(...).\n"
     ]
    },
    {
     "name": "stderr",
     "output_type": "stream",
     "text": [
      "Processing Files:  89%|█████████████████████████████████████████████████████       | 316/357 [1:27:48<26:14, 38.41s/it]"
     ]
    },
    {
     "name": "stdout",
     "output_type": "stream",
     "text": [
      "\n",
      "file: 'E:\\hy\\Datasets\\TUSZ\\edf\\dev\\02_tcp_le\\022\\00002289\\s001_2005_03_02\\00002289_s001_t000.edf' [RECORDING] ALL WINDOWS DONE! FILE DONE!...\n",
      "\n",
      "FILE NAME: E:\\hy\\Datasets\\TUSZ\\edf\\dev\\02_tcp_le\\022\\00002297\\s001_2005_04_14\\00002297_s001_t000.edf\n",
      "Extracting EDF parameters from E:\\hy\\Datasets\\TUSZ\\edf\\dev\\02_tcp_le\\022\\00002297\\s001_2005_04_14\\00002297_s001_t000.edf...\n",
      "EDF file detected\n",
      "Setting channel info structure...\n",
      "Creating raw.info structure...\n",
      "Reading 0 ... 302749  =      0.000 ...  1210.996 secs...\n",
      "NOTE: pick_channels() is a legacy function. New code should use inst.pick(...).\n"
     ]
    },
    {
     "name": "stderr",
     "output_type": "stream",
     "text": [
      "Processing Files:  89%|█████████████████████████████████████████████████████▎      | 317/357 [1:28:18<23:57, 35.93s/it]"
     ]
    },
    {
     "name": "stdout",
     "output_type": "stream",
     "text": [
      "\n",
      "file: 'E:\\hy\\Datasets\\TUSZ\\edf\\dev\\02_tcp_le\\022\\00002297\\s001_2005_04_14\\00002297_s001_t000.edf' [RECORDING] ALL WINDOWS DONE! FILE DONE!...\n",
      "\n",
      "FILE NAME: E:\\hy\\Datasets\\TUSZ\\edf\\dev\\02_tcp_le\\022\\00002297\\s002_2007_10_22\\00002297_s002_t000.edf\n",
      "Extracting EDF parameters from E:\\hy\\Datasets\\TUSZ\\edf\\dev\\02_tcp_le\\022\\00002297\\s002_2007_10_22\\00002297_s002_t000.edf...\n",
      "EDF file detected\n",
      "Setting channel info structure...\n",
      "Creating raw.info structure...\n",
      "Reading 0 ... 308999  =      0.000 ...  1235.996 secs...\n",
      "NOTE: pick_channels() is a legacy function. New code should use inst.pick(...).\n"
     ]
    },
    {
     "name": "stderr",
     "output_type": "stream",
     "text": [
      "Processing Files:  89%|█████████████████████████████████████████████████████▍      | 318/357 [1:28:51<22:47, 35.06s/it]"
     ]
    },
    {
     "name": "stdout",
     "output_type": "stream",
     "text": [
      "\n",
      "file: 'E:\\hy\\Datasets\\TUSZ\\edf\\dev\\02_tcp_le\\022\\00002297\\s002_2007_10_22\\00002297_s002_t000.edf' [RECORDING] ALL WINDOWS DONE! FILE DONE!...\n",
      "\n",
      "FILE NAME: E:\\hy\\Datasets\\TUSZ\\edf\\dev\\02_tcp_le\\032\\00003281\\s001_2006_10_09\\00003281_s001_t001.edf\n",
      "Extracting EDF parameters from E:\\hy\\Datasets\\TUSZ\\edf\\dev\\02_tcp_le\\032\\00003281\\s001_2006_10_09\\00003281_s001_t001.edf...\n",
      "EDF file detected\n",
      "Setting channel info structure...\n",
      "Creating raw.info structure...\n",
      "Reading 0 ... 328249  =      0.000 ...  1312.996 secs...\n",
      "NOTE: pick_channels() is a legacy function. New code should use inst.pick(...).\n"
     ]
    },
    {
     "name": "stderr",
     "output_type": "stream",
     "text": [
      "Processing Files:  89%|█████████████████████████████████████████████████████▌      | 319/357 [1:29:26<22:15, 35.16s/it]"
     ]
    },
    {
     "name": "stdout",
     "output_type": "stream",
     "text": [
      "\n",
      "file: 'E:\\hy\\Datasets\\TUSZ\\edf\\dev\\02_tcp_le\\032\\00003281\\s001_2006_10_09\\00003281_s001_t001.edf' [RECORDING] ALL WINDOWS DONE! FILE DONE!...\n",
      "\n",
      "FILE NAME: E:\\hy\\Datasets\\TUSZ\\edf\\dev\\02_tcp_le\\033\\00003306\\s001_2006_10_11\\00003306_s001_t001.edf\n",
      "Extracting EDF parameters from E:\\hy\\Datasets\\TUSZ\\edf\\dev\\02_tcp_le\\033\\00003306\\s001_2006_10_11\\00003306_s001_t001.edf...\n",
      "EDF file detected\n",
      "Setting channel info structure...\n",
      "Creating raw.info structure...\n",
      "Reading 0 ... 356499  =      0.000 ...  1425.996 secs...\n",
      "NOTE: pick_channels() is a legacy function. New code should use inst.pick(...).\n"
     ]
    },
    {
     "name": "stderr",
     "output_type": "stream",
     "text": [
      "Processing Files:  90%|█████████████████████████████████████████████████████▊      | 320/357 [1:30:04<22:14, 36.08s/it]"
     ]
    },
    {
     "name": "stdout",
     "output_type": "stream",
     "text": [
      "\n",
      "file: 'E:\\hy\\Datasets\\TUSZ\\edf\\dev\\02_tcp_le\\033\\00003306\\s001_2006_10_11\\00003306_s001_t001.edf' [RECORDING] ALL WINDOWS DONE! FILE DONE!...\n",
      "\n",
      "FILE NAME: E:\\hy\\Datasets\\TUSZ\\edf\\dev\\02_tcp_le\\036\\00003635\\s001_2006_07_20\\00003635_s001_t001.edf\n",
      "Extracting EDF parameters from E:\\hy\\Datasets\\TUSZ\\edf\\dev\\02_tcp_le\\036\\00003635\\s001_2006_07_20\\00003635_s001_t001.edf...\n",
      "EDF file detected\n",
      "Setting channel info structure...\n",
      "Creating raw.info structure...\n",
      "Reading 0 ... 404499  =      0.000 ...  1617.996 secs...\n",
      "NOTE: pick_channels() is a legacy function. New code should use inst.pick(...).\n"
     ]
    },
    {
     "name": "stderr",
     "output_type": "stream",
     "text": [
      "Processing Files:  90%|█████████████████████████████████████████████████████▉      | 321/357 [1:30:48<22:56, 38.23s/it]"
     ]
    },
    {
     "name": "stdout",
     "output_type": "stream",
     "text": [
      "\n",
      "file: 'E:\\hy\\Datasets\\TUSZ\\edf\\dev\\02_tcp_le\\036\\00003635\\s001_2006_07_20\\00003635_s001_t001.edf' [RECORDING] ALL WINDOWS DONE! FILE DONE!...\n",
      "\n",
      "FILE NAME: E:\\hy\\Datasets\\TUSZ\\edf\\dev\\02_tcp_le\\040\\00004087\\s001_2007_06_26\\00004087_s001_t000.edf\n",
      "Extracting EDF parameters from E:\\hy\\Datasets\\TUSZ\\edf\\dev\\02_tcp_le\\040\\00004087\\s001_2007_06_26\\00004087_s001_t000.edf...\n",
      "EDF file detected\n",
      "Setting channel info structure...\n",
      "Creating raw.info structure...\n",
      "Reading 0 ... 339749  =      0.000 ...  1358.996 secs...\n",
      "NOTE: pick_channels() is a legacy function. New code should use inst.pick(...).\n"
     ]
    },
    {
     "name": "stderr",
     "output_type": "stream",
     "text": [
      "Processing Files:  90%|██████████████████████████████████████████████████████      | 322/357 [1:31:24<21:58, 37.66s/it]"
     ]
    },
    {
     "name": "stdout",
     "output_type": "stream",
     "text": [
      "\n",
      "file: 'E:\\hy\\Datasets\\TUSZ\\edf\\dev\\02_tcp_le\\040\\00004087\\s001_2007_06_26\\00004087_s001_t000.edf' [RECORDING] ALL WINDOWS DONE! FILE DONE!...\n",
      "\n",
      "FILE NAME: E:\\hy\\Datasets\\TUSZ\\edf\\dev\\02_tcp_le\\040\\00004087\\s002_2007_07_23\\00004087_s002_t000.edf\n",
      "Extracting EDF parameters from E:\\hy\\Datasets\\TUSZ\\edf\\dev\\02_tcp_le\\040\\00004087\\s002_2007_07_23\\00004087_s002_t000.edf...\n",
      "EDF file detected\n",
      "Setting channel info structure...\n",
      "Creating raw.info structure...\n",
      "Reading 0 ... 386499  =      0.000 ...  1545.996 secs...\n",
      "NOTE: pick_channels() is a legacy function. New code should use inst.pick(...).\n"
     ]
    },
    {
     "name": "stderr",
     "output_type": "stream",
     "text": [
      "Processing Files:  90%|██████████████████████████████████████████████████████▎     | 323/357 [1:32:05<21:55, 38.69s/it]"
     ]
    },
    {
     "name": "stdout",
     "output_type": "stream",
     "text": [
      "\n",
      "file: 'E:\\hy\\Datasets\\TUSZ\\edf\\dev\\02_tcp_le\\040\\00004087\\s002_2007_07_23\\00004087_s002_t000.edf' [RECORDING] ALL WINDOWS DONE! FILE DONE!...\n",
      "\n",
      "FILE NAME: E:\\hy\\Datasets\\TUSZ\\edf\\dev\\02_tcp_le\\041\\00004151\\s001_2007_09_25\\00004151_s001_t001.edf\n",
      "Extracting EDF parameters from E:\\hy\\Datasets\\TUSZ\\edf\\dev\\02_tcp_le\\041\\00004151\\s001_2007_09_25\\00004151_s001_t001.edf...\n",
      "EDF file detected\n",
      "Setting channel info structure...\n",
      "Creating raw.info structure...\n",
      "Reading 0 ... 355749  =      0.000 ...  1422.996 secs...\n",
      "NOTE: pick_channels() is a legacy function. New code should use inst.pick(...).\n"
     ]
    },
    {
     "name": "stderr",
     "output_type": "stream",
     "text": [
      "Processing Files:  91%|██████████████████████████████████████████████████████▍     | 324/357 [1:32:43<21:13, 38.58s/it]"
     ]
    },
    {
     "name": "stdout",
     "output_type": "stream",
     "text": [
      "\n",
      "file: 'E:\\hy\\Datasets\\TUSZ\\edf\\dev\\02_tcp_le\\041\\00004151\\s001_2007_09_25\\00004151_s001_t001.edf' [RECORDING] ALL WINDOWS DONE! FILE DONE!...\n",
      "\n",
      "FILE NAME: E:\\hy\\Datasets\\TUSZ\\edf\\dev\\02_tcp_le\\041\\00004151\\s002_2007_09_28\\00004151_s002_t001.edf\n",
      "Extracting EDF parameters from E:\\hy\\Datasets\\TUSZ\\edf\\dev\\02_tcp_le\\041\\00004151\\s002_2007_09_28\\00004151_s002_t001.edf...\n",
      "EDF file detected\n",
      "Setting channel info structure...\n",
      "Creating raw.info structure...\n",
      "Reading 0 ... 122499  =      0.000 ...   489.996 secs...\n",
      "NOTE: pick_channels() is a legacy function. New code should use inst.pick(...).\n"
     ]
    },
    {
     "name": "stderr",
     "output_type": "stream",
     "text": [
      "Processing Files:  91%|██████████████████████████████████████████████████████▌     | 325/357 [1:32:57<16:33, 31.05s/it]"
     ]
    },
    {
     "name": "stdout",
     "output_type": "stream",
     "text": [
      "\n",
      "file: 'E:\\hy\\Datasets\\TUSZ\\edf\\dev\\02_tcp_le\\041\\00004151\\s002_2007_09_28\\00004151_s002_t001.edf' [RECORDING] ALL WINDOWS DONE! FILE DONE!...\n",
      "\n",
      "FILE NAME: E:\\hy\\Datasets\\TUSZ\\edf\\dev\\02_tcp_le\\041\\00004151\\s002_2007_09_28\\00004151_s002_t002.edf\n",
      "Extracting EDF parameters from E:\\hy\\Datasets\\TUSZ\\edf\\dev\\02_tcp_le\\041\\00004151\\s002_2007_09_28\\00004151_s002_t002.edf...\n",
      "EDF file detected\n",
      "Setting channel info structure...\n",
      "Creating raw.info structure...\n",
      "Reading 0 ... 63999  =      0.000 ...   255.996 secs...\n",
      "NOTE: pick_channels() is a legacy function. New code should use inst.pick(...).\n"
     ]
    },
    {
     "name": "stderr",
     "output_type": "stream",
     "text": [
      "Processing Files:  92%|██████████████████████████████████████████████████████▉     | 327/357 [1:33:04<09:09, 18.32s/it]"
     ]
    },
    {
     "name": "stdout",
     "output_type": "stream",
     "text": [
      "\n",
      "file: 'E:\\hy\\Datasets\\TUSZ\\edf\\dev\\02_tcp_le\\041\\00004151\\s002_2007_09_28\\00004151_s002_t002.edf' [RECORDING] ALL WINDOWS DONE! FILE DONE!...\n",
      "\n",
      "FILE NAME: E:\\hy\\Datasets\\TUSZ\\edf\\dev\\02_tcp_le\\041\\00004151\\s002_2007_09_28\\00004151_s002_t003.edf\n",
      "Extracting EDF parameters from E:\\hy\\Datasets\\TUSZ\\edf\\dev\\02_tcp_le\\041\\00004151\\s002_2007_09_28\\00004151_s002_t003.edf...\n",
      "EDF file detected\n",
      "Setting channel info structure...\n",
      "Creating raw.info structure...\n",
      "Reading 0 ... 110749  =      0.000 ...   442.996 secs...\n",
      "NOTE: pick_channels() is a legacy function. New code should use inst.pick(...).\n"
     ]
    },
    {
     "name": "stderr",
     "output_type": "stream",
     "text": [
      "Processing Files:  92%|███████████████████████████████████████████████████████▏    | 328/357 [1:33:16<08:06, 16.77s/it]"
     ]
    },
    {
     "name": "stdout",
     "output_type": "stream",
     "text": [
      "\n",
      "file: 'E:\\hy\\Datasets\\TUSZ\\edf\\dev\\02_tcp_le\\041\\00004151\\s002_2007_09_28\\00004151_s002_t003.edf' [RECORDING] ALL WINDOWS DONE! FILE DONE!...\n",
      "\n",
      "FILE NAME: E:\\hy\\Datasets\\TUSZ\\edf\\dev\\02_tcp_le\\045\\00004594\\s001_2008_03_31\\00004594_s001_t000.edf\n",
      "Extracting EDF parameters from E:\\hy\\Datasets\\TUSZ\\edf\\dev\\02_tcp_le\\045\\00004594\\s001_2008_03_31\\00004594_s001_t000.edf...\n",
      "EDF file detected\n",
      "Setting channel info structure...\n",
      "Creating raw.info structure...\n",
      "Reading 0 ... 121999  =      0.000 ...   487.996 secs...\n",
      "NOTE: pick_channels() is a legacy function. New code should use inst.pick(...).\n"
     ]
    },
    {
     "name": "stderr",
     "output_type": "stream",
     "text": [
      "Processing Files:  92%|███████████████████████████████████████████████████████▎    | 329/357 [1:33:29<07:23, 15.84s/it]"
     ]
    },
    {
     "name": "stdout",
     "output_type": "stream",
     "text": [
      "\n",
      "file: 'E:\\hy\\Datasets\\TUSZ\\edf\\dev\\02_tcp_le\\045\\00004594\\s001_2008_03_31\\00004594_s001_t000.edf' [RECORDING] ALL WINDOWS DONE! FILE DONE!...\n",
      "\n",
      "FILE NAME: E:\\hy\\Datasets\\TUSZ\\edf\\dev\\02_tcp_le\\045\\00004594\\s002_2008_04_25\\00004594_s002_t000.edf\n",
      "Extracting EDF parameters from E:\\hy\\Datasets\\TUSZ\\edf\\dev\\02_tcp_le\\045\\00004594\\s002_2008_04_25\\00004594_s002_t000.edf...\n",
      "EDF file detected\n",
      "Setting channel info structure...\n",
      "Creating raw.info structure...\n",
      "Reading 0 ... 326499  =      0.000 ...  1305.996 secs...\n",
      "NOTE: pick_channels() is a legacy function. New code should use inst.pick(...).\n"
     ]
    },
    {
     "name": "stderr",
     "output_type": "stream",
     "text": [
      "Processing Files:  92%|███████████████████████████████████████████████████████▍    | 330/357 [1:34:05<09:38, 21.43s/it]"
     ]
    },
    {
     "name": "stdout",
     "output_type": "stream",
     "text": [
      "\n",
      "file: 'E:\\hy\\Datasets\\TUSZ\\edf\\dev\\02_tcp_le\\045\\00004594\\s002_2008_04_25\\00004594_s002_t000.edf' [RECORDING] ALL WINDOWS DONE! FILE DONE!...\n",
      "\n",
      "FILE NAME: E:\\hy\\Datasets\\TUSZ\\edf\\dev\\02_tcp_le\\050\\00005031\\s001_2008_07_22\\00005031_s001_t000.edf\n",
      "Extracting EDF parameters from E:\\hy\\Datasets\\TUSZ\\edf\\dev\\02_tcp_le\\050\\00005031\\s001_2008_07_22\\00005031_s001_t000.edf...\n",
      "EDF file detected\n",
      "Setting channel info structure...\n",
      "Creating raw.info structure...\n",
      "Reading 0 ... 318749  =      0.000 ...  1274.996 secs...\n",
      "NOTE: pick_channels() is a legacy function. New code should use inst.pick(...).\n"
     ]
    },
    {
     "name": "stderr",
     "output_type": "stream",
     "text": [
      "Processing Files:  93%|███████████████████████████████████████████████████████▋    | 331/357 [1:34:43<11:15, 25.97s/it]"
     ]
    },
    {
     "name": "stdout",
     "output_type": "stream",
     "text": [
      "\n",
      "file: 'E:\\hy\\Datasets\\TUSZ\\edf\\dev\\02_tcp_le\\050\\00005031\\s001_2008_07_22\\00005031_s001_t000.edf' [RECORDING] ALL WINDOWS DONE! FILE DONE!...\n",
      "\n",
      "FILE NAME: E:\\hy\\Datasets\\TUSZ\\edf\\dev\\02_tcp_le\\052\\00005213\\s001_2007_12_06\\00005213_s001_t000.edf\n",
      "Extracting EDF parameters from E:\\hy\\Datasets\\TUSZ\\edf\\dev\\02_tcp_le\\052\\00005213\\s001_2007_12_06\\00005213_s001_t000.edf...\n",
      "EDF file detected\n",
      "Setting channel info structure...\n",
      "Creating raw.info structure...\n",
      "Reading 0 ... 302249  =      0.000 ...  1208.996 secs...\n",
      "NOTE: pick_channels() is a legacy function. New code should use inst.pick(...).\n"
     ]
    },
    {
     "name": "stderr",
     "output_type": "stream",
     "text": [
      "Processing Files:  93%|███████████████████████████████████████████████████████▊    | 332/357 [1:35:18<11:53, 28.55s/it]"
     ]
    },
    {
     "name": "stdout",
     "output_type": "stream",
     "text": [
      "\n",
      "file: 'E:\\hy\\Datasets\\TUSZ\\edf\\dev\\02_tcp_le\\052\\00005213\\s001_2007_12_06\\00005213_s001_t000.edf' [RECORDING] ALL WINDOWS DONE! FILE DONE!...\n",
      "\n",
      "FILE NAME: E:\\hy\\Datasets\\TUSZ\\edf\\dev\\02_tcp_le\\054\\00005479\\s001_2008_11_14\\00005479_s001_t000.edf\n",
      "Extracting EDF parameters from E:\\hy\\Datasets\\TUSZ\\edf\\dev\\02_tcp_le\\054\\00005479\\s001_2008_11_14\\00005479_s001_t000.edf...\n",
      "EDF file detected\n",
      "Setting channel info structure...\n",
      "Creating raw.info structure...\n",
      "Reading 0 ... 10749  =      0.000 ...    42.996 secs...\n",
      "NOTE: pick_channels() is a legacy function. New code should use inst.pick(...).\n"
     ]
    },
    {
     "name": "stderr",
     "output_type": "stream",
     "text": [
      "Processing Files:  93%|███████████████████████████████████████████████████████▉    | 333/357 [1:35:19<08:14, 20.58s/it]"
     ]
    },
    {
     "name": "stdout",
     "output_type": "stream",
     "text": [
      "\n",
      "file: 'E:\\hy\\Datasets\\TUSZ\\edf\\dev\\02_tcp_le\\054\\00005479\\s001_2008_11_14\\00005479_s001_t000.edf' [RECORDING] ALL WINDOWS DONE! FILE DONE!...\n",
      "\n",
      "FILE NAME: E:\\hy\\Datasets\\TUSZ\\edf\\dev\\02_tcp_le\\054\\00005479\\s001_2008_11_14\\00005479_s001_t001.edf\n",
      "Extracting EDF parameters from E:\\hy\\Datasets\\TUSZ\\edf\\dev\\02_tcp_le\\054\\00005479\\s001_2008_11_14\\00005479_s001_t001.edf...\n",
      "EDF file detected\n",
      "Setting channel info structure...\n",
      "Creating raw.info structure...\n",
      "Reading 0 ... 9999  =      0.000 ...    39.996 secs...\n",
      "NOTE: pick_channels() is a legacy function. New code should use inst.pick(...).\n"
     ]
    },
    {
     "name": "stderr",
     "output_type": "stream",
     "text": [
      "Processing Files:  94%|████████████████████████████████████████████████████████▏   | 334/357 [1:35:20<05:41, 14.86s/it]"
     ]
    },
    {
     "name": "stdout",
     "output_type": "stream",
     "text": [
      "\n",
      "file: 'E:\\hy\\Datasets\\TUSZ\\edf\\dev\\02_tcp_le\\054\\00005479\\s001_2008_11_14\\00005479_s001_t001.edf' [RECORDING] ALL WINDOWS DONE! FILE DONE!...\n",
      "\n",
      "FILE NAME: E:\\hy\\Datasets\\TUSZ\\edf\\dev\\02_tcp_le\\054\\00005479\\s001_2008_11_14\\00005479_s001_t002.edf\n",
      "Extracting EDF parameters from E:\\hy\\Datasets\\TUSZ\\edf\\dev\\02_tcp_le\\054\\00005479\\s001_2008_11_14\\00005479_s001_t002.edf...\n",
      "EDF file detected\n",
      "Setting channel info structure...\n",
      "Creating raw.info structure...\n",
      "Reading 0 ... 17999  =      0.000 ...    71.996 secs...\n",
      "NOTE: pick_channels() is a legacy function. New code should use inst.pick(...).\n"
     ]
    },
    {
     "name": "stderr",
     "output_type": "stream",
     "text": [
      "Processing Files:  94%|████████████████████████████████████████████████████████▎   | 335/357 [1:35:22<04:01, 10.97s/it]"
     ]
    },
    {
     "name": "stdout",
     "output_type": "stream",
     "text": [
      "\n",
      "file: 'E:\\hy\\Datasets\\TUSZ\\edf\\dev\\02_tcp_le\\054\\00005479\\s001_2008_11_14\\00005479_s001_t002.edf' [RECORDING] ALL WINDOWS DONE! FILE DONE!...\n",
      "\n",
      "FILE NAME: E:\\hy\\Datasets\\TUSZ\\edf\\dev\\02_tcp_le\\054\\00005479\\s001_2008_11_14\\00005479_s001_t003.edf\n",
      "Extracting EDF parameters from E:\\hy\\Datasets\\TUSZ\\edf\\dev\\02_tcp_le\\054\\00005479\\s001_2008_11_14\\00005479_s001_t003.edf...\n",
      "EDF file detected\n",
      "Setting channel info structure...\n",
      "Creating raw.info structure...\n",
      "Reading 0 ... 231499  =      0.000 ...   925.996 secs...\n",
      "NOTE: pick_channels() is a legacy function. New code should use inst.pick(...).\n"
     ]
    },
    {
     "name": "stderr",
     "output_type": "stream",
     "text": [
      "Processing Files:  94%|████████████████████████████████████████████████████████▍   | 336/357 [1:35:47<05:18, 15.16s/it]"
     ]
    },
    {
     "name": "stdout",
     "output_type": "stream",
     "text": [
      "\n",
      "file: 'E:\\hy\\Datasets\\TUSZ\\edf\\dev\\02_tcp_le\\054\\00005479\\s001_2008_11_14\\00005479_s001_t003.edf' [RECORDING] ALL WINDOWS DONE! FILE DONE!...\n",
      "\n",
      "FILE NAME: E:\\hy\\Datasets\\TUSZ\\edf\\dev\\02_tcp_le\\054\\00005479\\s002_2008_11_14\\00005479_s002_t000.edf\n",
      "Extracting EDF parameters from E:\\hy\\Datasets\\TUSZ\\edf\\dev\\02_tcp_le\\054\\00005479\\s002_2008_11_14\\00005479_s002_t000.edf...\n",
      "EDF file detected\n",
      "Setting channel info structure...\n",
      "Creating raw.info structure...\n",
      "Reading 0 ... 81499  =      0.000 ...   325.996 secs...\n",
      "NOTE: pick_channels() is a legacy function. New code should use inst.pick(...).\n"
     ]
    },
    {
     "name": "stderr",
     "output_type": "stream",
     "text": [
      "Processing Files:  94%|████████████████████████████████████████████████████████▋   | 337/357 [1:35:56<04:26, 13.32s/it]"
     ]
    },
    {
     "name": "stdout",
     "output_type": "stream",
     "text": [
      "\n",
      "file: 'E:\\hy\\Datasets\\TUSZ\\edf\\dev\\02_tcp_le\\054\\00005479\\s002_2008_11_14\\00005479_s002_t000.edf' [RECORDING] ALL WINDOWS DONE! FILE DONE!...\n",
      "\n",
      "FILE NAME: E:\\hy\\Datasets\\TUSZ\\edf\\dev\\02_tcp_le\\056\\00005625\\s001_2009_03_31\\00005625_s001_t001.edf\n",
      "Extracting EDF parameters from E:\\hy\\Datasets\\TUSZ\\edf\\dev\\02_tcp_le\\056\\00005625\\s001_2009_03_31\\00005625_s001_t001.edf...\n",
      "EDF file detected\n",
      "Setting channel info structure...\n",
      "Creating raw.info structure...\n",
      "Reading 0 ... 319999  =      0.000 ...  1279.996 secs...\n",
      "NOTE: pick_channels() is a legacy function. New code should use inst.pick(...).\n"
     ]
    },
    {
     "name": "stderr",
     "output_type": "stream",
     "text": [
      "Processing Files:  95%|████████████████████████████████████████████████████████▊   | 338/357 [1:36:29<06:05, 19.26s/it]"
     ]
    },
    {
     "name": "stdout",
     "output_type": "stream",
     "text": [
      "\n",
      "file: 'E:\\hy\\Datasets\\TUSZ\\edf\\dev\\02_tcp_le\\056\\00005625\\s001_2009_03_31\\00005625_s001_t001.edf' [RECORDING] ALL WINDOWS DONE! FILE DONE!...\n",
      "\n",
      "FILE NAME: E:\\hy\\Datasets\\TUSZ\\edf\\dev\\02_tcp_le\\056\\00005625\\s002_2010_03_29\\00005625_s002_t001.edf\n",
      "Extracting EDF parameters from E:\\hy\\Datasets\\TUSZ\\edf\\dev\\02_tcp_le\\056\\00005625\\s002_2010_03_29\\00005625_s002_t001.edf...\n",
      "EDF file detected\n",
      "Setting channel info structure...\n",
      "Creating raw.info structure...\n",
      "Reading 0 ... 300749  =      0.000 ...  1202.996 secs...\n",
      "NOTE: pick_channels() is a legacy function. New code should use inst.pick(...).\n"
     ]
    },
    {
     "name": "stderr",
     "output_type": "stream",
     "text": [
      "Processing Files:  95%|████████████████████████████████████████████████████████▉   | 339/357 [1:37:00<06:50, 22.81s/it]"
     ]
    },
    {
     "name": "stdout",
     "output_type": "stream",
     "text": [
      "\n",
      "file: 'E:\\hy\\Datasets\\TUSZ\\edf\\dev\\02_tcp_le\\056\\00005625\\s002_2010_03_29\\00005625_s002_t001.edf' [RECORDING] ALL WINDOWS DONE! FILE DONE!...\n",
      "\n",
      "FILE NAME: E:\\hy\\Datasets\\TUSZ\\edf\\dev\\02_tcp_le\\059\\00005943\\s001_2009_06_28\\00005943_s001_t000.edf\n",
      "Extracting EDF parameters from E:\\hy\\Datasets\\TUSZ\\edf\\dev\\02_tcp_le\\059\\00005943\\s001_2009_06_28\\00005943_s001_t000.edf...\n",
      "EDF file detected\n",
      "Setting channel info structure...\n",
      "Creating raw.info structure...\n",
      "Reading 0 ... 699749  =      0.000 ...  2798.996 secs...\n",
      "NOTE: pick_channels() is a legacy function. New code should use inst.pick(...).\n"
     ]
    },
    {
     "name": "stderr",
     "output_type": "stream",
     "text": [
      "Processing Files:  95%|█████████████████████████████████████████████████████████▏  | 340/357 [1:38:18<11:07, 39.28s/it]"
     ]
    },
    {
     "name": "stdout",
     "output_type": "stream",
     "text": [
      "\n",
      "file: 'E:\\hy\\Datasets\\TUSZ\\edf\\dev\\02_tcp_le\\059\\00005943\\s001_2009_06_28\\00005943_s001_t000.edf' [RECORDING] ALL WINDOWS DONE! FILE DONE!...\n",
      "\n",
      "FILE NAME: E:\\hy\\Datasets\\TUSZ\\edf\\dev\\02_tcp_le\\059\\00005943\\s005_2009_07_08\\00005943_s005_t000.edf\n",
      "Extracting EDF parameters from E:\\hy\\Datasets\\TUSZ\\edf\\dev\\02_tcp_le\\059\\00005943\\s005_2009_07_08\\00005943_s005_t000.edf...\n",
      "EDF file detected\n",
      "Setting channel info structure...\n",
      "Creating raw.info structure...\n",
      "Reading 0 ... 313249  =      0.000 ...  1252.996 secs...\n",
      "NOTE: pick_channels() is a legacy function. New code should use inst.pick(...).\n"
     ]
    },
    {
     "name": "stderr",
     "output_type": "stream",
     "text": [
      "Processing Files:  96%|█████████████████████████████████████████████████████████▎  | 341/357 [1:38:52<10:04, 37.78s/it]"
     ]
    },
    {
     "name": "stdout",
     "output_type": "stream",
     "text": [
      "\n",
      "file: 'E:\\hy\\Datasets\\TUSZ\\edf\\dev\\02_tcp_le\\059\\00005943\\s005_2009_07_08\\00005943_s005_t000.edf' [RECORDING] ALL WINDOWS DONE! FILE DONE!...\n",
      "\n",
      "FILE NAME: E:\\hy\\Datasets\\TUSZ\\edf\\dev\\03_tcp_ar_a\\022\\00002297\\s003_2007_10_23\\00002297_s003_t000.edf\n",
      "Extracting EDF parameters from E:\\hy\\Datasets\\TUSZ\\edf\\dev\\03_tcp_ar_a\\022\\00002297\\s003_2007_10_23\\00002297_s003_t000.edf...\n",
      "EDF file detected\n",
      "Setting channel info structure...\n",
      "Creating raw.info structure...\n",
      "Reading 0 ... 173999  =      0.000 ...   434.998 secs...\n",
      "NOTE: pick_channels() is a legacy function. New code should use inst.pick(...).\n"
     ]
    },
    {
     "name": "stderr",
     "output_type": "stream",
     "text": [
      "Processing Files:  96%|█████████████████████████████████████████████████████████▍  | 342/357 [1:39:04<07:30, 30.04s/it]"
     ]
    },
    {
     "name": "stdout",
     "output_type": "stream",
     "text": [
      "\n",
      "file: 'E:\\hy\\Datasets\\TUSZ\\edf\\dev\\03_tcp_ar_a\\022\\00002297\\s003_2007_10_23\\00002297_s003_t000.edf' [RECORDING] ALL WINDOWS DONE! FILE DONE!...\n",
      "\n",
      "FILE NAME: E:\\hy\\Datasets\\TUSZ\\edf\\dev\\03_tcp_ar_a\\022\\00002297\\s003_2007_10_23\\00002297_s003_t001.edf\n",
      "Extracting EDF parameters from E:\\hy\\Datasets\\TUSZ\\edf\\dev\\03_tcp_ar_a\\022\\00002297\\s003_2007_10_23\\00002297_s003_t001.edf...\n",
      "EDF file detected\n",
      "Setting channel info structure...\n",
      "Creating raw.info structure...\n",
      "Reading 0 ... 185599  =      0.000 ...   463.998 secs...\n",
      "NOTE: pick_channels() is a legacy function. New code should use inst.pick(...).\n"
     ]
    },
    {
     "name": "stderr",
     "output_type": "stream",
     "text": [
      "Processing Files:  96%|█████████████████████████████████████████████████████████▋  | 343/357 [1:39:17<05:46, 24.76s/it]"
     ]
    },
    {
     "name": "stdout",
     "output_type": "stream",
     "text": [
      "\n",
      "file: 'E:\\hy\\Datasets\\TUSZ\\edf\\dev\\03_tcp_ar_a\\022\\00002297\\s003_2007_10_23\\00002297_s003_t001.edf' [RECORDING] ALL WINDOWS DONE! FILE DONE!...\n",
      "\n",
      "FILE NAME: E:\\hy\\Datasets\\TUSZ\\edf\\dev\\03_tcp_ar_a\\022\\00002297\\s003_2007_10_23\\00002297_s003_t002.edf\n",
      "Extracting EDF parameters from E:\\hy\\Datasets\\TUSZ\\edf\\dev\\03_tcp_ar_a\\022\\00002297\\s003_2007_10_23\\00002297_s003_t002.edf...\n",
      "EDF file detected\n",
      "Setting channel info structure...\n",
      "Creating raw.info structure...\n",
      "Reading 0 ... 151199  =      0.000 ...   377.998 secs...\n",
      "NOTE: pick_channels() is a legacy function. New code should use inst.pick(...).\n"
     ]
    },
    {
     "name": "stderr",
     "output_type": "stream",
     "text": [
      "Processing Files:  96%|█████████████████████████████████████████████████████████▊  | 344/357 [1:39:27<04:25, 20.42s/it]"
     ]
    },
    {
     "name": "stdout",
     "output_type": "stream",
     "text": [
      "\n",
      "file: 'E:\\hy\\Datasets\\TUSZ\\edf\\dev\\03_tcp_ar_a\\022\\00002297\\s003_2007_10_23\\00002297_s003_t002.edf' [RECORDING] ALL WINDOWS DONE! FILE DONE!...\n",
      "\n",
      "FILE NAME: E:\\hy\\Datasets\\TUSZ\\edf\\dev\\03_tcp_ar_a\\022\\00002297\\s003_2007_10_23\\00002297_s003_t003.edf\n",
      "Extracting EDF parameters from E:\\hy\\Datasets\\TUSZ\\edf\\dev\\03_tcp_ar_a\\022\\00002297\\s003_2007_10_23\\00002297_s003_t003.edf...\n",
      "EDF file detected\n",
      "Setting channel info structure...\n",
      "Creating raw.info structure...\n",
      "Reading 0 ... 49199  =      0.000 ...   122.998 secs...\n",
      "NOTE: pick_channels() is a legacy function. New code should use inst.pick(...).\n"
     ]
    },
    {
     "name": "stderr",
     "output_type": "stream",
     "text": [
      "Processing Files:  97%|█████████████████████████████████████████████████████████▉  | 345/357 [1:39:30<03:03, 15.30s/it]"
     ]
    },
    {
     "name": "stdout",
     "output_type": "stream",
     "text": [
      "\n",
      "file: 'E:\\hy\\Datasets\\TUSZ\\edf\\dev\\03_tcp_ar_a\\022\\00002297\\s003_2007_10_23\\00002297_s003_t003.edf' [RECORDING] ALL WINDOWS DONE! FILE DONE!...\n",
      "\n",
      "FILE NAME: E:\\hy\\Datasets\\TUSZ\\edf\\dev\\03_tcp_ar_a\\022\\00002297\\s004_2007_10_23\\00002297_s004_t000.edf\n",
      "Extracting EDF parameters from E:\\hy\\Datasets\\TUSZ\\edf\\dev\\03_tcp_ar_a\\022\\00002297\\s004_2007_10_23\\00002297_s004_t000.edf...\n",
      "EDF file detected\n",
      "Setting channel info structure...\n",
      "Creating raw.info structure...\n",
      "Reading 0 ... 131199  =      0.000 ...   327.998 secs...\n",
      "NOTE: pick_channels() is a legacy function. New code should use inst.pick(...).\n"
     ]
    },
    {
     "name": "stderr",
     "output_type": "stream",
     "text": [
      "Processing Files:  97%|██████████████████████████████████████████████████████████▏ | 346/357 [1:39:39<02:27, 13.41s/it]"
     ]
    },
    {
     "name": "stdout",
     "output_type": "stream",
     "text": [
      "\n",
      "file: 'E:\\hy\\Datasets\\TUSZ\\edf\\dev\\03_tcp_ar_a\\022\\00002297\\s004_2007_10_23\\00002297_s004_t000.edf' [RECORDING] ALL WINDOWS DONE! FILE DONE!...\n",
      "\n",
      "FILE NAME: E:\\hy\\Datasets\\TUSZ\\edf\\dev\\03_tcp_ar_a\\022\\00002297\\s004_2007_10_23\\00002297_s004_t001.edf\n",
      "Extracting EDF parameters from E:\\hy\\Datasets\\TUSZ\\edf\\dev\\03_tcp_ar_a\\022\\00002297\\s004_2007_10_23\\00002297_s004_t001.edf...\n",
      "EDF file detected\n",
      "Setting channel info structure...\n",
      "Creating raw.info structure...\n",
      "Reading 0 ... 83599  =      0.000 ...   208.998 secs...\n",
      "NOTE: pick_channels() is a legacy function. New code should use inst.pick(...).\n"
     ]
    },
    {
     "name": "stderr",
     "output_type": "stream",
     "text": [
      "Processing Files:  97%|██████████████████████████████████████████████████████████▎ | 347/357 [1:39:45<01:51, 11.10s/it]"
     ]
    },
    {
     "name": "stdout",
     "output_type": "stream",
     "text": [
      "\n",
      "file: 'E:\\hy\\Datasets\\TUSZ\\edf\\dev\\03_tcp_ar_a\\022\\00002297\\s004_2007_10_23\\00002297_s004_t001.edf' [RECORDING] ALL WINDOWS DONE! FILE DONE!...\n",
      "\n",
      "FILE NAME: E:\\hy\\Datasets\\TUSZ\\edf\\dev\\03_tcp_ar_a\\040\\00004087\\s003_2007_07_24\\00004087_s003_t000.edf\n",
      "Extracting EDF parameters from E:\\hy\\Datasets\\TUSZ\\edf\\dev\\03_tcp_ar_a\\040\\00004087\\s003_2007_07_24\\00004087_s003_t000.edf...\n",
      "EDF file detected\n",
      "Setting channel info structure...\n",
      "Creating raw.info structure...\n",
      "Reading 0 ... 124399  =      0.000 ...   310.998 secs...\n",
      "NOTE: pick_channels() is a legacy function. New code should use inst.pick(...).\n"
     ]
    },
    {
     "name": "stderr",
     "output_type": "stream",
     "text": [
      "Processing Files:  97%|██████████████████████████████████████████████████████████▍ | 348/357 [1:39:53<01:31, 10.20s/it]"
     ]
    },
    {
     "name": "stdout",
     "output_type": "stream",
     "text": [
      "\n",
      "file: 'E:\\hy\\Datasets\\TUSZ\\edf\\dev\\03_tcp_ar_a\\040\\00004087\\s003_2007_07_24\\00004087_s003_t000.edf' [RECORDING] ALL WINDOWS DONE! FILE DONE!...\n",
      "\n",
      "FILE NAME: E:\\hy\\Datasets\\TUSZ\\edf\\dev\\03_tcp_ar_a\\040\\00004087\\s003_2007_07_24\\00004087_s003_t001.edf\n",
      "Extracting EDF parameters from E:\\hy\\Datasets\\TUSZ\\edf\\dev\\03_tcp_ar_a\\040\\00004087\\s003_2007_07_24\\00004087_s003_t001.edf...\n",
      "EDF file detected\n",
      "Setting channel info structure...\n",
      "Creating raw.info structure...\n",
      "Reading 0 ... 80399  =      0.000 ...   200.998 secs...\n",
      "NOTE: pick_channels() is a legacy function. New code should use inst.pick(...).\n"
     ]
    },
    {
     "name": "stderr",
     "output_type": "stream",
     "text": [
      "Processing Files:  98%|██████████████████████████████████████████████████████████▋ | 349/357 [1:39:59<01:09,  8.72s/it]"
     ]
    },
    {
     "name": "stdout",
     "output_type": "stream",
     "text": [
      "\n",
      "file: 'E:\\hy\\Datasets\\TUSZ\\edf\\dev\\03_tcp_ar_a\\040\\00004087\\s003_2007_07_24\\00004087_s003_t001.edf' [RECORDING] ALL WINDOWS DONE! FILE DONE!...\n",
      "\n",
      "FILE NAME: E:\\hy\\Datasets\\TUSZ\\edf\\dev\\03_tcp_ar_a\\040\\00004087\\s003_2007_07_24\\00004087_s003_t002.edf\n",
      "Extracting EDF parameters from E:\\hy\\Datasets\\TUSZ\\edf\\dev\\03_tcp_ar_a\\040\\00004087\\s003_2007_07_24\\00004087_s003_t002.edf...\n",
      "EDF file detected\n",
      "Setting channel info structure...\n",
      "Creating raw.info structure...\n",
      "Reading 0 ... 128399  =      0.000 ...   320.998 secs...\n",
      "NOTE: pick_channels() is a legacy function. New code should use inst.pick(...).\n"
     ]
    },
    {
     "name": "stderr",
     "output_type": "stream",
     "text": [
      "Processing Files:  98%|██████████████████████████████████████████████████████████▊ | 350/357 [1:40:07<00:59,  8.56s/it]"
     ]
    },
    {
     "name": "stdout",
     "output_type": "stream",
     "text": [
      "\n",
      "file: 'E:\\hy\\Datasets\\TUSZ\\edf\\dev\\03_tcp_ar_a\\040\\00004087\\s003_2007_07_24\\00004087_s003_t002.edf' [RECORDING] ALL WINDOWS DONE! FILE DONE!...\n",
      "\n",
      "FILE NAME: E:\\hy\\Datasets\\TUSZ\\edf\\dev\\03_tcp_ar_a\\040\\00004087\\s003_2007_07_24\\00004087_s003_t003.edf\n",
      "Extracting EDF parameters from E:\\hy\\Datasets\\TUSZ\\edf\\dev\\03_tcp_ar_a\\040\\00004087\\s003_2007_07_24\\00004087_s003_t003.edf...\n",
      "EDF file detected\n",
      "Setting channel info structure...\n",
      "Creating raw.info structure...\n",
      "Reading 0 ... 137199  =      0.000 ...   342.998 secs...\n",
      "NOTE: pick_channels() is a legacy function. New code should use inst.pick(...).\n"
     ]
    },
    {
     "name": "stderr",
     "output_type": "stream",
     "text": [
      "Processing Files:  98%|██████████████████████████████████████████████████████████▉ | 351/357 [1:40:16<00:52,  8.68s/it]"
     ]
    },
    {
     "name": "stdout",
     "output_type": "stream",
     "text": [
      "\n",
      "file: 'E:\\hy\\Datasets\\TUSZ\\edf\\dev\\03_tcp_ar_a\\040\\00004087\\s003_2007_07_24\\00004087_s003_t003.edf' [RECORDING] ALL WINDOWS DONE! FILE DONE!...\n",
      "\n",
      "FILE NAME: E:\\hy\\Datasets\\TUSZ\\edf\\dev\\03_tcp_ar_a\\040\\00004087\\s003_2007_07_24\\00004087_s003_t004.edf\n",
      "Extracting EDF parameters from E:\\hy\\Datasets\\TUSZ\\edf\\dev\\03_tcp_ar_a\\040\\00004087\\s003_2007_07_24\\00004087_s003_t004.edf...\n",
      "EDF file detected\n",
      "Setting channel info structure...\n",
      "Creating raw.info structure...\n",
      "Reading 0 ... 125999  =      0.000 ...   314.998 secs...\n",
      "NOTE: pick_channels() is a legacy function. New code should use inst.pick(...).\n"
     ]
    },
    {
     "name": "stderr",
     "output_type": "stream",
     "text": [
      "Processing Files:  99%|███████████████████████████████████████████████████████████▎| 353/357 [1:40:24<00:26,  6.56s/it]"
     ]
    },
    {
     "name": "stdout",
     "output_type": "stream",
     "text": [
      "\n",
      "file: 'E:\\hy\\Datasets\\TUSZ\\edf\\dev\\03_tcp_ar_a\\040\\00004087\\s003_2007_07_24\\00004087_s003_t004.edf' [RECORDING] ALL WINDOWS DONE! FILE DONE!...\n",
      "\n",
      "FILE NAME: E:\\hy\\Datasets\\TUSZ\\edf\\dev\\03_tcp_ar_a\\054\\00005479\\s005_2011_01_05\\00005479_s005_t000.edf\n",
      "Extracting EDF parameters from E:\\hy\\Datasets\\TUSZ\\edf\\dev\\03_tcp_ar_a\\054\\00005479\\s005_2011_01_05\\00005479_s005_t000.edf...\n",
      "EDF file detected\n",
      "Setting channel info structure...\n",
      "Creating raw.info structure...\n",
      "Reading 0 ... 157999  =      0.000 ...   394.998 secs...\n",
      "NOTE: pick_channels() is a legacy function. New code should use inst.pick(...).\n"
     ]
    },
    {
     "name": "stderr",
     "output_type": "stream",
     "text": [
      "Processing Files:  99%|███████████████████████████████████████████████████████████▍| 354/357 [1:40:34<00:22,  7.51s/it]"
     ]
    },
    {
     "name": "stdout",
     "output_type": "stream",
     "text": [
      "\n",
      "file: 'E:\\hy\\Datasets\\TUSZ\\edf\\dev\\03_tcp_ar_a\\054\\00005479\\s005_2011_01_05\\00005479_s005_t000.edf' [RECORDING] ALL WINDOWS DONE! FILE DONE!...\n",
      "\n",
      "FILE NAME: E:\\hy\\Datasets\\TUSZ\\edf\\dev\\03_tcp_ar_a\\054\\00005479\\s005_2011_01_05\\00005479_s005_t001.edf\n",
      "Extracting EDF parameters from E:\\hy\\Datasets\\TUSZ\\edf\\dev\\03_tcp_ar_a\\054\\00005479\\s005_2011_01_05\\00005479_s005_t001.edf...\n",
      "EDF file detected\n",
      "Setting channel info structure...\n",
      "Creating raw.info structure...\n",
      "Reading 0 ... 181999  =      0.000 ...   454.998 secs...\n",
      "NOTE: pick_channels() is a legacy function. New code should use inst.pick(...).\n"
     ]
    },
    {
     "name": "stderr",
     "output_type": "stream",
     "text": [
      "Processing Files:  99%|███████████████████████████████████████████████████████████▋| 355/357 [1:40:46<00:17,  8.70s/it]"
     ]
    },
    {
     "name": "stdout",
     "output_type": "stream",
     "text": [
      "\n",
      "file: 'E:\\hy\\Datasets\\TUSZ\\edf\\dev\\03_tcp_ar_a\\054\\00005479\\s005_2011_01_05\\00005479_s005_t001.edf' [RECORDING] ALL WINDOWS DONE! FILE DONE!...\n",
      "\n",
      "FILE NAME: E:\\hy\\Datasets\\TUSZ\\edf\\dev\\03_tcp_ar_a\\054\\00005479\\s005_2011_01_05\\00005479_s005_t002.edf\n",
      "Extracting EDF parameters from E:\\hy\\Datasets\\TUSZ\\edf\\dev\\03_tcp_ar_a\\054\\00005479\\s005_2011_01_05\\00005479_s005_t002.edf...\n",
      "EDF file detected\n",
      "Setting channel info structure...\n",
      "Creating raw.info structure...\n",
      "Reading 0 ... 169999  =      0.000 ...   424.998 secs...\n",
      "NOTE: pick_channels() is a legacy function. New code should use inst.pick(...).\n"
     ]
    },
    {
     "name": "stderr",
     "output_type": "stream",
     "text": [
      "Processing Files: 100%|███████████████████████████████████████████████████████████▊| 356/357 [1:40:57<00:09,  9.37s/it]"
     ]
    },
    {
     "name": "stdout",
     "output_type": "stream",
     "text": [
      "\n",
      "file: 'E:\\hy\\Datasets\\TUSZ\\edf\\dev\\03_tcp_ar_a\\054\\00005479\\s005_2011_01_05\\00005479_s005_t002.edf' [RECORDING] ALL WINDOWS DONE! FILE DONE!...\n",
      "\n",
      "FILE NAME: E:\\hy\\Datasets\\TUSZ\\edf\\dev\\03_tcp_ar_a\\054\\00005479\\s005_2011_01_05\\00005479_s005_t003.edf\n",
      "Extracting EDF parameters from E:\\hy\\Datasets\\TUSZ\\edf\\dev\\03_tcp_ar_a\\054\\00005479\\s005_2011_01_05\\00005479_s005_t003.edf...\n",
      "EDF file detected\n",
      "Setting channel info structure...\n",
      "Creating raw.info structure...\n",
      "Reading 0 ... 169999  =      0.000 ...   424.998 secs...\n",
      "NOTE: pick_channels() is a legacy function. New code should use inst.pick(...).\n"
     ]
    },
    {
     "name": "stderr",
     "output_type": "stream",
     "text": [
      "Processing Files: 100%|████████████████████████████████████████████████████████████| 357/357 [1:41:09<00:00, 10.07s/it]"
     ]
    },
    {
     "name": "stdout",
     "output_type": "stream",
     "text": [
      "\n",
      "file: 'E:\\hy\\Datasets\\TUSZ\\edf\\dev\\03_tcp_ar_a\\054\\00005479\\s005_2011_01_05\\00005479_s005_t003.edf' [RECORDING] ALL WINDOWS DONE! FILE DONE!...\n",
      "\n",
      "FILE NAME: E:\\hy\\Datasets\\TUSZ\\edf\\dev\\03_tcp_ar_a\\054\\00005479\\s005_2011_01_05\\00005479_s005_t004.edf\n",
      "Extracting EDF parameters from E:\\hy\\Datasets\\TUSZ\\edf\\dev\\03_tcp_ar_a\\054\\00005479\\s005_2011_01_05\\00005479_s005_t004.edf...\n",
      "EDF file detected\n",
      "Setting channel info structure...\n",
      "Creating raw.info structure...\n",
      "Reading 0 ... 145599  =      0.000 ...   363.998 secs...\n",
      "NOTE: pick_channels() is a legacy function. New code should use inst.pick(...).\n"
     ]
    },
    {
     "name": "stderr",
     "output_type": "stream",
     "text": [
      "Processing Files: 358it [1:41:19, 10.07s/it]                                                                           "
     ]
    },
    {
     "name": "stdout",
     "output_type": "stream",
     "text": [
      "\n",
      "file: 'E:\\hy\\Datasets\\TUSZ\\edf\\dev\\03_tcp_ar_a\\054\\00005479\\s005_2011_01_05\\00005479_s005_t004.edf' [RECORDING] ALL WINDOWS DONE! FILE DONE!...\n",
      "\n",
      "FILE NAME: E:\\hy\\Datasets\\TUSZ\\edf\\dev\\03_tcp_ar_a\\054\\00005479\\s005_2011_01_05\\00005479_s005_t005.edf\n",
      "Extracting EDF parameters from E:\\hy\\Datasets\\TUSZ\\edf\\dev\\03_tcp_ar_a\\054\\00005479\\s005_2011_01_05\\00005479_s005_t005.edf...\n",
      "EDF file detected\n",
      "Setting channel info structure...\n",
      "Creating raw.info structure...\n",
      "Reading 0 ... 129999  =      0.000 ...   324.998 secs...\n",
      "NOTE: pick_channels() is a legacy function. New code should use inst.pick(...).\n"
     ]
    },
    {
     "name": "stderr",
     "output_type": "stream",
     "text": [
      "Processing Files: 359it [1:41:28,  9.64s/it]"
     ]
    },
    {
     "name": "stdout",
     "output_type": "stream",
     "text": [
      "\n",
      "file: 'E:\\hy\\Datasets\\TUSZ\\edf\\dev\\03_tcp_ar_a\\054\\00005479\\s005_2011_01_05\\00005479_s005_t005.edf' [RECORDING] ALL WINDOWS DONE! FILE DONE!...\n",
      "\n",
      "FILE NAME: E:\\hy\\Datasets\\TUSZ\\edf\\dev\\03_tcp_ar_a\\054\\00005479\\s005_2011_01_05\\00005479_s005_t006.edf\n",
      "Extracting EDF parameters from E:\\hy\\Datasets\\TUSZ\\edf\\dev\\03_tcp_ar_a\\054\\00005479\\s005_2011_01_05\\00005479_s005_t006.edf...\n",
      "EDF file detected\n",
      "Setting channel info structure...\n",
      "Creating raw.info structure...\n",
      "Reading 0 ... 101999  =      0.000 ...   254.998 secs...\n",
      "NOTE: pick_channels() is a legacy function. New code should use inst.pick(...).\n"
     ]
    },
    {
     "name": "stderr",
     "output_type": "stream",
     "text": [
      "Processing Files: 360it [1:41:35,  8.79s/it]"
     ]
    },
    {
     "name": "stdout",
     "output_type": "stream",
     "text": [
      "\n",
      "file: 'E:\\hy\\Datasets\\TUSZ\\edf\\dev\\03_tcp_ar_a\\054\\00005479\\s005_2011_01_05\\00005479_s005_t006.edf' [RECORDING] ALL WINDOWS DONE! FILE DONE!...\n",
      "\n",
      "FILE NAME: E:\\hy\\Datasets\\TUSZ\\edf\\dev\\03_tcp_ar_a\\054\\00005479\\s005_2011_01_05\\00005479_s005_t007.edf\n",
      "Extracting EDF parameters from E:\\hy\\Datasets\\TUSZ\\edf\\dev\\03_tcp_ar_a\\054\\00005479\\s005_2011_01_05\\00005479_s005_t007.edf...\n",
      "EDF file detected\n",
      "Setting channel info structure...\n",
      "Creating raw.info structure...\n",
      "Reading 0 ... 249999  =      0.000 ...   624.997 secs...\n",
      "NOTE: pick_channels() is a legacy function. New code should use inst.pick(...).\n"
     ]
    },
    {
     "name": "stderr",
     "output_type": "stream",
     "text": [
      "Processing Files: 361it [1:41:52, 11.20s/it]"
     ]
    },
    {
     "name": "stdout",
     "output_type": "stream",
     "text": [
      "\n",
      "file: 'E:\\hy\\Datasets\\TUSZ\\edf\\dev\\03_tcp_ar_a\\054\\00005479\\s005_2011_01_05\\00005479_s005_t007.edf' [RECORDING] ALL WINDOWS DONE! FILE DONE!...\n",
      "\n",
      "FILE NAME: E:\\hy\\Datasets\\TUSZ\\edf\\dev\\03_tcp_ar_a\\054\\00005479\\s005_2011_01_05\\00005479_s005_t008.edf\n",
      "Extracting EDF parameters from E:\\hy\\Datasets\\TUSZ\\edf\\dev\\03_tcp_ar_a\\054\\00005479\\s005_2011_01_05\\00005479_s005_t008.edf...\n",
      "EDF file detected\n",
      "Setting channel info structure...\n",
      "Creating raw.info structure...\n",
      "Reading 0 ... 101999  =      0.000 ...   254.998 secs...\n",
      "NOTE: pick_channels() is a legacy function. New code should use inst.pick(...).\n"
     ]
    },
    {
     "name": "stderr",
     "output_type": "stream",
     "text": [
      "Processing Files: 362it [1:41:59,  9.93s/it]"
     ]
    },
    {
     "name": "stdout",
     "output_type": "stream",
     "text": [
      "\n",
      "file: 'E:\\hy\\Datasets\\TUSZ\\edf\\dev\\03_tcp_ar_a\\054\\00005479\\s005_2011_01_05\\00005479_s005_t008.edf' [RECORDING] ALL WINDOWS DONE! FILE DONE!...\n",
      "\n",
      "FILE NAME: E:\\hy\\Datasets\\TUSZ\\edf\\dev\\03_tcp_ar_a\\054\\00005479\\s005_2011_01_05\\00005479_s005_t009.edf\n",
      "Extracting EDF parameters from E:\\hy\\Datasets\\TUSZ\\edf\\dev\\03_tcp_ar_a\\054\\00005479\\s005_2011_01_05\\00005479_s005_t009.edf...\n",
      "EDF file detected\n",
      "Setting channel info structure...\n",
      "Creating raw.info structure...\n",
      "Reading 0 ... 185599  =      0.000 ...   463.998 secs...\n",
      "NOTE: pick_channels() is a legacy function. New code should use inst.pick(...).\n"
     ]
    },
    {
     "name": "stderr",
     "output_type": "stream",
     "text": [
      "Processing Files: 363it [1:42:11, 10.66s/it]"
     ]
    },
    {
     "name": "stdout",
     "output_type": "stream",
     "text": [
      "\n",
      "file: 'E:\\hy\\Datasets\\TUSZ\\edf\\dev\\03_tcp_ar_a\\054\\00005479\\s005_2011_01_05\\00005479_s005_t009.edf' [RECORDING] ALL WINDOWS DONE! FILE DONE!...\n",
      "\n",
      "FILE NAME: E:\\hy\\Datasets\\TUSZ\\edf\\dev\\03_tcp_ar_a\\054\\00005479\\s006_2011_01_06\\00005479_s006_t000.edf\n",
      "Extracting EDF parameters from E:\\hy\\Datasets\\TUSZ\\edf\\dev\\03_tcp_ar_a\\054\\00005479\\s006_2011_01_06\\00005479_s006_t000.edf...\n",
      "EDF file detected\n",
      "Setting channel info structure...\n",
      "Creating raw.info structure...\n",
      "Reading 0 ... 141999  =      0.000 ...   354.998 secs...\n",
      "NOTE: pick_channels() is a legacy function. New code should use inst.pick(...).\n"
     ]
    },
    {
     "name": "stderr",
     "output_type": "stream",
     "text": [
      "Processing Files: 364it [1:42:20, 10.27s/it]"
     ]
    },
    {
     "name": "stdout",
     "output_type": "stream",
     "text": [
      "\n",
      "file: 'E:\\hy\\Datasets\\TUSZ\\edf\\dev\\03_tcp_ar_a\\054\\00005479\\s006_2011_01_06\\00005479_s006_t000.edf' [RECORDING] ALL WINDOWS DONE! FILE DONE!...\n",
      "\n",
      "FILE NAME: E:\\hy\\Datasets\\TUSZ\\edf\\dev\\03_tcp_ar_a\\054\\00005479\\s006_2011_01_06\\00005479_s006_t001.edf\n",
      "Extracting EDF parameters from E:\\hy\\Datasets\\TUSZ\\edf\\dev\\03_tcp_ar_a\\054\\00005479\\s006_2011_01_06\\00005479_s006_t001.edf...\n",
      "EDF file detected\n",
      "Setting channel info structure...\n",
      "Creating raw.info structure...\n",
      "Reading 0 ... 137599  =      0.000 ...   343.998 secs...\n",
      "NOTE: pick_channels() is a legacy function. New code should use inst.pick(...).\n"
     ]
    },
    {
     "name": "stderr",
     "output_type": "stream",
     "text": [
      "Processing Files: 365it [1:42:30,  9.99s/it]"
     ]
    },
    {
     "name": "stdout",
     "output_type": "stream",
     "text": [
      "\n",
      "file: 'E:\\hy\\Datasets\\TUSZ\\edf\\dev\\03_tcp_ar_a\\054\\00005479\\s006_2011_01_06\\00005479_s006_t001.edf' [RECORDING] ALL WINDOWS DONE! FILE DONE!...\n",
      "\n",
      "FILE NAME: E:\\hy\\Datasets\\TUSZ\\edf\\dev\\03_tcp_ar_a\\054\\00005479\\s006_2011_01_06\\00005479_s006_t002.edf\n",
      "Extracting EDF parameters from E:\\hy\\Datasets\\TUSZ\\edf\\dev\\03_tcp_ar_a\\054\\00005479\\s006_2011_01_06\\00005479_s006_t002.edf...\n",
      "EDF file detected\n",
      "Setting channel info structure...\n",
      "Creating raw.info structure...\n",
      "Reading 0 ... 189999  =      0.000 ...   474.998 secs...\n",
      "NOTE: pick_channels() is a legacy function. New code should use inst.pick(...).\n"
     ]
    },
    {
     "name": "stderr",
     "output_type": "stream",
     "text": [
      "Processing Files: 366it [1:42:43, 10.94s/it]"
     ]
    },
    {
     "name": "stdout",
     "output_type": "stream",
     "text": [
      "\n",
      "file: 'E:\\hy\\Datasets\\TUSZ\\edf\\dev\\03_tcp_ar_a\\054\\00005479\\s006_2011_01_06\\00005479_s006_t002.edf' [RECORDING] ALL WINDOWS DONE! FILE DONE!...\n",
      "\n",
      "FILE NAME: E:\\hy\\Datasets\\TUSZ\\edf\\dev\\03_tcp_ar_a\\054\\00005479\\s006_2011_01_06\\00005479_s006_t003.edf\n",
      "Extracting EDF parameters from E:\\hy\\Datasets\\TUSZ\\edf\\dev\\03_tcp_ar_a\\054\\00005479\\s006_2011_01_06\\00005479_s006_t003.edf...\n",
      "EDF file detected\n",
      "Setting channel info structure...\n",
      "Creating raw.info structure...\n",
      "Reading 0 ... 85999  =      0.000 ...   214.998 secs...\n",
      "NOTE: pick_channels() is a legacy function. New code should use inst.pick(...).\n"
     ]
    },
    {
     "name": "stderr",
     "output_type": "stream",
     "text": [
      "Processing Files: 367it [1:42:48,  9.33s/it]"
     ]
    },
    {
     "name": "stdout",
     "output_type": "stream",
     "text": [
      "\n",
      "file: 'E:\\hy\\Datasets\\TUSZ\\edf\\dev\\03_tcp_ar_a\\054\\00005479\\s006_2011_01_06\\00005479_s006_t003.edf' [RECORDING] ALL WINDOWS DONE! FILE DONE!...\n",
      "\n",
      "FILE NAME: E:\\hy\\Datasets\\TUSZ\\edf\\dev\\03_tcp_ar_a\\054\\00005479\\s006_2011_01_06\\00005479_s006_t004.edf\n",
      "Extracting EDF parameters from E:\\hy\\Datasets\\TUSZ\\edf\\dev\\03_tcp_ar_a\\054\\00005479\\s006_2011_01_06\\00005479_s006_t004.edf...\n",
      "EDF file detected\n",
      "Setting channel info structure...\n",
      "Creating raw.info structure...\n",
      "Reading 0 ... 77599  =      0.000 ...   193.998 secs...\n",
      "NOTE: pick_channels() is a legacy function. New code should use inst.pick(...).\n"
     ]
    },
    {
     "name": "stderr",
     "output_type": "stream",
     "text": [
      "Processing Files: 368it [1:42:54,  8.09s/it]"
     ]
    },
    {
     "name": "stdout",
     "output_type": "stream",
     "text": [
      "\n",
      "file: 'E:\\hy\\Datasets\\TUSZ\\edf\\dev\\03_tcp_ar_a\\054\\00005479\\s006_2011_01_06\\00005479_s006_t004.edf' [RECORDING] ALL WINDOWS DONE! FILE DONE!...\n",
      "\n",
      "FILE NAME: E:\\hy\\Datasets\\TUSZ\\edf\\dev\\03_tcp_ar_a\\054\\00005479\\s006_2011_01_06\\00005479_s006_t005.edf\n",
      "Extracting EDF parameters from E:\\hy\\Datasets\\TUSZ\\edf\\dev\\03_tcp_ar_a\\054\\00005479\\s006_2011_01_06\\00005479_s006_t005.edf...\n",
      "EDF file detected\n",
      "Setting channel info structure...\n",
      "Creating raw.info structure...\n",
      "Reading 0 ... 89999  =      0.000 ...   224.998 secs...\n",
      "NOTE: pick_channels() is a legacy function. New code should use inst.pick(...).\n"
     ]
    },
    {
     "name": "stderr",
     "output_type": "stream",
     "text": [
      "Processing Files: 369it [1:42:59,  7.40s/it]"
     ]
    },
    {
     "name": "stdout",
     "output_type": "stream",
     "text": [
      "\n",
      "file: 'E:\\hy\\Datasets\\TUSZ\\edf\\dev\\03_tcp_ar_a\\054\\00005479\\s006_2011_01_06\\00005479_s006_t005.edf' [RECORDING] ALL WINDOWS DONE! FILE DONE!...\n",
      "\n",
      "FILE NAME: E:\\hy\\Datasets\\TUSZ\\edf\\dev\\03_tcp_ar_a\\054\\00005479\\s006_2011_01_06\\00005479_s006_t006.edf\n",
      "Extracting EDF parameters from E:\\hy\\Datasets\\TUSZ\\edf\\dev\\03_tcp_ar_a\\054\\00005479\\s006_2011_01_06\\00005479_s006_t006.edf...\n",
      "EDF file detected\n",
      "Setting channel info structure...\n",
      "Creating raw.info structure...\n",
      "Reading 0 ... 173999  =      0.000 ...   434.998 secs...\n",
      "NOTE: pick_channels() is a legacy function. New code should use inst.pick(...).\n"
     ]
    },
    {
     "name": "stderr",
     "output_type": "stream",
     "text": [
      "Processing Files: 370it [1:43:11,  8.80s/it]"
     ]
    },
    {
     "name": "stdout",
     "output_type": "stream",
     "text": [
      "\n",
      "file: 'E:\\hy\\Datasets\\TUSZ\\edf\\dev\\03_tcp_ar_a\\054\\00005479\\s006_2011_01_06\\00005479_s006_t006.edf' [RECORDING] ALL WINDOWS DONE! FILE DONE!...\n",
      "\n",
      "FILE NAME: E:\\hy\\Datasets\\TUSZ\\edf\\dev\\03_tcp_ar_a\\054\\00005479\\s006_2011_01_06\\00005479_s006_t007.edf\n",
      "Extracting EDF parameters from E:\\hy\\Datasets\\TUSZ\\edf\\dev\\03_tcp_ar_a\\054\\00005479\\s006_2011_01_06\\00005479_s006_t007.edf...\n",
      "EDF file detected\n",
      "Setting channel info structure...\n",
      "Creating raw.info structure...\n",
      "Reading 0 ... 159999  =      0.000 ...   399.998 secs...\n",
      "NOTE: pick_channels() is a legacy function. New code should use inst.pick(...).\n"
     ]
    },
    {
     "name": "stderr",
     "output_type": "stream",
     "text": [
      "Processing Files: 371it [1:43:22,  9.37s/it]"
     ]
    },
    {
     "name": "stdout",
     "output_type": "stream",
     "text": [
      "\n",
      "file: 'E:\\hy\\Datasets\\TUSZ\\edf\\dev\\03_tcp_ar_a\\054\\00005479\\s006_2011_01_06\\00005479_s006_t007.edf' [RECORDING] ALL WINDOWS DONE! FILE DONE!...\n",
      "\n",
      "FILE NAME: E:\\hy\\Datasets\\TUSZ\\edf\\dev\\03_tcp_ar_a\\054\\00005479\\s006_2011_01_06\\00005479_s006_t008.edf\n",
      "Extracting EDF parameters from E:\\hy\\Datasets\\TUSZ\\edf\\dev\\03_tcp_ar_a\\054\\00005479\\s006_2011_01_06\\00005479_s006_t008.edf...\n",
      "EDF file detected\n",
      "Setting channel info structure...\n",
      "Creating raw.info structure...\n",
      "Reading 0 ... 29999  =      0.000 ...    74.998 secs...\n",
      "NOTE: pick_channels() is a legacy function. New code should use inst.pick(...).\n"
     ]
    },
    {
     "name": "stderr",
     "output_type": "stream",
     "text": [
      "Processing Files: 372it [1:43:24,  7.16s/it]"
     ]
    },
    {
     "name": "stdout",
     "output_type": "stream",
     "text": [
      "\n",
      "file: 'E:\\hy\\Datasets\\TUSZ\\edf\\dev\\03_tcp_ar_a\\054\\00005479\\s006_2011_01_06\\00005479_s006_t008.edf' [RECORDING] ALL WINDOWS DONE! FILE DONE!...\n",
      "\n",
      "FILE NAME: E:\\hy\\Datasets\\TUSZ\\edf\\dev\\03_tcp_ar_a\\054\\00005479\\s006_2011_01_06\\00005479_s006_t009.edf\n",
      "Extracting EDF parameters from E:\\hy\\Datasets\\TUSZ\\edf\\dev\\03_tcp_ar_a\\054\\00005479\\s006_2011_01_06\\00005479_s006_t009.edf...\n",
      "EDF file detected\n",
      "Setting channel info structure...\n",
      "Creating raw.info structure...\n",
      "Reading 0 ... 129999  =      0.000 ...   324.998 secs...\n",
      "NOTE: pick_channels() is a legacy function. New code should use inst.pick(...).\n"
     ]
    },
    {
     "name": "stderr",
     "output_type": "stream",
     "text": [
      "Processing Files: 373it [1:43:33,  7.72s/it]"
     ]
    },
    {
     "name": "stdout",
     "output_type": "stream",
     "text": [
      "\n",
      "file: 'E:\\hy\\Datasets\\TUSZ\\edf\\dev\\03_tcp_ar_a\\054\\00005479\\s006_2011_01_06\\00005479_s006_t009.edf' [RECORDING] ALL WINDOWS DONE! FILE DONE!...\n",
      "\n",
      "FILE NAME: E:\\hy\\Datasets\\TUSZ\\edf\\dev\\03_tcp_ar_a\\054\\00005479\\s006_2011_01_06\\00005479_s006_t010.edf\n",
      "Extracting EDF parameters from E:\\hy\\Datasets\\TUSZ\\edf\\dev\\03_tcp_ar_a\\054\\00005479\\s006_2011_01_06\\00005479_s006_t010.edf...\n",
      "EDF file detected\n",
      "Setting channel info structure...\n",
      "Creating raw.info structure...\n",
      "Reading 0 ... 153599  =      0.000 ...   383.998 secs...\n",
      "NOTE: pick_channels() is a legacy function. New code should use inst.pick(...).\n"
     ]
    },
    {
     "name": "stderr",
     "output_type": "stream",
     "text": [
      "Processing Files: 374it [1:43:43,  8.45s/it]"
     ]
    },
    {
     "name": "stdout",
     "output_type": "stream",
     "text": [
      "\n",
      "file: 'E:\\hy\\Datasets\\TUSZ\\edf\\dev\\03_tcp_ar_a\\054\\00005479\\s006_2011_01_06\\00005479_s006_t010.edf' [RECORDING] ALL WINDOWS DONE! FILE DONE!...\n",
      "\n",
      "FILE NAME: E:\\hy\\Datasets\\TUSZ\\edf\\dev\\03_tcp_ar_a\\054\\00005479\\s006_2011_01_06\\00005479_s006_t011.edf\n",
      "Extracting EDF parameters from E:\\hy\\Datasets\\TUSZ\\edf\\dev\\03_tcp_ar_a\\054\\00005479\\s006_2011_01_06\\00005479_s006_t011.edf...\n",
      "EDF file detected\n",
      "Setting channel info structure...\n",
      "Creating raw.info structure...\n",
      "Reading 0 ... 167199  =      0.000 ...   417.998 secs...\n",
      "NOTE: pick_channels() is a legacy function. New code should use inst.pick(...).\n"
     ]
    },
    {
     "name": "stderr",
     "output_type": "stream",
     "text": [
      "Processing Files: 375it [1:43:55,  9.36s/it]"
     ]
    },
    {
     "name": "stdout",
     "output_type": "stream",
     "text": [
      "\n",
      "file: 'E:\\hy\\Datasets\\TUSZ\\edf\\dev\\03_tcp_ar_a\\054\\00005479\\s006_2011_01_06\\00005479_s006_t011.edf' [RECORDING] ALL WINDOWS DONE! FILE DONE!...\n",
      "\n",
      "FILE NAME: E:\\hy\\Datasets\\TUSZ\\edf\\dev\\03_tcp_ar_a\\059\\00005943\\s002_2009_06_28\\00005943_s002_t000.edf\n",
      "Extracting EDF parameters from E:\\hy\\Datasets\\TUSZ\\edf\\dev\\03_tcp_ar_a\\059\\00005943\\s002_2009_06_28\\00005943_s002_t000.edf...\n",
      "EDF file detected\n",
      "Setting channel info structure...\n",
      "Creating raw.info structure...\n",
      "Reading 0 ... 137999  =      0.000 ...   344.998 secs...\n",
      "NOTE: pick_channels() is a legacy function. New code should use inst.pick(...).\n"
     ]
    },
    {
     "name": "stderr",
     "output_type": "stream",
     "text": [
      "Processing Files: 376it [1:44:04,  9.32s/it]"
     ]
    },
    {
     "name": "stdout",
     "output_type": "stream",
     "text": [
      "\n",
      "file: 'E:\\hy\\Datasets\\TUSZ\\edf\\dev\\03_tcp_ar_a\\059\\00005943\\s002_2009_06_28\\00005943_s002_t000.edf' [RECORDING] ALL WINDOWS DONE! FILE DONE!...\n",
      "\n",
      "FILE NAME: E:\\hy\\Datasets\\TUSZ\\edf\\dev\\03_tcp_ar_a\\059\\00005943\\s002_2009_06_28\\00005943_s002_t001.edf\n",
      "Extracting EDF parameters from E:\\hy\\Datasets\\TUSZ\\edf\\dev\\03_tcp_ar_a\\059\\00005943\\s002_2009_06_28\\00005943_s002_t001.edf...\n",
      "EDF file detected\n",
      "Setting channel info structure...\n",
      "Creating raw.info structure...\n",
      "Reading 0 ... 169999  =      0.000 ...   424.998 secs...\n",
      "NOTE: pick_channels() is a legacy function. New code should use inst.pick(...).\n"
     ]
    },
    {
     "name": "stderr",
     "output_type": "stream",
     "text": [
      "Processing Files: 377it [1:44:16, 10.12s/it]"
     ]
    },
    {
     "name": "stdout",
     "output_type": "stream",
     "text": [
      "\n",
      "file: 'E:\\hy\\Datasets\\TUSZ\\edf\\dev\\03_tcp_ar_a\\059\\00005943\\s002_2009_06_28\\00005943_s002_t001.edf' [RECORDING] ALL WINDOWS DONE! FILE DONE!...\n",
      "\n",
      "FILE NAME: E:\\hy\\Datasets\\TUSZ\\edf\\dev\\03_tcp_ar_a\\059\\00005943\\s002_2009_06_28\\00005943_s002_t002.edf\n",
      "Extracting EDF parameters from E:\\hy\\Datasets\\TUSZ\\edf\\dev\\03_tcp_ar_a\\059\\00005943\\s002_2009_06_28\\00005943_s002_t002.edf...\n",
      "EDF file detected\n",
      "Setting channel info structure...\n",
      "Creating raw.info structure...\n",
      "Reading 0 ... 161999  =      0.000 ...   404.998 secs...\n",
      "NOTE: pick_channels() is a legacy function. New code should use inst.pick(...).\n"
     ]
    },
    {
     "name": "stderr",
     "output_type": "stream",
     "text": [
      "Processing Files: 378it [1:44:27, 10.38s/it]"
     ]
    },
    {
     "name": "stdout",
     "output_type": "stream",
     "text": [
      "\n",
      "file: 'E:\\hy\\Datasets\\TUSZ\\edf\\dev\\03_tcp_ar_a\\059\\00005943\\s002_2009_06_28\\00005943_s002_t002.edf' [RECORDING] ALL WINDOWS DONE! FILE DONE!...\n",
      "\n",
      "FILE NAME: E:\\hy\\Datasets\\TUSZ\\edf\\dev\\03_tcp_ar_a\\059\\00005943\\s002_2009_06_28\\00005943_s002_t003.edf\n",
      "Extracting EDF parameters from E:\\hy\\Datasets\\TUSZ\\edf\\dev\\03_tcp_ar_a\\059\\00005943\\s002_2009_06_28\\00005943_s002_t003.edf...\n",
      "EDF file detected\n",
      "Setting channel info structure...\n",
      "Creating raw.info structure...\n",
      "Reading 0 ... 173599  =      0.000 ...   433.998 secs...\n",
      "NOTE: pick_channels() is a legacy function. New code should use inst.pick(...).\n"
     ]
    },
    {
     "name": "stderr",
     "output_type": "stream",
     "text": [
      "Processing Files: 380it [1:44:39,  8.35s/it]"
     ]
    },
    {
     "name": "stdout",
     "output_type": "stream",
     "text": [
      "\n",
      "file: 'E:\\hy\\Datasets\\TUSZ\\edf\\dev\\03_tcp_ar_a\\059\\00005943\\s002_2009_06_28\\00005943_s002_t003.edf' [RECORDING] ALL WINDOWS DONE! FILE DONE!...\n",
      "\n",
      "FILE NAME: E:\\hy\\Datasets\\TUSZ\\edf\\dev\\03_tcp_ar_a\\059\\00005943\\s004_2009_06_29\\00005943_s004_t000.edf\n",
      "Extracting EDF parameters from E:\\hy\\Datasets\\TUSZ\\edf\\dev\\03_tcp_ar_a\\059\\00005943\\s004_2009_06_29\\00005943_s004_t000.edf...\n",
      "EDF file detected\n",
      "Setting channel info structure...\n",
      "Creating raw.info structure...\n",
      "Reading 0 ... 157999  =      0.000 ...   394.998 secs...\n",
      "NOTE: pick_channels() is a legacy function. New code should use inst.pick(...).\n"
     ]
    },
    {
     "name": "stderr",
     "output_type": "stream",
     "text": [
      "Processing Files: 381it [1:44:50,  8.95s/it]"
     ]
    },
    {
     "name": "stdout",
     "output_type": "stream",
     "text": [
      "\n",
      "file: 'E:\\hy\\Datasets\\TUSZ\\edf\\dev\\03_tcp_ar_a\\059\\00005943\\s004_2009_06_29\\00005943_s004_t000.edf' [RECORDING] ALL WINDOWS DONE! FILE DONE!...\n",
      "\n",
      "FILE NAME: E:\\hy\\Datasets\\TUSZ\\edf\\dev\\03_tcp_ar_a\\059\\00005943\\s004_2009_06_29\\00005943_s004_t001.edf\n",
      "Extracting EDF parameters from E:\\hy\\Datasets\\TUSZ\\edf\\dev\\03_tcp_ar_a\\059\\00005943\\s004_2009_06_29\\00005943_s004_t001.edf...\n",
      "EDF file detected\n",
      "Setting channel info structure...\n",
      "Creating raw.info structure...\n",
      "Reading 0 ... 145999  =      0.000 ...   364.998 secs...\n",
      "NOTE: pick_channels() is a legacy function. New code should use inst.pick(...).\n"
     ]
    },
    {
     "name": "stderr",
     "output_type": "stream",
     "text": [
      "Processing Files: 382it [1:45:00,  9.19s/it]"
     ]
    },
    {
     "name": "stdout",
     "output_type": "stream",
     "text": [
      "\n",
      "file: 'E:\\hy\\Datasets\\TUSZ\\edf\\dev\\03_tcp_ar_a\\059\\00005943\\s004_2009_06_29\\00005943_s004_t001.edf' [RECORDING] ALL WINDOWS DONE! FILE DONE!...\n",
      "\n",
      "FILE NAME: E:\\hy\\Datasets\\TUSZ\\edf\\dev\\03_tcp_ar_a\\059\\00005943\\s004_2009_06_29\\00005943_s004_t002.edf\n",
      "Extracting EDF parameters from E:\\hy\\Datasets\\TUSZ\\edf\\dev\\03_tcp_ar_a\\059\\00005943\\s004_2009_06_29\\00005943_s004_t002.edf...\n",
      "EDF file detected\n",
      "Setting channel info structure...\n",
      "Creating raw.info structure...\n",
      "Reading 0 ... 169999  =      0.000 ...   424.998 secs...\n",
      "NOTE: pick_channels() is a legacy function. New code should use inst.pick(...).\n"
     ]
    },
    {
     "name": "stderr",
     "output_type": "stream",
     "text": [
      "Processing Files: 383it [1:45:11,  9.76s/it]"
     ]
    },
    {
     "name": "stdout",
     "output_type": "stream",
     "text": [
      "\n",
      "file: 'E:\\hy\\Datasets\\TUSZ\\edf\\dev\\03_tcp_ar_a\\059\\00005943\\s004_2009_06_29\\00005943_s004_t002.edf' [RECORDING] ALL WINDOWS DONE! FILE DONE!...\n",
      "\n",
      "FILE NAME: E:\\hy\\Datasets\\TUSZ\\edf\\dev\\03_tcp_ar_a\\059\\00005943\\s004_2009_06_29\\00005943_s004_t003.edf\n",
      "Extracting EDF parameters from E:\\hy\\Datasets\\TUSZ\\edf\\dev\\03_tcp_ar_a\\059\\00005943\\s004_2009_06_29\\00005943_s004_t003.edf...\n",
      "EDF file detected\n",
      "Setting channel info structure...\n",
      "Creating raw.info structure...\n",
      "Reading 0 ... 169599  =      0.000 ...   423.998 secs...\n",
      "NOTE: pick_channels() is a legacy function. New code should use inst.pick(...).\n"
     ]
    },
    {
     "name": "stderr",
     "output_type": "stream",
     "text": [
      "Processing Files: 100%|████████████████████████████████████████████████████████████| 357/357 [1:45:22<00:00, 17.71s/it]\n"
     ]
    },
    {
     "name": "stdout",
     "output_type": "stream",
     "text": [
      "\n",
      "file: 'E:\\hy\\Datasets\\TUSZ\\edf\\dev\\03_tcp_ar_a\\059\\00005943\\s004_2009_06_29\\00005943_s004_t003.edf' [RECORDING] ALL WINDOWS DONE! FILE DONE!...\n",
      "\n"
     ]
    }
   ],
   "source": [
    "import numpy as np\n",
    "import pandas as pd\n",
    "import mne\n",
    "\n",
    "from eeg_TUSZ_19 import standardize_sensors, downsample, highpass, remove_line_noise, get_brain_waves_power\n",
    "from tqdm import tqdm  # Import tqdm for progress bars\n",
    "\n",
    "\n",
    "log_amplitude_feature_matrix = []  # Features used to store logarithmic amplitudes\n",
    "\n",
    "SAMPLING_FREQ = 200.0  # Sampling frequency\n",
    "\"\"\"\n",
    "Group recordings by where they are stored. \n",
    "You do not want to open recordings repeatedly for different Windows\n",
    "\"\"\"\n",
    "# index_df = pd.read_csv(\"E:\\\\IGGCN\\\\data\\\\tusz_eeg\\\\4_class\\\\train_corpus_window_index.csv\", dtype={\"patient_ID\": str})\n",
    "# index_df = pd.read_csv(\"E:\\\\IGGCN\\\\data\\\\tusz_eeg\\\\4_class\\\\dev_corpus_window_index.csv\", dtype={\"patient_ID\": str})\n",
    "index_df = pd.read_csv(\"E:\\\\IGGCN\\\\data\\\\tusz_eeg\\\\4_class\\\\test_corpus_window_index.csv\", dtype={\"patient_ID\": str})\n",
    "grouped_df = index_df.groupby(\"raw_file_path\")\n",
    "adjacency_feature_matrix = np.zeros((index_df.shape[0], 19*19))\n",
    "# Define a progress bar for the outer loop\n",
    "outer_loop_bar = tqdm(grouped_df, desc=\"Processing Files\", total=len(grouped_df))\n",
    "\n",
    "\n",
    "for raw_file_path, group_df in outer_loop_bar:\n",
    "    print(f\"FILE NAME: {raw_file_path}\")\n",
    "    channel_config = str(group_df[\"channel_config\"].unique()[0])\n",
    "\n",
    "    # Preprocessing = Open file, select channel, apply montage, downsample to 200\n",
    "    raw_data = mne.io.read_raw_edf(raw_file_path, verbose=True, preload=True)\n",
    "    raw_data = standardize_sensors(raw_data, channel_config, return_montage=False)\n",
    "    raw_data, sfreq = downsample(raw_data, SAMPLING_FREQ)\n",
    "\n",
    "    for window_idx in group_df.index.tolist():\n",
    "        # Get the raw data of the window\n",
    "        start_sample = group_df.loc[window_idx]['start_sample_index']\n",
    "        stop_sample = group_df.loc[window_idx]['end_sample_index']\n",
    "        window_data = raw_data.get_data(start=start_sample, stop=stop_sample)\n",
    "\n",
    "        # Fourier transform the window data\n",
    "        window_data_fft = np.fft.fft(window_data, n=int(SAMPLING_FREQ), axis=-1)\n",
    "\n",
    "        # only take the positive freq part\n",
    "        idx_pos = int(np.floor(window_data_fft.shape[1] / 2))\n",
    "        window_data_fft = window_data_fft[:, :idx_pos]\n",
    "        amp = np.abs(window_data_fft)\n",
    "        amp[amp == 0.0] = 1e-8  # avoid log of 0\n",
    "\n",
    "        # Calculate logarithmic amplitude characteristics\n",
    "        log_amplitude = np.log(amp)\n",
    "        log_amplitude_feature_matrix.append(log_amplitude)\n",
    "\n",
    "        transf_window_data = np.expand_dims(window_data, axis=0)\n",
    "\n",
    "        # Compute the characteristics of the adjacency matrix (spectral correlation)\n",
    "        from mne_connectivity import spectral_connectivity_epochs\n",
    "\n",
    "        for ch_idx in range(19):\n",
    "            spec_conn = spectral_connectivity_epochs(data=transf_window_data,\n",
    "                                                     method='coh',\n",
    "                                                     indices=([ch_idx] * 19, range(19)),\n",
    "                                                     sfreq=SAMPLING_FREQ,\n",
    "                                                     fmin=1.0, fmax=40.0,  # 适当设置频率范围\n",
    "                                                     faverage=True, verbose=False)\n",
    "\n",
    "            spec_conn_value = spec_conn.get_data()\n",
    "            assert spec_conn_value.shape[0] == 19\n",
    "            spec_conn_values = np.squeeze(spec_conn_value)\n",
    "            start_edge_idx = ch_idx * 19\n",
    "            end_edge_idx = start_edge_idx + 19\n",
    "            adjacency_feature_matrix[window_idx, start_edge_idx:end_edge_idx] = spec_conn_values\n",
    "    # Update the outer loop progress bar\n",
    "    outer_loop_bar.update(1)\n",
    "    print(f\"\\nfile: '{raw_file_path}' [RECORDING] ALL WINDOWS DONE! FILE DONE!...\\n\")\n",
    "\n",
    "# Converts a feature matrix to a NumPy array\n",
    "log_amplitude_feature_matrix = np.array(log_amplitude_feature_matrix)\n",
    "adjacency_feature_matrix = np.array(adjacency_feature_matrix)\n",
    "\n",
    "from sklearn.preprocessing import MinMaxScaler\n",
    "# Normalize the maximum and minimum\n",
    "min_max_scaler = MinMaxScaler()\n",
    "log_amplitude_feature_matrix_scaled = min_max_scaler.fit_transform(log_amplitude_feature_matrix.reshape(-1, log_amplitude_feature_matrix.shape[-1])).reshape(log_amplitude_feature_matrix.shape)\n",
    "\n",
    "adjacency_feature_matrix_scaled = min_max_scaler.fit_transform(adjacency_feature_matrix.reshape(-1, adjacency_feature_matrix.shape[-1])).reshape(adjacency_feature_matrix.shape)\n",
    "\n",
    "# # Save train\n",
    "# np.save(\"E:\\\\IGGCN\\\\data\\\\tusz_eeg\\\\4_class\\\\train_feature_matrix.npy\", log_amplitude_feature_matrix_scaled)\n",
    "# np.save(\"E:\\\\IGGCN\\\\data\\\\tusz_eeg\\\\4_class\\\\train_adjacency_feature_matrix.npy\", adjacency_feature_matrix_scaled)\n",
    "# np.save(\"E:\\\\IGGCN\\\\data\\\\tusz_eeg\\\\4_class\\\\train_label_y.npy\", index_df[\"label\"].to_numpy())\n",
    "\n",
    "# # Save dev\n",
    "# np.save(\"E:\\\\IGGCN\\\\data\\\\tusz_eeg\\\\4_class\\\\dev_feature_matrix.npy\", log_amplitude_feature_matrix_scaled)\n",
    "# np.save(\"E:\\\\IGGCN\\\\data\\\\tusz_eeg\\\\4_class\\\\dev_adjacency_feature_matrix.npy\", adjacency_feature_matrix_scaled)\n",
    "# np.save(\"E:\\\\IGGCN\\\\data\\\\tusz_eeg\\\\4_class\\\\dev_label_y.npy\", index_df[\"label\"].to_numpy())\n",
    "\n",
    "# Save test\n",
    "np.save(\"E:\\\\IGGCN\\\\data\\\\tusz_eeg\\\\4_class\\\\test_feature_matrix.npy\", log_amplitude_feature_matrix_scaled)\n",
    "np.save(\"E:\\\\IGGCN\\\\data\\\\tusz_eeg\\\\4_class\\\\test_adjacency_feature_matrix.npy\", adjacency_feature_matrix_scaled)\n",
    "np.save(\"E:\\\\IGGCN\\\\data\\\\tusz_eeg\\\\4_class\\\\test_label_y.npy\", index_df[\"label\"].to_numpy())"
   ]
  },
  {
   "cell_type": "code",
   "execution_count": null,
   "id": "ffc612d0-890a-4117-b9f4-2ccc97775019",
   "metadata": {},
   "outputs": [],
   "source": []
  }
 ],
 "metadata": {
  "kernelspec": {
   "display_name": "python(hy_0)",
   "language": "python",
   "name": "hy_0"
  },
  "language_info": {
   "codemirror_mode": {
    "name": "ipython",
    "version": 3
   },
   "file_extension": ".py",
   "mimetype": "text/x-python",
   "name": "python",
   "nbconvert_exporter": "python",
   "pygments_lexer": "ipython3",
   "version": "3.8.8"
  }
 },
 "nbformat": 4,
 "nbformat_minor": 5
}
